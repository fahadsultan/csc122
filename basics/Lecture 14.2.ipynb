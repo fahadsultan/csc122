{
 "cells": [
  {
   "cell_type": "markdown",
   "id": "e3e9b5b9",
   "metadata": {},
   "source": [
    "# LECTURE 14.2\n",
    "\n",
    "# FILE I/O\n",
    "\n",
    "# WEDNESDAY, NOV 30"
   ]
  },
  {
   "cell_type": "markdown",
   "id": "5651c44d",
   "metadata": {},
   "source": [
    "<hr/>"
   ]
  },
  {
   "cell_type": "markdown",
   "id": "765040ff",
   "metadata": {
    "slideshow": {
     "slide_type": "slide"
    }
   },
   "source": [
    "## Writing to a New File"
   ]
  },
  {
   "cell_type": "markdown",
   "id": "6bf28767",
   "metadata": {},
   "source": [
    "* `open(filename, `**`\"w\"`**`)` mode \"w\" - Write - allows writing to a file with name `filename`\n",
    "\n",
    "\n",
    "* If a file with name `filename` **already exists**, it <u>**overwrites any existing content**</u>. \n",
    "\n",
    "    * In other words, existing content gets deleted and new content is added. \n",
    "\n",
    "\n",
    "* If a file with name `filename` **does not exist**, it <u>**creates a new file and writes to it**</u>. "
   ]
  },
  {
   "cell_type": "code",
   "execution_count": null,
   "id": "3837c28c",
   "metadata": {},
   "outputs": [],
   "source": [
    "f = open(\"newfile.txt\", \"w\")\n",
    "f.write(\"Now the newfile.txt exists and this is it's content!\")\n",
    "f.close()"
   ]
  },
  {
   "cell_type": "markdown",
   "id": "64fd9853",
   "metadata": {},
   "source": [
    "<hr/>"
   ]
  },
  {
   "cell_type": "markdown",
   "id": "59de7b1f",
   "metadata": {
    "slideshow": {
     "slide_type": "slide"
    }
   },
   "source": [
    "## Don't forget the newlines \n",
    "\n",
    "* When writing to a file, do not forget the **newlines**: `\\n`\n",
    "\n",
    "\n",
    "* Without newlines `\\n`, all content would be written to the same line "
   ]
  },
  {
   "cell_type": "code",
   "execution_count": null,
   "id": "9bf79154",
   "metadata": {},
   "outputs": [],
   "source": [
    "f = open(\"newfile.txt\", \"w\")\n",
    "f.write(\"Line1\")\n",
    "f.write(\"Line2\")\n",
    "f.close()"
   ]
  },
  {
   "cell_type": "code",
   "execution_count": null,
   "id": "7c03c2b6",
   "metadata": {},
   "outputs": [],
   "source": [
    "f = open(\"newfile.txt\", \"r\")\n",
    "print(f.read())\n",
    "f.close()"
   ]
  },
  {
   "cell_type": "markdown",
   "id": "5b2e501f",
   "metadata": {},
   "source": [
    "<hr/>"
   ]
  },
  {
   "cell_type": "markdown",
   "id": "31639f02",
   "metadata": {
    "slideshow": {
     "slide_type": "slide"
    }
   },
   "source": [
    "## Writing to an Existing File \n",
    "\n",
    "* `open(filename, `**`\"a\"`**`)` mode \"a\" - Append - allows **appending to the end of a file** with name `filename`\n",
    "\n",
    "\n",
    "* If a file with name `filename` **already exists**, it <u>**adds new content to the end of the file**</u>. \n",
    "\n",
    "\n",
    "* If a file with name `filename` **does not exist**, it <u>**creates a new file and writes to it**</u>. \n",
    "\n"
   ]
  },
  {
   "cell_type": "code",
   "execution_count": null,
   "id": "1cd781bb",
   "metadata": {},
   "outputs": [],
   "source": [
    "f = open(\"countries.txt\", \"a\")\n",
    "f.write(\"Wakanda\")\n",
    "f.close()"
   ]
  },
  {
   "cell_type": "code",
   "execution_count": null,
   "id": "2f72466c",
   "metadata": {},
   "outputs": [],
   "source": [
    "f = open(\"newfile.txt\", \"a\")\n",
    "f.write(\"testing\")\n",
    "f.close()"
   ]
  },
  {
   "cell_type": "markdown",
   "id": "a0a16b9b",
   "metadata": {},
   "source": [
    "<hr/>"
   ]
  },
  {
   "cell_type": "markdown",
   "id": "6ab1a6c5",
   "metadata": {
    "slideshow": {
     "slide_type": "slide"
    }
   },
   "source": [
    "## Create a New File, _only_ if it does not exist\n",
    "\n",
    "<br/>\n",
    "\n",
    "* `open(filename, `**`\"x\"`**`)` mode \"x\" - eXclusive creation- allows **creating a new file** with name `filename`\n",
    "    * <u>_Only if a file with that name does not exist_</u>\n",
    "\n",
    "\n",
    "* If a file with name `filename` **already exists**, it <u>**throws a `FileExistsError`**</u>. \n",
    "\n",
    "\n",
    "* If a file with name `filename` **does not exist**, it <u>**creates a new file and writes to it**</u>. \n",
    "\n",
    "\n"
   ]
  },
  {
   "cell_type": "code",
   "execution_count": null,
   "id": "6751fbd1",
   "metadata": {},
   "outputs": [],
   "source": [
    "f = open(\"newfile.txt\", \"x\")\n",
    "f.write(\"This is a brand new file\")\n",
    "f.close()"
   ]
  },
  {
   "cell_type": "markdown",
   "id": "d796ef25",
   "metadata": {},
   "source": [
    "<hr/>"
   ]
  },
  {
   "cell_type": "markdown",
   "id": "4d185da5",
   "metadata": {
    "slideshow": {
     "slide_type": "slide"
    }
   },
   "source": [
    "## Be Mindful of the modes of `open()`"
   ]
  },
  {
   "cell_type": "markdown",
   "id": "fa74aa28",
   "metadata": {},
   "source": [
    "* If a file is opened in **write mode**, you **can not read** from it\n",
    "\n",
    "\n",
    "* If a file is opened in **read mode**, you **can not write** to it"
   ]
  },
  {
   "cell_type": "markdown",
   "id": "9080689b",
   "metadata": {},
   "source": [
    "<hr/>"
   ]
  },
  {
   "cell_type": "markdown",
   "id": "2c5a189c",
   "metadata": {},
   "source": [
    "## Question 1. Write Left Triangle "
   ]
  },
  {
   "cell_type": "markdown",
   "id": "ad970f90",
   "metadata": {},
   "source": [
    "Write a function `left_triangle` that accepts two inputs: 1. a string variable `filename` 2. an integer `n`. The function creates a file named `filename` and writes to the file a left triangle of height `n`. \n",
    "\n",
    "For example, `filename=\"abc.txt\"` and `n=5` prints the following:\n",
    "\n",
    "`*` \\\n",
    "`**` \\\n",
    "`***` \\\n",
    "`****` \\\n",
    "`*****`\n",
    "\n",
    "to a file named `abc.txt`"
   ]
  },
  {
   "cell_type": "code",
   "execution_count": null,
   "id": "3743ccd6",
   "metadata": {},
   "outputs": [],
   "source": [
    "def left_triangle(filename, n):\n",
    "    \n",
    "    return\n",
    "\n",
    "left_triangle('t4.txt',  4)\n",
    "left_triangle('t10.txt', 10)"
   ]
  },
  {
   "cell_type": "markdown",
   "id": "ddfcc10e",
   "metadata": {},
   "source": [
    "<hr/>"
   ]
  },
  {
   "cell_type": "markdown",
   "id": "851b60c5",
   "metadata": {},
   "source": [
    "## Question 2. Copy File \n",
    "\n",
    "Write a function `copy_file` that takes two string inputs: 1. `oldfile` 2. `newfile` and copies all the contents of `oldfile` to `newfile`. "
   ]
  },
  {
   "cell_type": "code",
   "execution_count": null,
   "id": "59dcb65d",
   "metadata": {},
   "outputs": [],
   "source": [
    "def copy_file(oldfile, newfile):\n",
    "    \n",
    "    return"
   ]
  },
  {
   "cell_type": "code",
   "execution_count": null,
   "id": "19cd7c17",
   "metadata": {},
   "outputs": [],
   "source": [
    "#Test suite:\n",
    "\n",
    "filenames = [(\"countries.txt\", \"countries (Copy).txt\"), (\"words.txt\", \"words (Copy).txt\")]\n",
    "\n",
    "for oldfile, newfile in filenames: \n",
    "\n",
    "    copy_file(oldfile, newfile)\n",
    "\n",
    "    oldfile_obj = open(oldfile)\n",
    "    newfile_obj = open(newfile)\n",
    "\n",
    "    assert oldfile_obj.read() == newfile_obj.read(), \"Test case failed\"\n",
    "\n",
    "    oldfile_obj.close()\n",
    "    newfile_obj.close()\n",
    "\n",
    "print(\"Test cases passed successfully\")"
   ]
  }
 ],
 "metadata": {
  "kernelspec": {
   "display_name": "Python 3 (ipykernel)",
   "language": "python",
   "name": "python3"
  },
  "language_info": {
   "codemirror_mode": {
    "name": "ipython",
    "version": 3
   },
   "file_extension": ".py",
   "mimetype": "text/x-python",
   "name": "python",
   "nbconvert_exporter": "python",
   "pygments_lexer": "ipython3",
   "version": "3.9.12"
  }
 },
 "nbformat": 4,
 "nbformat_minor": 5
}
