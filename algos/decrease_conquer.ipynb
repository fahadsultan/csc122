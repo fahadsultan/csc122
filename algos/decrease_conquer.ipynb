{
 "cells": [
  {
   "attachments": {},
   "cell_type": "markdown",
   "metadata": {},
   "source": [
    "# Decrease and Conquer"
   ]
  },
  {
   "cell_type": "markdown",
   "metadata": {},
   "source": [
    "Decrease and conquer algorithms take the following approach: \n",
    "\n",
    "1. Decrease or reduce the problem instance to smaller instance of the same problem.\n",
    "2. Conquer the problem by solving smaller instance of the problem.\n",
    "3. Extend solution of smaller instance to obtain solution to original problem . \n",
    "\n",
    "Basic intuition of the decrease-and-conquer technique is based on exploiting the relationship between a solution to a given instance of a problem and a solution to its smaller instance. This approach is also known as incremental or inductive approach.\n",
    "\n",
    "```{figure} ../assets/decrease_conquer.png\n",
    "---\n",
    "width: 70% \n",
    "name: decrease_conquer\n",
    "---\n",
    "Decrease and Conquer\n",
    "```\n",
    "\n",
    "Decrease and Conquer algorithms contrasts with the Divide and Conquer approach in the scope of the problem reduction. \n",
    "\n",
    "``` {figure} ../assets/divide_decrease.png\n",
    "---\n",
    "width: 70%\n",
    "name: decrease_conquer\n",
    "---\n",
    "Decrease and Conquer vs. Divide and Conquer\n",
    "```\n",
    "\n",
    "\n",
    "| Decrease and Conquer | Divide and Conquer |\n",
    "|:----------------------:|:--------------------:|\n",
    "| Problem is reduced to a smaller instances in a **chain** like manner, piecing off one element at a time | Problem is reduced to two or more smaller instances in a **tree** like manner |\n",
    "| Decrease by a constant amout <br/> Think subtraction<br> `n = n - constant` at each step | Decrease by a constant factor  <br/> Think division<br> `n = n / constant` at each step |\n",
    "| Example: Insertion, Selection Sort | Example: Binary Search, Merge Sort |\n"
   ]
  },
  {
   "cell_type": "markdown",
   "metadata": {},
   "source": []
  },
  {
   "cell_type": "code",
   "execution_count": null,
   "metadata": {},
   "outputs": [],
   "source": []
  }
 ],
 "metadata": {
  "language_info": {
   "name": "python"
  },
  "orig_nbformat": 4
 },
 "nbformat": 4,
 "nbformat_minor": 2
}
