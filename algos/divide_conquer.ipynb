{
 "cells": [
  {
   "attachments": {},
   "cell_type": "markdown",
   "metadata": {},
   "source": [
    "# Divide and Conquer"
   ]
  },
  {
   "cell_type": "markdown",
   "metadata": {},
   "source": [
    "<!-- <img align=\"right\" padding=\"10%\" width=\"20%\" src=\"https://upload.wikimedia.org/wikipedia/commons/a/a5/Philip-ii-of-macedon.jpg\">  -->\n",
    "\n",
    "\n",
    "\n",
    "<img align=\"right\" padding=\"10%\" width=\"30%\" src=\"https://oll-resources.s3.us-east-2.amazonaws.com/oll3/store/titles/1234/0422-01_TP.jpg\">\n",
    "\n",
    "Niccolò Machiavelli, the famous military strategist, in The Art of War (1521) wrote that a captain should endeavor with every act to divide the forces of the enemy. Machiavelli advises that this act should be achieved either by making him suspicious of his men in whom he trusted, or by giving him cause that he has to separate his forces, and, because of this, become weaker.\n",
    "\n",
    "In politics, sociology and military strategy, the technique of **Divide and Rule** refers to the strategy of causing rivalries and fomenting discord amongst rivals and subordinates to maintain control and power. In human history, it has been effectively used to empower the sovereign to control subjects, populations, or quash factions of dissent, who collectively might be able to oppose its rule. \n",
    "\n",
    "<!-- ```{figure} https://miro.medium.com/v2/resize:fit:2000/1*48xHd1kEOqZRIhzrMzeREw.jpeg\n",
    "---\n",
    "width: 65%\n",
    "name: philip\n",
    "align: center\n",
    "---\n",
    "\n",
    "``` \n",
    "-->\n",
    "\n",
    "In computer science, however, this technique is used to bring down pesky time and space complexities of inefficient algorithms. \n",
    "\n",
    "**Divide and Conquer** is a strategy of solving a problem by breaking the problem into smaller subproblems, solving the subproblems, and combining them to get the desired solution. It is applicable to problems that can be expressed recursively in terms of two or more subproblems of the same or related type, called recurrence relations. The original problem is continually divided into smaller subproblems until these become simple enough to be solved directly. The solutions to the subproblems are then combined to give a solution to the original problem.\n",
    "\n",
    "<center><img width=\"70%\" src=\"https://miro.medium.com/v2/resize:fit:1150/1*Tt-u972ldjyJVZZiXn4eUA.png\">\n",
    "\n",
    "<br/><br/>\n",
    "<img width=\"70%\" src=\"https://upload.wikimedia.org/wikipedia/commons/e/e6/Merge_sort_algorithm_diagram.svg\">\n",
    "<br/>\n",
    "</center>\n",
    "\n",
    "<br/>\n",
    "\n",
    "For the same problem, divide and conquer algorithms often scale better than their brute force counterparts. \n",
    "\n",
    "```{figure} ../assets/brain_brawn.png\n",
    "---\n",
    "width: 50%\n",
    "name: brain_brawn\n",
    "align: center\n",
    "---\n",
    "Comparison betwen brute force and divide and conquer algorithms is like comparison between brain and brawn.\n",
    "```\n",
    "\n",
    "In case of search, where the brute force algorithm is linear $O(n)$, the divide and conquer algorithm is logarithmic $O(\\text{log n})$. In case of sorting, where the brute force algorithm is quadratic $O(\\text{n}^2)$, the divide and conquer algorithm is log linear $O(\\text{n log n})$.\n",
    "\n",
    "<br/>\n",
    "\n",
    "</center>"
   ]
  },
  {
   "cell_type": "code",
   "execution_count": null,
   "metadata": {},
   "outputs": [],
   "source": []
  }
 ],
 "metadata": {
  "language_info": {
   "name": "python"
  },
  "orig_nbformat": 4
 },
 "nbformat": 4,
 "nbformat_minor": 2
}
