{
 "cells": [
  {
   "attachments": {},
   "cell_type": "markdown",
   "metadata": {},
   "source": [
    "# Space Complexity"
   ]
  },
  {
   "cell_type": "markdown",
   "metadata": {},
   "source": [
    "Space complexity of an algorithm is the measure of how much **_extra_** space we need to allocate in order to run the algorithm.\n",
    "\n",
    "It is essentially the extra memory required by an algorithm to execute a program and produce output. This includes the memory space used by its inputs, called **input space**, and any other (auxiliary) memory it uses during execution, which is called **auxiliary space**.\n",
    "\n",
    "Similar to time complexity, we talk about the space complexity of an algorithm in terms of its best, worst, and average cases. Of these cases, the worst case is of the most interest. Therefore, similar to time complexity, space complexity is usually expressed in terms of Big O notation. \n",
    "\n",
    "Consider the following pseudocode for a function that takes in an array of integers and returns the sorted array:\n",
    "\n",
    "```\n",
    "def sort(array):\n",
    "\n",
    "    copied_array ← make a copy of input array\n",
    "    \n",
    "    sorted_array ← new empty list\n",
    "    \n",
    "    n ← length of array\n",
    "\n",
    "    for i ← 0 to n-1:\n",
    "        \n",
    "        min_element ← find the minimum element in the copied array\n",
    "        \n",
    "        append min_element to sorted_array\n",
    "        \n",
    "        remove the minimum element from the copied_array\n",
    "        \n",
    "    return sorted_array\n",
    "```\n",
    "\n",
    "Note that the code block above has the space complexity of O(n) since it allocates as much memory for the sorted array as the input array. Additionally, it allocates memory for copying the original input array in order to avoid making any changes/deletions in the original version. In addition, there is memory allocated for `min_element` variable. Therefore, the algorithm exactly allocates $2n + 1$ memory, which asymptotically is O(n). \n",
    "\n",
    "In contrast, consider our original search problem and its solution: \n",
    "\n",
    "```python\n",
    "def search(data, query):         # 1\n",
    "   for i in range(len(data)):    # 2\n",
    "      if data[i] == query:       # 3\n",
    "         return i                # 4\n",
    "   return -1                     # 5\n",
    "```\n",
    "\n",
    "Note that the search function above allocates only memory for `i` variable. The space complexity of `search` therefore is constant space: O(1). "
   ]
  },
  {
   "cell_type": "markdown",
   "metadata": {},
   "source": [
    "Space complexities of most popular and common algorithms belong to an even smaller set of complexities than time complexities.\n",
    "\n",
    "Most algorithms are either constant space or linear space. \n",
    "\n",
    "More importantly, while an algorithm of time complexity $O(n^2)$ with 1 billion rows takes a hopelessly long time to run (about 30 years), an algorithm of space complexity $O(n^2)$ with 1 billion rows takes only around 1 GB of memory.\n",
    "\n",
    "To add to that the cost of memory has been decreasing exponentially over the years. The graph below shows the cost of computer memory and storage over time.\n",
    "\n",
    "```{figure} https://assets.ourworldindata.org/grapher/exports/historical-cost-of-computer-memory-and-storage.svg\n",
    "---\n",
    "width: 100%\n",
    "name: memory-cost\n",
    "---\n",
    "Cost of computer memory and storage over time\n",
    "```\n"
   ]
  },
  {
   "cell_type": "markdown",
   "metadata": {},
   "source": [
    "In computer science, we can often reduce the space complexity of an algorithm at the cost of increasing its time complexity, and vice versa. This is called the **space-time tradeoff**.\n",
    "\n",
    "```{figure} ../assets/spacetime_tradeoff.png\n",
    "---\n",
    "width: 70%\n",
    "name: spacetime_tradeoff\n",
    "---\n",
    "Space Time Tradeoff\n",
    "```\n",
    "\n",
    "In other words,  we can often make an algorithm faster by using more space or we can often make an algorithm use less space at the cost of making it slower.\n",
    "\n",
    "For reasons discussed above, in most real world cases, time complexity is prioritized over space complexity. \n",
    "\n",
    "An example of this is the use of CDN (Content Delivery Network) by websites. CDNs are used to store a cached version of a website on _edge servers_ in multiple locations around the world. This allows users to access the website from a location that is closest to them, thereby reducing the time it takes to load the website. However, this comes at the cost of using more space to store the cached version of the website.\n",
    "\n",
    "```{figure} https://www.dotcom-monitor.com/blog/wp-content/uploads/sites/3/2020/05/CDN-Edge-Servers-e1589849154852.png\n",
    "---\n",
    "width: 60%\n",
    "name: cdn\n",
    "---\n",
    "The data on the internet is duplicated and stored on multiple edge servers around the world to reduce the time it takes to load the website. An example of how time/speed is prioritized over space/memory. \n",
    "```\n",
    "\n",
    "\n",
    "\n"
   ]
  }
 ],
 "metadata": {
  "language_info": {
   "name": "python"
  },
  "orig_nbformat": 4
 },
 "nbformat": 4,
 "nbformat_minor": 2
}
