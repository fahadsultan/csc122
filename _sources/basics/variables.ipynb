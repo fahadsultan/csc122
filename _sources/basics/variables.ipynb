{
 "cells": [
  {
   "attachments": {},
   "cell_type": "markdown",
   "id": "7a14da6b",
   "metadata": {},
   "source": [
    "# Variables\n",
    "\n",
    "## Variable Names\n",
    "\n",
    "\n",
    "* _**Variable Names must be descriptive!**_\n",
    "\n",
    "* A variable name **must start with a letter or the underscore character**\n",
    "\n",
    "* A variable name **cannot start with a number**\n",
    "\n",
    "* A variable name can **only contain alpha-numeric characters and underscores** (`A-z`, `0-9`, and `_` )\n",
    "\n",
    "* Variable names are **case-sensitive** (age, Age and AGE are three different variables)\n",
    "\n",
    "* In Python, the convention is to **_NOT_ use upper case letters** anywhere in the name. In case of multi-word names, use `_` .\n"
   ]
  },
  {
   "cell_type": "code",
   "execution_count": null,
   "id": "e5e96f22",
   "metadata": {},
   "outputs": [],
   "source": [
    "ten_percent = 3\n",
    "ten_percent"
   ]
  },
  {
   "cell_type": "code",
   "execution_count": null,
   "id": "b07fde22",
   "metadata": {},
   "outputs": [],
   "source": [
    "Ten_percent = 10\n",
    "Ten_percent"
   ]
  },
  {
   "cell_type": "code",
   "execution_count": null,
   "id": "1ed1ae9c",
   "metadata": {},
   "outputs": [],
   "source": [
    "TEN_PERCENT = 10000\n",
    "TEN_PERCENT"
   ]
  },
  {
   "cell_type": "code",
   "execution_count": null,
   "id": "a6624a34",
   "metadata": {},
   "outputs": [],
   "source": [
    "ten_percent = 5\n",
    "ten_percent"
   ]
  },
  {
   "cell_type": "code",
   "execution_count": null,
   "id": "f4d264a7",
   "metadata": {},
   "outputs": [],
   "source": [
    "age = 2\n",
    "age"
   ]
  },
  {
   "cell_type": "code",
   "execution_count": null,
   "id": "9575e585",
   "metadata": {},
   "outputs": [],
   "source": [
    "Age = 20\n",
    "Age"
   ]
  },
  {
   "cell_type": "code",
   "execution_count": null,
   "id": "c75977a0",
   "metadata": {},
   "outputs": [],
   "source": [
    "AGE = 200\n",
    "AGE"
   ]
  },
  {
   "cell_type": "markdown",
   "id": "685fd4a2",
   "metadata": {},
   "source": [
    "Which of the following variable names would throw a Syntax Errox?"
   ]
  },
  {
   "cell_type": "code",
   "execution_count": null,
   "id": "b2970157",
   "metadata": {},
   "outputs": [],
   "source": [
    "10_percent = 27.03 / 10"
   ]
  },
  {
   "cell_type": "code",
   "execution_count": null,
   "id": "74da09dc",
   "metadata": {},
   "outputs": [],
   "source": [
    "ten_percent = 27.03 / 10\n",
    "ten_percent"
   ]
  },
  {
   "cell_type": "code",
   "execution_count": null,
   "id": "bede8258",
   "metadata": {},
   "outputs": [],
   "source": [
    "_10_percent = 27.03 / 10\n",
    "_10_percent"
   ]
  },
  {
   "cell_type": "code",
   "execution_count": null,
   "id": "252e302b",
   "metadata": {},
   "outputs": [],
   "source": [
    "20_percent = 27.03 / 10"
   ]
  },
  {
   "cell_type": "code",
   "execution_count": null,
   "id": "60e2cfcd",
   "metadata": {},
   "outputs": [],
   "source": [
    "twenty_percent = 27.03 / 10"
   ]
  },
  {
   "cell_type": "code",
   "execution_count": null,
   "id": "15827e0e",
   "metadata": {},
   "outputs": [],
   "source": [
    "twenty_% = 27.03 / 10"
   ]
  },
  {
   "cell_type": "markdown",
   "id": "546c92b5",
   "metadata": {},
   "source": [
    "<hr/>"
   ]
  },
  {
   "cell_type": "markdown",
   "id": "61f9aa1b",
   "metadata": {},
   "source": [
    "## Reserved words Python"
   ]
  },
  {
   "cell_type": "markdown",
   "id": "878cfb2b",
   "metadata": {},
   "source": [
    "`False`, `def`, `if`, `raise`,\n",
    "`None`,\t`del`,\t`import`,\t`return`,\n",
    "`True`,\t`elif`\t,`in`,\t`try`,\n",
    "`and`,\t`else`,\t`is`,\t`while`,\n",
    "`as`,\t`except`,\t`lambda`, `with`\n",
    "`assert`,\t`finally`,\t`nonlocal`,\t`yield`\n",
    "`break`,\t`for`,\t`not`\t\n",
    "`class`,\t`from`,\t`or`,\t\n",
    "`continue`,\t`global`,\t`pass`"
   ]
  },
  {
   "cell_type": "code",
   "execution_count": null,
   "id": "c8c781ec",
   "metadata": {},
   "outputs": [],
   "source": [
    "\"\"\"Reserved words in Python\n",
    "---------------------------\n",
    "\n",
    "Before you run this cell, \n",
    "think about which outputs would \n",
    "generate a Syntax Error\n",
    "\"\"\"\n",
    "\n",
    "False = 2\n",
    "false = 2\n",
    "while = 10\n",
    "_while = 10"
   ]
  },
  {
   "cell_type": "markdown",
   "id": "71e793b6",
   "metadata": {},
   "source": [
    "* A programming language is more than just a means for instructing a computer to perform tasks. \n",
    "\n",
    "\n",
    "* It also serves as a <u>**framework within which we organize our ideas**</u> about computational processes. \n",
    "\n",
    "\n",
    "* Programs serve to communicate those ideas among the members of a programming community. \n",
    "\n",
    "\n",
    "* Thus, let me re-emphasize **programs must be written for people to read, and only incidentally for machines to execute.**"
   ]
  },
  {
   "cell_type": "markdown",
   "id": "d2545060",
   "metadata": {},
   "source": [
    "<hr/>"
   ]
  }
 ],
 "metadata": {
  "kernelspec": {
   "display_name": "Python 3 (ipykernel)",
   "language": "python",
   "name": "python3"
  },
  "language_info": {
   "codemirror_mode": {
    "name": "ipython",
    "version": 3
   },
   "file_extension": ".py",
   "mimetype": "text/x-python",
   "name": "python",
   "nbconvert_exporter": "python",
   "pygments_lexer": "ipython3",
   "version": "3.9.12"
  }
 },
 "nbformat": 4,
 "nbformat_minor": 5
}
