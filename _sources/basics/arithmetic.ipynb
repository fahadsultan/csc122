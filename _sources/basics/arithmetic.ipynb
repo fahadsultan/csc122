{
 "cells": [
  {
   "attachments": {},
   "cell_type": "markdown",
   "id": "bbaccea4",
   "metadata": {
    "slideshow": {
     "slide_type": "slide"
    }
   },
   "source": [
    "# Precedence and Associativity"
   ]
  },
  {
   "attachments": {},
   "cell_type": "markdown",
   "id": "c63b23c9",
   "metadata": {},
   "source": [
    "## Operator Precedence\n",
    "\n",
    "The following table lists the operator precedence in Python. Operators with higher precedence are evaluated before operators with lower precedence. Operators with the same precedence are evaluated from left to right.\n",
    "\n",
    "| Operator | Description |\n",
    "| --- | --- |\n",
    "| `()` | Parentheses |\n",
    "| `**` | Exponentiation |\n",
    "| `~` | Bitwise NOT |\n",
    "| `*`, `/`, `//`, `%` | Multiplication, Division, Floor Division, Modulo |\n",
    "| `+`, `-` | Addition, Subtraction |\n",
    "| `<<`, `>>` | Bitwise Left Shift, Bitwise Right Shift |\n",
    "| `&` | Bitwise AND |\n",
    "| `^` | Bitwise XOR |\n",
    "| `|` | Bitwise OR |\n",
    "| `==`, `!=`, `>`, `>=`, `<`, `<=`, `is`, `is not`, `in`, `not in` | Comparison, Identity, Membership |\n",
    "| `not` | Logical NOT |\n",
    "| `and` | Logical AND |\n",
    "| `or` | Logical OR |\n",
    "| `=` | Assignment |\n",
    "| `+=`, `-=`, `*=`, `/=`, `//=`, `%=`, `&=`, `^=`, `|=`, `<<=`, `>>=` | Assignment Operators |\n",
    "\n",
    "## Operator Associativity\n",
    "\n",
    "The following table lists the operator associativity in Python. Operators with left associativity are evaluated from left to right. Operators with right associativity are evaluated from right to left.\n",
    "\n",
    "| Operator | Associativity |\n",
    "| --- | --- |\n",
    "| `**` | Right |\n",
    "| `~` | Right |\n",
    "| `*`, `/`, `//`, `%` | Left |\n",
    "| `+`, `-` | Left |\n",
    "| `<<`, `>>` | Left |\n",
    "| `&` | Left |\n",
    "| `^` | Left |\n",
    "| `|` | Left |\n",
    "| `==`, `!=`, `>`, `>=`, `<`, `<=`, `is`, `is not`, `in`, `not in` | Left |\n",
    "| `not` | Right |\n",
    "| `and` | Left |\n",
    "| `or` | Left |\n",
    "| `=` | Right |\n",
    "| `+=`, `-=`, `*=`, `/=`, `//=`, `%=`, `&=`, `^=`, `|=`, `<<=`, `>>=` | Right |\n"
   ]
  },
  {
   "cell_type": "markdown",
   "id": "cc1b492b",
   "metadata": {},
   "source": []
  },
  {
   "attachments": {},
   "cell_type": "markdown",
   "id": "a30551e4",
   "metadata": {
    "slideshow": {
     "slide_type": "slide"
    }
   },
   "source": [
    "<!-- <img src=\"https://raw.githubusercontent.com/fahadsultan/csc105/main/notebooks/imgs/pl.1.1.png\"> -->"
   ]
  },
  {
   "cell_type": "markdown",
   "id": "c7d6dd5c",
   "metadata": {},
   "source": [
    "<hr/>"
   ]
  },
  {
   "attachments": {},
   "cell_type": "markdown",
   "id": "f3dda787",
   "metadata": {
    "slideshow": {
     "slide_type": "slide"
    }
   },
   "source": [
    "## Values and Data Types"
   ]
  },
  {
   "cell_type": "markdown",
   "id": "ecfd710d",
   "metadata": {
    "slideshow": {
     "slide_type": "-"
    }
   },
   "source": [
    "* The atomic unit of data is a **value** e.g. `1`, `10`, `\"furman\"`, `True` etc. \n",
    "\n",
    "* Each value belongs to a **data type**. \n",
    "\n",
    "Python has the following primitive data types: \n",
    "\n",
    "\n",
    "| Data types  | Description | Category |    \n",
    "| ----------- | ----------- | ----------- |\n",
    "| `int`      | Integers| Numeric Type | \n",
    "| `float`  | Floating Points <br/>(Numbers with fractional part; <br/> think real numbers) | Numeric Type|\n",
    "| `complex` |  Complex number with real and imaginary parts | Numeric Type | \n",
    "| `str`   |  String data: alphanumeric text<br/>or other symbols |Text Type |\n",
    "| `bool`   |  Boolean data: either True or False |Boolean Type |\n",
    "| `bytes`   | Numbers in binary (base 2) system |Binary Type |\n"
   ]
  },
  {
   "cell_type": "markdown",
   "id": "98bd4b83",
   "metadata": {},
   "source": [
    "<hr/>"
   ]
  },
  {
   "cell_type": "markdown",
   "id": "85b34066",
   "metadata": {
    "slideshow": {
     "slide_type": "slide"
    }
   },
   "source": [
    "## Identify Data Types\n",
    "\n",
    "<center><img width = \"90%\" src=\"https://raw.githubusercontent.com/fahadsultan/csc105/main/notebooks/imgs/pl.1.2.png\"></center>"
   ]
  },
  {
   "cell_type": "markdown",
   "id": "8d73ed79",
   "metadata": {},
   "source": [
    "<hr/>"
   ]
  },
  {
   "attachments": {},
   "cell_type": "markdown",
   "id": "6ecd0e11",
   "metadata": {
    "slideshow": {
     "slide_type": "slide"
    }
   },
   "source": [
    "## Manipulating Data: Mathematical Operators"
   ]
  },
  {
   "cell_type": "markdown",
   "id": "7e341978",
   "metadata": {
    "slideshow": {
     "slide_type": "-"
    }
   },
   "source": [
    "These mathematical expressions use infix notation, where the operator (e.g., +, -, *, or /) appears in between the operands (numbers). \n",
    "\n",
    "| Operator      | Description   |Example.      |\n",
    "| :-----------  | :-----------: |:-----------: |\n",
    "| + Addition    |  Adds values on either side of the operator.  | 20 + 10 = 30|\n",
    "| - Subtraction |  Subtracts right hand operand from left hand operand.  | 20 – 10 = -10|\n",
    "| * Multiplication |  Multiplies values on either side of the operator  | 20 * 10  = 200|\n",
    "| / Division |  Divides left hand operand by right hand operand  | 20 / 10 = 2|\n",
    "| ** Exponent |  Performs exponential (power) calculation on operators  | 10 ** 20 = $10^{20}$|\n",
    "| % Modulus |  Divides left hand operand by right hand operand and returns remainder  | 20 % 10 = 0|\n",
    "| // Floor Division |  The division of operands where the result is the quotient |  9 // 2 = 4 |"
   ]
  },
  {
   "cell_type": "code",
   "execution_count": null,
   "id": "b9b263ea",
   "metadata": {
    "slideshow": {
     "slide_type": "slide"
    }
   },
   "outputs": [],
   "source": [
    "11 % 5"
   ]
  },
  {
   "cell_type": "code",
   "execution_count": null,
   "id": "ce961b37",
   "metadata": {},
   "outputs": [],
   "source": [
    "5 % 11"
   ]
  },
  {
   "cell_type": "code",
   "execution_count": null,
   "id": "fcaa2437",
   "metadata": {},
   "outputs": [],
   "source": [
    "11 // 5"
   ]
  },
  {
   "cell_type": "code",
   "execution_count": null,
   "id": "74d726d9",
   "metadata": {},
   "outputs": [],
   "source": [
    "5 // 11"
   ]
  },
  {
   "cell_type": "code",
   "execution_count": null,
   "id": "66ec87e2",
   "metadata": {},
   "outputs": [],
   "source": [
    "2 ** -1"
   ]
  },
  {
   "cell_type": "markdown",
   "id": "4f40cc40",
   "metadata": {},
   "source": [
    "<hr/>"
   ]
  },
  {
   "attachments": {},
   "cell_type": "markdown",
   "id": "e830d74e",
   "metadata": {
    "slideshow": {
     "slide_type": "slide"
    }
   },
   "source": [
    "## Let's start implementing the Jane Doe algorithm"
   ]
  },
  {
   "cell_type": "markdown",
   "id": "7705ecc3",
   "metadata": {},
   "source": [
    "1. Move the decimal point to the left"
   ]
  },
  {
   "cell_type": "code",
   "execution_count": null,
   "id": "335f09aa",
   "metadata": {
    "slideshow": {
     "slide_type": "-"
    }
   },
   "outputs": [],
   "source": [
    "27.03 / 10 "
   ]
  },
  {
   "cell_type": "markdown",
   "id": "8c32b0e2",
   "metadata": {},
   "source": [
    "2. Round the number from step, 1"
   ]
  },
  {
   "cell_type": "code",
   "execution_count": null,
   "id": "21c02888",
   "metadata": {},
   "outputs": [],
   "source": [
    "2.703 // 1"
   ]
  },
  {
   "cell_type": "markdown",
   "id": "3d61002f",
   "metadata": {},
   "source": [
    "3. Double the number from step 2"
   ]
  },
  {
   "cell_type": "code",
   "execution_count": null,
   "id": "49b643dc",
   "metadata": {},
   "outputs": [],
   "source": [
    "2.0 * 2"
   ]
  },
  {
   "cell_type": "markdown",
   "id": "3a5cf7c0",
   "metadata": {},
   "source": [
    "<hr/>"
   ]
  },
  {
   "attachments": {},
   "cell_type": "markdown",
   "id": "2b0f2899",
   "metadata": {
    "slideshow": {
     "slide_type": "slide"
    }
   },
   "source": [
    "## Expressions, Variables and Statements"
   ]
  },
  {
   "cell_type": "markdown",
   "id": "f5feb7b2",
   "metadata": {},
   "source": [
    "* Each line of code above is an **expression**\n",
    "\n",
    "* All expressions **evaluate to a value** \n",
    "\n",
    "    * On their own, they are inconsequential. \n",
    "    \n",
    "* A **variable** is a name that refers to a value. \n",
    "\n",
    "* Values are _assigned_ to variables using the **assignment operator** `=`\n",
    "\n",
    "* The assignment operator, `=`, should not be confused with an equals sign (even though it uses the same character)."
   ]
  },
  {
   "cell_type": "markdown",
   "id": "6ece043a",
   "metadata": {
    "slideshow": {
     "slide_type": "slide"
    }
   },
   "source": [
    "* The assignment is made from **right to left**\n",
    "    * The operand on the right is often a value or an expression \n",
    "    * The operand on the left is often a variable"
   ]
  },
  {
   "cell_type": "code",
   "execution_count": 60,
   "id": "24a11fa1",
   "metadata": {},
   "outputs": [
    {
     "data": {
      "text/plain": [
       "'/Users/fsultan/Downloads/csc105/notebooks'"
      ]
     },
     "execution_count": 60,
     "metadata": {},
     "output_type": "execute_result"
    }
   ],
   "source": [
    "pwd"
   ]
  },
  {
   "cell_type": "code",
   "execution_count": null,
   "id": "b0748c6e",
   "metadata": {
    "slideshow": {
     "slide_type": "-"
    }
   },
   "outputs": [],
   "source": [
    "ten_percent = 27.03 / 10"
   ]
  },
  {
   "cell_type": "code",
   "execution_count": null,
   "id": "1ba7a1f4",
   "metadata": {},
   "outputs": [],
   "source": [
    "ten_percent"
   ]
  },
  {
   "cell_type": "code",
   "execution_count": null,
   "id": "5037650e",
   "metadata": {},
   "outputs": [],
   "source": [
    "# 27.03 / 10 = ten_percent"
   ]
  },
  {
   "cell_type": "markdown",
   "id": "8acde66e",
   "metadata": {},
   "source": [
    "\n",
    "* Variables can be assigned different values in the course of executing a program. \n",
    "\n",
    "    * When a name is bound to a new value through assignment, it is no longer bound to any previous value.\n",
    "    \n",
    "* The line of code above is a **statement**, specifically an assignment statement\n",
    "\n",
    "* Informally, an expression _is_ something and a statement _does_ something \n",
    "\n",
    "    "
   ]
  },
  {
   "cell_type": "markdown",
   "id": "9ecef063",
   "metadata": {},
   "source": [
    "<hr/>"
   ]
  },
  {
   "attachments": {},
   "cell_type": "markdown",
   "id": "efd1f5ea",
   "metadata": {
    "slideshow": {
     "slide_type": "slide"
    }
   },
   "source": [
    "## Let's finish implementing the Jane Doe algorithm"
   ]
  },
  {
   "cell_type": "markdown",
   "id": "08c2ea50",
   "metadata": {},
   "source": [
    "1. Move the decimal point to the left"
   ]
  },
  {
   "cell_type": "code",
   "execution_count": null,
   "id": "51720c7b",
   "metadata": {
    "slideshow": {
     "slide_type": "-"
    }
   },
   "outputs": [],
   "source": [
    "cheque = 27.03 \n",
    "ten_percent = cheque / 10"
   ]
  },
  {
   "cell_type": "markdown",
   "id": "fcbbdc12",
   "metadata": {},
   "source": [
    "2. Round the number from step, 1"
   ]
  },
  {
   "cell_type": "code",
   "execution_count": 46,
   "id": "a4caabce",
   "metadata": {},
   "outputs": [
    {
     "data": {
      "text/plain": [
       "2.7030000000000003"
      ]
     },
     "execution_count": 46,
     "metadata": {},
     "output_type": "execute_result"
    }
   ],
   "source": [
    "twenty_percent"
   ]
  },
  {
   "cell_type": "code",
   "execution_count": null,
   "id": "ca366e82",
   "metadata": {},
   "outputs": [],
   "source": [
    "rounded_down_ten_percent =  ten_percent // 1"
   ]
  },
  {
   "cell_type": "markdown",
   "id": "3a93fdd3",
   "metadata": {},
   "source": [
    "3. Double the number from step 2"
   ]
  },
  {
   "cell_type": "code",
   "execution_count": 34,
   "id": "a13750ec",
   "metadata": {},
   "outputs": [
    {
     "data": {
      "text/plain": [
       "2.7030000000000003"
      ]
     },
     "execution_count": 34,
     "metadata": {},
     "output_type": "execute_result"
    }
   ],
   "source": [
    "ten_percent"
   ]
  },
  {
   "cell_type": "code",
   "execution_count": 39,
   "id": "c01622e2",
   "metadata": {},
   "outputs": [
    {
     "data": {
      "text/plain": [
       "2.0"
      ]
     },
     "execution_count": 39,
     "metadata": {},
     "output_type": "execute_result"
    }
   ],
   "source": [
    "ten_percent // 1"
   ]
  },
  {
   "cell_type": "code",
   "execution_count": null,
   "id": "23c283bb",
   "metadata": {},
   "outputs": [],
   "source": [
    "tip = rounded_down_ten_percent * 2"
   ]
  },
  {
   "cell_type": "code",
   "execution_count": 41,
   "id": "57158e50",
   "metadata": {},
   "outputs": [
    {
     "data": {
      "text/plain": [
       "2.0"
      ]
     },
     "execution_count": 41,
     "metadata": {},
     "output_type": "execute_result"
    }
   ],
   "source": [
    "rounded_down_ten_percent"
   ]
  },
  {
   "cell_type": "markdown",
   "id": "db012842",
   "metadata": {},
   "source": [
    "<hr/>"
   ]
  },
  {
   "cell_type": "markdown",
   "id": "3cae626e",
   "metadata": {},
   "source": [
    "<hr/>"
   ]
  },
  {
   "cell_type": "markdown",
   "id": "a206317d",
   "metadata": {},
   "source": [
    "## Operator Precedence"
   ]
  },
  {
   "cell_type": "markdown",
   "id": "46e154c3",
   "metadata": {},
   "source": [
    "* Expressions evaluate as per rules of precdence\n",
    "\n",
    "* For operators with equal precedence, the evaluation takes place **left to right**\n",
    "\n",
    "* Operator Precedence in decreasing order in table below: \n",
    "\n",
    "    * The higher the operator in the table, the higher its priority"
   ]
  },
  {
   "attachments": {},
   "cell_type": "markdown",
   "id": "1b19b36b",
   "metadata": {},
   "source": [
    "| Syntax      | Description |\n",
    "| :----------- | -----------: |\n",
    "| ()      | Parentheses |\n",
    "| **      | Exponent    |\n",
    "| *,  /,  //,  % | Multiplication, Division, Floor division, Modulus|\n",
    "| +, - | Addition, Subtraction|\n",
    "|==, !=, >, >=, <, <= | Equal, Not Equal, Less Than, Less Than Equal, Greater Than, Greater Than Equal ||"
   ]
  },
  {
   "cell_type": "code",
   "execution_count": null,
   "id": "803b69f7",
   "metadata": {},
   "outputs": [],
   "source": [
    "1+1+1+1+1*0"
   ]
  },
  {
   "cell_type": "code",
   "execution_count": null,
   "id": "08abe552",
   "metadata": {},
   "outputs": [],
   "source": [
    "9**1/2"
   ]
  },
  {
   "cell_type": "code",
   "execution_count": null,
   "id": "2e38c05e",
   "metadata": {},
   "outputs": [],
   "source": [
    "100/10/10"
   ]
  },
  {
   "cell_type": "code",
   "execution_count": null,
   "id": "fe1edca1",
   "metadata": {},
   "outputs": [],
   "source": [
    "100/(10/10)"
   ]
  },
  {
   "cell_type": "code",
   "execution_count": null,
   "id": "2bfbd7e5",
   "metadata": {},
   "outputs": [],
   "source": [
    "10 + 10 / 10"
   ]
  },
  {
   "cell_type": "code",
   "execution_count": null,
   "id": "23f23e0c",
   "metadata": {},
   "outputs": [],
   "source": [
    "(2+2)**1/2"
   ]
  },
  {
   "cell_type": "code",
   "execution_count": null,
   "id": "cdd066bb",
   "metadata": {},
   "outputs": [],
   "source": [
    "36**1/2"
   ]
  }
 ],
 "metadata": {
  "kernelspec": {
   "display_name": "Python 3 (ipykernel)",
   "language": "python",
   "name": "python3"
  },
  "language_info": {
   "codemirror_mode": {
    "name": "ipython",
    "version": 3
   },
   "file_extension": ".py",
   "mimetype": "text/x-python",
   "name": "python",
   "nbconvert_exporter": "python",
   "pygments_lexer": "ipython3",
   "version": "3.9.12"
  }
 },
 "nbformat": 4,
 "nbformat_minor": 5
}
