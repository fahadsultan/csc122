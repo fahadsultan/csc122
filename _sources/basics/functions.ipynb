{
 "cells": [
  {
   "attachments": {},
   "cell_type": "markdown",
   "id": "8157e37d",
   "metadata": {},
   "source": [
    "# Functions"
   ]
  },
  {
   "cell_type": "markdown",
   "id": "f6dd70a3",
   "metadata": {},
   "source": [
    "<hr/>"
   ]
  },
  {
   "attachments": {},
   "cell_type": "markdown",
   "id": "56011e1d",
   "metadata": {
    "slideshow": {
     "slide_type": "slide"
    }
   },
   "source": [
    "## Functions: Our first means of abstraction (From PL.2.)"
   ]
  },
  {
   "cell_type": "markdown",
   "id": "1ec5b77b",
   "metadata": {},
   "source": [
    "* Some useful built-in functions: \n",
    "    * `print(..)`\n",
    "    * `input(..)`\n",
    "    * `type(..)`\n",
    "    * `abs(..)`\n",
    "    * `round(..)`\n",
    "    * `help(..)`\n",
    "    "
   ]
  },
  {
   "cell_type": "code",
   "execution_count": null,
   "id": "d6214263",
   "metadata": {
    "scrolled": true
   },
   "outputs": [],
   "source": [
    "cheque = float(input(\"How much was the cheque amount? \"))\n",
    "\n",
    "tip = 0.2 * cheque\n",
    "\n",
    "print(\"You should tip \", tip, \"for the given cheque amount\")"
   ]
  },
  {
   "cell_type": "markdown",
   "id": "a2a5a1a8",
   "metadata": {
    "slideshow": {
     "slide_type": "slide"
    }
   },
   "source": [
    "* Syntax: `output` = name_of_function **`(`** `input(s)` `) `"
   ]
  },
  {
   "cell_type": "code",
   "execution_count": null,
   "id": "a9bb109b",
   "metadata": {
    "scrolled": true
   },
   "outputs": [],
   "source": [
    "help(abs)"
   ]
  },
  {
   "cell_type": "markdown",
   "id": "23718f7d",
   "metadata": {
    "slideshow": {
     "slide_type": "slide"
    }
   },
   "source": [
    "**Pure Functions** "
   ]
  },
  {
   "cell_type": "markdown",
   "id": "50d4b26c",
   "metadata": {},
   "source": [
    "A pure function takes inputs and returns outputs, <u>without</u> any **side effects**."
   ]
  },
  {
   "attachments": {},
   "cell_type": "markdown",
   "id": "68ed7962",
   "metadata": {},
   "source": [
    "<img src=\"https://www.composingprograms.com/versions/v1/img/function_abs.png\">"
   ]
  },
  {
   "cell_type": "markdown",
   "id": "d51f99ea",
   "metadata": {
    "slideshow": {
     "slide_type": "slide"
    }
   },
   "source": [
    "**Impure Functions** "
   ]
  },
  {
   "cell_type": "markdown",
   "id": "f4183759",
   "metadata": {},
   "source": [
    "An impure function takes inputs and returns outputs, with one or more any **side effects**.\n",
    "\n",
    "* Printing a message on the display is an example of a side effect"
   ]
  },
  {
   "cell_type": "code",
   "execution_count": null,
   "id": "89765ca2",
   "metadata": {
    "scrolled": true
   },
   "outputs": [],
   "source": [
    "x = abs(-2)"
   ]
  },
  {
   "cell_type": "code",
   "execution_count": null,
   "id": "b4de543a",
   "metadata": {
    "scrolled": true
   },
   "outputs": [],
   "source": [
    "x = print(-2)"
   ]
  },
  {
   "attachments": {},
   "cell_type": "markdown",
   "id": "efc2db63",
   "metadata": {},
   "source": [
    "<!-- <img src=\"https://composingprograms.com/img/function_print.png\"> -->\n",
    "\n",
    "<img src=\"https://www.composingprograms.com/versions/v1/img/function_print.png\">"
   ]
  },
  {
   "attachments": {},
   "cell_type": "markdown",
   "id": "865e1841",
   "metadata": {
    "slideshow": {
     "slide_type": "slide"
    }
   },
   "source": [
    "## Overriding built-in functions (From PL.2.)"
   ]
  },
  {
   "cell_type": "markdown",
   "id": "5b1e778f",
   "metadata": {},
   "source": [
    "What happens when we override `round`, `input` or `print`"
   ]
  },
  {
   "cell_type": "code",
   "execution_count": null,
   "id": "68d042a3",
   "metadata": {
    "scrolled": true
   },
   "outputs": [],
   "source": [
    "abs(-123)\n",
    "\n",
    "abs = \"Abc\"\n",
    "\n",
    "abs(-123)"
   ]
  },
  {
   "cell_type": "code",
   "execution_count": null,
   "id": "dbb84787",
   "metadata": {
    "scrolled": true
   },
   "outputs": [],
   "source": [
    "print(abs)"
   ]
  },
  {
   "cell_type": "code",
   "execution_count": null,
   "id": "34db23df",
   "metadata": {
    "scrolled": true
   },
   "outputs": [],
   "source": [
    "\"\"\"Over-riding built-in functions:\n",
    "---------------------------------\n",
    "\n",
    "Before you run this cell,\n",
    "think about which line of code would \n",
    "generate an error, if any\n",
    "\n",
    "NOTE: YOU MAY WANT TO RESTART THE NOTEBOOK\n",
    "AT THIS POINT\"\"\"\n",
    "\n",
    "input = float(input())\n",
    "rounded_num = round(input)\n",
    "print(rounded_num)\n",
    "\n",
    "num = float(input())\n",
    "rounded_num = round(num)\n",
    "print(rounded_num)"
   ]
  },
  {
   "cell_type": "code",
   "execution_count": null,
   "id": "7778dca7",
   "metadata": {
    "scrolled": true
   },
   "outputs": [],
   "source": [
    "\"\"\"Over-riding built-in functions:\n",
    "---------------------------------\n",
    "\n",
    "Before you run this cell,\n",
    "think about which line of code would \n",
    "generate an error, if any\n",
    "\n",
    "NOTE: YOU MAY WANT TO RESTART THE NOTEBOOK\n",
    "AT THIS POINT\"\"\"\n",
    "\n",
    "round = round(7.7)\n",
    "rounded = round(8.7)"
   ]
  },
  {
   "cell_type": "markdown",
   "id": "6c3af181",
   "metadata": {},
   "source": [
    "<hr/>"
   ]
  },
  {
   "attachments": {},
   "cell_type": "markdown",
   "id": "b41ad7df",
   "metadata": {
    "slideshow": {
     "slide_type": "slide"
    }
   },
   "source": [
    "## Functions as Black-Box Abstractions"
   ]
  },
  {
   "cell_type": "markdown",
   "id": "e8358bf0",
   "metadata": {},
   "source": [
    "* Implementation details are suppressed or abstracted \n",
    "\n",
    "\n",
    "* The _caller_ of the functions needs to only be concerned with the function's interface \n",
    "\n",
    "    * What input(s) it takes and what output(s) it returns\n",
    "<!-- <center> -->\n",
    " <img src=\"https://www.guru99.com/images/stories/blackbox.png\">\n",
    "<!-- </center> -->\n"
   ]
  },
  {
   "cell_type": "markdown",
   "id": "e81d9f54",
   "metadata": {},
   "source": [
    "<hr/>"
   ]
  },
  {
   "attachments": {},
   "cell_type": "markdown",
   "id": "92666419",
   "metadata": {
    "slideshow": {
     "slide_type": "slide"
    }
   },
   "source": [
    "## Custom Functions\n",
    "\n",
    "So far, we've used the following Python **built-in** functions: `print(...)`, `type(...)` and `input(...)`"
   ]
  },
  {
   "cell_type": "code",
   "execution_count": null,
   "id": "916cc0e6",
   "metadata": {
    "scrolled": true
   },
   "outputs": [],
   "source": [
    "print(\"Hello world\")\n",
    "print(type(4.5))"
   ]
  },
  {
   "cell_type": "markdown",
   "id": "4f753f98",
   "metadata": {
    "slideshow": {
     "slide_type": "slide"
    }
   },
   "source": [
    "and the following type-casting functions:  `int()`, `bool()`, `float()` etc. "
   ]
  },
  {
   "cell_type": "code",
   "execution_count": null,
   "id": "39fcc3a4",
   "metadata": {
    "scrolled": true
   },
   "outputs": [],
   "source": [
    "print(int(3.14))\n",
    "print(bool(\"\"))\n",
    "print(float(4))"
   ]
  },
  {
   "cell_type": "markdown",
   "id": "30e6cc21",
   "metadata": {},
   "source": [
    "* Now, we’ll move on to exploring a set of new special words, statement and expressions in Python that allow us to create our own functions. "
   ]
  },
  {
   "cell_type": "markdown",
   "id": "ae42b47f",
   "metadata": {
    "slideshow": {
     "slide_type": "slide"
    }
   },
   "source": [
    "* A **Function**, simply put, groups a set of statements so they can be run more than once in a program\n",
    "\n",
    "    * A set of steps packaged so that you can invoke them with a name. \n",
    "\n",
    "* Functions, more often that not, accept **input(s)** and compute corresponding **output(s)**\n",
    "    * Note how inputs to `type(...)`, `round(...)` etc. may differ each time the code is run "
   ]
  },
  {
   "cell_type": "code",
   "execution_count": null,
   "id": "c32fbe70",
   "metadata": {
    "scrolled": true
   },
   "outputs": [],
   "source": [
    "x = 4.3\n",
    "var = round(x)\n",
    "print(var)\n",
    "x = 5.4\n",
    "var = round(x)\n",
    "print(var)"
   ]
  },
  {
   "cell_type": "markdown",
   "id": "eb3590aa",
   "metadata": {},
   "source": [
    "<hr/>"
   ]
  },
  {
   "cell_type": "markdown",
   "id": "01d844c9",
   "metadata": {
    "slideshow": {
     "slide_type": "slide"
    }
   },
   "source": [
    "## Defining Functions\n",
    "\n",
    "The **definition** of a function starts with the `def` keyword in Python.\n",
    "\n",
    "The first line of a function definition starts with the header line.\n",
    "\n",
    "The header line specifies a **function name**, along with a list of **zero or more inputs** (called arguments aka parameters) that are comma-separated within parentheses.\n",
    "\n",
    "The general format is as follows:"
   ]
  },
  {
   "cell_type": "code",
   "execution_count": null,
   "id": "ffddc0ac",
   "metadata": {
    "scrolled": true
   },
   "outputs": [],
   "source": [
    "def function_name(input1, input2,... inputN):\n",
    "    # body of \n",
    "    # the function\n",
    "    # goes here\n",
    "    \n",
    "    return output"
   ]
  },
  {
   "cell_type": "code",
   "execution_count": null,
   "id": "72cbb3b2",
   "metadata": {
    "scrolled": true
   },
   "outputs": [],
   "source": [
    "#For example:\n",
    "def add_and_print_first_two_inputs(input1, input2):\n",
    "    # body of \n",
    "    # the function\n",
    "    # goes here\n",
    "    \n",
    "    print(input1 + input2)\n",
    "    \n",
    "\n",
    "add_and_print_first_two_inputs(2.2, 2.3)"
   ]
  },
  {
   "cell_type": "markdown",
   "id": "9040e6ec",
   "metadata": {
    "slideshow": {
     "slide_type": "-"
    }
   },
   "source": [
    "* The header line ends with a colon `:`\n",
    "* Followed by **indented** block of code that becomes the function's body\n",
    "    * Body of the function executes each time the function is **called**."
   ]
  },
  {
   "cell_type": "markdown",
   "id": "2400b7cd",
   "metadata": {
    "slideshow": {
     "slide_type": "slide"
    }
   },
   "source": [
    "Function bodies often contain a `return` statement:"
   ]
  },
  {
   "cell_type": "code",
   "execution_count": null,
   "id": "aa928809",
   "metadata": {
    "scrolled": true
   },
   "outputs": [],
   "source": [
    "def name(arg1, arg2,... argN):\n",
    "    ...\n",
    "    return value"
   ]
  },
  {
   "cell_type": "markdown",
   "id": "f079de1c",
   "metadata": {},
   "source": [
    "* The Python `return` is followed by an variable, or an expression, that serves as the **output** of the function.\n",
    "\n",
    "    * `return` ends the function call and sends a result back to the caller. "
   ]
  },
  {
   "cell_type": "markdown",
   "id": "e34defd8",
   "metadata": {},
   "source": [
    "<hr/>"
   ]
  },
  {
   "cell_type": "markdown",
   "id": "bfc95df6",
   "metadata": {
    "slideshow": {
     "slide_type": "slide"
    }
   },
   "source": [
    "## Calling a function\n",
    "\n",
    "There are two sides to the function picture:\n",
    "\n",
    "1. **Definition**: the `def` that **creates a function** and assigns it a _name_\n",
    "2. **Call**: an expression including the function's _name_ that tells Python to **run the function’s body**.\n",
    "    * After the def has run, you can call (run) the function in your program by adding parentheses after the function’s name.\n",
    "\n",
    "You must **define** the function **before calling it** "
   ]
  },
  {
   "cell_type": "code",
   "execution_count": null,
   "id": "429ecb3f",
   "metadata": {
    "scrolled": true
   },
   "outputs": [],
   "source": [
    "print(round(1.63))\n",
    "print(round(1.3))"
   ]
  },
  {
   "cell_type": "code",
   "execution_count": null,
   "id": "27d83112",
   "metadata": {
    "scrolled": true
   },
   "outputs": [],
   "source": [
    "print(round(2.6))\n",
    "print(round(2.3))\n",
    "print(round(3.4))"
   ]
  },
  {
   "cell_type": "markdown",
   "id": "b287812f",
   "metadata": {
    "slideshow": {
     "slide_type": "slide"
    }
   },
   "source": [
    "* Input(s) to a function are optional.\n",
    "* The return statement, that gives the function’s result, also is optional.\n",
    "    * If the value is omitted, return sends back a None."
   ]
  },
  {
   "cell_type": "code",
   "execution_count": null,
   "id": "645ed11f",
   "metadata": {
    "scrolled": true
   },
   "outputs": [],
   "source": [
    "def print_hello_world():\n",
    "    print(\"Hello world\")\n",
    "    x = 1 + 1\n",
    "    \n",
    "print_hello_world()\n",
    "print_hello_world()\n",
    "\n",
    "return_val = print_hello_world()\n",
    "print(return_val) "
   ]
  },
  {
   "cell_type": "code",
   "execution_count": null,
   "id": "95f607f8",
   "metadata": {
    "scrolled": true,
    "slideshow": {
     "slide_type": "slide"
    }
   },
   "outputs": [],
   "source": [
    "def calculate_tips(number):\n",
    "\n",
    "print(\"Our round function:\")\n",
    "print(calculate_tips(2.6))\n",
    "print(calculate_tips(2.3))\n",
    "print(calculate_tips(3.4))"
   ]
  },
  {
   "cell_type": "code",
   "execution_count": null,
   "id": "c8e4af85",
   "metadata": {
    "scrolled": true
   },
   "outputs": [],
   "source": [
    "def get_least_significant_digit(num):\n",
    "    digit = \n",
    "    return digit "
   ]
  },
  {
   "cell_type": "code",
   "execution_count": null,
   "id": "4fe22a1d",
   "metadata": {
    "scrolled": true
   },
   "outputs": [],
   "source": [
    "def convert_to_24hrformat(hours_12hr, pm):\n",
    "\n",
    "    return number\n"
   ]
  }
 ],
 "metadata": {
  "kernelspec": {
   "display_name": "Python 3 (ipykernel)",
   "language": "python",
   "name": "python3"
  },
  "language_info": {
   "codemirror_mode": {
    "name": "ipython",
    "version": 3
   },
   "file_extension": ".py",
   "mimetype": "text/x-python",
   "name": "python",
   "nbconvert_exporter": "python",
   "pygments_lexer": "ipython3",
   "version": "3.9.12"
  }
 },
 "nbformat": 4,
 "nbformat_minor": 5
}
