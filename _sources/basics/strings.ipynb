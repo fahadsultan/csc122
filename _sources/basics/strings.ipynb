{
 "cells": [
  {
   "attachments": {},
   "cell_type": "markdown",
   "id": "a41a88e0",
   "metadata": {},
   "source": [
    "\n",
    "# Strings"
   ]
  },
  {
   "cell_type": "markdown",
   "id": "1959e331",
   "metadata": {},
   "source": [
    "<hr/>"
   ]
  },
  {
   "attachments": {},
   "cell_type": "markdown",
   "id": "309a363e",
   "metadata": {},
   "source": [
    "## Strings ~ Lists "
   ]
  },
  {
   "cell_type": "markdown",
   "id": "632c5de4",
   "metadata": {},
   "source": [
    "* In Python, Strings are very **similar to Lists**\n",
    "\n",
    "\n",
    "* Lists can contain any type of data i.e. integers, characters, booleans, strings etc. \n",
    "\n",
    "\n",
    "* Strings can only hold a set of characters "
   ]
  },
  {
   "cell_type": "code",
   "execution_count": null,
   "id": "9caa8edb",
   "metadata": {},
   "outputs": [],
   "source": [
    "\n",
    "\n"
   ]
  },
  {
   "attachments": {},
   "cell_type": "markdown",
   "id": "7c2360f8",
   "metadata": {},
   "source": [
    "## Similarities between Strings and Lists "
   ]
  },
  {
   "cell_type": "markdown",
   "id": "f69d18e2",
   "metadata": {},
   "source": [
    "* Individual characters can be accessed using the same square brackets syntax `variable_name[index]`"
   ]
  },
  {
   "cell_type": "code",
   "execution_count": null,
   "id": "b995360d",
   "metadata": {},
   "outputs": [],
   "source": [
    "\n",
    "\n"
   ]
  },
  {
   "cell_type": "markdown",
   "id": "d8531f5f",
   "metadata": {},
   "source": [
    "* You can call the built-in method `len` on strings, just like lists"
   ]
  },
  {
   "cell_type": "code",
   "execution_count": null,
   "id": "b4132e14",
   "metadata": {},
   "outputs": [],
   "source": [
    "\n",
    "\n"
   ]
  },
  {
   "cell_type": "markdown",
   "id": "50ee02a0",
   "metadata": {},
   "source": [
    "* Positive Indicies start from `0` to `length - 1`\n",
    "\n",
    "\n",
    "* Negative indicies go from `-1` to `-length`"
   ]
  },
  {
   "attachments": {},
   "cell_type": "markdown",
   "id": "5c0b5373",
   "metadata": {},
   "source": [
    "## Slicing for Strings works the same as in lists "
   ]
  },
  {
   "cell_type": "code",
   "execution_count": null,
   "id": "ecf5e20a",
   "metadata": {},
   "outputs": [],
   "source": [
    "\n",
    "\n"
   ]
  },
  {
   "attachments": {},
   "cell_type": "markdown",
   "id": "d40f495c",
   "metadata": {},
   "source": [
    "## Differences between Strings and Lists "
   ]
  },
  {
   "cell_type": "markdown",
   "id": "940a5124",
   "metadata": {},
   "source": [
    "* Strings can only hold _characters_, although _characters_ themselves can be anything e.g. \"13\", \"[1, 2, 3]\", \"True\" etc.\n",
    "\n",
    "    * Lists can can contain any type of data \n",
    "    \n",
    "    \n",
    "* Strings are immutable, unlike lists \n",
    "\n",
    "    * All operations return a new string \n",
    "    \n",
    "    \n",
    "* Strings are passed as value to functions \n",
    "\n",
    "    * Not by reference \n",
    "    \n",
    "    * Any changes made to arguments inside a function are not reflected at the caller"
   ]
  },
  {
   "cell_type": "code",
   "execution_count": null,
   "id": "7bcb7bf1",
   "metadata": {},
   "outputs": [],
   "source": [
    "\n"
   ]
  },
  {
   "attachments": {},
   "cell_type": "markdown",
   "id": "55952506",
   "metadata": {},
   "source": [
    "## Comparison with Lists"
   ]
  },
  {
   "cell_type": "markdown",
   "id": "5417d637",
   "metadata": {},
   "source": [
    "* Directly **initialize with values**\n",
    "\n",
    "* Using **single or double quotes**\n",
    "\n",
    "* If you can use **single quote** to **delimit** your string value, you can use double quotes as a character **within value** and vice versa"
   ]
  },
  {
   "cell_type": "code",
   "execution_count": null,
   "id": "bd0524d6",
   "metadata": {},
   "outputs": [],
   "source": []
  },
  {
   "cell_type": "markdown",
   "id": "8f341b95",
   "metadata": {},
   "source": [
    "* There is no built-in `append` method for strings \n",
    "\n",
    "* Instead, you can concatenate two (or more) strings to each other using `+` operator "
   ]
  },
  {
   "cell_type": "code",
   "execution_count": null,
   "id": "dca0e45f",
   "metadata": {},
   "outputs": [],
   "source": []
  },
  {
   "cell_type": "markdown",
   "id": "b55d6ad7",
   "metadata": {},
   "source": [
    "* Removing characters \n",
    "\n",
    "    * Use **slicing**, no `pop` or `remove`\n",
    "    \n",
    "    * Or `.replace(characters, '')`"
   ]
  },
  {
   "cell_type": "code",
   "execution_count": null,
   "id": "68b15088",
   "metadata": {},
   "outputs": [],
   "source": []
  },
  {
   "attachments": {},
   "cell_type": "markdown",
   "id": "f303c215",
   "metadata": {},
   "source": [
    "## Decoding\n"
   ]
  },
  {
   "cell_type": "markdown",
   "id": "7a190579",
   "metadata": {},
   "source": [
    "\n",
    "* **Encoding** is the process of converting information from a source into symbols for communication or storage. \n",
    "\n",
    "\n",
    "* **Decoding** is the reverse process of encoding: converting code symbols back into a form that the recipient understands. \n",
    "\n",
    "<br/>\n",
    "<hr/>\n",
    "<br/>\n",
    "\n",
    "\n",
    "<img src=\"https://i.ibb.co/Kq2szdv/Screen-Shot-2022-10-30-at-11-20-56-PM.png\">"
   ]
  },
  {
   "cell_type": "code",
   "execution_count": null,
   "id": "02cebaa6",
   "metadata": {},
   "outputs": [],
   "source": [
    "msg = [7, 4, 17, 4, 18, \" \", 9, 14, 7, 13, 13, 24]\n",
    "alphabet = \"ABCDEFGHIJKLMNOPQRSTUVWXYZ\"\n",
    "\n",
    "\n"
   ]
  },
  {
   "cell_type": "markdown",
   "id": "1c6d5054",
   "metadata": {},
   "source": [
    "<img align=\"left\" src=\"https://i.ibb.co/0fX7JQC/Screen-Shot-2022-10-30-at-11-49-36-PM.png\">"
   ]
  },
  {
   "cell_type": "code",
   "execution_count": null,
   "id": "e103debb",
   "metadata": {},
   "outputs": [],
   "source": [
    "msg = \"semitemos dam elttil a og lla ew\"\n",
    "\n"
   ]
  },
  {
   "cell_type": "markdown",
   "id": "b82b02d9",
   "metadata": {},
   "source": [
    "<img src=\"https://i.ibb.co/jDmc5rJ/Screen-Shot-2022-10-31-at-1-12-51-AM.png\">"
   ]
  },
  {
   "cell_type": "code",
   "execution_count": 14,
   "id": "2c549778",
   "metadata": {},
   "outputs": [],
   "source": [
    "msg = \"PRESIDENT'S EMBARGO RULING SHOULD HAVE IMMEDIATE NOTICE. GRAVE SITUATION AFFECTING\\\n",
    "    INTERNATIONAL LAW. STATEMENT FORESHADOWS RUIN OF MANY NEUTRALS. YELLOW JOURNALS UNIFYING \\\n",
    "    NATIONAL EXCITEMENT IMMENSELY.\"\n",
    "\n"
   ]
  }
 ],
 "metadata": {
  "kernelspec": {
   "display_name": "Python 3 (ipykernel)",
   "language": "python",
   "name": "python3"
  },
  "language_info": {
   "codemirror_mode": {
    "name": "ipython",
    "version": 3
   },
   "file_extension": ".py",
   "mimetype": "text/x-python",
   "name": "python",
   "nbconvert_exporter": "python",
   "pygments_lexer": "ipython3",
   "version": "3.9.12"
  }
 },
 "nbformat": 4,
 "nbformat_minor": 5
}
