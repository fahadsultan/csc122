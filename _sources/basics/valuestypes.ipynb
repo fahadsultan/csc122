{
 "cells": [
  {
   "attachments": {},
   "cell_type": "markdown",
   "id": "947a3b96",
   "metadata": {
    "slideshow": {
     "slide_type": "slide"
    }
   },
   "source": [
    "# Values, Types and Variables\n",
    "\n",
    "## Values \n",
    "\n",
    "* The atomic indivisible unit of data in computer programming is called a **value**. \n",
    "\n",
    "* Values are the basic things that a computer program manipulates or calculates.\n",
    "\n",
    "For example, the number `42` is a value. So is `\"Hello World!\"`.\n",
    "\n",
    "## Types\n",
    "\n",
    "* Each value belongs to a **type**.\n",
    "\n",
    "* The type of a value determines its interpretation by the computer and the operations that can be performed on it.\n",
    "\n",
    "For example, the value `42` is of type `int` (short for integer) and the value `\"Hello World!\"` is of type `str` (short for string, so-called because it contains a _string_ of letters).\n",
    "\n",
    "You (and Python) can identify strings because they are enclosed in quotation marks `\"`."
   ]
  },
  {
   "attachments": {},
   "cell_type": "markdown",
   "id": "a316feb9",
   "metadata": {},
   "source": [
    "Python comes with the following built-in data types:\n",
    "\n",
    "<!-- \n",
    "| Category | Python Data Types |\n",
    "| :----------- | -----------: |\n",
    "| Numeric Types:      | **`int`**, **`float`**, `complex` |\n",
    "| Boolean Type:      | **`bool`** |\n",
    "| Text Type:      | **`str`** |\n",
    "| Sequence Types: | `list`, `tuple`, `range` |\n",
    "| Mapping Type: | `dict`|\n",
    "| Set Types: | `set`, `frozenset`|\n",
    "| Binary Type: | `bytes`, `bytearray`, `memoryview`|\n",
    "| NoneType: | `Nonetype`| -->\n",
    "\n",
    "| Python Data Type | Description | Category | Mutable | Example Values |\n",
    "| :----------- | -----------: | -----------: | -----------: |-----------: |\n",
    "| `int` | Integers | Numeric | ❌ | `42`, `0`, `-1`,  `10000000000 ` |\n",
    "| `float` | Floating point numbers | Numeric | ❌ | `3.14159`, `0.0`, `-1.0`, `1.0e10` |\n",
    "| `complex` | Complex numbers | Numeric | ❌ | `3 + 4j`, `1j` |\n",
    "| `bool` | Boolean values | Boolean | ❌ | `True`, `False` |\n",
    "| `str` | String values | Text | ❌ | `\"Hello World!\"`, `\"42\"` |\n",
    "| `list` | Ordered mutable sequences of values | Sequence | ✅ | `[1, 2, 3]`, `[\"Hello\", \"World\"]` |\n",
    "| `tuple` | Ordered immutable sequences of values | Sequence | ❌ | `(1, 2, 3)`, `(\"Hello\", \"World\")` |\n",
    "| `range` | Immutable sequence of numbers | Sequence | ❌ | `range(10)`, `range(1, 10, 2)` |\n",
    "| `dict` | Unordered mapping of keys to values | Mapping | ✅ | `{\"a\": 1, \"b\": 2}` |\n",
    "| `set` | Unordered collection of unique values | Set | ✅ | `{1, 2, 3}` |\n",
    "| `frozenset` | Immutable set | Set | ❌ | `frozenset({1, 2, 3})` |\n",
    "| `bytes` | Sequence of bytes | Binary | ❌ | `b\"Hello World!\"` |\n",
    "| `bytearray` | Mutable sequence of bytes | Binary | ✅ | `bytearray(b\"Hello World!\")` |\n",
    "| `memoryview` | Memory view of bytes | Binary | ❌ | `memoryview(b\"Hello World!\")` |\n",
    "| `NoneType` | Special type indicating no value | NoneType | ❌ | `None` |\n"
   ]
  },
  {
   "attachments": {},
   "cell_type": "markdown",
   "id": "a50d349b",
   "metadata": {},
   "source": [
    "* The type of a value can be found out using the built-in **`type()`** function."
   ]
  },
  {
   "cell_type": "code",
   "execution_count": null,
   "id": "f95f2eb5",
   "metadata": {},
   "outputs": [],
   "source": [
    "type(42), type(\"Hello, World!\")"
   ]
  },
  {
   "attachments": {},
   "cell_type": "markdown",
   "id": "e8acb227",
   "metadata": {},
   "source": [
    "Not surprisingly, strings belong to the type **str** and integers belong to the type **int**. \n",
    "\n",
    "Less obviously, numbers with a decimal point belong to a type called **float**, because these numbers are represented in a format called _floating-point_"
   ]
  },
  {
   "cell_type": "code",
   "execution_count": null,
   "id": "71edd73e",
   "metadata": {},
   "outputs": [],
   "source": [
    "type(3.2)"
   ]
  },
  {
   "attachments": {},
   "cell_type": "markdown",
   "id": "cce97814",
   "metadata": {},
   "source": [
    "What about values like `\"17\"` and `\"3.2\"`? They look like numbers, but they are in quotation marks like strings."
   ]
  },
  {
   "attachments": {},
   "cell_type": "markdown",
   "id": "e8df81d6",
   "metadata": {},
   "source": [
    "They’re strings.\n",
    "\n",
    "Strings in Python can be enclosed in either single quotes (‘) or double quotes (“):"
   ]
  },
  {
   "cell_type": "code",
   "execution_count": null,
   "id": "367ee862",
   "metadata": {},
   "outputs": [],
   "source": [
    "type('This is a string.'), type(\"And so is this.\")"
   ]
  },
  {
   "attachments": {},
   "cell_type": "markdown",
   "id": "05784305",
   "metadata": {},
   "source": [
    "Double quoted strings can contain single quotes inside them, as in `\"Bruce's beard\"`, and single quoted strings can have double quotes inside them, as in `'The knights who say \"Ni!\"'`.\n",
    "\n",
    "When you type a large integer, you might be tempted to use commas between groups of three digits, as in `1,000,000`. This is not a legal integer in Python, but it is legal:"
   ]
  },
  {
   "cell_type": "code",
   "execution_count": null,
   "id": "182507cf",
   "metadata": {},
   "outputs": [],
   "source": [
    "print(1,000,000)"
   ]
  },
  {
   "attachments": {},
   "cell_type": "markdown",
   "id": "6f8f52cc",
   "metadata": {},
   "source": [
    "Well, that’s not what we expected at all! Python interprets `1,000,000` as a three separate items to be printed. So remember not to put commas in your integers."
   ]
  },
  {
   "attachments": {},
   "cell_type": "markdown",
   "id": "990aae39",
   "metadata": {},
   "source": [
    "## Variables \n",
    "\n",
    "One of the most powerful features of a programming language is the ability to manipulate **variables**.  \n",
    "\n",
    "Similar to algebra, variables in computer programming are names that refer to values.\n",
    "\n",
    "In algebra, the following statement declares that the variable `x` has the value `42`:\n",
    "\n",
    "$$x = 42$$\n",
    "\n",
    "In Python, the following statement declares that the variable `x` has the value `42`:\n",
    "\n",
    "```python\n",
    "x = 42\n",
    "```\n",
    "\n",
    "The $=$ symbol in Python is called the **assignment operator**. It allows us to creates new variables (names) and _assign_ (refer) them values. \n",
    "\n",
    "Note that the assignment operator assigns the value on the right to the variable on the left. In other words, the directionality of assignment in `x = 42` is  $x \\leftarrow 42$.\n",
    "\n",
    "Variables can naturally be assigned different values at different times.\n",
    "\n",
    "In fact, the same variable can be assigned values of different types at different times.\n",
    "\n",
    "In Python, a variable is a just a name. Values are somewhere else, and a variable refers to a value. Multiple names can refer to the same value. Python calls whatever is needed to refer to a value a reference. Assigning to a variable (or object field, or ...) simply makes it refer to another value. The whole model of storage locations does not apply to Python, the programmer never handles storage locations for values. All he stores and shuffles around are Python references, and those are not values in Python, so they cannot be target of other Python references.\n",
    "\n"
   ]
  },
  {
   "cell_type": "code",
   "execution_count": null,
   "id": "da9d009c",
   "metadata": {},
   "outputs": [],
   "source": [
    "message = \"What's up, Doc?\"\n",
    "n = 17\n",
    "pi = 3.14159"
   ]
  },
  {
   "attachments": {},
   "cell_type": "markdown",
   "id": "1de976b5",
   "metadata": {},
   "source": [
    "This example makes three assignments. The first assigns the string `\"What's up, Doc?\"` to a new variable named `message`. The second gives the integer `17` to `n`, and the third gives the floating-point number `3.14159` to `pi`.\n",
    "\n",
    "The **assignment operator**, `=`, should not be confused with an equals sign (even though it uses the same character). Assignment operators link a _name_, on the left hand side of the operator, with a value, on the right hand side. This is why you will get an error if you enter:\n",
    "\n",
    "```python\n",
    "\n",
    "17 = n # Error: can't assign to literal\n",
    "```\n",
    "\n",
    "A common way to represent variables on paper is to write the name with an arrow pointing to the variable’s value. This kind of figure is called a **state diagram** because it shows what state each of the variables is in (think of it as the variable’s state of mind). This diagram shows the result of the assignment statements\n",
    "\n",
    "<img src=\"https://www.cs.swarthmore.edu/courses/CS21Book/_images/state.png\">\n",
    "\n",
    "The print statement also works with variables.\n"
   ]
  },
  {
   "cell_type": "code",
   "execution_count": null,
   "id": "42d4827d",
   "metadata": {},
   "outputs": [],
   "source": [
    "print(message), print(n), print(pi)"
   ]
  },
  {
   "attachments": {},
   "cell_type": "markdown",
   "id": "4ff0b68a",
   "metadata": {},
   "source": [
    "In each case the result is the value of the variable. Variables also have types; again, we can ask the interpreter what they are."
   ]
  },
  {
   "cell_type": "code",
   "execution_count": null,
   "id": "533ff904",
   "metadata": {},
   "outputs": [],
   "source": [
    "type(message), type(n), type(pi)"
   ]
  },
  {
   "attachments": {},
   "cell_type": "markdown",
   "id": "877ada28",
   "metadata": {},
   "source": [
    "The type of a variable is the type of the value it refers to."
   ]
  },
  {
   "attachments": {},
   "cell_type": "markdown",
   "id": "d59c4b64",
   "metadata": {},
   "source": [
    "## Built-in Data Types"
   ]
  },
  {
   "attachments": {},
   "cell_type": "markdown",
   "id": "950422c8",
   "metadata": {},
   "source": []
  },
  {
   "cell_type": "markdown",
   "id": "ad4d1ed8",
   "metadata": {},
   "source": [
    "* You can get the data type of any variable using the built-in **`type()`** function\n",
    "\n",
    "* Python programming language is both:\n",
    " 1. **Strongly typed**:\n",
    "       * All variables have a type \n",
    "       * The type matters when performing operations on a variable. \n",
    "\n",
    " 2. **Dynamically typed**:\n",
    "    * In Python, the data type is set when you assign a value to a variable (during runtime)."
   ]
  },
  {
   "cell_type": "code",
   "execution_count": null,
   "id": "50a5b25b",
   "metadata": {},
   "outputs": [],
   "source": [
    "#Strong typing\n",
    "\n",
    "print(type(1), a+a)\n",
    "print(type(\"abc\"), b+b)\n",
    "print(type(False), c+c)\n",
    "print(type(1.0), d+d)"
   ]
  },
  {
   "cell_type": "code",
   "execution_count": null,
   "id": "36e37cc4",
   "metadata": {},
   "outputs": [],
   "source": [
    "# Dynamically typing\n",
    "\n",
    "a = 1 \n",
    "print(type(a), a+a)\n",
    "a = \"abc\"\n",
    "print(type(a), a+a)\n",
    "a = 3.14\n",
    "print(type(a), a+a)\n",
    "# a = False\n",
    "# print(type(a), a+a)\n",
    "# b = 638\n",
    "# c = \"False\" \n",
    "# a = 1\n",
    "# print(type(a), a+a)"
   ]
  },
  {
   "cell_type": "markdown",
   "id": "dccbe59f",
   "metadata": {},
   "source": [
    "## Type Conversion and Type Casting \n",
    "\n",
    "\n"
   ]
  },
  {
   "cell_type": "markdown",
   "id": "13a67393",
   "metadata": {},
   "source": [
    "**Type Conversion**: \n",
    "\n",
    "> The process of converting the value of one data type (integer, string, float, etc.) to another data type.\n",
    "\n",
    "Python has two types of type conversion:\n",
    "\n",
    "1. Implicit Type Conversion\n",
    "2. Explicit Type Conversion (also called Type Casting)"
   ]
  },
  {
   "attachments": {},
   "cell_type": "markdown",
   "id": "b2cb7e79",
   "metadata": {},
   "source": [
    "## Implicit Type Conversion\n",
    "\n",
    "> Automatic conversion from one data type to another data type as result of an operation.\n",
    "\n",
    "Python always converts _\"smaller\"_ data types to _\"larger\"_ data types to avoid the loss of information.\n"
   ]
  },
  {
   "cell_type": "code",
   "execution_count": null,
   "id": "1fdd562a",
   "metadata": {},
   "outputs": [],
   "source": [
    "integer_part = 21\n",
    "fractional_part = 0.03\n",
    "\n",
    "print(\"Datatype of integer_part:\", type(integer_part))\n",
    "print(\"Datatype of fractional_part:\", type(fractional_part))\n",
    "\n",
    "new_number = integer_part + fractional_part\n",
    "\n",
    "print(\"Value of new_number:\",new_number)\n",
    "print(\"Datatype of new_number:\",type(new_number))\n",
    "\n",
    "print(\"Datatype of integer_part:\", type(integer_part))"
   ]
  },
  {
   "cell_type": "code",
   "execution_count": null,
   "id": "a66f32eb",
   "metadata": {},
   "outputs": [],
   "source": [
    "integer_part = \"21\"\n",
    "fractional_part = \"0.03\"\n",
    "\n",
    "new_number = integer_part + fractional_part\n",
    "\n",
    "print(\"Datatype of integer_part:\", type(integer_part))\n",
    "print(\"Datatype of fractional_part:\", type(fractional_part))\n",
    "\n",
    "print(\"Value of new_number:\",new_number)\n",
    "print(\"Datatype of new_number:\",type(new_number))"
   ]
  },
  {
   "attachments": {},
   "cell_type": "markdown",
   "id": "49163959",
   "metadata": {},
   "source": [
    "## Explicit Type Conversion (a.k.a. Type Casting)\n",
    "\n",
    "Explicit conversion using one of the built-in functions: `int()`, `float()`, `str()`"
   ]
  },
  {
   "cell_type": "code",
   "execution_count": null,
   "id": "5c0a8d1f",
   "metadata": {},
   "outputs": [],
   "source": [
    "integer_part = 21\n",
    "fractional_part = \"0.03\"\n",
    "\n",
    "print(\"Datatype of integer_part:\", type(integer_part))\n",
    "print(\"Data type of fractional_part before Type Casting:\",type(fractional_part))\n",
    "\n",
    "# new_number = integer_part + fractional_part\n",
    "\n",
    "fractional_part = float(fractional_part)\n",
    "\n",
    "print(\"Data type of fractional_part after Type Casting:\",type(fractional_part))\n",
    "\n",
    "# new_number = integer_part + fractional_part\n",
    "\n",
    "# print(\"Value of new_number:\",new_number)\n",
    "# print(\"Datatype of new_number:\",type(new_number))"
   ]
  },
  {
   "cell_type": "markdown",
   "id": "5987d082",
   "metadata": {},
   "source": [
    "* You can not cast from any type to any other type  "
   ]
  },
  {
   "cell_type": "code",
   "execution_count": null,
   "id": "f4f18ddf",
   "metadata": {},
   "outputs": [],
   "source": [
    "# int(\"1.0\")"
   ]
  },
  {
   "cell_type": "markdown",
   "id": "e2bc06b2",
   "metadata": {},
   "source": [
    "* Casting from `int` to `float`: Assumes fractional part is .0"
   ]
  },
  {
   "cell_type": "code",
   "execution_count": null,
   "id": "685fe11f",
   "metadata": {},
   "outputs": [],
   "source": [
    "float(21)"
   ]
  },
  {
   "cell_type": "markdown",
   "id": "0dd97e61",
   "metadata": {},
   "source": [
    "* Casting from `float` to `int`: Truncates the fractional part (does not `round`) "
   ]
  },
  {
   "cell_type": "code",
   "execution_count": null,
   "id": "d465b016",
   "metadata": {},
   "outputs": [],
   "source": [
    "a = int(21.9)\n",
    "print(a)"
   ]
  },
  {
   "cell_type": "markdown",
   "id": "f4e64fd9",
   "metadata": {},
   "source": [
    "* Casting from `str` to `int`: \n",
    "    * Works if string contains **numeric letters** and/or **whitespace** ONLY\n",
    "    * Numeric letters MUST be contiguous (next to each other)"
   ]
  },
  {
   "cell_type": "code",
   "execution_count": null,
   "id": "6082425f",
   "metadata": {},
   "outputs": [],
   "source": [
    "print(int(\"40\"))\n",
    "print(int(\"    40     \"))\n",
    "print(int(\"    40\"))\n",
    "print(int(\"4 0\"))"
   ]
  },
  {
   "cell_type": "markdown",
   "id": "a7322792",
   "metadata": {},
   "source": [
    "* Casting from `str` to `float`: \n",
    "    1. Works if string contains **numeric letters** and/or **whitespace** and/or **decimal point**\n",
    "    2. Assumes the fractional part is .0, _**iff**_ no decimal point "
   ]
  },
  {
   "cell_type": "code",
   "execution_count": null,
   "id": "2968ae89",
   "metadata": {},
   "outputs": [],
   "source": [
    "# print(float(\"1.9457\"))\n",
    "print(float(\"1\"))\n",
    "# print(int(\"1.9457\"))"
   ]
  },
  {
   "cell_type": "markdown",
   "id": "9a1dfdd2",
   "metadata": {},
   "source": [
    "* Casting from `str` to `float`/`int`: \n",
    "\n",
    "    * You cannot have any operators in the string, when casting from `str` to `float` or `int`"
   ]
  },
  {
   "cell_type": "code",
   "execution_count": null,
   "id": "1d6edca4",
   "metadata": {},
   "outputs": [],
   "source": [
    "print(int(\"2\"))\n",
    "print(int(\"2 + 2\"))\n",
    "float(\"27.03 * 0.2\")"
   ]
  },
  {
   "cell_type": "markdown",
   "id": "c0594213",
   "metadata": {},
   "source": [
    "* Casting from `float`/`int` to `str`: \n",
    "\n",
    "* You can cast virtually anything to a String \n",
    "    * In other words, `str` would accept virtually anything as an input\n",
    "        * Even `'`s and `\"`s, if you _escape_ them i.e. put a `\\` before them"
   ]
  },
  {
   "cell_type": "code",
   "execution_count": null,
   "id": "a7ed1842",
   "metadata": {},
   "outputs": [],
   "source": [
    "print(str(\"ba\\/`'jf\\\"g2&#@(R4?<>[]23898\"))\n",
    "\n",
    "print(str(\"1+1\\\"\\\" \"))\n",
    "\n",
    "print(str(\"a = a+a+2; False; True\"))"
   ]
  }
 ],
 "metadata": {
  "celltoolbar": "Slideshow",
  "kernelspec": {
   "display_name": "Python 3 (ipykernel)",
   "language": "python",
   "name": "python3"
  },
  "language_info": {
   "codemirror_mode": {
    "name": "ipython",
    "version": 3
   },
   "file_extension": ".py",
   "mimetype": "text/x-python",
   "name": "python",
   "nbconvert_exporter": "python",
   "pygments_lexer": "ipython3",
   "version": "3.9.12"
  }
 },
 "nbformat": 4,
 "nbformat_minor": 5
}
