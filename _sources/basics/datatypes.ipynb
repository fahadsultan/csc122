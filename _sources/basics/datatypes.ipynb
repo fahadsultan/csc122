{
 "cells": [
  {
   "attachments": {},
   "cell_type": "markdown",
   "id": "39339160",
   "metadata": {
    "slideshow": {
     "slide_type": "slide"
    }
   },
   "source": [
    "# Built-in Data Types"
   ]
  },
  {
   "attachments": {},
   "cell_type": "markdown",
   "id": "5144783c",
   "metadata": {},
   "source": [
    "* Python comes with the following built-in data types:\n",
    "\n",
    "\n",
    "| Category | Python Data Types |\n",
    "| :----------- | -----------: |\n",
    "| Numeric Types:      | **`int`**, **`float`**, `complex` |\n",
    "| Boolean Type:      | **`bool`** |\n",
    "| Text Type:      | **`str`** |\n",
    "| Sequence Types: | `list`, `tuple`, `range` |\n",
    "| Mapping Type: | `dict`|\n",
    "| Set Types: | `set`, `frozenset`|\n",
    "| Binary Type: | `bytes`, `bytearray`, `memoryview`|\n",
    "| NoneType: | `Nonetype`|"
   ]
  },
  {
   "cell_type": "markdown",
   "id": "1e422f1f",
   "metadata": {
    "slideshow": {
     "slide_type": "slide"
    }
   },
   "source": [
    "* You can get the data type of any variable using the built-in **`type()`** function\n",
    "\n",
    "* Python programming language is both:\n",
    " 1. **Strongly typed**:\n",
    "       * All variables have a type \n",
    "       * The type matters when performing operations on a variable. \n",
    "\n",
    " 2. **Dynamically typed**:\n",
    "    * In Python, the data type is set when you assign a value to a variable (during runtime)."
   ]
  },
  {
   "cell_type": "code",
   "execution_count": null,
   "id": "03e0de8d",
   "metadata": {
    "slideshow": {
     "slide_type": "slide"
    }
   },
   "outputs": [],
   "source": [
    "#Strong typing\n",
    "\n",
    "a = 1 # int\n",
    "b = \"abc\" # str \n",
    "c = False # bool\n",
    "d = 1.0 # float\n",
    "\n",
    "print(type(a), a+a)\n",
    "print(type(b), b+b)\n",
    "print(type(c), c+c)\n",
    "print(type(d), d+d)"
   ]
  },
  {
   "cell_type": "code",
   "execution_count": null,
   "id": "b4209ee3",
   "metadata": {
    "slideshow": {
     "slide_type": "slide"
    }
   },
   "outputs": [],
   "source": [
    "# Dynamically typing\n",
    "\n",
    "a = 1 \n",
    "print(type(a), a+a)\n",
    "a = \"abc\"\n",
    "print(type(a), a+a)\n",
    "a = 3.14\n",
    "print(type(a), a+a)\n",
    "# a = False\n",
    "# print(type(a), a+a)\n",
    "# b = 638\n",
    "# c = \"False\" \n",
    "# a = 1\n",
    "# print(type(a), a+a)"
   ]
  },
  {
   "attachments": {},
   "cell_type": "markdown",
   "id": "f0bc08ab",
   "metadata": {
    "slideshow": {
     "slide_type": "slide"
    }
   },
   "source": [
    "## Type Conversion and Type Casting \n",
    "\n",
    "\n"
   ]
  },
  {
   "cell_type": "markdown",
   "id": "3bb14364",
   "metadata": {},
   "source": [
    "**Type Conversion**: \n",
    "\n",
    "> The process of converting the value of one data type (integer, string, float, etc.) to another data type.\n",
    "\n",
    "Python has two types of type conversion:\n",
    "\n",
    "1. Implicit Type Conversion\n",
    "2. Explicit Type Conversion (also called Type Casting)"
   ]
  },
  {
   "cell_type": "markdown",
   "id": "25ddb4ae",
   "metadata": {
    "slideshow": {
     "slide_type": "slide"
    }
   },
   "source": [
    "## Implicit Type Conversion:\n",
    "\n",
    "> Automatic conversion from one data type to another data type as result of an operation.\n",
    "\n",
    "Python always converts _\"smaller\"_ data types to _\"larger\"_ data types to avoid the loss of information.\n"
   ]
  },
  {
   "cell_type": "code",
   "execution_count": null,
   "id": "1574d280",
   "metadata": {},
   "outputs": [],
   "source": [
    "integer_part = 21\n",
    "fractional_part = 0.03\n",
    "\n",
    "print(\"Datatype of integer_part:\", type(integer_part))\n",
    "print(\"Datatype of fractional_part:\", type(fractional_part))\n",
    "\n",
    "new_number = integer_part + fractional_part\n",
    "\n",
    "print(\"Value of new_number:\",new_number)\n",
    "print(\"Datatype of new_number:\",type(new_number))\n",
    "\n",
    "print(\"Datatype of integer_part:\", type(integer_part))"
   ]
  },
  {
   "cell_type": "code",
   "execution_count": null,
   "id": "d032d15b",
   "metadata": {
    "slideshow": {
     "slide_type": "slide"
    }
   },
   "outputs": [],
   "source": [
    "integer_part = \"21\"\n",
    "fractional_part = \"0.03\"\n",
    "\n",
    "new_number = integer_part + fractional_part\n",
    "\n",
    "print(\"Datatype of integer_part:\", type(integer_part))\n",
    "print(\"Datatype of fractional_part:\", type(fractional_part))\n",
    "\n",
    "print(\"Value of new_number:\",new_number)\n",
    "print(\"Datatype of new_number:\",type(new_number))"
   ]
  },
  {
   "cell_type": "markdown",
   "id": "bdf356c2",
   "metadata": {
    "slideshow": {
     "slide_type": "slide"
    }
   },
   "source": [
    "## Explicit Type Conversion (a.k.a. Type Casting):\n",
    "\n",
    "Explicit conversion using one of the built-in functions: `int()`, `float()`, `str()`"
   ]
  },
  {
   "cell_type": "code",
   "execution_count": null,
   "id": "699894c4",
   "metadata": {
    "slideshow": {
     "slide_type": "-"
    }
   },
   "outputs": [],
   "source": [
    "integer_part = 21\n",
    "fractional_part = \"0.03\"\n",
    "\n",
    "print(\"Datatype of integer_part:\", type(integer_part))\n",
    "print(\"Data type of fractional_part before Type Casting:\",type(fractional_part))\n",
    "\n",
    "# new_number = integer_part + fractional_part\n",
    "\n",
    "fractional_part = float(fractional_part)\n",
    "\n",
    "print(\"Data type of fractional_part after Type Casting:\",type(fractional_part))\n",
    "\n",
    "# new_number = integer_part + fractional_part\n",
    "\n",
    "# print(\"Value of new_number:\",new_number)\n",
    "# print(\"Datatype of new_number:\",type(new_number))"
   ]
  },
  {
   "cell_type": "markdown",
   "id": "130fc2f5",
   "metadata": {
    "slideshow": {
     "slide_type": "slide"
    }
   },
   "source": [
    "* You can not cast from any type to any other type  "
   ]
  },
  {
   "cell_type": "code",
   "execution_count": null,
   "id": "8691a50b",
   "metadata": {},
   "outputs": [],
   "source": [
    "# int(\"1.0\")"
   ]
  },
  {
   "cell_type": "markdown",
   "id": "8c8f2ca5",
   "metadata": {},
   "source": [
    "* Casting from `int` to `float`: Assumes fractional part is .0"
   ]
  },
  {
   "cell_type": "code",
   "execution_count": null,
   "id": "0e39e22d",
   "metadata": {},
   "outputs": [],
   "source": [
    "float(21)"
   ]
  },
  {
   "cell_type": "markdown",
   "id": "c194c687",
   "metadata": {
    "slideshow": {
     "slide_type": "-"
    }
   },
   "source": [
    "* Casting from `float` to `int`: Truncates the fractional part (does not `round`) "
   ]
  },
  {
   "cell_type": "code",
   "execution_count": null,
   "id": "15b8fa84",
   "metadata": {},
   "outputs": [],
   "source": [
    "a = int(21.9)\n",
    "print(a)"
   ]
  },
  {
   "cell_type": "markdown",
   "id": "580c4bec",
   "metadata": {
    "slideshow": {
     "slide_type": "slide"
    }
   },
   "source": [
    "* Casting from `str` to `int`: \n",
    "    * Works if string contains **numeric letters** and/or **whitespace** ONLY\n",
    "    * Numeric letters MUST be contiguous (next to each other)"
   ]
  },
  {
   "cell_type": "code",
   "execution_count": null,
   "id": "c1e4ad29",
   "metadata": {},
   "outputs": [],
   "source": [
    "print(int(\"40\"))\n",
    "print(int(\"    40     \"))\n",
    "print(int(\"    40\"))\n",
    "print(int(\"4 0\"))"
   ]
  },
  {
   "cell_type": "markdown",
   "id": "a776a469",
   "metadata": {
    "slideshow": {
     "slide_type": "slide"
    }
   },
   "source": [
    "* Casting from `str` to `float`: \n",
    "    1. Works if string contains **numeric letters** and/or **whitespace** and/or **decimal point**\n",
    "    2. Assumes the fractional part is .0, _**iff**_ no decimal point "
   ]
  },
  {
   "cell_type": "code",
   "execution_count": null,
   "id": "3a06cd9e",
   "metadata": {},
   "outputs": [],
   "source": [
    "# print(float(\"1.9457\"))\n",
    "print(float(\"1\"))\n",
    "# print(int(\"1.9457\"))"
   ]
  },
  {
   "cell_type": "markdown",
   "id": "dd19ec9f",
   "metadata": {
    "slideshow": {
     "slide_type": "slide"
    }
   },
   "source": [
    "* Casting from `str` to `float`/`int`: \n",
    "\n",
    "    * You cannot have any operators in the string, when casting from `str` to `float` or `int`"
   ]
  },
  {
   "cell_type": "code",
   "execution_count": null,
   "id": "6192554c",
   "metadata": {},
   "outputs": [],
   "source": [
    "print(int(\"2\"))\n",
    "print(int(\"2 + 2\"))\n",
    "float(\"27.03 * 0.2\")"
   ]
  },
  {
   "cell_type": "markdown",
   "id": "9246a7c3",
   "metadata": {
    "slideshow": {
     "slide_type": "slide"
    }
   },
   "source": [
    "* Casting from `float`/`int` to `str`: \n",
    "\n",
    "* You can cast virtually anything to a String \n",
    "    * In other words, `str` would accept virtually anything as an input\n",
    "        * Even `'`s and `\"`s, if you _escape_ them i.e. put a `\\` before them"
   ]
  },
  {
   "cell_type": "code",
   "execution_count": null,
   "id": "f732d145",
   "metadata": {},
   "outputs": [],
   "source": [
    "print(str(\"ba\\/`'jf\\\"g2&#@(R4?<>[]23898\"))\n",
    "\n",
    "print(str(\"1+1\\\"\\\" \"))\n",
    "\n",
    "print(str(\"a = a+a+2; False; True\"))"
   ]
  }
 ],
 "metadata": {
  "kernelspec": {
   "display_name": "Python 3 (ipykernel)",
   "language": "python",
   "name": "python3"
  },
  "language_info": {
   "codemirror_mode": {
    "name": "ipython",
    "version": 3
   },
   "file_extension": ".py",
   "mimetype": "text/x-python",
   "name": "python",
   "nbconvert_exporter": "python",
   "pygments_lexer": "ipython3",
   "version": "3.9.12"
  }
 },
 "nbformat": 4,
 "nbformat_minor": 5
}
