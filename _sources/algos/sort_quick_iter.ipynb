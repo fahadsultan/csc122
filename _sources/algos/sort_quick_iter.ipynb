{
 "cells": [
  {
   "cell_type": "markdown",
   "metadata": {},
   "source": [
    "# Quick Sort "
   ]
  },
  {
   "cell_type": "markdown",
   "metadata": {},
   "source": [
    "<img align=\"right\" width=\"30%\" src=\"https://upload.wikimedia.org/wikipedia/commons/6/6a/Sorting_quicksort_anim.gif\">\n",
    "\n",
    "<br/>\n",
    "\n",
    "**Quick sort** is one of the more recently developed sorting algorithms, developed by Tony Hoare in 1959. Much like Merge Sort, Quick Sort is a divide-and-conquer algorithm and is comparison-based. It works by selecting one of the elements in the given list as `pivot`  and _partitioning_ the other elements into two sub-arrays according to whether they are less than or greater than the pivot. The process is then repeated for the two sublists.\n",
    "\n",
    "<br/>\n",
    "\n",
    "<img align=\"right\" width=\"30%\" src=\"https://upload.wikimedia.org/wikipedia/commons/f/f7/Quick_sort_animation.gif\">\n",
    "\n",
    "The key process in Quick Sort is `partition`. The target of partition is to place the pivot (any element can be chosen to be a pivot) at its correct position in the list and put all smaller elements to the left of the pivot, and make sure all greater elements to the right of the pivot.\n",
    "\n",
    "<br/>\n",
    "\n",
    "The process of partition is described in details, with implementation, below: \n",
    "\n",
    "<br/>"
   ]
  },
  {
   "cell_type": "markdown",
   "metadata": {},
   "source": [
    "````{card} \n",
    "# Partition\n",
    "\n",
    "The problem of partitition requires placing the pivot (any element can be chosen to be a pivot) at its correct position in the sorted array and put all smaller elements to the left of the pivot, and all greater elements to the right of the pivot.\n",
    "\n",
    "Although any element in the list can be chosen as the pivot, the most common choice is to choose the last element as the pivot. It makes visualization easier and the implementation of the algorithm simpler.\n",
    "\n",
    "Once the pivot is chosen, we follow the following steps:\n",
    "\n",
    "1. Take two variables to point `left` and `right` of the list excluding `pivot`\n",
    "    * `left` points to the low index and `right` points to the highest index\n",
    "2. While `data[left] > pivot`, keep moving `left` towards right\n",
    "3. While `data[right] > pivot`, keep moving `right` towards left\n",
    "4. If `data[left] > data[right]` then swap the values\n",
    "5. Eventually, `left >= right`, the point where they met is the new location of pivot\n",
    "\n",
    "Below is visualization of the partition process, annotated with the implementation that follows. \n",
    "\n",
    "<img src=\"https://i.ibb.co/qBHQ6vn/partition3.png\">\n",
    "\n",
    "<br/>\n",
    "\n",
    "The code for the partition process is as follows:\n",
    "\n",
    "```python\n",
    "def partition(data, start, end):\n",
    "\n",
    "    pivot = data[end]\n",
    "    left = start\n",
    "    right = end - 1\n",
    "\n",
    "    while left < right:\n",
    "\n",
    "        # move left towards right\n",
    "        while data[left] < pivot:\n",
    "            left = left + 1\n",
    "\n",
    "        # move right towards left\n",
    "        while right > 0 and data[right] > pivot:\n",
    "            right = right - 1\n",
    "\n",
    "        if left < right:\n",
    "            data[left], data[right] = data[right], data[left]\n",
    "\t\n",
    "    # insert pivot into its correct place\n",
    "    data[left], data[end] = data[end], data[left]\n",
    "\n",
    "    return left\n",
    "```\n",
    "\n",
    "<br/>\n",
    "\n",
    "````\n"
   ]
  },
  {
   "cell_type": "markdown",
   "metadata": {},
   "source": [
    "Now that we have the partition process, we can implement the Quick Sort algorithm by calling the partition process repeatedly on ever smaller sublists. "
   ]
  },
  {
   "cell_type": "markdown",
   "metadata": {},
   "source": [
    "```{figure} https://upload.wikimedia.org/wikipedia/commons/9/9c/Quicksort-example.gif\n",
    "---\n",
    "width: 50%\n",
    "name: quicksort\n",
    "---\n",
    "Animation of an example of Quick Sort algorithm. <br/>Note that the element with black background is the pivot element at current step.\n",
    "```\n",
    "\n"
   ]
  },
  {
   "cell_type": "markdown",
   "metadata": {},
   "source": [
    "## Algorithm\n",
    "\n",
    "The steps of the iterative QuickSort algorithm are:\n",
    "\n",
    "1. Call partition on the entire array. This will place the pivot element in its correct position in the sorted array, and place all smaller elements to the left of the pivot, and all greater elements to the right of the pivot.\n",
    "2. Call partition on the left sublist and right sublists. \n",
    "3. Repeat the process for the left and right sublists until the base case is reached, i.e. the sublist has only one element."
   ]
  },
  {
   "cell_type": "markdown",
   "metadata": {},
   "source": [
    "Note that the sublists are not created explicitly. Instead, **the algorithm uses the indices to keep track of the sublists.**"
   ]
  },
  {
   "cell_type": "markdown",
   "metadata": {},
   "source": [
    "<!-- ## Pseudocode\n",
    "\n",
    "\n",
    "```{prf:algorithm} Quick Sort\n",
    ":label: my-algorithm\n",
    "\n",
    "**Input:** A list of elements `data` and the start and end indices of the list `start` and `end`.\n",
    "\n",
    "**Output:** A sorted list of elements.\n",
    "\n",
    "\n",
    "$L^{\\prime}$ $\\leftarrow$ [[$x$] for $x \\in L$]\n",
    "\n",
    "$\\text{while}~~length(L^{\\prime}) > 1$ <br/>\n",
    "&nbsp; $result \\leftarrow [~]$ <br/>\n",
    "&nbsp; $i \\leftarrow 0$ <br/>\n",
    "&nbsp; $\\text{while}~~i < length(L^{\\prime})$ <br/>\n",
    "&nbsp; &nbsp; &nbsp; $ merged~~\\leftarrow~~merge(L^{\\prime}_{~i}~~,~~L^{\\prime}_{~i+1}) $<br/>\n",
    "&nbsp; &nbsp; &nbsp; Add merged to result <br/>\n",
    "&nbsp; &nbsp; &nbsp; $i \\leftarrow i + 2$ <br/>\n",
    "&nbsp; $ L^{\\prime} \\leftarrow$ result <br/>\n",
    "end while\n",
    "``` -->"
   ]
  },
  {
   "cell_type": "markdown",
   "metadata": {},
   "source": [
    "## Implementation"
   ]
  },
  {
   "cell_type": "code",
   "execution_count": 18,
   "metadata": {},
   "outputs": [
    {
     "name": "stdout",
     "output_type": "stream",
     "text": [
      "[1, 2, 4, 3, 5]\n"
     ]
    }
   ],
   "source": [
    "def partition(data, start, end):\n",
    "\n",
    "    pivot = data[end]\n",
    "    left = start\n",
    "    right = end - 1\n",
    "\n",
    "    while left < right:\n",
    "\n",
    "        # move left towards right\n",
    "        while data[left] < pivot:\n",
    "            left = left + 1\n",
    "\n",
    "        # move right towards left\n",
    "        while right > 0 and data[right] > pivot:\n",
    "            right = right - 1\n",
    "\n",
    "        if left < right:\n",
    "            data[left], data[right] = data[right], data[left]\n",
    "\t\n",
    "    # insert pivot into its correct place\n",
    "    data[left], data[end] = data[end], data[left]\n",
    "\n",
    "    return left\n",
    "\n",
    "def quick_sort(data):\n",
    "\n",
    "    sublists = [(0, len(data) - 1)]\n",
    "\n",
    "    while len(sublists) > 0:\n",
    "        \n",
    "        start, end = sublists[-1]\n",
    "        sublists.remove((start, end))\n",
    "\n",
    "        pivot_loc = partition(data, start, end)\n",
    "\n",
    "        # If there are elements on left side of pivot,\n",
    "        # then add them to the stack\n",
    "        if pivot_loc - start > 1:\n",
    "            sublists.append((start, pivot_loc - 1))\n",
    "\n",
    "        # If there are elements on right side of pivot,\n",
    "        # then add them to the stack\n",
    "        if end - pivot_loc > 1:\n",
    "            sublists.append((pivot_loc + 1, end))\n",
    "\n",
    "a = [5, 4, 3, 2, 1]\n",
    "quick_sort(a)\n",
    "print(a)"
   ]
  },
  {
   "cell_type": "markdown",
   "metadata": {},
   "source": [
    "## Recursive Implementation \n",
    "\n",
    "For recursive implementation, go to **[Section 5.6.1](https://fahadsultan.com/csc122/functions/tree_recursion2.html/#quick-sort)**"
   ]
  }
 ],
 "metadata": {
  "kernelspec": {
   "display_name": "Python 3",
   "language": "python",
   "name": "python3"
  },
  "language_info": {
   "codemirror_mode": {
    "name": "ipython",
    "version": 3
   },
   "file_extension": ".py",
   "mimetype": "text/x-python",
   "name": "python",
   "nbconvert_exporter": "python",
   "pygments_lexer": "ipython3",
   "version": "3.9.6"
  }
 },
 "nbformat": 4,
 "nbformat_minor": 2
}
