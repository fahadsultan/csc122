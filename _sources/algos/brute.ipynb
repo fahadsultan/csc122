{
 "cells": [
  {
   "attachments": {},
   "cell_type": "markdown",
   "metadata": {},
   "source": [
    "# Brute Force"
   ]
  },
  {
   "cell_type": "markdown",
   "metadata": {},
   "source": [
    "<img align=\"right\" width=\"40%\" src=\"https://images.raidboxes.io/raidboxes.io/uploads/2022/09/wordpress-brute-force-simple-attack.gif\">\n",
    "\n",
    "Brute Force Algorithms are exactly what they sound like – straightforward methods that relying on sheer computing power to **try every possibility** rather than using insight to efficiently narrow down the possibilities. Brute force algorithms are also known as “exhaustive search” algorithms, because they try all possible answers until they find the right one. \n",
    "\n",
    "For example, imagine you have a small padlock with 4 digits, each from 0-9. You forgot your combination, but you don't want to buy another padlock. Since you can't remember any of the digits, you have to use a brute force method to open the lock. So you set all the numbers back to 0 and try them one by one: 0001, 0002, 0003, and so on until it opens. In the worst case scenario, it will take you 10,000 tries to open the lock.\n"
   ]
  },
  {
   "cell_type": "markdown",
   "metadata": {},
   "source": [
    "\n",
    "<!-- \n",
    "```{figure} https://images.raidboxes.io/raidboxes.io/uploads/2022/09/wordpress-brute-force-simple-attack.gif\n",
    "---\n",
    "width: 40%\n",
    "align: center\n",
    "---\n",
    "Brute Force Attack are intuitive, direct, and straightforward technique of problem-solving in which all the possible ways or all the possible solutions to a given problem are enumerated.\n",
    "``` \n",
    "-->\n",
    "\n",
    "Practically, brute force algorithms are **too slow** to be useful for real-world problems. However, they are still useful as baselines when benchmarking more advanced algorithms.\n",
    "\n",
    "Analysis of brute force algorithms with respect to time complexity requires considering the size of the search space often involves performing a combinatorial analysis of the problem. The search space is the set of all possible solutions to a problem. \n",
    "\n",
    "The table below summarizes the formulas for the size of the search space for different types of problems: \n",
    "\n",
    "| Name |  Ordered? | Repetition? | Formula | Example |\n",
    "| :--- |  :---: | :---: | :---: | :---: |\n",
    "| Permutations, with repetition | Yes | Yes | $n^k$ | Passwords |\n",
    "| Permutations, without repetition |  Yes | No | $\\frac{n!}{(n-k)!}$ |  Sorting |\n",
    "| Combinations, with repetition |  No | Yes | $\\frac{(n + k - 1) !}{k! (n-1)!} $ |  Ice-cream sundae |\n",
    "| Combinations, without repetition |  No | No | $\\frac{n!}{k!(n-k)!}$ |  Subsets |\n",
    "\n",
    "where $n$ is the number of items to choose from and $k$ is the number of items to choose. Permutations are denoted by $^{n}P_{r}$ or $P(n, r)$ and combinations are denoted by $^{n}C_{r}$ or $C(n, r)$.\n",
    "\n",
    "<hr/>\n",
    "\n",
    "A big reason for why it is strongly recommended to use passwords of length 8 or more, containing a mix of uppercase and lowercase letters, numbers, and special characters is to protect against **brute force attacks**. \n",
    "\n",
    "Brute force attacks are a type of attack where the attacker tries to guess a password by trying every possible password. \n",
    "\n",
    "$$ \\text{Number of possible passwords} = \\text{Number of possible characters}^{~\\text{Length of password}} $$\n",
    "\n",
    "$$ \\text{Number of possible passwords of length 8, containing only lowercase english letters} = 26^8 = 208,827,064,576 $$\n",
    "\n",
    "The table below shows how long it would take to try passwords of different lengths and character sets using brute force attack in 2023: \n",
    "\n",
    "``` {figure} https://images.squarespace-cdn.com/content/v1/5ffe234606e5ec7bfc57a7a3/1681789294699-11BPRAZY8DLK5HF5U506/Screenshot+2023-04-17+at+11.41.15+PM.png\n",
    "---\n",
    "width: 80%\n",
    "align: center\n",
    "---\n",
    "Time taken to exhaustively search through every possible password $n^k$ of length $k$ (column 1) and different possible characters $n$ (columns 2 - 6) using brute force attack in 2023.\n",
    "```\n",
    "\n",
    "Brute force attacks are very slow because the number of possible passwords increases exponentially with the length of the password. \n",
    "\n",
    "<hr/>\n",
    "\n",
    "While here we will focus on using brute force algorithms to solve search and sort problems, virtually any algorithmic problem can be tackled using a brute force approach. "
   ]
  },
  {
   "cell_type": "code",
   "execution_count": null,
   "metadata": {},
   "outputs": [],
   "source": []
  }
 ],
 "metadata": {
  "language_info": {
   "name": "python"
  },
  "orig_nbformat": 4
 },
 "nbformat": 4,
 "nbformat_minor": 2
}
