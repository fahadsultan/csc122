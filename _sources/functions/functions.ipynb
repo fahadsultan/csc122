{
 "cells": [
  {
   "attachments": {},
   "cell_type": "markdown",
   "id": "8157e37d",
   "metadata": {},
   "source": [
    "# Black Box Abstractions\n",
    "\n",
    "* Implementation details are suppressed or abstracted \n",
    "\n",
    "\n",
    "* The _caller_ of the functions needs to only be concerned with the function's interface \n",
    "\n",
    "    * What input(s) it takes and what output(s) it returns\n",
    "<!-- <center> -->\n",
    " <!-- <img src=\"https://www.guru99.com/images/stories/blackbox.png\"> -->\n",
    "<!-- </center> -->\n",
    "\n",
    "\n",
    "<img src=\"https://www.guru99.com/images/stories/blackbox.png\">\n",
    "\n",
    "Code: \n",
    "\n",
    "```python\n",
    "output = blackbox(input)\n",
    "```\n",
    "\n",
    "Math: \n",
    "\n",
    "$$ output = blackbox(input) $$"
   ]
  },
  {
   "cell_type": "markdown",
   "id": "f6dd70a3",
   "metadata": {},
   "source": [
    "<hr/>"
   ]
  },
  {
   "cell_type": "markdown",
   "id": "ff5514d6",
   "metadata": {},
   "source": [
    "## Functions: Our first means of abstraction"
   ]
  },
  {
   "attachments": {},
   "cell_type": "markdown",
   "id": "744c39c0",
   "metadata": {},
   "source": [
    "* Some useful built-in functions: \n",
    "    * `type(..)`\n",
    "    * `abs(..)`\n",
    "    * `round(..)`\n",
    "    * `help(..)`\n",
    "    "
   ]
  },
  {
   "cell_type": "markdown",
   "id": "9c7272ce",
   "metadata": {},
   "source": [
    "* Syntax: `output` = <name of function> **`(`** `input(s)` `) `"
   ]
  },
  {
   "cell_type": "code",
   "execution_count": null,
   "id": "b0fa9c06",
   "metadata": {},
   "outputs": [],
   "source": [
    "print(\"\")"
   ]
  },
  {
   "cell_type": "markdown",
   "id": "98d72c0d",
   "metadata": {},
   "source": [
    "**Pure Functions** "
   ]
  },
  {
   "cell_type": "markdown",
   "id": "1f1e5214",
   "metadata": {},
   "source": [
    "<!-- <img src=\"https://composingprograms.com/img/function_abs.png\"> -->\n",
    "\n",
    "<img src=\"https://www.composingprograms.com/versions/v1/img/function_abs.png\">"
   ]
  },
  {
   "cell_type": "markdown",
   "id": "0bf66970",
   "metadata": {},
   "source": [
    "**Non-Pure Functions** "
   ]
  },
  {
   "cell_type": "markdown",
   "id": "bfb0f4aa",
   "metadata": {},
   "source": [
    "<!-- <img src=\"https://composingprograms.com/img/function_print.png\"> -->\n",
    "\n",
    "<img src=\"https://www.composingprograms.com/versions/v1/img/function_print.png\">"
   ]
  },
  {
   "cell_type": "markdown",
   "id": "fc55a1a9",
   "metadata": {},
   "source": [
    "### 2.8. Looking up a function's documentation"
   ]
  },
  {
   "cell_type": "code",
   "execution_count": null,
   "id": "aff6ee02",
   "metadata": {},
   "outputs": [
    {
     "name": "stdout",
     "output_type": "stream",
     "text": [
      "Help on built-in function print in module builtins:\n",
      "\n",
      "print(...)\n",
      "    print(value, ..., sep=' ', end='\\n', file=sys.stdout, flush=False)\n",
      "    \n",
      "    Prints the values to a stream, or to sys.stdout by default.\n",
      "    Optional keyword arguments:\n",
      "    file:  a file-like object (stream); defaults to the current sys.stdout.\n",
      "    sep:   string inserted between values, default a space.\n",
      "    end:   string appended after the last value, default a newline.\n",
      "    flush: whether to forcibly flush the stream.\n",
      "\n"
     ]
    }
   ],
   "source": [
    "help(print)"
   ]
  },
  {
   "cell_type": "markdown",
   "id": "7a2f6c8a",
   "metadata": {},
   "source": [
    "* Some useful built-in functions: \n",
    "    * `print(..)`\n",
    "    * `input(..)`\n",
    "    * `type(..)`\n",
    "    * `abs(..)`\n",
    "    * `round(..)`\n",
    "    * `help(..)`\n",
    "    "
   ]
  },
  {
   "cell_type": "code",
   "execution_count": null,
   "id": "da25555b",
   "metadata": {},
   "outputs": [],
   "source": [
    "cheque = float(input(\"How much was the cheque amount? \"))\n",
    "\n",
    "tip = 0.2 * cheque\n",
    "\n",
    "print(\"You should tip \", tip, \"for the given cheque amount\")"
   ]
  },
  {
   "cell_type": "markdown",
   "id": "49be1e43",
   "metadata": {},
   "source": [
    "* Syntax: `output` = name_of_function **`(`** `input(s)` `) `"
   ]
  },
  {
   "cell_type": "code",
   "execution_count": null,
   "id": "3418cb49",
   "metadata": {},
   "outputs": [],
   "source": [
    "help(abs)"
   ]
  },
  {
   "cell_type": "markdown",
   "id": "d2c9a271",
   "metadata": {},
   "source": [
    "**Pure Functions** "
   ]
  },
  {
   "cell_type": "markdown",
   "id": "3f62ffc2",
   "metadata": {},
   "source": [
    "A pure function takes inputs and returns outputs, <u>without</u> any **side effects**."
   ]
  },
  {
   "cell_type": "markdown",
   "id": "85662a94",
   "metadata": {},
   "source": [
    "<img src=\"https://www.composingprograms.com/versions/v1/img/function_abs.png\">"
   ]
  },
  {
   "cell_type": "markdown",
   "id": "8b8ecb34",
   "metadata": {},
   "source": [
    "**Impure Functions** "
   ]
  },
  {
   "cell_type": "markdown",
   "id": "50480956",
   "metadata": {},
   "source": [
    "An impure function takes inputs and returns outputs, with one or more any **side effects**.\n",
    "\n",
    "* Printing a message on the display is an example of a side effect"
   ]
  },
  {
   "cell_type": "code",
   "execution_count": null,
   "id": "9c621649",
   "metadata": {},
   "outputs": [],
   "source": [
    "x = abs(-2)"
   ]
  },
  {
   "cell_type": "code",
   "execution_count": null,
   "id": "a7fe50ab",
   "metadata": {},
   "outputs": [],
   "source": [
    "x = print(-2)"
   ]
  },
  {
   "cell_type": "markdown",
   "id": "fbf6a4a4",
   "metadata": {},
   "source": [
    "<!-- <img src=\"https://composingprograms.com/img/function_print.png\"> -->\n",
    "\n",
    "<img src=\"https://www.composingprograms.com/versions/v1/img/function_print.png\">"
   ]
  },
  {
   "cell_type": "markdown",
   "id": "a5a9835b",
   "metadata": {},
   "source": [
    "## Overriding built-in functions"
   ]
  },
  {
   "cell_type": "markdown",
   "id": "804d5765",
   "metadata": {},
   "source": [
    "What happens when we override `round`, `input` or `print`"
   ]
  },
  {
   "cell_type": "code",
   "execution_count": null,
   "id": "e9ac4fb3",
   "metadata": {},
   "outputs": [],
   "source": [
    "\"\"\"Over-riding built-in functions:\n",
    "---------------------------------\n",
    "\n",
    "Before you run this cell,\n",
    "think about which line of code would \n",
    "generate an error, if any\n",
    "\n",
    "NOTE: YOU MAY WANT TO RESTART THE NOTEBOOK\n",
    "AT THIS POINT\"\"\"\n",
    "\n",
    "input = float(input())\n",
    "rounded_num = round(input)\n",
    "print(rounded_num)\n",
    "\n",
    "num = float(input())\n",
    "rounded_num = round(num)\n",
    "print(rounded_num)"
   ]
  },
  {
   "cell_type": "code",
   "execution_count": null,
   "id": "c081eed9",
   "metadata": {},
   "outputs": [],
   "source": [
    "\"\"\"Over-riding built-in functions:\n",
    "---------------------------------\n",
    "\n",
    "Before you run this cell,\n",
    "think about which line of code would \n",
    "generate an error, if any\n",
    "\n",
    "NOTE: YOU MAY WANT TO RESTART THE NOTEBOOK\n",
    "AT THIS POINT\"\"\"\n",
    "\n",
    "round = round(7.7)\n",
    "rounded = round(8.7)"
   ]
  },
  {
   "cell_type": "markdown",
   "id": "5b1e778f",
   "metadata": {},
   "source": [
    "What happens when we override `round`, `input` or `print`"
   ]
  },
  {
   "cell_type": "code",
   "execution_count": null,
   "id": "68d042a3",
   "metadata": {
    "scrolled": true
   },
   "outputs": [],
   "source": [
    "abs(-123)\n",
    "\n",
    "abs = \"Abc\"\n",
    "\n",
    "abs(-123)"
   ]
  },
  {
   "cell_type": "code",
   "execution_count": null,
   "id": "dbb84787",
   "metadata": {
    "scrolled": true
   },
   "outputs": [],
   "source": [
    "print(abs)"
   ]
  },
  {
   "cell_type": "code",
   "execution_count": null,
   "id": "34db23df",
   "metadata": {
    "scrolled": true
   },
   "outputs": [],
   "source": [
    "\"\"\"Over-riding built-in functions:\n",
    "---------------------------------\n",
    "\n",
    "Before you run this cell,\n",
    "think about which line of code would \n",
    "generate an error, if any\n",
    "\n",
    "NOTE: YOU MAY WANT TO RESTART THE NOTEBOOK\n",
    "AT THIS POINT\"\"\"\n",
    "\n",
    "input = float(input())\n",
    "rounded_num = round(input)\n",
    "print(rounded_num)\n",
    "\n",
    "num = float(input())\n",
    "rounded_num = round(num)\n",
    "print(rounded_num)"
   ]
  },
  {
   "cell_type": "code",
   "execution_count": null,
   "id": "7778dca7",
   "metadata": {
    "scrolled": true
   },
   "outputs": [],
   "source": [
    "\"\"\"Over-riding built-in functions:\n",
    "---------------------------------\n",
    "\n",
    "Before you run this cell,\n",
    "think about which line of code would \n",
    "generate an error, if any\n",
    "\n",
    "NOTE: YOU MAY WANT TO RESTART THE NOTEBOOK\n",
    "AT THIS POINT\"\"\"\n",
    "\n",
    "round = round(7.7)\n",
    "rounded = round(8.7)"
   ]
  },
  {
   "cell_type": "markdown",
   "id": "6c3af181",
   "metadata": {},
   "source": [
    "<hr/>"
   ]
  },
  {
   "attachments": {},
   "cell_type": "markdown",
   "id": "92666419",
   "metadata": {
    "slideshow": {
     "slide_type": "slide"
    }
   },
   "source": [
    "## Custom Functions\n",
    "\n",
    "So far, we've used the following Python **built-in** functions: `print(...)`, `type(...)` and `input(...)`"
   ]
  },
  {
   "cell_type": "code",
   "execution_count": null,
   "id": "916cc0e6",
   "metadata": {
    "scrolled": true
   },
   "outputs": [],
   "source": [
    "print(\"Hello world\")\n",
    "print(type(4.5))"
   ]
  },
  {
   "cell_type": "markdown",
   "id": "4f753f98",
   "metadata": {
    "slideshow": {
     "slide_type": "slide"
    }
   },
   "source": [
    "and the following type-casting functions:  `int()`, `bool()`, `float()` etc. "
   ]
  },
  {
   "cell_type": "code",
   "execution_count": null,
   "id": "39fcc3a4",
   "metadata": {
    "scrolled": true
   },
   "outputs": [],
   "source": [
    "print(int(3.14))\n",
    "print(bool(\"\"))\n",
    "print(float(4))"
   ]
  },
  {
   "cell_type": "markdown",
   "id": "30e6cc21",
   "metadata": {},
   "source": [
    "* Now, we’ll move on to exploring a set of new special words, statement and expressions in Python that allow us to create our own functions. "
   ]
  },
  {
   "cell_type": "markdown",
   "id": "ae42b47f",
   "metadata": {
    "slideshow": {
     "slide_type": "slide"
    }
   },
   "source": [
    "* A **Function**, simply put, groups a set of statements so they can be run more than once in a program\n",
    "\n",
    "    * A set of steps packaged so that you can invoke them with a name. \n",
    "\n",
    "* Functions, more often that not, accept **input(s)** and compute corresponding **output(s)**\n",
    "    * Note how inputs to `type(...)`, `round(...)` etc. may differ each time the code is run "
   ]
  },
  {
   "cell_type": "code",
   "execution_count": null,
   "id": "c32fbe70",
   "metadata": {
    "scrolled": true
   },
   "outputs": [],
   "source": [
    "x = 4.3\n",
    "var = round(x)\n",
    "print(var)\n",
    "x = 5.4\n",
    "var = round(x)\n",
    "print(var)"
   ]
  },
  {
   "cell_type": "markdown",
   "id": "eb3590aa",
   "metadata": {},
   "source": [
    "<hr/>"
   ]
  },
  {
   "cell_type": "markdown",
   "id": "01d844c9",
   "metadata": {
    "slideshow": {
     "slide_type": "slide"
    }
   },
   "source": [
    "## Defining Functions\n",
    "\n",
    "The **definition** of a function starts with the `def` keyword in Python.\n",
    "\n",
    "The first line of a function definition starts with the header line.\n",
    "\n",
    "The header line specifies a **function name**, along with a list of **zero or more inputs** (called arguments aka parameters) that are comma-separated within parentheses.\n",
    "\n",
    "The general format is as follows:"
   ]
  },
  {
   "cell_type": "code",
   "execution_count": null,
   "id": "ffddc0ac",
   "metadata": {
    "scrolled": true
   },
   "outputs": [],
   "source": [
    "def function_name(input1, input2,... inputN):\n",
    "    # body of \n",
    "    # the function\n",
    "    # goes here\n",
    "    \n",
    "    return output"
   ]
  },
  {
   "cell_type": "code",
   "execution_count": null,
   "id": "72cbb3b2",
   "metadata": {
    "scrolled": true
   },
   "outputs": [],
   "source": [
    "#For example:\n",
    "def add_and_print_first_two_inputs(input1, input2):\n",
    "    # body of \n",
    "    # the function\n",
    "    # goes here\n",
    "    \n",
    "    print(input1 + input2)\n",
    "    \n",
    "\n",
    "add_and_print_first_two_inputs(2.2, 2.3)"
   ]
  },
  {
   "cell_type": "markdown",
   "id": "9040e6ec",
   "metadata": {
    "slideshow": {
     "slide_type": "-"
    }
   },
   "source": [
    "* The header line ends with a colon `:`\n",
    "* Followed by **indented** block of code that becomes the function's body\n",
    "    * Body of the function executes each time the function is **called**."
   ]
  },
  {
   "cell_type": "markdown",
   "id": "2400b7cd",
   "metadata": {
    "slideshow": {
     "slide_type": "slide"
    }
   },
   "source": [
    "Function bodies often contain a `return` statement:"
   ]
  },
  {
   "cell_type": "code",
   "execution_count": null,
   "id": "aa928809",
   "metadata": {
    "scrolled": true
   },
   "outputs": [],
   "source": [
    "def name(arg1, arg2,... argN):\n",
    "    ...\n",
    "    return value"
   ]
  },
  {
   "cell_type": "markdown",
   "id": "f079de1c",
   "metadata": {},
   "source": [
    "* The Python `return` is followed by an variable, or an expression, that serves as the **output** of the function.\n",
    "\n",
    "    * `return` ends the function call and sends a result back to the caller. "
   ]
  },
  {
   "cell_type": "markdown",
   "id": "e34defd8",
   "metadata": {},
   "source": [
    "<hr/>"
   ]
  },
  {
   "cell_type": "markdown",
   "id": "bfc95df6",
   "metadata": {
    "slideshow": {
     "slide_type": "slide"
    }
   },
   "source": [
    "## Calling a function\n",
    "\n",
    "There are two sides to the function picture:\n",
    "\n",
    "1. **Definition**: the `def` that **creates a function** and assigns it a _name_\n",
    "2. **Call**: an expression including the function's _name_ that tells Python to **run the function’s body**.\n",
    "    * After the def has run, you can call (run) the function in your program by adding parentheses after the function’s name.\n",
    "\n",
    "You must **define** the function **before calling it** "
   ]
  },
  {
   "cell_type": "code",
   "execution_count": null,
   "id": "429ecb3f",
   "metadata": {
    "scrolled": true
   },
   "outputs": [],
   "source": [
    "print(round(1.63))\n",
    "print(round(1.3))"
   ]
  },
  {
   "cell_type": "code",
   "execution_count": null,
   "id": "27d83112",
   "metadata": {
    "scrolled": true
   },
   "outputs": [],
   "source": [
    "print(round(2.6))\n",
    "print(round(2.3))\n",
    "print(round(3.4))"
   ]
  },
  {
   "cell_type": "markdown",
   "id": "b287812f",
   "metadata": {
    "slideshow": {
     "slide_type": "slide"
    }
   },
   "source": [
    "* Input(s) to a function are optional.\n",
    "* The return statement, that gives the function’s result, also is optional.\n",
    "    * If the value is omitted, return sends back a None."
   ]
  },
  {
   "cell_type": "code",
   "execution_count": null,
   "id": "645ed11f",
   "metadata": {
    "scrolled": true
   },
   "outputs": [],
   "source": [
    "def print_hello_world():\n",
    "    print(\"Hello world\")\n",
    "    x = 1 + 1\n",
    "    \n",
    "print_hello_world()\n",
    "print_hello_world()\n",
    "\n",
    "return_val = print_hello_world()\n",
    "print(return_val) "
   ]
  },
  {
   "cell_type": "code",
   "execution_count": null,
   "id": "95f607f8",
   "metadata": {
    "scrolled": true,
    "slideshow": {
     "slide_type": "slide"
    }
   },
   "outputs": [],
   "source": [
    "def calculate_tips(number):\n",
    "\n",
    "print(\"Our round function:\")\n",
    "print(calculate_tips(2.6))\n",
    "print(calculate_tips(2.3))\n",
    "print(calculate_tips(3.4))"
   ]
  },
  {
   "cell_type": "code",
   "execution_count": null,
   "id": "c8e4af85",
   "metadata": {
    "scrolled": true
   },
   "outputs": [],
   "source": [
    "def get_least_significant_digit(num):\n",
    "    digit = \n",
    "    return digit "
   ]
  },
  {
   "cell_type": "code",
   "execution_count": null,
   "id": "4fe22a1d",
   "metadata": {
    "scrolled": true
   },
   "outputs": [],
   "source": [
    "def convert_to_24hrformat(hours_12hr, pm):\n",
    "\n",
    "    return number\n"
   ]
  },
  {
   "attachments": {},
   "cell_type": "markdown",
   "id": "59a7cce2",
   "metadata": {},
   "source": [
    "## `type`"
   ]
  },
  {
   "cell_type": "markdown",
   "id": "576652d1",
   "metadata": {},
   "source": [
    "\n",
    "* The type of a value can be found out using the built-in **`type()`** function."
   ]
  },
  {
   "cell_type": "code",
   "execution_count": null,
   "id": "5311578d",
   "metadata": {},
   "outputs": [],
   "source": [
    "type(42), type(\"Hello, World!\")"
   ]
  },
  {
   "cell_type": "markdown",
   "id": "81544580",
   "metadata": {},
   "source": [
    "Not surprisingly, strings belong to the type **str** and integers belong to the type **int**. \n",
    "\n",
    "Less obviously, numbers with a decimal point belong to a type called **float**, because these numbers are represented in a format called _floating-point_"
   ]
  },
  {
   "cell_type": "code",
   "execution_count": null,
   "id": "ee918c46",
   "metadata": {},
   "outputs": [],
   "source": [
    "type(3.2)"
   ]
  },
  {
   "cell_type": "markdown",
   "id": "f90f55bb",
   "metadata": {},
   "source": [
    "What about values like `\"17\"` and `\"3.2\"`? They look like numbers, but they are in quotation marks like strings."
   ]
  },
  {
   "cell_type": "markdown",
   "id": "7a4ec354",
   "metadata": {},
   "source": [
    "They’re strings.\n",
    "\n",
    "Strings in Python can be enclosed in either single quotes (‘) or double quotes (“):"
   ]
  },
  {
   "cell_type": "code",
   "execution_count": null,
   "id": "1b2ddde3",
   "metadata": {},
   "outputs": [],
   "source": [
    "type('This is a string.'), type(\"And so is this.\")"
   ]
  },
  {
   "cell_type": "markdown",
   "id": "1ffe0659",
   "metadata": {},
   "source": [
    "Double quoted strings can contain single quotes inside them, as in `\"Bruce's beard\"`, and single quoted strings can have double quotes inside them, as in `'The knights who say \"Ni!\"'`.\n",
    "\n",
    "When you type a large integer, you might be tempted to use commas between groups of three digits, as in `1,000,000`. This is not a legal integer in Python, but it is legal:"
   ]
  },
  {
   "attachments": {},
   "cell_type": "markdown",
   "id": "d05b8846",
   "metadata": {},
   "source": [
    "## `print`"
   ]
  },
  {
   "cell_type": "code",
   "execution_count": null,
   "id": "47bb639d",
   "metadata": {},
   "outputs": [],
   "source": [
    "print(1,000,000)"
   ]
  },
  {
   "cell_type": "markdown",
   "id": "e66a8ea0",
   "metadata": {},
   "source": [
    "Well, that’s not what we expected at all! Python interprets `1,000,000` as a three separate items to be printed. So remember not to put commas in your integers.\n",
    "\n",
    "<hr/>"
   ]
  },
  {
   "cell_type": "markdown",
   "id": "5f9ed9e5",
   "metadata": {},
   "source": [
    "## Type Conversion and Type Casting \n",
    "\n",
    "\n"
   ]
  },
  {
   "cell_type": "markdown",
   "id": "bf8e1d66",
   "metadata": {},
   "source": [
    "**Type Conversion**: \n",
    "\n",
    "> The process of converting the value of one data type (integer, string, float, etc.) to another data type.\n",
    "\n",
    "Python has two types of type conversion:\n",
    "\n",
    "1. Implicit Type Conversion\n",
    "2. Explicit Type Conversion (also called Type Casting)"
   ]
  },
  {
   "cell_type": "markdown",
   "id": "d82e533e",
   "metadata": {},
   "source": [
    "## Explicit Type Conversion (a.k.a. Type Casting)\n",
    "\n",
    "Explicit conversion using one of the built-in functions: `int()`, `float()`, `str()`"
   ]
  },
  {
   "cell_type": "code",
   "execution_count": null,
   "id": "c5cf4b2f",
   "metadata": {},
   "outputs": [],
   "source": [
    "integer_part = 21\n",
    "fractional_part = \"0.03\"\n",
    "\n",
    "print(\"Datatype of integer_part:\", type(integer_part))\n",
    "print(\"Data type of fractional_part before Type Casting:\",type(fractional_part))\n",
    "\n",
    "# new_number = integer_part + fractional_part\n",
    "\n",
    "fractional_part = float(fractional_part)\n",
    "\n",
    "print(\"Data type of fractional_part after Type Casting:\",type(fractional_part))\n",
    "\n",
    "# new_number = integer_part + fractional_part\n",
    "\n",
    "# print(\"Value of new_number:\",new_number)\n",
    "# print(\"Datatype of new_number:\",type(new_number))"
   ]
  },
  {
   "cell_type": "markdown",
   "id": "e88b002f",
   "metadata": {},
   "source": [
    "* You can not cast from any type to any other type  "
   ]
  },
  {
   "cell_type": "code",
   "execution_count": null,
   "id": "799933db",
   "metadata": {},
   "outputs": [],
   "source": [
    "# int(\"1.0\")"
   ]
  },
  {
   "cell_type": "markdown",
   "id": "25d68541",
   "metadata": {},
   "source": [
    "* Casting from `int` to `float`: Assumes fractional part is .0"
   ]
  },
  {
   "cell_type": "code",
   "execution_count": null,
   "id": "7ab7117a",
   "metadata": {},
   "outputs": [],
   "source": [
    "float(21)"
   ]
  },
  {
   "cell_type": "markdown",
   "id": "90e5855a",
   "metadata": {},
   "source": [
    "* Casting from `float` to `int`: Truncates the fractional part (does not `round`) "
   ]
  },
  {
   "cell_type": "code",
   "execution_count": null,
   "id": "4e49c006",
   "metadata": {},
   "outputs": [],
   "source": [
    "a = int(21.9)\n",
    "print(a)"
   ]
  },
  {
   "cell_type": "markdown",
   "id": "dc3dada1",
   "metadata": {},
   "source": [
    "* Casting from `str` to `int`: \n",
    "    * Works if string contains **numeric letters** and/or **whitespace** ONLY\n",
    "    * Numeric letters MUST be contiguous (next to each other)"
   ]
  },
  {
   "cell_type": "code",
   "execution_count": null,
   "id": "fb874f76",
   "metadata": {},
   "outputs": [],
   "source": [
    "print(int(\"40\"))\n",
    "print(int(\"    40     \"))\n",
    "print(int(\"    40\"))\n",
    "print(int(\"4 0\"))"
   ]
  },
  {
   "cell_type": "markdown",
   "id": "920a4887",
   "metadata": {},
   "source": [
    "* Casting from `str` to `float`: \n",
    "    1. Works if string contains **numeric letters** and/or **whitespace** and/or **decimal point**\n",
    "    2. Assumes the fractional part is .0, _**iff**_ no decimal point "
   ]
  },
  {
   "cell_type": "code",
   "execution_count": null,
   "id": "71ed1ff2",
   "metadata": {},
   "outputs": [],
   "source": [
    "# print(float(\"1.9457\"))\n",
    "print(float(\"1\"))\n",
    "# print(int(\"1.9457\"))"
   ]
  },
  {
   "cell_type": "markdown",
   "id": "601eff40",
   "metadata": {},
   "source": [
    "* Casting from `str` to `float`/`int`: \n",
    "\n",
    "    * You cannot have any operators in the string, when casting from `str` to `float` or `int`"
   ]
  },
  {
   "cell_type": "code",
   "execution_count": null,
   "id": "9f2d8021",
   "metadata": {},
   "outputs": [],
   "source": [
    "print(int(\"2\"))\n",
    "print(int(\"2 + 2\"))\n",
    "float(\"27.03 * 0.2\")"
   ]
  },
  {
   "cell_type": "markdown",
   "id": "48ba861a",
   "metadata": {},
   "source": [
    "* Casting from `float`/`int` to `str`: \n",
    "\n",
    "* You can cast virtually anything to a String \n",
    "    * In other words, `str` would accept virtually anything as an input\n",
    "        * Even `'`s and `\"`s, if you _escape_ them i.e. put a `\\` before them"
   ]
  },
  {
   "cell_type": "code",
   "execution_count": null,
   "id": "7380603e",
   "metadata": {},
   "outputs": [],
   "source": [
    "print(str(\"ba\\/`'jf\\\"g2&#@(R4?<>[]23898\"))\n",
    "\n",
    "print(str(\"1+1\\\"\\\" \"))\n",
    "\n",
    "print(str(\"a = a+a+2; False; True\"))"
   ]
  }
 ],
 "metadata": {
  "kernelspec": {
   "display_name": "Python 3 (ipykernel)",
   "language": "python",
   "name": "python3"
  },
  "language_info": {
   "codemirror_mode": {
    "name": "ipython",
    "version": 3
   },
   "file_extension": ".py",
   "mimetype": "text/x-python",
   "name": "python",
   "nbconvert_exporter": "python",
   "pygments_lexer": "ipython3",
   "version": "3.9.12"
  }
 },
 "nbformat": 4,
 "nbformat_minor": 5
}
