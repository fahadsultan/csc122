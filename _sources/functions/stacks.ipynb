{
 "cells": [
  {
   "cell_type": "markdown",
   "metadata": {},
   "source": [
    "# Stacks"
   ]
  },
  {
   "cell_type": "markdown",
   "metadata": {},
   "source": [
    "<img src=\"https://i.ibb.co/kmD7VBq/stacks.png\" align=\"right\" width=\"40%\">\n",
    "\n",
    "A stack is a collection of objects set on top of each other. \n",
    "\n",
    "Note that this organization imposes constraints on the order in which objects can be removed. The last object placed on the stack is the first one to be removed. This is known as the **Last-In-First-Out (LIFO) order**.\n",
    "\n",
    "Stacks are integral to computer science. They are used to store and manage function calls, to implement certain types of algorithms, and to manage memory.\n",
    "\n",
    "## Operations\n",
    "\n",
    "Stacks are in essence defined by the operations they support. These operations are:\n",
    "\n",
    "<center>\n",
    "<img src=\"https://cdn.programiz.com/sites/tutorial2program/files/stack.png\" width=\"80%\">\n",
    "</center>\n",
    "\n",
    "- **Empty**: Returns `True` if the stack is empty, `False` otherwise.\n",
    "\n",
    "<br/>\n",
    "\n",
    "- **Push**: Adds a given element to the top of the stack. \n",
    "\n",
    "<br/>\n",
    "\n",
    "- **Pop**: Removes the top element from the stack. \n",
    "\n",
    "<br/>\n",
    "\n",
    "- **Peek**: Returns the top element of the stack, without removing it. \\\n",
    "This operation is also known as `top` or `front` or `head`.\n",
    "\n",
    "<br/>\n",
    "\n",
    "- **Size**: Returns the number of elements in the stack. \\\n",
    "This operation is also known as `length` or `count`.\n",
    "\n",
    "<br/>\n",
    "\n",
    "<center><img src=\"https://fullyunderstood.com/wp-content/uploads/2020/02/stack.gif\" width=\"70%\"></center>\n",
    "\n",
    "\n",
    "Equally important to the operations that a stack supports is the operations that it does not support. \n",
    "\n",
    "In other words, stacks do not support: \n",
    "\n",
    "* ❌ Read elements at arbitrary positions. \\\n",
    "✅ You can only access the element at the _top of the stack_ using the `peek` operation.\n",
    "\n",
    "<br/>\n",
    "\n",
    "* ❌ Insert elements at arbitrary positions. \\\n",
    "✅ You can only insert elements at the _top of the stack_ using the `push` operation.\n",
    "\n",
    "<br/>\n",
    "\n",
    "* ❌ Remove elements from arbitrary positions. \\\n",
    "✅ You can only remove elements from the _top of the stack_ using the `pop` operation.\n",
    "\n",
    "\n",
    "<br/>\n",
    "\n",
    "Whether you are adding, removing, or accessing elements, you can only interact with the top of the stack. \n",
    "\n",
    "<br/>"
   ]
  }
 ],
 "metadata": {
  "language_info": {
   "name": "python"
  }
 },
 "nbformat": 4,
 "nbformat_minor": 2
}
