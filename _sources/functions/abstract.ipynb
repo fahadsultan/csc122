{
 "cells": [
  {
   "cell_type": "markdown",
   "metadata": {},
   "source": [
    "## Functions: Our first means of abstraction"
   ]
  },
  {
   "cell_type": "markdown",
   "metadata": {},
   "source": [
    "* Some useful built-in functions: \n",
    "    * `print(..)`\n",
    "    * `input(..)`\n",
    "    * `type(..)`\n",
    "    * `abs(..)`\n",
    "    * `round(..)`\n",
    "    * `help(..)`\n",
    "    "
   ]
  },
  {
   "cell_type": "markdown",
   "metadata": {},
   "source": [
    "* Syntax: `output` = <name of function> **`(`** `input(s)` `) `"
   ]
  },
  {
   "cell_type": "code",
   "execution_count": null,
   "metadata": {},
   "outputs": [],
   "source": [
    "print(\"\")"
   ]
  },
  {
   "cell_type": "markdown",
   "metadata": {},
   "source": [
    "**Pure Functions** "
   ]
  },
  {
   "cell_type": "markdown",
   "metadata": {},
   "source": [
    "<!-- <img src=\"https://composingprograms.com/img/function_abs.png\"> -->\n",
    "\n",
    "<img src=\"https://www.composingprograms.com/versions/v1/img/function_abs.png\">"
   ]
  },
  {
   "cell_type": "markdown",
   "metadata": {},
   "source": [
    "**Non-Pure Functions** "
   ]
  },
  {
   "cell_type": "markdown",
   "metadata": {},
   "source": [
    "<!-- <img src=\"https://composingprograms.com/img/function_print.png\"> -->\n",
    "\n",
    "<img src=\"https://www.composingprograms.com/versions/v1/img/function_print.png\">"
   ]
  },
  {
   "cell_type": "markdown",
   "metadata": {},
   "source": [
    "### 2.8. Looking up a function's documentation"
   ]
  },
  {
   "cell_type": "code",
   "execution_count": null,
   "metadata": {},
   "outputs": [
    {
     "name": "stdout",
     "output_type": "stream",
     "text": [
      "Help on built-in function print in module builtins:\n",
      "\n",
      "print(...)\n",
      "    print(value, ..., sep=' ', end='\\n', file=sys.stdout, flush=False)\n",
      "    \n",
      "    Prints the values to a stream, or to sys.stdout by default.\n",
      "    Optional keyword arguments:\n",
      "    file:  a file-like object (stream); defaults to the current sys.stdout.\n",
      "    sep:   string inserted between values, default a space.\n",
      "    end:   string appended after the last value, default a newline.\n",
      "    flush: whether to forcibly flush the stream.\n",
      "\n"
     ]
    }
   ],
   "source": [
    "help(print)"
   ]
  },
  {
   "cell_type": "markdown",
   "metadata": {},
   "source": [
    "## Overriding built-in functions"
   ]
  },
  {
   "cell_type": "markdown",
   "metadata": {},
   "source": [
    "What happens when we override `round`, `input` or `print`"
   ]
  },
  {
   "cell_type": "code",
   "execution_count": null,
   "metadata": {},
   "outputs": [],
   "source": [
    "\"\"\"Over-riding built-in functions:\n",
    "---------------------------------\n",
    "\n",
    "Before you run this cell,\n",
    "think about which line of code would \n",
    "generate an error, if any\n",
    "\n",
    "NOTE: YOU MAY WANT TO RESTART THE NOTEBOOK\n",
    "AT THIS POINT\"\"\"\n",
    "\n",
    "input = float(input())\n",
    "rounded_num = round(input)\n",
    "print(rounded_num)\n",
    "\n",
    "num = float(input())\n",
    "rounded_num = round(num)\n",
    "print(rounded_num)"
   ]
  },
  {
   "cell_type": "code",
   "execution_count": null,
   "metadata": {},
   "outputs": [],
   "source": [
    "\"\"\"Over-riding built-in functions:\n",
    "---------------------------------\n",
    "\n",
    "Before you run this cell,\n",
    "think about which line of code would \n",
    "generate an error, if any\n",
    "\n",
    "NOTE: YOU MAY WANT TO RESTART THE NOTEBOOK\n",
    "AT THIS POINT\"\"\"\n",
    "\n",
    "round = round(7.7)\n",
    "rounded = round(8.7)"
   ]
  },
  {
   "cell_type": "markdown",
   "metadata": {},
   "source": [
    "<hr/>"
   ]
  }
 ],
 "metadata": {
  "language_info": {
   "name": "python"
  },
  "orig_nbformat": 4
 },
 "nbformat": 4,
 "nbformat_minor": 2
}
