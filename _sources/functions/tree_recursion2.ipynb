{
 "cells": [
  {
   "cell_type": "markdown",
   "metadata": {},
   "source": [
    "# More Recursion"
   ]
  },
  {
   "cell_type": "markdown",
   "metadata": {},
   "source": [
    "## Quick Sort"
   ]
  },
  {
   "cell_type": "markdown",
   "metadata": {},
   "source": [
    "Recall from **[Section 4.3.](https://fahadsultan.com/csc122/algos/sort_quick_iter.html)** that **Quick Sort** is a sorting algorithm that uses a divide and conquer strategy. It works by selecting a **`pivot`** element from the array and partitioning the other elements into two sub-arrays according to whether they are less than or greater than the pivot. The sub-arrays are then sorted recursively. \n",
    "\n",
    "This can be done in-place, requiring a constant amount of extra memory and allowing the algorithm to be run in-place. In other words, the space complexity of Quick Sort is O(1) compared to O(n) for Merge Sort. \n",
    "\n",
    "### Algorithm\n",
    "\n",
    "The steps are:\n",
    "\n",
    "1. Pick an element from the list and call it **pivot**. This is typically the **last element** in the list.\n",
    "2. **Partitioning**: reorder the list so that all elements with values less than the pivot come before the pivot, while all elements with values greater than the pivot come after it (equal values can go either way). After this partitioning, the pivot is in its final position. This is called the partition operation.\n",
    "3. Recursively apply the above steps to two sub-lists: one to the left of pivot with elements that all have smaller values and separately to sub-list on the right of pivot containing elements with greater values.\n",
    "\n",
    "The base case of the recursion are arrays of size zero or one, which are in order by definition, so they never need to be sorted.\n",
    "\n",
    "The pivot selection and partitioning steps can be done in several different ways; the choice of specific implementation schemes greatly affects the algorithm's performance.\n",
    "\n",
    "\n",
    "\n",
    "### Implementation"
   ]
  },
  {
   "cell_type": "markdown",
   "metadata": {},
   "source": [
    "The partitioning step, as described in the algorithm, is the most important part of the Quick Sort algorithm. The partitioning step is implemented using the following steps:\n",
    "\n",
    "<br/>\n",
    "\n",
    "1. Initialize `pivot` to the last element of the array.\n",
    "2. Initialize `left` to start of the array and `right` to the second last element of the array.\n",
    "3. As the goal is to move all elements less than `pivot` to the left and all elements greater than `pivot` to the right, we need to do the following:\n",
    "   3.1. Until the element at `left` is less than `pivot`, increment `left`\n",
    "   3.2. Until the element at `right` is greater than `pivot`, decrement `right` \n",
    "   3.3. If element at `left` is less than element at `right`, swap them. \n",
    "   3.4. Continue until `left` is greater than `right`.\n",
    "\n",
    "<br/>\n",
    "<br/>\n",
    "<center>\n",
    "<img width=\"80%\" src=\"https://i.ibb.co/qBHQ6vn/partition3.png\">\n",
    "</center>\n",
    "<br/>\n",
    "<br/>\n",
    "<br/>"
   ]
  },
  {
   "cell_type": "code",
   "execution_count": null,
   "metadata": {},
   "outputs": [],
   "source": [
    "def partition(data, start, end):\n",
    "\n",
    "    pivot = data[end]\n",
    "    left = start\n",
    "    right = end - 1\n",
    "\n",
    "    while left < right:\n",
    "\n",
    "        # move left towards right\n",
    "        while data[left] < pivot:\n",
    "            left = left + 1\n",
    "\n",
    "        # move right towards left\n",
    "        while right > 0 and data[right] > pivot:\n",
    "            right = right - 1\n",
    "\n",
    "        if left < right:\n",
    "            data[left], data[right] = data[right], data[left]\n",
    "\t\n",
    "    # insert pivot into its correct place\n",
    "    data[left], data[end] = data[end], data[left]\n",
    "\n",
    "    return left"
   ]
  },
  {
   "cell_type": "markdown",
   "metadata": {},
   "source": [
    "Once we have the partititon function, the Quick Sort algorithm itself is fairly simple. \n",
    "\n",
    "The basic idea idea is to call `partition` on data which returns the new location of pivot.  \n",
    "\n",
    "Using the new location of pivot, we recursively call `quicksort` on the sublists to the left and right of the pivot."
   ]
  },
  {
   "cell_type": "code",
   "execution_count": 27,
   "metadata": {},
   "outputs": [],
   "source": [
    "def quicksort(data, low, high):\n",
    "    if low < high:\n",
    "        pi = partition(data, low, high)\n",
    "        quicksort(data, low, pi-1)\n",
    "        quicksort(data, pi+1, high)"
   ]
  },
  {
   "cell_type": "markdown",
   "metadata": {},
   "source": [
    "```{figure} https://i.ibb.co/wYxHKFd/Quicksort-diagram-ann-svg.png\n",
    "---\n",
    "name: quicksort\n",
    "align: center\n",
    "width: 50%\n",
    "---\n",
    "Quicksort diagram. Cells with dark backgrounds represent `pivot`. <br/><span style=\"color:red\">Red boxes</span> correspond to `pi = partition(arr, low, high)`. <br/><span style=\"color:yellow\">Yellow</span> boxes correspond to the first recursive call: `quicksort(arr, low, pi-1)`. <br/><span style=\"color:orange\">Orange</span> boxes correspond to the second recursive call: `quicksort(arr, pi+1, high)`.\n",
    "```\n",
    "\n"
   ]
  },
  {
   "cell_type": "markdown",
   "metadata": {},
   "source": [
    "\n",
    "### Complexity\n",
    "\n",
    "As discussed before, the space complexity of Quick Sort is O(1) compared to O(n) for Merge Sort since no extra space is required that is dependent on the size of the input.\n",
    "\n",
    "The worst case time complexity of quick sort is $O(n^2)$ and the average case time complexity is O(n log n). This is because the worst case occurs when the pivot is the smallest or largest element in the array. \n",
    "\n",
    "If the pivot is the smallest or largest element, then the partitioning step will only move one element to the left or right of the pivot. This means that the partitioning step will take O(n) time and we will have to do this for every element in the array."
   ]
  },
  {
   "cell_type": "markdown",
   "metadata": {},
   "source": [
    "## Tower of Hanoi\n"
   ]
  },
  {
   "cell_type": "markdown",
   "metadata": {},
   "source": [
    "**Tower of Hanoi** is a mathematical puzzle where we have **three towers** (aka rods and pegs) and **n disks**. \n",
    "\n",
    "<br/>\n",
    "\n",
    "```{figure} https://cdn.kastatic.org/ka-perseus-images/5b5fb2670c9a185b2666637461e40c805fcc9ea5.png\n",
    "---\n",
    "name: hanoi\n",
    "align: center\n",
    "width: 70%\n",
    "---\n",
    "Tower of Hanoi with **towers** labeled **A, B**, and **C** from left to right. There are **5 disks** labeled 1 through 5 from top to bottom.\n",
    "```\n",
    "\n",
    "<br/>\n",
    "\n",
    "The **goal** of the puzzle is to move the entire stack of **disks from tower A to tower C**, obeying the following **three simple rules**:\n",
    "\n",
    "1. Only one disk can be moved at a time.\n",
    "2. A disk can only be moved if it is the uppermost disk on a stack.\n",
    "3. No disk may be placed on top of a smaller disk.\n",
    "\n",
    "```{figure} https://upload.wikimedia.org/wikipedia/en/e/e4/Tower_of_Hanoi_4_alt1.gif\n",
    "---\n",
    "name: hanoi\n",
    "align: center\n",
    "---\n",
    "Optimal solution to Tower of Hanoi problem with **4 disks**. The number of steps required to solve a Tower of Hanoi puzzle is $2^n - 1$, where n is the number of disks.\n",
    "```\n",
    "\n",
    "The puzzle can be played with any number of disks, although many toy versions have around 7 to 9 of them. The minimum number of moves required to solve a Tower of Hanoi puzzle is $2^n - 1$, where n is the number of disks.\n",
    "<!-- \n",
    "<img width=\"30%\" align=\"right\" src=\"https://media.springernature.com/lw685/springer-static/image/chp%3A10.1007%2F978-981-16-7381-8_92/MediaObjects/517099_1_En_92_Fig12_HTML.png\"> -->\n",
    "\n",
    "### Implementation\n",
    "\n",
    "The Tower of Hanoi is a naturally recursive problem. \n",
    "\n",
    "The recursive solution is based on the observation that to move n disks from tower A to tower C: \n",
    "\n",
    "<center> <img width=\"50%\" src=\"https://i.ibb.co/nn8ZJBP/hanoi1.png\"> </center>\n",
    "\n",
    "<br/>\n",
    "\n",
    "**Step 1**. We can move n-1 disks from tower A to tower B\n",
    "\n",
    "<center> <img width=\"50%\" src=\"https://i.ibb.co/C8X8J0W/hanoi2.png\"> </center>\n",
    "\n",
    "<br/>\n",
    "\n",
    "**Step 2**. Then move the nth disk from tower A to tower C\n",
    "\n",
    "<center> <img width=\"50%\" src=\"https://i.ibb.co/ssG8pdb/hanoi3.png\"> </center>\n",
    "\n",
    "<br/>\n",
    "\n",
    "**Step 3**. Finally move n-1 disks from tower B to tower C.\n",
    "\n",
    "<br/>\n",
    "\n",
    "<center> <img width=\"50%\" src=\"https://i.ibb.co/3WFRc55/hanoi4.png\"> </center>\n",
    "\n",
    "<br/>\n",
    "\n",
    "In python, these recursive steps can be implemented as follows:"
   ]
  },
  {
   "cell_type": "code",
   "execution_count": 26,
   "metadata": {},
   "outputs": [
    {
     "name": "stdout",
     "output_type": "stream",
     "text": [
      "Move disk 1 from A to B\n",
      "Move disk 2 from A to C\n",
      "Move disk 1 from B to C\n",
      "Move disk 3 from A to C\n",
      "Move disk 1 from A to B\n",
      "Move disk 2 from A to C\n",
      "Move disk 1 from B to C\n"
     ]
    }
   ],
   "source": [
    "def hanoi(n, source=\"A\", buffer=\"B\", destination=\"C\", disk=1):\n",
    "    \"\"\"\n",
    "    Move n disks from source to destination, using buffer, as needed\n",
    "    \"\"\"\n",
    "    \n",
    "    if n == 1:\n",
    "        \n",
    "        print(\"Move disk\", disk, \"from\", source, \"to\", destination)\n",
    "\n",
    "    else:\n",
    "        \n",
    "        hanoi(n-1, source=\"A\", buffer=\"C\", destination=\"B\")            # step 1\n",
    "        hanoi(1,   source=\"A\", buffer=\"B\", destination=\"C\", disk=n)    # step 2\n",
    "        hanoi(n-1, source=\"B\", buffer=\"A\", destination=\"C\")            # step 3\n",
    "    \n",
    "hanoi(3)"
   ]
  },
  {
   "cell_type": "markdown",
   "metadata": {},
   "source": [
    "The base case of the recursion is when there is only one disk to move. In this case, we simply move the disk from the source tower to the destination tower.\n",
    "\n",
    "### Complexity\n",
    "\n",
    "The time complexity of the Tower of Hanoi is $O(2^n)$ and the space complexity is O(n).\n",
    "\n",
    "The time complexity is exponential because the number of moves required to solve the puzzle is $2^n - 1$, where n is the number of disks.\n",
    "\n",
    "### Legend \n",
    "\n",
    "\n",
    "\n",
    "Accompanying the game was an instruction booklet, describing the game's purported origins in [Tonkin](https://en.wikipedia.org/wiki/Tonkin), and claiming that according to legend Brahmins at a temple in [Benares](https://en.wikipedia.org/wiki/Varanasi) have been carrying out the movement of the _\"Sacred Tower of Brahma\"_, consisting of 64 golden disks, according to the same rules as in the game, and that the completion of the tower would lead to the end of the world! \n",
    "\n",
    "<br/>\n",
    "\n",
    "<center>\n",
    "<img src=\"https://mathematicscentre.com/taskcentre/photos/142towra.jpg\">\n",
    "</center>\n",
    "\n",
    "<br/>\n",
    "\n",
    "If the legend were true, and if the priests were able to move disks at a rate of one per second, using the smallest number of moves, it would take them $2^{64} − 1$ seconds or roughly 585 billion years to finish, which is about 42 times the estimated current age of the universe 😅.\n"
   ]
  }
 ],
 "metadata": {
  "kernelspec": {
   "display_name": "Python 3",
   "language": "python",
   "name": "python3"
  },
  "language_info": {
   "codemirror_mode": {
    "name": "ipython",
    "version": 3
   },
   "file_extension": ".py",
   "mimetype": "text/x-python",
   "name": "python",
   "nbconvert_exporter": "python",
   "pygments_lexer": "ipython3",
   "version": "3.9.6"
  }
 },
 "nbformat": 4,
 "nbformat_minor": 2
}
