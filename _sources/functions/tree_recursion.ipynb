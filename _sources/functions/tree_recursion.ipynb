{
 "cells": [
  {
   "attachments": {},
   "cell_type": "markdown",
   "metadata": {},
   "source": [
    "# Tree Recursion"
   ]
  },
  {
   "cell_type": "markdown",
   "metadata": {},
   "source": [
    "Another common pattern of computation is called _tree recursion_. \n",
    "\n",
    "Tree recursion is different from linear recursion in that there are <u> **>1 recursive calls** </u> that the function makes to itself.\n",
    "\n",
    "## Negative Example: **Fibonacci Numbers**\n",
    "\n",
    "As an example, consider computing the sequence of Fibonacci numbers, in which each number is the sum of the preceding two:\n",
    "\n",
    "$$ 0,1,1,2,3,5,8,13,21,... $$\n",
    "\n",
    "In general, the Fibonacci numbers can be defined by the rule \n",
    "\n",
    "$$ \\text{Fib}(n) = \\begin{cases} 0 & \\text{if } n = 0 \\\\ 1 & \\text{if } n = 1 \\\\ \\text{Fib}(n-1) + \\text{Fib}(n-2) & \\text{otherwise} \\end{cases} $$\n",
    "\n",
    "We can immediately translate this definition into a recursive function for computing\n",
    "Fibonacci numbers:"
   ]
  },
  {
   "cell_type": "code",
   "execution_count": 1,
   "metadata": {},
   "outputs": [
    {
     "data": {
      "text/plain": [
       "5"
      ]
     },
     "execution_count": 1,
     "metadata": {},
     "output_type": "execute_result"
    }
   ],
   "source": [
    "def fib(n):\n",
    "    if n == 0:\n",
    "        return 0\n",
    "    elif n == 1:\n",
    "        return 1\n",
    "    else:\n",
    "        return fib(n-1) + fib(n-2)\n",
    "    \n",
    "fib(5)"
   ]
  },
  {
   "cell_type": "markdown",
   "metadata": {},
   "source": [
    "Consider the pattern of this computation. \n",
    "\n",
    "To compute `fib(5)`, we compute `fib(4)` and `fib(3)`. \n",
    "\n",
    "To compute `fib(4)`, we compute `fib(3)` and `fib(2)` and so on.\n",
    "\n",
    "In general, the evolved process looks like a tree, as shown in the figure below. Notice that the branches split into two at each level (except at the bottom); this reflects the fact that the `fib` function calls itself twice each time it is invoked.\n",
    "\n",
    "\n",
    "```{figure} ../assets/recursion3.png\n",
    "---\n",
    "scale: 50%\n",
    "align: center\n",
    "---\n",
    "The tree-recursive process generated in computing `fib(5)`.\n",
    "```"
   ]
  },
  {
   "cell_type": "markdown",
   "metadata": {},
   "source": [
    "### Time and Space Complexity \n",
    "\n",
    "This function is instructive as a prototypical tree recursion, but it is a **terrible way to compute Fibonacci numbers** because it does so much **redundant computation**. \n",
    "\n",
    "Notice in figure above that the entire computation of `fib(3)`— almost half the work—is **duplicated**. \n",
    "\n",
    "In fact, it is not hard to show that the number of times the function will compute `fib(1)` or `fib(0)` (the number of leaves in the above tree, in general) is precisely $\\text{Fib}(n + 1)$. To get an idea of how bad this is, one can show that the value of $\\text{Fib}(n)$ grows exponentially with $n$. \n",
    "\n",
    "<!-- More precisely, $\\text{Fib}(n)$ is the closest integer to $\\frac{\\phi^n}{\\sqrt{5}}$, where\n",
    "\n",
    "$$ \\phi = \\frac{1 + \\sqrt{5}}{2} \\approx 1.6180 $$\n",
    "\n",
    "is the golden ratio, which satisfies the equation\n",
    "\n",
    "$$ \\phi^2 = \\phi +1 $$  -->\n",
    "\n",
    "Thus, the process uses a number of steps that grows exponentially with the input. \n",
    "\n",
    "On the other hand, the space required grows only linearly with the input, because we need keep track only of which nodes are above us in the tree at any point in the computation.\n",
    "\n",
    "In general, the number of steps required by a tree-recursive process will be proportional to the number of nodes in the tree, while the space required will be proportional to the maximum depth of the tree.\n",
    "\n",
    "### Iterative Version\n",
    "\n",
    "We can also formulate an iterative process for computing the Fibonacci numbers. The idea is to use a pair of integers a and b, initialized to $\\text{Fib}(1) = 1$ and $\\text{Fib}(0) = 0$, and to repeatedly apply the simultaneous transformations\n",
    "\n",
    "$$ a \\leftarrow a + b $$\n",
    "\n",
    "$$ b \\leftarrow a $$\n",
    "\n",
    "It is not hard to show that, after applying this transformation n times, a and b will be equal, respectively, to $\\text{Fib}(n + 1)$ and $\\text{Fib}(n)$. Thus, we can compute Fibonacci numbers iteratively using the function\n"
   ]
  },
  {
   "cell_type": "code",
   "execution_count": 9,
   "metadata": {},
   "outputs": [
    {
     "data": {
      "text/plain": [
       "610"
      ]
     },
     "execution_count": 9,
     "metadata": {},
     "output_type": "execute_result"
    }
   ],
   "source": [
    "def fib_iter(n):\n",
    "    a, b = 0, 1\n",
    "    for i in range(n):\n",
    "        a, b = b, a+b\n",
    "    return a\n",
    "\n",
    "fib_iter(15)"
   ]
  },
  {
   "cell_type": "markdown",
   "metadata": {},
   "source": [
    "This second method for computing Fib(n) is linear iteration. The difference in number of steps required by the two methods—one linear in $n$, one growing as fast as $\\text{Fib}(n)$ itself—is enormous, even for small inputs.\n",
    "\n",
    "### Avoiding Tree Recursion\n",
    "\n",
    "One should not conclude from this that tree-recursive processes are useless. \n",
    "\n",
    "When we consider processes that operate on hierarchically structured data rather than numbers, we will find that tree recursion is a natural and powerful tool. But even in numerical operations, tree-recursive processes can be useful in helping us to understand and design programs. \n",
    "\n",
    "For instance, although the recursive `fib` function is much less efficient than the iterative one, it is more straightforward, being little more than a translation into code of the mathematical definition of the Fibonacci sequence. \n",
    "\n",
    "To formulate the iterative algorithm required noticing that the computation could be recast as an iteration with three state variables.\n"
   ]
  },
  {
   "cell_type": "markdown",
   "metadata": {},
   "source": [
    "## Positive Example: **Merge Sort**\n",
    "\n",
    "Another example of a tree-recursive process is merge sort. \n",
    "\n",
    "The idea behind merge sort is to divide the array into two halves, sort each of the halves, and then merge the sorted halves to produce a sorted whole.\n",
    "\n",
    "```{figure} https://upload.wikimedia.org/wikipedia/commons/c/cc/Merge-sort-example-300px.gif\n",
    "---\n",
    "width: 70%\n",
    "align: center\n",
    "---\n",
    "Animation of the merge sort algorithm.\n",
    "```\n",
    "\n",
    "The merge sort algorithm can be described as follows:\n",
    "\n",
    "1. If the array has 0 or 1 element, it is already sorted, so return.\n",
    "2. Otherwise, divide the array into two halves.\n",
    "3. Sort each half.\n",
    "4. Merge the two halves.\n",
    "\n"
   ]
  },
  {
   "cell_type": "markdown",
   "metadata": {},
   "source": [
    "The `merge` function is a helper function that merges two sorted arrays into a single sorted array.\n",
    "\n",
    "```{figure} https://i.ibb.co/VQcVDkN/merge.png\n",
    "---\n",
    "width: 50%\n",
    "align: center\n",
    "---\n",
    "The `merge` function merges two sorted arrays into a single sorted array and is central to the merge sort algorithm.\n",
    "```"
   ]
  },
  {
   "cell_type": "code",
   "execution_count": null,
   "metadata": {},
   "outputs": [],
   "source": [
    "def merge(left, right):\n",
    "    result = []\n",
    "    i, j = 0, 0\n",
    "    while i < len(left) and j < len(right):\n",
    "        if left[i] < right[j]:\n",
    "            result.append(left[i])\n",
    "            i += 1\n",
    "        else:\n",
    "            result.append(right[j])\n",
    "            j += 1\n",
    "    result += left[i:]\n",
    "    result += right[j:]\n",
    "    return result"
   ]
  },
  {
   "cell_type": "markdown",
   "metadata": {},
   "source": [
    "### Recursive Implementation\n",
    "\n",
    "The merge sort algorithm can be implemented using a recursive function, as shown below."
   ]
  },
  {
   "cell_type": "code",
   "execution_count": null,
   "metadata": {},
   "outputs": [],
   "source": [
    "def merge_sort(arr):\n",
    "    if len(arr) <= 1:\n",
    "        # base case\n",
    "        return arr\n",
    "    else:\n",
    "        mid = len(arr) // 2\n",
    "        left = merge_sort(arr[:mid])\n",
    "        right = merge_sort(arr[mid:])\n",
    "        return merge(left, right)"
   ]
  },
  {
   "cell_type": "markdown",
   "metadata": {},
   "source": [
    "The figure below shows the tree-recursive process generated in sorting the array `[5, 3, 8, 6, 2, 7, 1, 4]` using the merge sort algorithm.\n",
    "\n",
    "```{figure} https://i.ibb.co/z7kf04t/Screen-Shot-2024-02-15-at-4-13-33-AM.png\n",
    "---\n",
    "scale: 100%\n",
    "align: center\n",
    "---\n",
    "The tree-recursive process generated in sorting the array `[5, 3, 8, 6, 2, 7, 1, 4]` using the merge sort algorithm.\n",
    "```\n",
    "\n",
    "<br/>\n",
    "\n",
    "Note that the recursive implementation of merge sort is still divide and conquer as it divides the array into two halves and conquers by sorting each half."
   ]
  },
  {
   "cell_type": "markdown",
   "metadata": {},
   "source": [
    "### Iterative Implementation \n",
    "\n",
    "Contrast the elegant simplicity of the tree-recursive merge sort with the iterative process of the selection sort algorithm, which is a simple sorting algorithm that works by repeatedly selecting the minimum element from the unsorted portion of the array and moving it to the beginning of the unsorted portion."
   ]
  },
  {
   "cell_type": "code",
   "execution_count": null,
   "metadata": {},
   "outputs": [],
   "source": [
    "def merge_sort_iterative(data):\n",
    "  result = []\n",
    "\n",
    "  for x in data:\n",
    "    result.append([x])\n",
    "\n",
    "  while len(result) > 1:\n",
    "    newlist = []\n",
    "    i = 0\n",
    "    while i <= len(result) - 1:\n",
    "      if i+1 == len(result): \n",
    "        newlist.append(result[i])\n",
    "      else:\n",
    "        list1 = result[i]\n",
    "        list2 = result[i+1]\n",
    "        merged = merge(list1, list2)\n",
    "        newlist.append(merged)\n",
    "      i = i + 2\n",
    "\n",
    "    result = newlist\n",
    "\n",
    "  return result[0]"
   ]
  },
  {
   "cell_type": "markdown",
   "metadata": {},
   "source": [
    "### Time and Space Complexity\n",
    "\n",
    "The space and time complexity of merge sort algorithm remains unchanged whether it is implemented using a recursive or iterative processes.\n",
    "\n",
    "The time complexity of the merge sort algorithm is $O(n \\log n)$, where $n$ is the number of elements in the array. \n",
    "\n",
    "The space complexity of the merge sort algorithm is $O(n)$, where $n$ is the number of elements in the array.\n",
    "\n"
   ]
  }
 ],
 "metadata": {
  "kernelspec": {
   "display_name": "Python 3",
   "language": "python",
   "name": "python3"
  },
  "language_info": {
   "codemirror_mode": {
    "name": "ipython",
    "version": 3
   },
   "file_extension": ".py",
   "mimetype": "text/x-python",
   "name": "python",
   "nbconvert_exporter": "python",
   "pygments_lexer": "ipython3",
   "version": "3.9.6"
  },
  "orig_nbformat": 4
 },
 "nbformat": 4,
 "nbformat_minor": 2
}
