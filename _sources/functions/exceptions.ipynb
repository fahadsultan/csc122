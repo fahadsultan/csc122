{
 "cells": [
  {
   "attachments": {},
   "cell_type": "markdown",
   "metadata": {},
   "source": [
    "# Exceptions"
   ]
  },
  {
   "attachments": {},
   "cell_type": "markdown",
   "metadata": {},
   "source": [
    "Whenever a runtime error occurs, it creates an exception. The program stops running at this point and Python prints out the traceback, which ends with the exception that occured.\n",
    "\n",
    "For example, dividing by zero creates an exception:\n",
    "\n",
    "```python\n",
    ">>> 1/0\n",
    "Traceback (most recent call last):\n",
    "  File \"<stdin>\", line 1, in <module>\n",
    "ZeroDivisionError: division by zero\n",
    "```\n",
    "\n",
    "So does accessing a nonexistent list item:\n",
    "\n",
    "```python\n",
    ">>> a = []\n",
    ">>> print(a[5])\n",
    "Traceback (most recent call last):\n",
    "  File \"<stdin>\", line 1, in <module>\n",
    "IndexError: list index out of range\n",
    "```\n",
    "\n",
    "Or trying to make an item assignment on a string:\n",
    "    \n",
    "```python\n",
    ">>> S = \"Furman\"\n",
    ">>> S[6] = 'm'\n",
    "Traceback (most recent call last):\n",
    "  File \"<stdin>\", line 1, in <module>\n",
    "TypeError: 'str' object does not support item assignment\n",
    ">>>\n",
    "```\n",
    "\n",
    "Or trying to convert something to an integer that can’t be converted:\n",
    "\n",
    "```python\n",
    ">>> age = int(raw_input(\"How old are you? \"))\n",
    "How old are you? pony\n",
    "Traceback (most recent call last):\n",
    "  File \"<stdin>\", line 1, in <module>\n",
    "ValueError: invalid literal for int() with base 10: 'pony'\n",
    ">>>\n",
    "```\n",
    "\n",
    "In each case, the error message on the last line has two parts: the type of error before the colon, and specifics about the error after the colon.\n",
    "\n",
    "Sometimes we want to execute an operation that might cause an exception, but we don’t want the program to stop. We can handle the exception using the try and except statements.\n",
    "\n",
    "For the age input above, we want to try to convert the age to an integer, and handle the exception if we can’t convert it"
   ]
  },
  {
   "cell_type": "code",
   "execution_count": null,
   "metadata": {},
   "outputs": [],
   "source": [
    "age = raw_input(\"How old are you? \")\n",
    "try:\n",
    "  age = int(age)\n",
    "except ValueError:\n",
    "  print(\"Please enter a number...\")"
   ]
  },
  {
   "attachments": {},
   "cell_type": "markdown",
   "metadata": {},
   "source": [
    "As another example, we might prompt the user for the name of a file and then try to open it. If the file doesn’t exist, we don’t want the program to crash; we want to handle the exception:"
   ]
  },
  {
   "cell_type": "code",
   "execution_count": null,
   "metadata": {},
   "outputs": [],
   "source": [
    "filename = raw_input('Enter a file name: ')\n",
    "try:\n",
    "    f = open (filename, \"r\")\n",
    "except:\n",
    "    print('There is no file named % s' % (filename))"
   ]
  },
  {
   "attachments": {},
   "cell_type": "markdown",
   "metadata": {},
   "source": [
    "The try statement executes the statements in the first block. If no exceptions occur, it ignores the except statement. If any exception occurs, it executes the statements in the except branch and then continues.\n",
    "\n",
    "We can encapsulate this capability in a function: exists takes a filename and returns true if the file exists, false if it doesn’t:"
   ]
  },
  {
   "cell_type": "code",
   "execution_count": null,
   "metadata": {},
   "outputs": [],
   "source": [
    "def exists(filename):\n",
    "    try:\n",
    "        f = open(filename)\n",
    "        f.close()\n",
    "        return True\n",
    "    except:\n",
    "        return False\n"
   ]
  },
  {
   "attachments": {},
   "cell_type": "markdown",
   "metadata": {},
   "source": [
    "You can use multiple except blocks to handle different kinds of exceptions (see the [Errors and Exceptions](https://docs.python.org/3/tutorial/errors.html) lesson from Python creator Guido van Rossum’s [Python Tutorial](https://docs.python.org/3/tutorial/index.html) for a more complete discussion of exceptions).\n",
    "\n",
    "If your program detects an error condition, you can make it raise an exception. Here is an example that gets input from the user and checks that the number is non-negative."
   ]
  },
  {
   "cell_type": "code",
   "execution_count": null,
   "metadata": {},
   "outputs": [],
   "source": [
    "#\n",
    "# learn_exceptions.py\n",
    "#\n",
    "def get_age():\n",
    "    age = int(raw_input('Please enter your age: '))\n",
    "    if age < 0:\n",
    "        raise ValueError, '%s is not a valid age' % age\n",
    "    return age"
   ]
  },
  {
   "attachments": {},
   "cell_type": "markdown",
   "metadata": {},
   "source": [
    "The raise statement takes two arguments: the exception type, and specific information about the error. ValueError is the built-in exception which most closely matches the kind of error we want to raise. The complete listing of built-in exceptions is found in the [Built-in Exceptions](https://docs.python.org/3/library/exceptions.html) section of the [Python Library Reference](https://docs.python.org/3/library/index.html), again by Python’s creator, Guido van Rossum.\n",
    "\n",
    "If the function that called get_age handles the error, then the program can continue; otherwise, Python prints the traceback and exits:\n",
    "\n",
    "```python\n",
    ">>> get_age()\n",
    "Please enter your age: 42\n",
    "42\n",
    ">>> get_age()\n",
    "Please enter your age: -2\n",
    "Traceback (most recent call last):\n",
    "  File \"<stdin>\", line 1, in <module>\n",
    "  File \"learn_exceptions.py\", line 4, in get_age\n",
    "    raise ValueError, '%s is not a valid age' % age\n",
    "ValueError: -2 is not a valid age\n",
    ">>>\n",
    "```"
   ]
  },
  {
   "attachments": {},
   "cell_type": "markdown",
   "metadata": {},
   "source": [
    "The error message includes the exception type and the additional information you provided.\n",
    "\n",
    "Using exception handling, we can now modify infinite_recursion.py so that it stops when it reaches the maximum recursion depth allowed:\n",
    "\n",
    "```python\n",
    "#\n",
    "# infinite_recursion.py\n",
    "#\n",
    "def recursion_depth(number):\n",
    "    print(\"Recursion depth number %d.\" % (number))\n",
    "    try:\n",
    "        recursion_depth(number + 1)\n",
    "    except:\n",
    "        print(\"Maximum recursion depth exceeded.\")\n",
    "\n",
    "recursion_depth(0)\n",
    "```"
   ]
  }
 ],
 "metadata": {
  "language_info": {
   "name": "python"
  },
  "orig_nbformat": 4
 },
 "nbformat": 4,
 "nbformat_minor": 2
}
