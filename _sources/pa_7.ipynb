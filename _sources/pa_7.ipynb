{
 "cells": [
  {
   "cell_type": "markdown",
   "metadata": {},
   "source": [
    "## Q1. **Person Class**:\n",
    "\n",
    "### **Attributes**:\n",
    "\n",
    "#### Instance Attributes\n",
    "\n",
    "**Public**: \n",
    "\n",
    "- `name` (string): Name of the person.\n",
    "- `age` (int): Age of the person.\n",
    "- `email` (string): Email address of the person.\n",
    "\n",
    "**Private**:\n",
    "\n",
    "- `__ssn` (string): Social Security Number of the person.\n",
    "    \n",
    "#### Class Attributes:\n",
    "\n",
    "**Public**:\n",
    "\n",
    "- `emotions` (list): `['happy', 'sad', 'angry', 'excited', 'relaxed', 'nervous', 'tired', 'energetic', 'bored', 'stressed']`\n",
    "- `needs` (list): `['food', 'water', 'shelter', 'clothing', 'education', 'healthcare', 'love', 'belonging', 'safety', 'self-esteem']`\n",
    "\n",
    "**Private**: \n",
    "\n",
    "- `fears` (list): `['loneliness', 'failure', 'rejection', 'illness', 'death', 'injury', 'injustice', 'the unknown', 'change']`"
   ]
  },
  {
   "cell_type": "code",
   "execution_count": 2,
   "metadata": {},
   "outputs": [],
   "source": [
    "class Person: \n",
    "\n",
    "    emotions = ['happy', 'sad', 'angry', 'excited', 'relaxed', 'nervous', 'tired', 'energetic', 'bored', 'stressed']\n",
    "    needs    = ['food', 'water', 'shelter', 'clothing', 'education', 'healthcare', 'love', 'belonging', 'safety', 'self-esteem']\n",
    "\n",
    "    __fears = ['failure', 'rejection', 'disappointment', 'embarrassment', 'loneliness', 'pain', 'loss', 'injury', 'death', 'the unknown']\n",
    "\n",
    "    def __init__(self, name, age, email, ssn):\n",
    "        self.name = name\n",
    "        self.age = age\n",
    "        self.email = email\n",
    "        self.__ssn = ssn"
   ]
  },
  {
   "cell_type": "markdown",
   "metadata": {},
   "source": [
    "Test your code using the following code cell: "
   ]
  },
  {
   "cell_type": "code",
   "execution_count": 3,
   "metadata": {},
   "outputs": [
    {
     "name": "stdout",
     "output_type": "stream",
     "text": [
      "All test cases passed :)\n"
     ]
    }
   ],
   "source": [
    "taylor = Person(\"Taylor Swift\", 34, \"taylorswift@umgstores.com\", \"123-45-6789\")\n",
    "\n",
    "assert taylor.name     == \"Taylor Swift\",              \"Test case 1 failed\"\n",
    "assert taylor.age      == 34,                          \"Test case 2 failed\"\n",
    "assert taylor.email    == \"taylorswift@umgstores.com\", \"Test case 3 failed\"\n",
    "\n",
    "assert taylor.emotions == ['happy', 'sad', 'angry', 'excited', 'relaxed', \\\n",
    "                           'nervous', 'tired', 'energetic', 'bored', 'stressed'],\\\n",
    "                                                      \"Test case 4 failed\"\n",
    "assert taylor.needs    == ['food', 'water', 'shelter', 'clothing', 'education', 'healthcare', \\\n",
    "                           'love', 'belonging', 'safety', 'self-esteem'], \"Test case 5 failed\"\n",
    "\n",
    "try: \n",
    "    print(taylor.__ssn)\n",
    "    assert \"Test case 6 failed\"\n",
    "    print(taylor.__fears)\n",
    "    assert \"Test case 7 failed\"\n",
    "except AttributeError:\n",
    "    pass\n",
    "\n",
    "print(\"All test cases passed :)\")"
   ]
  },
  {
   "cell_type": "markdown",
   "metadata": {},
   "source": [
    "## Q2. **`Instructor`** Class - Subclass of `Person`"
   ]
  },
  {
   "cell_type": "markdown",
   "metadata": {},
   "source": [
    "\n",
    "### **Attributes**:\n",
    "\n",
    "#### Instance Attributes\n",
    "\n",
    "**Public**:\n",
    "\n",
    "- `title` (string): Title of the instructor.\n",
    "- `department` (string): Department of the instructor.\n",
    "\n",
    "**Private**:\n",
    "\n",
    "- `salary` (float): Salary of the instructor.\n",
    "\n",
    "#### Class Attributes:\n",
    "\n",
    "**Public**:\n",
    "\n",
    "- `has_advanced_degree` (bool): `True`\n",
    "\n"
   ]
  },
  {
   "cell_type": "code",
   "execution_count": 3,
   "metadata": {},
   "outputs": [],
   "source": [
    "class Instructor(Person):\n",
    "\n",
    "    has_advanced_degree = True\n",
    "\n",
    "    def __init__(self, name, age, email, ssn, salary, title, department):\n",
    "        super().__init__(name, age, email, ssn)\n",
    "        self.__salary = salary\n",
    "        self.title = title\n",
    "        self.department = department\n"
   ]
  },
  {
   "cell_type": "code",
   "execution_count": 5,
   "metadata": {},
   "outputs": [
    {
     "name": "stdout",
     "output_type": "stream",
     "text": [
      "All test cases passed :)\n"
     ]
    }
   ],
   "source": [
    "instructor = Instructor(\"Dr. Sultan\", 34, \"fahad.sultan@furman.edu\", \"123-45-6789\", 10**9, \"Assistant Professor\", \"Computer Science\")\n",
    "                        \n",
    "assert instructor.name                == \"Dr. Sultan\",              \"Test case 8 failed\"\n",
    "assert instructor.age                 == 34,                        \"Test case 9 failed\"\n",
    "assert instructor.email               == \"fahad.sultan@furman.edu\", \"Test case 10 failed\"\n",
    "assert instructor.has_advanced_degree == True,                      \"Test case 11 failed\"\n",
    "assert instructor.title               == \"Assistant Professor\",     \"Test case 12 failed\"\n",
    "assert instructor.department          == \"Computer Science\",        \"Test case 13 failed\"\n",
    "\n",
    "try: \n",
    "    print(instructor.__salary)\n",
    "    assert \"Test case 14 failed\"\n",
    "except AttributeError:\n",
    "    pass\n",
    "\n",
    "print(\"All test cases passed :)\")"
   ]
  },
  {
   "cell_type": "markdown",
   "metadata": {},
   "source": [
    "## Q2. **Course Class**:\n",
    "\n",
    "### **Attributes**:\n",
    "\n",
    "#### Instance Attributes\n",
    "\n",
    "**Public**:\n",
    "\n",
    "- `course_code` (string): Unique identifier for the course.\n",
    "- `course_name` (string): Name of the course.\n",
    "- `instructor` (`Instructor`): The instructor teaching the course.\n",
    "- `enrolled_students` (list of `Student`s): List of `Student` objects enrolled in the course.\n",
    "- `max_capacity` (int): Maximum capacity of students allowed in the course. **Use default value of 24**.\n",
    "- `prerequisites` (list of `Courses`): List of prerequisite courses. **Use default value of an empty list**.\n",
    "\n",
    "#### Class Attributes:\n",
    "\n",
    "**Public**:\n",
    "\n",
    "- `courses` (list): List of all courses offered by the institution.\n",
    "\n",
    "### **Methods**:\n",
    "\n",
    "**Instance Methods**:\n",
    "\n",
    "- `__init__(self, course_code, course_name, instructor, max_capacity, prerequisites)` (public): Initializes the course attributes.\n",
    "\n",
    "- `add_student(self, student)` (public): Enrolls a student in the course. If the course is full, raise an Exception saying \"Course is full\".\n",
    "\n",
    "- `remove_student(self, student)` (public): Removes a student from the course.\n",
    "\n",
    "**Class Methods**:\n",
    "\n",
    "- `get_all_courses(cls)` (class method): Returns a list of all courses offered by the institution."
   ]
  },
  {
   "cell_type": "code",
   "execution_count": 51,
   "metadata": {},
   "outputs": [],
   "source": [
    "class Course:\n",
    "\n",
    "    courses = []\n",
    "\n",
    "    def __init__(self, course_code, course_name, instructor, max_capacity=24, prerequisites=[]):\n",
    "        self.course_code = course_code\n",
    "        self.course_name = course_name\n",
    "        self.instructor = instructor\n",
    "        self.enrolled_students = []\n",
    "        self.max_capacity = max_capacity\n",
    "        self.prerequisites = prerequisites\n",
    "        Course.courses.append(self)\n",
    "\n",
    "    def add_student(self, student):\n",
    "        if len(self.enrolled_students) <= self.max_capacity:\n",
    "            self.enrolled_students.append(student)\n",
    "        else:\n",
    "            raise Exception(\"Course is full\")\n",
    "\n",
    "    def remove_student(self, student):\n",
    "        self.enrolled_students.remove(student)\n",
    "\n",
    "    @classmethod\n",
    "    def get_all_courses(cls):\n",
    "        return cls.courses"
   ]
  },
  {
   "cell_type": "markdown",
   "metadata": {},
   "source": [
    "Test your code using the following code cell:"
   ]
  },
  {
   "cell_type": "code",
   "execution_count": 52,
   "metadata": {},
   "outputs": [
    {
     "name": "stdout",
     "output_type": "stream",
     "text": [
      "All test cases passed :)\n"
     ]
    }
   ],
   "source": [
    "# Test cases \n",
    "\n",
    "instructor = Instructor(\"Dr. Sultan\", 34, \"fahad.sultan@furman.edu\", \"123-45-6789\", 10**9, \"Assistant Professor\", \"Computer Science\")\n",
    "\n",
    "csc105 = Course(\"CSC105\", \"Intro to CS\", instructor, 3, [])\n",
    "\n",
    "csc121 = Course(\"CSC121\", \"Intro to Programming\", instructor, 3, [csc105])\n",
    "\n",
    "csc122 = Course(\"CSC122\", \"Data Structures and Algorithms\", instructor, 3, [csc121])\n",
    "\n",
    "assert csc105.course_code       == \"CSC105\",      \"Test case 1 failed\"\n",
    "assert csc105.course_name       == \"Intro to CS\", \"Test case 2 failed\"\n",
    "assert csc105.instructor.name   == \"Dr. Sultan\",  \"Test case 3 failed\"\n",
    "assert csc105.max_capacity      == 3,             \"Test case 4 failed\"\n",
    "\n",
    "assert csc121.prerequisites     == [csc105],      \"Test case 5 failed\"\n",
    "\n",
    "assert csc122.prerequisites     == [csc121],      \"Test case 6 failed\"\n",
    "\n",
    "assert Course.get_all_courses() == [csc105, csc121, csc122], \"Test case 7 failed\"\n",
    "\n",
    "print(\"All test cases passed :)\")\n"
   ]
  },
  {
   "cell_type": "markdown",
   "metadata": {},
   "source": [
    "## Q3. **`Student` Class**, inherits from `Person`:\n",
    "\n",
    "### **Attributes**:\n",
    "\n",
    "#### Instance Attributes\n",
    "\n",
    "**Public**:\n",
    "\n",
    "- `student_id` (string): Unique identifier for the student.\n",
    "- `enrolled_courses` (list): List of courses the student is enrolled in.\n",
    "\n",
    "**Private**:\n",
    "\n",
    "- `__grades` (dict): Dictionary containing course names as keys and grades as values.\n",
    "\n",
    "### **Methods**:\n",
    "\n",
    "**Instance Methods**:\n",
    "\n",
    "- `__init__(self, student_id, name, age, email)` (public): Initializes the student attributes. Use empty string `\"\"` for ssn attribute.\n",
    "- `enroll_course(self, course)` (public): Enrolls the student in a course by 1) adding to the course's `enrolled_students` list and 2) adding the course to the student's `enrolled_courses` list.\n",
    "- `withdraw_course(self, course)` (public): Withdraws the student from a course.\n",
    "- `add_grade(self, course, grade)` (public): Adds a grade for a course.\n",
    "- `get_grade(self, course)` (public): Returns the grade for a course.\n",
    "- `get_avg_grade(self)` (public): Returns the average grade of the student.\n",
    "\n",
    "**Static Methods**:\n",
    "\n",
    "- `reason_for_absence()` : Returns `\"Not feeling well\"`. "
   ]
  },
  {
   "cell_type": "code",
   "execution_count": 53,
   "metadata": {},
   "outputs": [],
   "source": [
    "class Student(Person):\n",
    "\n",
    "    def __init__(self, student_id, name, age, email, ssn=\"\"):\n",
    "        super().__init__(name, age, email, ssn)\n",
    "        self.student_id       = student_id\n",
    "        self.enrolled_courses = []\n",
    "        self.__grades         = {}\n",
    "\n",
    "    def enroll_course(self, course):\n",
    "        self.enrolled_courses.append(course)\n",
    "        course.add_student(self)\n",
    "\n",
    "    def withdraw_course(self, course):\n",
    "        self.enrolled_courses.remove(course)\n",
    "\n",
    "    def add_grade(self, course, grade):\n",
    "        self.__grades[course] = grade\n",
    "\n",
    "    def get_grade(self, course):\n",
    "        return self.__grades[course]\n",
    "\n",
    "    def get_avg_grade(self):\n",
    "        return sum(self.__grades.values()) / len(self.__grades)\n",
    "    \n",
    "    @staticmethod\n",
    "    def reason_for_absence():\n",
    "        return \"Not feeling well\""
   ]
  },
  {
   "cell_type": "code",
   "execution_count": 55,
   "metadata": {},
   "outputs": [
    {
     "ename": "Exception",
     "evalue": "Course is full",
     "output_type": "error",
     "traceback": [
      "\u001b[0;31m---------------------------------------------------------------------------\u001b[0m",
      "\u001b[0;31mException\u001b[0m                                 Traceback (most recent call last)",
      "Cell \u001b[0;32mIn[55], line 9\u001b[0m\n\u001b[1;32m      7\u001b[0m \u001b[38;5;28;01mfor\u001b[39;00m course \u001b[38;5;129;01min\u001b[39;00m Course\u001b[38;5;241m.\u001b[39mget_all_courses():\n\u001b[1;32m      8\u001b[0m     jane\u001b[38;5;241m.\u001b[39menroll_course(course)\n\u001b[0;32m----> 9\u001b[0m     \u001b[43mjohn\u001b[49m\u001b[38;5;241;43m.\u001b[39;49m\u001b[43menroll_course\u001b[49m\u001b[43m(\u001b[49m\u001b[43mcourse\u001b[49m\u001b[43m)\u001b[49m\n\u001b[1;32m     10\u001b[0m     bob\u001b[38;5;241m.\u001b[39menroll_course(course)\n\u001b[1;32m     12\u001b[0m \u001b[38;5;28;01mfor\u001b[39;00m course \u001b[38;5;129;01min\u001b[39;00m Course\u001b[38;5;241m.\u001b[39mget_all_courses():\n",
      "Cell \u001b[0;32mIn[53], line 11\u001b[0m, in \u001b[0;36mStudent.enroll_course\u001b[0;34m(self, course)\u001b[0m\n\u001b[1;32m      9\u001b[0m \u001b[38;5;28;01mdef\u001b[39;00m \u001b[38;5;21menroll_course\u001b[39m(\u001b[38;5;28mself\u001b[39m, course):\n\u001b[1;32m     10\u001b[0m     \u001b[38;5;28mself\u001b[39m\u001b[38;5;241m.\u001b[39menrolled_courses\u001b[38;5;241m.\u001b[39mappend(course)\n\u001b[0;32m---> 11\u001b[0m     \u001b[43mcourse\u001b[49m\u001b[38;5;241;43m.\u001b[39;49m\u001b[43madd_student\u001b[49m\u001b[43m(\u001b[49m\u001b[38;5;28;43mself\u001b[39;49m\u001b[43m)\u001b[49m\n",
      "Cell \u001b[0;32mIn[51], line 18\u001b[0m, in \u001b[0;36mCourse.add_student\u001b[0;34m(self, student)\u001b[0m\n\u001b[1;32m     16\u001b[0m     \u001b[38;5;28mself\u001b[39m\u001b[38;5;241m.\u001b[39menrolled_students\u001b[38;5;241m.\u001b[39mappend(student)\n\u001b[1;32m     17\u001b[0m \u001b[38;5;28;01melse\u001b[39;00m:\n\u001b[0;32m---> 18\u001b[0m     \u001b[38;5;28;01mraise\u001b[39;00m \u001b[38;5;167;01mException\u001b[39;00m(\u001b[38;5;124m\"\u001b[39m\u001b[38;5;124mCourse is full\u001b[39m\u001b[38;5;124m\"\u001b[39m)\n",
      "\u001b[0;31mException\u001b[0m: Course is full"
     ]
    }
   ],
   "source": [
    "# Test your code here\n",
    "\n",
    "jane = Student(123, \"Jane Doe\", 20, \"john.doe@furman.edu\")\n",
    "john = Student(124, \"John Doe\", 21, \"john.doe@furman.edu\")\n",
    "bob  = Student(125, \"Bob Doe\",  22,  \"bob@furman.edu\")\n",
    " \n",
    "# for course in Course.get_all_courses():\n",
    "#     jane.enroll_course(course)\n",
    "#     john.enroll_course(course)\n",
    "#     bob.enroll_course(course)\n",
    "\n",
    "for course in Course.get_all_courses():\n",
    "    jane.add_grade(course, 100)\n",
    "    john.add_grade(course, 90)\n",
    "    bob.add_grade(course, 80)\n",
    "\n",
    "assert jane.get_avg_grade() == 100, \"Test case 1 failed\"\n",
    "assert john.get_avg_grade() == 90,  \"Test case 2 failed\"\n",
    "assert bob.get_avg_grade()  == 80,  \"Test case 3 failed\"\n",
    "\n",
    "assert john.reason_for_absence() == \"Not feeling well\", \"Test case 4 failed\"\n",
    "assert bob.reason_for_absence()  == \"Not feeling well\", \"Test case 5 failed\"\n",
    "assert jane.reason_for_absence() == \"Not feeling well\", \"Test case 6 failed\"\n",
    "\n",
    "for course in Course.get_all_courses():\n",
    "    assert course.enrolled_students == [jane, john, bob], \"Test case 7 failed\"\n",
    "\n",
    "alice = Student(126, \"Alice Doe\", 23, \"alice@furman.edu\")\n",
    "\n",
    "try: \n",
    "    alice.add_grade(csc105, 100)\n",
    "    assert \"Test case 8 failed\"\n",
    "except Exception as e:\n",
    "    pass\n",
    "\n",
    "print(\"All test cases passed :)\")\n"
   ]
  },
  {
   "cell_type": "markdown",
   "metadata": {},
   "source": [
    "\n",
    "Test your code using the following code cell:"
   ]
  },
  {
   "cell_type": "markdown",
   "metadata": {},
   "source": [
    "# Implement Queue \n",
    "\n",
    "Implement a **first-in-first-out (FIFO) queue**. The implemented queue should support all the functions of a normal queue: \n",
    "\n",
    "* `enqueue(x)` - Add an element x to the end of the queue.\n",
    "* `dequeue()` - Remove the element from the front of the queue and return it. Raise an exception if the queue is empty.\n",
    "* `peek()` - Return the element at the front of the queue.\n",
    "* `empty()` - Return true if the queue is empty, false otherwise.\n",
    "* `size()` - Return the current size of the queue.\n",
    "\n",
    "You must use only standard operations of a list.\n"
   ]
  },
  {
   "cell_type": "code",
   "execution_count": 1,
   "metadata": {},
   "outputs": [
    {
     "name": "stdout",
     "output_type": "stream",
     "text": [
      "All test cases passed :)\n"
     ]
    }
   ],
   "source": [
    "class Queue: \n",
    "    \n",
    "        def __init__(self):\n",
    "            self.queue = []\n",
    "    \n",
    "        def enqueue(self, item):\n",
    "            self.queue.append(item)\n",
    "    \n",
    "        def dequeue(self):\n",
    "            if len(self.queue) == 0:\n",
    "                raise Exception(\"Queue is empty\")\n",
    "            return self.queue.pop(0)\n",
    "    \n",
    "        def is_empty(self):\n",
    "            return len(self.queue) == 0\n",
    "    \n",
    "        def size(self):\n",
    "            return len(self.queue)\n",
    "        \n",
    "q = Queue()\n",
    "\n",
    "q.enqueue(1)\n",
    "q.enqueue(2)\n",
    "q.enqueue(3)\n",
    "\n",
    "assert q.size()     == 3, \"Test case 1 failed\"\n",
    "assert q.dequeue()  == 1, \"Test case 2 failed\"\n",
    "assert q.dequeue()  == 2, \"Test case 3 failed\"\n",
    "assert q.dequeue()  == 3, \"Test case 4 failed\"\n",
    "assert q.is_empty() == True, \"Test case 5 failed\"\n",
    "\n",
    "try: \n",
    "    q.dequeue()\n",
    "    assert \"Test case 6 failed\"\n",
    "except Exception as e:\n",
    "    pass\n",
    "\n",
    "print(\"All test cases passed :)\")"
   ]
  },
  {
   "cell_type": "markdown",
   "metadata": {},
   "source": [
    "# Implement Stacks using Queues\n",
    "\n",
    "Implement a **last-in-first-out (LIFO) stack** using only **queues**. The implemented stack should support all the functions of a normal stack (push, top, pop, and empty).\n",
    "\n",
    "Implement the `MyStack` class:\n",
    "\n",
    "* `push(x)` Pushes element x to the top of the stack.\n",
    "* `pop()` Removes the element on the top of the stack and returns it. Raise an exception if the stack is empty.\n",
    "* `top()` Returns the element on the top of the stack.\n",
    "* `empty()` Returns true if the stack is empty, false otherwise.\n",
    "* `size()` Returns the current size of the stack.\n",
    "\n",
    "You must use only standard operations of a queue, which means that only push to back, peek/pop from front, size and is empty operations are valid."
   ]
  },
  {
   "cell_type": "code",
   "execution_count": 2,
   "metadata": {},
   "outputs": [
    {
     "name": "stdout",
     "output_type": "stream",
     "text": [
      "All test cases passed :)\n"
     ]
    }
   ],
   "source": [
    "class MyStack:\n",
    "\n",
    "    def __init__(self):\n",
    "        self.queue1 = Queue()\n",
    "        self.queue2 = Queue()\n",
    "\n",
    "    def push(self, item):\n",
    "        self.queue1.enqueue(item)\n",
    "\n",
    "    def pop(self):\n",
    "        if self.queue1.is_empty():\n",
    "            raise Exception(\"Stack is empty\")\n",
    "        while self.queue1.size() > 1:\n",
    "            self.queue2.enqueue(self.queue1.dequeue())\n",
    "        item = self.queue1.dequeue()\n",
    "        self.queue1, self.queue2 = self.queue2, self.queue1\n",
    "        return item\n",
    "    \n",
    "    def is_empty(self):\n",
    "        return self.queue1.is_empty()\n",
    "    \n",
    "    def size(self):\n",
    "        return self.queue1.size()\n",
    "    \n",
    "s = MyStack()\n",
    "s.push(1)\n",
    "s.push(2)\n",
    "s.push(3)\n",
    "\n",
    "assert s.size()     == 3, \"Test case 1 failed\"\n",
    "assert s.pop()      == 3, \"Test case 2 failed\"\n",
    "assert s.pop()      == 2, \"Test case 3 failed\"\n",
    "assert s.pop()      == 1, \"Test case 4 failed\"\n",
    "assert s.is_empty() == True, \"Test case 5 failed\"\n",
    "\n",
    "try: \n",
    "    s.pop()\n",
    "    assert \"Test case 6 failed\"\n",
    "except Exception as e:\n",
    "    pass \n",
    "\n",
    "print(\"All test cases passed :)\")"
   ]
  },
  {
   "cell_type": "markdown",
   "metadata": {},
   "source": [
    "# Design Browser History\n",
    "\n",
    "You have a **browser** of one tab where you start on the `homepage` and you can visit another `url`, get back in the history number of `steps` or move forward in the history number of `steps`.\n",
    "\n",
    "Implement the `BrowserHistory` class:\n",
    "\n",
    "* `BrowserHistory(string homepage)` Initializes the object with the `homepage` of the browser.\n",
    "* `void visit(string url)` Visits `url` from the current page. It clears up all the forward history.\n",
    "* `string back(int steps)` Move `steps` back in history. If you can only return x steps in the history and `steps > x`, you will return only x steps. Return the current url after moving back in history at most steps.\n",
    "string forward(int steps) Move steps forward in history. If you can only forward x steps in the history and steps > x, you will forward only x steps. Return the current url after forwarding in history at most steps."
   ]
  },
  {
   "cell_type": "code",
   "execution_count": null,
   "metadata": {},
   "outputs": [],
   "source": [
    "# "
   ]
  }
 ],
 "metadata": {
  "kernelspec": {
   "display_name": "Python 3",
   "language": "python",
   "name": "python3"
  },
  "language_info": {
   "codemirror_mode": {
    "name": "ipython",
    "version": 3
   },
   "file_extension": ".py",
   "mimetype": "text/x-python",
   "name": "python",
   "nbconvert_exporter": "python",
   "pygments_lexer": "ipython3",
   "version": "3.9.6"
  }
 },
 "nbformat": 4,
 "nbformat_minor": 2
}
