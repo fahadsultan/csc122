{
 "cells": [
  {
   "cell_type": "markdown",
   "metadata": {},
   "source": [
    "### **Question 1**. Factorial\n",
    "\n",
    "The factorial of a non-negative integer n is the product of all positive integers less than or equal to n. \n",
    "\n",
    "For example, the factorial of 5 is 120, because 5 * 4 * 3 * 2 * 1 = 120. \n",
    "\n",
    "$$ n! = n \\times (n-1) \\times (n-2) \\times \\ldots \\times 1 $$\n",
    "$$ 0! = 1 $$\n",
    "\n",
    "**1a**. Write a head-recursive function that takes a non-negative integer as input and returns its factorial.\n"
   ]
  },
  {
   "cell_type": "code",
   "execution_count": null,
   "metadata": {},
   "outputs": [],
   "source": [
    "def factorial_head(n): \n",
    "    if n == 0:\n",
    "        return 1\n",
    "    else:\n",
    "        return n * factorial_head(n-1)\n",
    "    \n",
    "assert factorial_head(0) == 1,        \"Test case 1 failed\"\n",
    "assert factorial_head(1) == 1,        \"Test case 2 failed\"\n",
    "assert factorial_head(2) == 2,        \"Test case 3 failed\"\n",
    "assert factorial_head(5) == 120,      \"Test case 4 failed\"\n",
    "assert factorial_head(10) == 3628800, \"Test case 5 failed\""
   ]
  },
  {
   "cell_type": "markdown",
   "metadata": {},
   "source": [
    "**1b.** Write a tail-recursive version of the factorial function.\n",
    "\n",
    "Use instructions [here](https://fahadsultan.com/csc122/functions/head_tail.html#converting-head-recursion-to-tail-recursion) to convert the head-recursive function to a tail-recursive function."
   ]
  },
  {
   "cell_type": "code",
   "execution_count": null,
   "metadata": {},
   "outputs": [],
   "source": [
    "def factorial_tail(n, acc=1):\n",
    "    if n == 0:\n",
    "        return acc\n",
    "    else:\n",
    "        return factorial_tail(n-1, n*acc)"
   ]
  },
  {
   "cell_type": "markdown",
   "metadata": {},
   "source": [
    "### **Question 2**. Sum of Data\n",
    "\n",
    "**2.a.** Write a head recursive function that takes a list of numbers as input and returns the sum of the numbers in the list."
   ]
  },
  {
   "cell_type": "code",
   "execution_count": null,
   "metadata": {},
   "outputs": [],
   "source": [
    "def sum_head(data):\n",
    "    if len(data) == 0:\n",
    "        return 0\n",
    "    else:\n",
    "        return data[0] + sum_head(data[1:])\n",
    "    \n",
    "assert sum_head([1, 2, 3, 4, 5])     == 15, \"Test case 1 failed\"\n",
    "assert sum_head([10, 9, 8, 7])       == 34, \"Test case 2 failed\"\n",
    "assert sum_head([4, 10, -2, 20, -9]) == 23, \"Test case 3 failed\"\n",
    "assert sum_head([0, 0, 0, 0, 0])     == 0,  \"Test case 4 failed\"\n",
    "assert sum_head([5])                 == 5,  \"Test case 5 failed\"\n",
    "\n",
    "print(\"All test cases passed!\")"
   ]
  },
  {
   "cell_type": "markdown",
   "metadata": {},
   "source": [
    "**2.b.** Write a tail recursive version of the function."
   ]
  },
  {
   "cell_type": "code",
   "execution_count": null,
   "metadata": {},
   "outputs": [],
   "source": [
    "def sum_tail(data, acc=0):\n",
    "    if len(data) == 0:\n",
    "        return acc\n",
    "    else:\n",
    "        return sum_tail(data[1:], acc+data[0])\n",
    "    \n",
    "assert sum_tail([1, 2, 3, 4, 5]) == 15, \"Test case 1 failed\"\n",
    "assert sum_tail([10, 9, 8, 7]) == 34, \"Test case 2 failed\"\n",
    "assert sum_tail([4, 10, -2, 20, -9]) == 23, \"Test case 3 failed\"\n",
    "assert sum_tail([0, 0, 0, 0, 0]) == 0, \"Test case 4 failed\"\n",
    "assert sum_tail([5]) == 5, \"Test case 5 failed\"\n",
    "\n",
    "print(\"All test cases passed!\")"
   ]
  },
  {
   "cell_type": "markdown",
   "metadata": {},
   "source": [
    "### **Question 3**. Maximum of Data\n",
    "\n",
    "**3.a.** Write a head recursive function that takes a list of numbers as input and returns the maximum of the numbers in the list."
   ]
  },
  {
   "cell_type": "code",
   "execution_count": null,
   "metadata": {},
   "outputs": [],
   "source": [
    "def max_head(data):\n",
    "    if len(data) == 1:\n",
    "        return data[0]\n",
    "    else:\n",
    "        return max(data[0], max_head(data[1:]))\n",
    "    \n",
    "max_head([1, 2, 3, 4, 5]) == 5, \"Test case 1 failed\"\n",
    "max_head([10, 9, 8, 7]) == 10, \"Test case 2 failed\"\n",
    "max_head([4, 10, -2, 20, -9]) == 20, \"Test case 3 failed\"\n",
    "max_head([0, 0, 0, 0, 0]) == 0, \"Test case 4 failed\"\n",
    "max_head([5]) == 5, \"Test case 5 failed\"\n",
    "\n",
    "print(\"All test cases passed!\")"
   ]
  },
  {
   "cell_type": "markdown",
   "metadata": {},
   "source": [
    "\n",
    "**3.b.** Write a tail recursive version of the function.\n"
   ]
  },
  {
   "cell_type": "code",
   "execution_count": null,
   "metadata": {},
   "outputs": [],
   "source": [
    "def max_tail(data, acc=None):\n",
    "    if acc is None:\n",
    "        acc = data[0]\n",
    "    if len(data) == 0:\n",
    "        return acc\n",
    "    else:\n",
    "        return max_tail(data[1:], max(data[0], acc))\n",
    "    \n",
    "assert max_tail([1, 2, 3, 4, 5]) == 5, \"Test case 1 failed\"\n",
    "assert max_tail([10, 9, 8, 7]) == 10, \"Test case 2 failed\"\n",
    "assert max_tail([4, 10, -2, 20, -9]) == 20, \"Test case 3 failed\"\n",
    "assert max_tail([0, 0, 0, 0, 0]) == 0, \"Test case 4 failed\"\n",
    "assert max_tail([5]) == 5, \"Test case 5 failed\"\n",
    "\n",
    "print(\"All test cases passed!\")"
   ]
  },
  {
   "cell_type": "markdown",
   "metadata": {},
   "source": [
    "### **Question 4**. Fibonacci\n",
    "\n",
    "The Fibonacci sequence is a series of numbers in which each number is the sum of the two preceding ones, usually starting with 0 and 1.\n",
    "\n",
    "$$ F_0 = 0 $$\n",
    "$$ F_1 = 1 $$\n",
    "$$ F_n = F_{n-1} + F_{n-2} $$\n",
    "\n",
    "**4.a**. Write a head-recursive function that takes a non-negative integer n as input and returns the nth Fibonacci number."
   ]
  },
  {
   "cell_type": "code",
   "execution_count": null,
   "metadata": {},
   "outputs": [],
   "source": [
    "def fib_head(n):\n",
    "    if n == 0:\n",
    "        return 0\n",
    "    elif n == 1:\n",
    "        return 1\n",
    "    else:\n",
    "        return fib_head(n-1) + fib_head(n-2)\n",
    "    \n",
    "assert fib_head(0) == 0,    \"Test case 1 failed\"\n",
    "assert fib_head(1) == 1,    \"Test case 2 failed\"\n",
    "assert fib_head(2) == 1,    \"Test case 3 failed\"\n",
    "assert fib_head(5) == 5,    \"Test case 4 failed\"\n",
    "assert fib_head(10) == 55,  \"Test case 5 failed\"\n",
    "\n",
    "print(\"All test cases passed!\")"
   ]
  },
  {
   "cell_type": "markdown",
   "metadata": {},
   "source": [
    "**4.b**. Write a tail-recursive version of the function."
   ]
  },
  {
   "cell_type": "code",
   "execution_count": null,
   "metadata": {},
   "outputs": [],
   "source": [
    "def fib_tail(n, a=0, b=1):\n",
    "    if n == 0:\n",
    "        return a\n",
    "    else:\n",
    "        return fib_tail(n-1, b, a+b)\n",
    "    \n",
    "assert fib_tail(0) == 0,    \"Test case 1 failed\"\n",
    "assert fib_tail(1) == 1,    \"Test case 2 failed\"\n",
    "assert fib_tail(2) == 1,    \"Test case 3 failed\"\n",
    "assert fib_tail(5) == 5,    \"Test case 4 failed\"\n",
    "assert fib_tail(10) == 55,  \"Test case 5 failed\"\n",
    "\n",
    "print(\"All test cases passed!\")"
   ]
  },
  {
   "cell_type": "markdown",
   "metadata": {},
   "source": [
    "### **Question 5**. Power\n",
    "\n",
    "**5.a**. Write a head-recursive function that takes two non-negative integers, x and n, as input and returns $x^n$."
   ]
  },
  {
   "cell_type": "code",
   "execution_count": null,
   "metadata": {},
   "outputs": [],
   "source": [
    "def power_head(x, n):\n",
    "    if n == 0:\n",
    "        return 1\n",
    "    else:\n",
    "        return x * power_head(x, n-1)\n",
    "    \n",
    "assert power_head(10, 0) == 1,     \"Test case 1 failed\"\n",
    "assert power_head(10, 1) == 10,    \"Test case 2 failed\"\n",
    "assert power_head(5, 2)  == 25,    \"Test case 3 failed\"\n",
    "assert power_head(2, 5)  == 32,    \"Test case 4 failed\"\n",
    "assert power_head(2, 10) == 1024,  \"Test case 5 failed\"\n",
    "\n",
    "print(\"All test cases passed!\")"
   ]
  },
  {
   "cell_type": "markdown",
   "metadata": {},
   "source": [
    "**5.b**. Write a tail-recursive version of the function."
   ]
  },
  {
   "cell_type": "code",
   "execution_count": null,
   "metadata": {},
   "outputs": [],
   "source": [
    "def power_tail(x, n, acc=1):\n",
    "    if n == 0:\n",
    "        return acc\n",
    "    else:\n",
    "        return power_tail(x, n-1, x*acc)\n",
    "    \n",
    "assert power_tail(10, 0) == 1,     \"Test case 1 failed\"\n",
    "assert power_tail(10, 1) == 10,    \"Test case 2 failed\"\n",
    "assert power_tail(5, 2)  == 25,    \"Test case 3 failed\"\n",
    "assert power_tail(2, 5)  == 32,    \"Test case 4 failed\"\n",
    "assert power_tail(2, 10) == 1024,  \"Test case 5 failed\"\n",
    "\n",
    "print(\"All test cases passed!\")"
   ]
  },
  {
   "cell_type": "markdown",
   "metadata": {},
   "source": [
    "### **Question 6**. Binary Search\n",
    "\n",
    "**6.a**. Write a head-recursive function that takes a list of numbers and a number as input and returns the index of the number in the list. If the number is not in the list, return -1."
   ]
  },
  {
   "cell_type": "code",
   "execution_count": null,
   "metadata": {},
   "outputs": [],
   "source": [
    "def binary_search_head(data, target):\n",
    "    \"\"\" Recursive binary search algorithm \"\"\"\n",
    "    if len(data) == 0:\n",
    "        return False\n",
    "    else:\n",
    "        mid = len(data) // 2\n",
    "        if data[mid] == target:\n",
    "            return True\n",
    "        elif data[mid] > target:\n",
    "            return binary_search_head(data[:mid], target)\n",
    "        else:\n",
    "            return binary_search_head(data[mid+1:], target)\n",
    "        \n",
    "assert binary_search_head([10, -20, 0, 5, 100], 0)   == True,  \"Test case 1 failed\"\n",
    "assert binary_search_head([10, -20, 0, 5, 100], 10)  == True,  \"Test case 2 failed\"\n",
    "assert binary_search_head([10, -20, 0, 5, 100], -1)  == False, \"Test case 3 failed\"\n",
    "assert binary_search_head([10, -20, 0, 5, 100], -20) == True,  \"Test case 4 failed\"\n",
    "assert binary_search_head([10, -20, 0, 5, 100], 101) == False, \"Test case 5 failed\"\n",
    "\n",
    "print(\"All test cases passed!\")"
   ]
  },
  {
   "cell_type": "markdown",
   "metadata": {},
   "source": [
    "**6.b**. Write a tail-recursive version of the function."
   ]
  },
  {
   "cell_type": "code",
   "execution_count": null,
   "metadata": {},
   "outputs": [],
   "source": [
    "def binary_search_tail(data, target):\n",
    "    \"\"\" Recursive binary search algorithm \"\"\"\n",
    "    def search(data, target, low, high):\n",
    "        if low > high:\n",
    "            return False\n",
    "        else:\n",
    "            mid = (low + high) // 2\n",
    "            if data[mid] == target:\n",
    "                return True\n",
    "            elif data[mid] > target:\n",
    "                return search(data, target, low, mid-1)\n",
    "            else:\n",
    "                return search(data, target, mid+1, high)\n",
    "    return search(data, target, 0, len(data)-1)"
   ]
  },
  {
   "cell_type": "markdown",
   "metadata": {},
   "source": [
    "### **Question 7**. Palindrome\n",
    "\n",
    "**7.a**. Write a head-recursive function that takes a string as input and returns True if the string is a palindrome, and False otherwise."
   ]
  },
  {
   "cell_type": "code",
   "execution_count": null,
   "metadata": {},
   "outputs": [],
   "source": [
    "def palindrome_head(s):\n",
    "    if len(s) <= 1:\n",
    "        return True\n",
    "    else:\n",
    "        return s[0] == s[-1] and palindrome_head(s[1:-1])\n",
    "    \n",
    "\n",
    "assert palindrome_head(\"racecar\") == True,  \"Test case 1 failed\"\n",
    "assert palindrome_head(\"hello\")   == False, \"Test case 2 failed\"\n",
    "assert palindrome_head(\"a\")       == True,  \"Test case 3 failed\"\n",
    "assert palindrome_head(\"ab\")      == False, \"Test case 4 failed\"\n",
    "assert palindrome_head(\"abba\")    == True,  \"Test case 5 failed\"\n",
    "\n",
    "print(\"All test cases passed!\")"
   ]
  },
  {
   "cell_type": "markdown",
   "metadata": {},
   "source": [
    "**7.b**. Write a tail-recursive version of the function."
   ]
  },
  {
   "cell_type": "code",
   "execution_count": null,
   "metadata": {},
   "outputs": [],
   "source": [
    "def palindrome_tail(s):\n",
    "    if len(s) <= 1:\n",
    "        return True\n",
    "    else:\n",
    "        return s[0] == s[-1] and palindrome_tail(s[1:-1])\n",
    "    \n",
    "assert palindrome_tail(\"racecar\") == True,  \"Test case 1 failed\"\n",
    "assert palindrome_tail(\"hello\")   == False, \"Test case 2 failed\"\n",
    "assert palindrome_tail(\"a\")       == True,  \"Test case 3 failed\"\n",
    "assert palindrome_tail(\"ab\")      == False, \"Test case 4 failed\"\n",
    "assert palindrome_tail(\"abba\")    == True,  \"Test case 5 failed\"\n",
    "\n",
    "print(\"All test cases passed!\")"
   ]
  },
  {
   "cell_type": "markdown",
   "metadata": {},
   "source": [
    "### **Question 8**. GCD\n",
    "\n",
    "The greatest common divisor (GCD) of two non-negative integers is the largest positive integer that divides each of the integers.\n",
    "\n",
    "The Euclidean algorithm is a method for finding the GCD of two numbers. The algorithm is based on the fact that the GCD of two numbers also divides their difference.\n",
    "\n",
    "$$ gcd(a, b) = gcd(b, a \\mod b) $$\n",
    "\n",
    "$$gcd(a, 0) = a$$\n",
    "\n",
    "**8.a**. Write a head-recursive function that takes two non-negative integers as input and returns their greatest common divisor."
   ]
  },
  {
   "cell_type": "code",
   "execution_count": null,
   "metadata": {},
   "outputs": [],
   "source": [
    "def gcd_head(a, b):\n",
    "    if b == 0:\n",
    "        return a\n",
    "    else:\n",
    "        return gcd_head(b, a%b)\n",
    "    \n",
    "assert gcd_head(10, 5)  == 5,   \"Test case 1 failed\"\n",
    "assert gcd_head(16, 8)  == 8,   \"Test case 2 failed\"\n",
    "assert gcd_head(12, 8)  == 4,   \"Test case 3 failed\"\n",
    "assert gcd_head(10, 20) == 10,  \"Test case 4 failed\"\n",
    "assert gcd_head(10, 0)  == 10,  \"Test case 5 failed\"\n",
    "\n",
    "print(\"All test cases passed!\")"
   ]
  },
  {
   "cell_type": "markdown",
   "metadata": {},
   "source": [
    "**8b.** Write a tail-recursive version of the function."
   ]
  },
  {
   "cell_type": "code",
   "execution_count": null,
   "metadata": {},
   "outputs": [],
   "source": [
    "def gcd_tail(a, b):\n",
    "    if b == 0:\n",
    "        return a\n",
    "    else:\n",
    "        return gcd_tail(b, a%b)\n",
    "    \n",
    "assert gcd_tail(10, 5)  == 5,   \"Test case 1 failed\"\n",
    "assert gcd_tail(16, 8)  == 8,   \"Test case 2 failed\"\n",
    "assert gcd_tail(12, 8)  == 4,   \"Test case 3 failed\"\n",
    "assert gcd_tail(10, 20) == 10,  \"Test case 4 failed\"\n",
    "assert gcd_tail(10, 0)  == 10,  \"Test case 5 failed\"\n",
    "\n",
    "print(\"All test cases passed!\")"
   ]
  },
  {
   "cell_type": "markdown",
   "metadata": {},
   "source": [
    "### **Question 9**. Sum of Digits\n",
    "\n",
    "Sum of digits of a non-negative integer is the sum of its digits. For example, the sum of digits of 123 is 6, because 1 + 2 + 3 = 6.\n",
    "\n",
    "**9.a**. Write a head-recursive function that takes a non-negative integer as input and returns the sum of its digits."
   ]
  },
  {
   "cell_type": "code",
   "execution_count": null,
   "metadata": {},
   "outputs": [],
   "source": [
    "def sum_of_digits_head(n):\n",
    "    if n < 10:\n",
    "        return n\n",
    "    else:\n",
    "        return n%10 + sum_of_digits_head(n//10)\n",
    "\n",
    "assert sum_of_digits_head(123)  == 6,  \"Test case 1 failed\"\n",
    "assert sum_of_digits_head(1234) == 10, \"Test case 2 failed\"\n",
    "assert sum_of_digits_head(0)    == 0,  \"Test case 3 failed\"\n",
    "assert sum_of_digits_head(99)   == 18, \"Test case 4 failed\"\n",
    "assert sum_of_digits_head(4000) == 4,  \"Test case 5 failed\"\n",
    "\n",
    "print(\"All test cases passed!\")"
   ]
  },
  {
   "cell_type": "markdown",
   "metadata": {},
   "source": [
    "**9.b**. Write a tail-recursive version of the function."
   ]
  },
  {
   "cell_type": "code",
   "execution_count": null,
   "metadata": {},
   "outputs": [],
   "source": [
    "def sum_of_digits_tail(n, acc=0):\n",
    "    if n < 10:\n",
    "        return n + acc\n",
    "    else:\n",
    "        return sum_of_digits_tail(n // 10, acc + n % 10)\n",
    "    \n",
    "assert sum_of_digits_tail(123)  == 6,  \"Test case 1 failed\"\n",
    "assert sum_of_digits_tail(1234) == 10, \"Test case 2 failed\"\n",
    "assert sum_of_digits_tail(0)    == 0,  \"Test case 3 failed\"\n",
    "assert sum_of_digits_tail(99)   == 18, \"Test case 4 failed\"\n",
    "assert sum_of_digits_tail(4000) == 4,  \"Test case 5 failed\"\n",
    "\n",
    "print(\"All test cases passed!\")"
   ]
  },
  {
   "cell_type": "markdown",
   "metadata": {},
   "source": [
    "### **Question 10**. Reverse\n",
    "\n",
    "**10.a**. Write a head-recursive function that takes a string as input and returns the reverse of the string.\n",
    "\n"
   ]
  },
  {
   "cell_type": "code",
   "execution_count": null,
   "metadata": {},
   "outputs": [],
   "source": [
    "def reverse_head(data):\n",
    "    if len(data) == 0:\n",
    "        return []\n",
    "    else:\n",
    "        return [data[-1]] + reverse_head(data[:-1])"
   ]
  },
  {
   "cell_type": "markdown",
   "metadata": {},
   "source": [
    "**10.b**. Write a tail-recursive version of the function."
   ]
  },
  {
   "cell_type": "code",
   "execution_count": null,
   "metadata": {},
   "outputs": [],
   "source": [
    "def reverse_tail(data, acc=[]):\n",
    "    if len(data) == 0:\n",
    "        return acc\n",
    "    else:\n",
    "        return reverse_tail(data[:-1], acc + [data[-1]])"
   ]
  }
 ],
 "metadata": {
  "language_info": {
   "name": "python"
  }
 },
 "nbformat": 4,
 "nbformat_minor": 2
}
