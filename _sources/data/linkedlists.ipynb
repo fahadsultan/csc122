{
 "cells": [
  {
   "attachments": {},
   "cell_type": "markdown",
   "metadata": {},
   "source": [
    "# Linked Lists"
   ]
  },
  {
   "cell_type": "markdown",
   "metadata": {},
   "source": [
    "<img align=\"right\" width=\"30%\" src=\"https://i.ibb.co/XjNP4Wd/Screen-Shot-2024-04-09-at-8-34-27-AM.png\">\n",
    "\n",
    "Linked lists are a **sequential** data structure that consist of an <u>ordered set of **Nodes**</u> in a _chain like structure_ . \n",
    "\n",
    "Linked lists are an ordered set of data elements, each containing a link to its successor (and sometimes its predecessor). The data elements are called **Nodes**. Each node contains a data element and a reference (or link) to the next node(s) in the sequence. Altogether, the data structure has a chain like structure 🔗 ⛓️.\n",
    "\n",
    "<!-- \n",
    "```{figure} \n",
    "---\n",
    "name: linked_list\n",
    "width: 30%\n",
    "---\n",
    "Linked lists are a sequential data structure that consist of an ordered set of nodes in a chain like structure. \n",
    "``` \n",
    "-->\n",
    "\n",
    "Linked lists are one of the most fundamental data structures in computer science. They belong to a family of data structures that are based on the concept of **Nodes** (also known as vertices) and **Links** (also known as edges). Other members of this family include trees and graphs. \n",
    "\n",
    "Where trees and graphs are hierarchical and non-linear data structures, linked lists are **linear** and **sequential**.\n",
    "\n",
    "```{figure} https://i.ibb.co/XDNkqfW/Screen-Shot-2024-04-09-at-8-16-00-AM.png\n",
    "---\n",
    "name: linked_list\n",
    "width: 100%\n",
    "---\n",
    "Linked lists belong to a family of data structures that are based on the concept of nodes and connections. Nodes are depicted as circles, and connections are depicted as arrows between the circles. \n",
    "```\n",
    "\n",
    "Nodes are the building blocks of linked lists. These are themselves data structures. Each node contains atleast two components:\n",
    "\n",
    "1. **Data**: The actual data that the node holds.\n",
    "2. **Pointers**: References to adjacent nodes in the sequence. These <u>references serve as the connections</u> between nodes.\n",
    "\n",
    "The first node in the linked list is called the **head**. The last node is called the **tail**. The tail node points to `null` or `None` to indicate the end of the list.\n",
    "\n"
   ]
  },
  {
   "attachments": {},
   "cell_type": "markdown",
   "metadata": {},
   "source": [
    "<hr/>\n",
    "\n",
    "There are many types of linked lists, each with their own distinct structure of connections. The three most common types are:\n",
    "\n",
    "\n",
    "```{figure} https://i.ibb.co/pwpcPdf/0-0-XVK02-Guco9x-JMJL.png\n",
    "---\n",
    "name: linked-list\n",
    "width: 95%\n",
    "---\n",
    "There are many types of linked lists, each with its own connection rules. The three most common types are **Singly Linked Lists** ➡️, **Doubly Linked Lists** ↔, and **Circular Linked Lists** 🔄, shown above. \n",
    "```\n",
    "\n",
    "\n",
    "1. **Singly Linked Lists** ➡️\n",
    "\n",
    "Singly linked lists contain nodes that have a reference to the next node in the sequence. The last node in the sequence has a reference to `None`.\n",
    "\n",
    "2. **Doubly Linked Lists** ↔\n",
    "\n",
    "Doubly linked lists contain nodes that have references to both the next and previous nodes in the sequence. The first node in the sequence has a reference to `None` for the previous node, and the last node in the sequence has a reference to `None` for the next node.\n",
    "\n",
    "3. **Circular Linked Lists** 🔄\n",
    "\n",
    "Circular linked lists are a type of linked list where the last node in the sequence has a reference to the first node in the sequence, creating a circular structure.\n"
   ]
  },
  {
   "cell_type": "code",
   "execution_count": null,
   "metadata": {},
   "outputs": [],
   "source": []
  }
 ],
 "metadata": {
  "kernelspec": {
   "display_name": "Python 3",
   "language": "python",
   "name": "python3"
  },
  "language_info": {
   "codemirror_mode": {
    "name": "ipython",
    "version": 3
   },
   "file_extension": ".py",
   "mimetype": "text/x-python",
   "name": "python",
   "nbconvert_exporter": "python",
   "pygments_lexer": "ipython3",
   "version": "3.9.6"
  },
  "orig_nbformat": 4
 },
 "nbformat": 4,
 "nbformat_minor": 2
}
