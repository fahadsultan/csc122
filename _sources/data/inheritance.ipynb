{
 "cells": [
  {
   "attachments": {},
   "cell_type": "markdown",
   "metadata": {},
   "source": [
    "# Extending Types\n",
    "\n",
    "In addition to creating our own classes, we can also extend the functionality of existing classes. This is done through inheritance.\n",
    "\n",
    "## Inheritance\n",
    "\n",
    "\n",
    "Inheritance is the process by which one class takes on the attributes and methods of another. Newly formed classes are called child classes, and the classes that child classes are derived from are called parent classes.\n",
    "\n",
    "It’s important to note that child classes override or extend the functionality (e.g., attributes and behaviors) of parent classes. In other words, child classes inherit all of the parent’s attributes and behaviors but can also specify different behavior to follow. The most basic type of class is an object, which generally all other classes inherit as their parent.\n",
    "\n",
    "<center><img src=\"https://cdn-images-1.medium.com/v2/resize:fit:1080/1*gRily1Y6mlrOETJeKRgvgw.png\" width=\"60%\"></center>\n",
    "\n",
    "Inheritance is a powerful feature in object oriented programming. It refers to defining a new class with little\n",
    "\n",
    "or no modification to an existing class. The new class is called derived (or child) class and the one from which it is derived is called the base (or parent) class.\n",
    "\n",
    "The derived class inherits all the features from the base class and can have additional features of its own.\n",
    "\n",
    "```python\n",
    "class ParentClass:\n",
    "    # class definition\n",
    "    pass\n",
    "\n",
    "class ChildClass(ParentClass):\n",
    "    # class definition\n",
    "    pass\n",
    "```\n",
    "\n",
    "In the above example, `ChildClass` is derived from `ParentClass`. The derived class `ChildClass` inherits all the features from the base class `ParentClass`.\n",
    "\n",
    "### Example: `Rectangle` and `Square`\n",
    "\n",
    "In this example, we have a class `Rectangle` and a class `Square` that inherits from `Rectangle`.\n",
    "\n",
    "```python\n",
    "class Rectangle:\n",
    "    def __init__(self, length, width):\n",
    "        self.length = length\n",
    "        self.width = width\n",
    "\n",
    "    def area(self):\n",
    "        return self.length * self.width\n",
    "\n",
    "    def perimeter(self):\n",
    "        return 2 * (self.length + self.width)\n",
    "\n",
    "class Square(Rectangle):\n",
    "\n",
    "    def __init__(self, side):\n",
    "        super().__init__(side, side)\n",
    "```"
   ]
  },
  {
   "cell_type": "markdown",
   "metadata": {},
   "source": [
    "<br/>\n",
    "<center><img src=\"https://cdn-images-1.medium.com/v2/resize:fit:1080/1*gvHEf4lT2m_dHyH6c0UC1Q.png\" width=\"70%\"></center>\n",
    "<br/>"
   ]
  },
  {
   "cell_type": "markdown",
   "metadata": {},
   "source": [
    "## Polymorphism\n",
    "\n",
    "Most of the methods we have written only work for a specific type. When you create a new object, you write methods that operate on that type.\n",
    "\n",
    "But there are certain operations that you will want to apply to many types, such as the arithmetic operations in the previous sections. If many types support the same set of operations, you can write functions that work on any of those types.\n",
    "\n",
    "For example, the `multadd` operation (which is common in linear algebra) takes three parameters; it multiplies the first two and then adds the third. We can write it in Python like this:"
   ]
  },
  {
   "cell_type": "code",
   "execution_count": null,
   "metadata": {},
   "outputs": [],
   "source": [
    "def multadd (x, y, z):\n",
    "    return x * y + z"
   ]
  },
  {
   "cell_type": "markdown",
   "metadata": {},
   "source": [
    "This method will work for any values of x and y that can be multiplied and for any value of z that can be added to the product.\n",
    "\n",
    "We can invoke it with numeric values:"
   ]
  },
  {
   "cell_type": "code",
   "execution_count": null,
   "metadata": {},
   "outputs": [],
   "source": [
    "multadd (3, 2, 1)"
   ]
  },
  {
   "cell_type": "markdown",
   "metadata": {},
   "source": [
    "Or with `Points`:"
   ]
  },
  {
   "cell_type": "code",
   "execution_count": null,
   "metadata": {},
   "outputs": [],
   "source": [
    "p1 = Point(3, 4)\n",
    "p2 = Point(5, 7)\n",
    "print(multadd (2, p1, p2)), print(multadd (p1, p2, 1))"
   ]
  },
  {
   "cell_type": "markdown",
   "metadata": {},
   "source": [
    "In the first case, the `Point` is multiplied by a scalar and then added to another `Point`. In the second case, the dot product yields a numeric value, so the third parameter also has to be a numeric value.\n",
    "\n",
    "A function like this that can take parameters with different types is called **polymorphic**.\n",
    "\n",
    "As another example, consider the method `front_and_back`, which prints a list twice, forward and backward:"
   ]
  },
  {
   "cell_type": "code",
   "execution_count": null,
   "metadata": {},
   "outputs": [],
   "source": [
    "def front_and_back(front):\n",
    "    import copy\n",
    "    back = copy.copy(front)\n",
    "    back.reverse()\n",
    "    print(str(front) + str(back))"
   ]
  },
  {
   "cell_type": "markdown",
   "metadata": {},
   "source": [
    "Because the `reverse` method is a modifier, we make a copy of the list before reversing it. That way, this method doesn’t modify the list it gets as a parameter.\n",
    "\n",
    "Here’s an example that applies `front_and_back` to a list:"
   ]
  },
  {
   "cell_type": "code",
   "execution_count": null,
   "metadata": {},
   "outputs": [],
   "source": [
    "myList = [1, 2, 3, 4]\n",
    "front_and_back(myList)"
   ]
  },
  {
   "cell_type": "markdown",
   "metadata": {},
   "source": [
    "Of course, we intended to apply this function to lists, so it is not surprising that it works. What would be surprising is if we could apply it to a `Point`.\n",
    "\n",
    "To determine whether a function can be applied to a new type, we apply the fundamental rule of polymorphism: If all of the operations inside the function can be applied to the type, the function can be applied to the type. The operations in the method include `copy`, `reverse`, and `print`.\n",
    "\n",
    "`copy` works on any object, and we have already written a `__str__` method for `Points`, so all we need is a `reverse` method in the `Point` class:"
   ]
  },
  {
   "cell_type": "code",
   "execution_count": null,
   "metadata": {},
   "outputs": [],
   "source": [
    "def reverse(self):\n",
    "    self.x , self.y = self.y, self.x"
   ]
  },
  {
   "cell_type": "markdown",
   "metadata": {},
   "source": [
    "Then we can pass `Points` to `front_and_back`:"
   ]
  },
  {
   "cell_type": "code",
   "execution_count": null,
   "metadata": {},
   "outputs": [],
   "source": [
    "p = Point(3, 4)\n",
    "front_and_back(p)"
   ]
  },
  {
   "cell_type": "markdown",
   "metadata": {},
   "source": [
    "The best kind of polymorphism is the unintentional kind, where you discover that a function you have already written can be applied to a type for which you never planned."
   ]
  }
 ],
 "metadata": {
  "language_info": {
   "name": "python"
  },
  "orig_nbformat": 4
 },
 "nbformat": 4,
 "nbformat_minor": 2
}
