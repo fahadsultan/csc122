{
 "cells": [
  {
   "attachments": {},
   "cell_type": "markdown",
   "metadata": {},
   "source": [
    "# Sets"
   ]
  },
  {
   "cell_type": "markdown",
   "metadata": {},
   "source": [
    "* Sets, similar to lists and tuples, are used to store multiple items in a single variable.\n",
    "\n",
    "* A set is a collection which is **unordered** and **unindexed**.\n",
    "\n",
    "    * Set items are unchangeable, but you can remove items and add new items.\n",
    "    \n",
    "    <br/>\n",
    "\n",
    "Type | Collection | Syntax | Ordered | Indexed | Mutable | Passed By | Duplicates Allowed \n",
    ":------------: | :-------------:|:-------------:|:-------------:|:-------------:| :-------------:| :-------------:|:-------------:\n",
    "`strings` | characters | `\" \"` | &check; |&check; | &cross; | value | &check;\n",
    "`list` | any data type | `[ ]` | &check; |&check; |  &check; | reference | &check;\n",
    "`tuple` | any data type | `( )` | &check; | &check; |  &cross; | value | &check;\n",
    "**`set`** | **any data type** | **`{ }`** | **&cross;** | **&cross;** |  **&cross;** | **value** | **&cross;**"
   ]
  },
  {
   "attachments": {},
   "cell_type": "markdown",
   "metadata": {},
   "source": [
    "### Creating a Set\n",
    "\n",
    "* Sets are written with curly brackets `{ }`"
   ]
  },
  {
   "cell_type": "code",
   "execution_count": null,
   "metadata": {},
   "outputs": [],
   "source": [
    "colors =  {\"blue\", \"red\", \"green\"}\n",
    "colors2 = [\"blue\", \"red\", \"green\"]\n",
    "\n",
    "print(colors)\n",
    "print(colors2)\n",
    "print(type(colors))\n",
    "print(type(colors2))"
   ]
  },
  {
   "attachments": {},
   "cell_type": "markdown",
   "metadata": {},
   "source": [
    "### Sets are Unordered\n",
    "\n",
    "* Unordered means that the items in a set do not have a defined order.\n",
    "\n",
    "* Set items can appear in a **different order every time** you use them\n",
    "\n",
    "* Set items **cannot be referred to by index or key**."
   ]
  },
  {
   "cell_type": "code",
   "execution_count": null,
   "metadata": {},
   "outputs": [],
   "source": [
    "a = {\"blue\", \"red\", \"green\"}\n",
    "print(a)"
   ]
  },
  {
   "attachments": {},
   "cell_type": "markdown",
   "metadata": {},
   "source": [
    "### Immutable\n",
    "\n",
    "* Set items are **immutable**: cannot be change the items after the set has been created.\n",
    "\n",
    "* After creation of set, its items cannot be changed\n",
    "    * You can remove items and add new items.\n",
    "    \n",
    "* **Passed** to functions **by value**"
   ]
  },
  {
   "cell_type": "code",
   "execution_count": null,
   "metadata": {},
   "outputs": [],
   "source": [
    "def func(a):\n",
    "    a = {\"blue\", \"red\", \"green\", \"yellow\"}\n",
    "\n",
    "a = {\"blue\", \"red\", \"green\"}\n",
    "\n",
    "func(a)\n",
    "\n",
    "print(a)"
   ]
  },
  {
   "attachments": {},
   "cell_type": "markdown",
   "metadata": {},
   "source": [
    "### Duplicates Not Allowed\n",
    "\n",
    " * Sets cannot have two items with the same value.\n",
    "\n",
    " * Duplicate values will be ignored:"
   ]
  },
  {
   "cell_type": "code",
   "execution_count": null,
   "metadata": {},
   "outputs": [
    {
     "name": "stdout",
     "output_type": "stream",
     "text": [
      "{'green', 'blue', 'red'}\n",
      "3\n"
     ]
    }
   ],
   "source": [
    "thisset = {\"blue\", \"red\", \"green\", \"red\", \"red\", \"green\"}\n",
    "\n",
    "print(thisset)\n",
    "\n",
    "print(len(thisset))"
   ]
  },
  {
   "attachments": {},
   "cell_type": "markdown",
   "metadata": {},
   "source": [
    "### Length of Set\n",
    "\n",
    "* Get the Length of a Set\n",
    "\n",
    "* To determine how many items a set has, use the len() function.\n",
    "\n",
    "* Get the number of items in a set:"
   ]
  },
  {
   "cell_type": "code",
   "execution_count": null,
   "metadata": {},
   "outputs": [
    {
     "name": "stdout",
     "output_type": "stream",
     "text": [
      "['blue', 'red', 'green', 'red', 'red']\n"
     ]
    }
   ],
   "source": [
    "listt = [\"blue\", \"red\", \"green\", \"red\", \"red\"]\n",
    "print(listt)"
   ]
  },
  {
   "cell_type": "code",
   "execution_count": null,
   "metadata": {},
   "outputs": [
    {
     "name": "stdout",
     "output_type": "stream",
     "text": [
      "{'green', 'blue', 'red'}\n"
     ]
    }
   ],
   "source": [
    "listt = set(listt)\n",
    "print(listt)"
   ]
  },
  {
   "attachments": {},
   "cell_type": "markdown",
   "metadata": {},
   "source": [
    "## Set Items - Data Types\n",
    "\n",
    "* Set items can be of any data type e.g. `str`, `int`, `float` and `bool`"
   ]
  },
  {
   "cell_type": "code",
   "execution_count": null,
   "metadata": {},
   "outputs": [],
   "source": [
    "string = \"aaab\"\n",
    "set(string)"
   ]
  },
  {
   "cell_type": "code",
   "execution_count": null,
   "metadata": {},
   "outputs": [
    {
     "name": "stdout",
     "output_type": "stream",
     "text": [
      "{True, 34, 40, 'male', 'abc'}\n"
     ]
    }
   ],
   "source": [
    "set1 = {\"blue\", \"red\", \"green\",}\n",
    "set2 = {1, 5, 7, 9, 3}\n",
    "set3 = {True, False, False}\n",
    "set4 = {\"abc\", 34, True, 40, \"male\"}\n",
    "\n",
    "print(set4)"
   ]
  },
  {
   "attachments": {},
   "cell_type": "markdown",
   "metadata": {},
   "source": [
    "## Set Operations: Add Set Items\n",
    "\n",
    "* Once a set is created, you cannot change its items, but you can add new items.\n",
    "* To add one item to a set use the `add()` method."
   ]
  },
  {
   "cell_type": "code",
   "execution_count": null,
   "metadata": {},
   "outputs": [
    {
     "name": "stdout",
     "output_type": "stream",
     "text": [
      "[1, 2, 3, 4]\n"
     ]
    }
   ],
   "source": [
    "listt = [1, 2, 3]\n",
    "listt.append(4)\n",
    "print(listt)"
   ]
  },
  {
   "cell_type": "code",
   "execution_count": null,
   "metadata": {},
   "outputs": [
    {
     "name": "stdout",
     "output_type": "stream",
     "text": [
      "abcd\n"
     ]
    }
   ],
   "source": [
    "string = \"abc\"\n",
    "string = string + \"d\"\n",
    "print(string)"
   ]
  },
  {
   "cell_type": "code",
   "execution_count": null,
   "metadata": {},
   "outputs": [
    {
     "name": "stdout",
     "output_type": "stream",
     "text": [
      "{'green', 'blue', 'red', 'orange'}\n"
     ]
    }
   ],
   "source": [
    "thisset = {\"blue\", \"red\", \"green\"}\n",
    "thisset.add(\"orange\")\n",
    "print(thisset)"
   ]
  },
  {
   "attachments": {},
   "cell_type": "markdown",
   "metadata": {},
   "source": [
    "## Update Sets\n",
    "\n",
    "* To add items from another set into the current set, use the `update()` method.\n",
    "\n",
    "* Add elements from color_1 into color_2:"
   ]
  },
  {
   "cell_type": "code",
   "execution_count": null,
   "metadata": {},
   "outputs": [
    {
     "name": "stdout",
     "output_type": "stream",
     "text": [
      "{'blue', 'red', 'indigo', 'yellow', 'green', 'orange'}\n",
      "{'indigo', 'orange', 'yellow'}\n"
     ]
    }
   ],
   "source": [
    "color_1 = {\"blue\", \"red\", \"green\"}\n",
    "color_2 = {\"yellow\", \"indigo\", \"orange\"}\n",
    "\n",
    "color_1.update(color_2)\n",
    "\n",
    "# color_1.add(\"yellow\")\n",
    "# color_1.add(\"indigo\")\n",
    "# color_1.add(\"orange\")\n",
    "\n",
    "print(color_1)\n",
    "print(color_2)"
   ]
  },
  {
   "attachments": {},
   "cell_type": "markdown",
   "metadata": {},
   "source": [
    "## Remove Item\n",
    "\n",
    "* To remove an item in a set, use the `remove()`, or the `discard()` method.\n",
    "\n",
    "* If the item to remove does not exist, `discard()` will NOT raise an error."
   ]
  },
  {
   "cell_type": "code",
   "execution_count": null,
   "metadata": {},
   "outputs": [
    {
     "name": "stdout",
     "output_type": "stream",
     "text": [
      "{'green', 'red'}\n"
     ]
    }
   ],
   "source": [
    "thisset = {\"blue\", \"red\", \"green\"}\n",
    "thisset.remove(\"blue\")\n",
    "print(thisset)"
   ]
  },
  {
   "cell_type": "code",
   "execution_count": null,
   "metadata": {},
   "outputs": [
    {
     "name": "stdout",
     "output_type": "stream",
     "text": [
      "{'green', 'red'}\n"
     ]
    }
   ],
   "source": [
    "thisset = {\"blue\", \"red\", \"green\"}\n",
    "thisset.discard(\"blue\")\n",
    "print(thisset)"
   ]
  },
  {
   "cell_type": "code",
   "execution_count": null,
   "metadata": {},
   "outputs": [
    {
     "name": "stdout",
     "output_type": "stream",
     "text": [
      "set()\n"
     ]
    }
   ],
   "source": [
    "thisset = {\"blue\", \"red\", \"green\"}\n",
    "thisset.clear()\n",
    "print(thisset)"
   ]
  },
  {
   "cell_type": "markdown",
   "metadata": {},
   "source": [
    "# Set Operations\n",
    "\n",
    "<center><img src=\"https://miro.medium.com/max/1000/1*p_tVVeiut8GNxGKoSZa6cw.png\"></img></center>"
   ]
  },
  {
   "attachments": {},
   "cell_type": "markdown",
   "metadata": {},
   "source": [
    "## Set Operations - Union\n",
    "\n",
    "* There are several ways to join two or more sets in Python.\n",
    "\n",
    "* You can use the `union()` or `update()` method that returns a new set containing all items from both sets\n",
    "\n",
    "* Both `union()` and `update()` will exclude any duplicate items."
   ]
  },
  {
   "cell_type": "code",
   "execution_count": null,
   "metadata": {},
   "outputs": [
    {
     "name": "stdout",
     "output_type": "stream",
     "text": [
      "{1, 2, 3, 'b', 'a', 'c'}\n",
      "{1, 2, 3}\n"
     ]
    }
   ],
   "source": [
    "set1 = {\"a\", \"b\" , \"c\"}\n",
    "set2 = {1, 2, 3}\n",
    "\n",
    "set1 = set1.union(set2)\n",
    "print(set1)\n",
    "print(set2)"
   ]
  },
  {
   "attachments": {},
   "cell_type": "markdown",
   "metadata": {},
   "source": [
    "## Set Operations - Intersection\n",
    "\n",
    "The `intersection_update()` method will keep only the items that are present in both sets.\n",
    "\n",
    "Keep the items that exist in both set `x`, and set `y`:"
   ]
  },
  {
   "cell_type": "code",
   "execution_count": null,
   "metadata": {},
   "outputs": [
    {
     "name": "stdout",
     "output_type": "stream",
     "text": [
      "{'apple'}\n"
     ]
    }
   ],
   "source": [
    "x = {\"apple\", \"banana\", \"cherry\"}\n",
    "y = {\"google\", \"microsoft\", \"apple\"}\n",
    "\n",
    "x.intersection_update(y)\n",
    "x = x.intersection(y)\n",
    "\n",
    "print(x)"
   ]
  },
  {
   "cell_type": "markdown",
   "metadata": {},
   "source": [
    "The `intersection()` method will **return a new set**, that only contains the items that are present in both sets.\n",
    "\n",
    "Return a set that contains the items that exist in both set `x`, and set `y`:"
   ]
  },
  {
   "cell_type": "code",
   "execution_count": null,
   "metadata": {},
   "outputs": [
    {
     "name": "stdout",
     "output_type": "stream",
     "text": [
      "{'apple'}\n"
     ]
    }
   ],
   "source": [
    "x = {\"apple\", \"banana\", \"cherry\"}\n",
    "y = {\"google\", \"microsoft\", \"apple\"}\n",
    "\n",
    "x = x.intersection(y)\n",
    "\n",
    "print(x)"
   ]
  },
  {
   "attachments": {},
   "cell_type": "markdown",
   "metadata": {},
   "source": [
    "## Symmetric Difference\n",
    "\n",
    "* Keep All, But NOT the Duplicates\n",
    "\n",
    "*  The `symmetric_difference_update()` method will keep only the elements that are NOT present in both sets."
   ]
  },
  {
   "cell_type": "code",
   "execution_count": null,
   "metadata": {},
   "outputs": [
    {
     "name": "stdout",
     "output_type": "stream",
     "text": [
      "{'microsoft', 'cherry', 'banana', 'google'}\n"
     ]
    }
   ],
   "source": [
    "x = {\"apple\", \"banana\", \"cherry\"}\n",
    "y = {\"google\", \"microsoft\", \"apple\"}\n",
    "\n",
    "x.symmetric_difference_update(y)\n",
    "\n",
    "print(x)"
   ]
  },
  {
   "cell_type": "markdown",
   "metadata": {},
   "source": [
    "The `symmetric_difference()` method will return a new set, that contains only the elements that are NOT present in both sets.\n",
    "\n",
    "Return a set that contains all items from both sets, except items that are present in both:"
   ]
  },
  {
   "cell_type": "code",
   "execution_count": null,
   "metadata": {},
   "outputs": [
    {
     "name": "stdout",
     "output_type": "stream",
     "text": [
      "{'microsoft', 'cherry', 'banana', 'google'}\n"
     ]
    }
   ],
   "source": [
    "x = {\"apple\", \"banana\", \"cherry\"}\n",
    "y = {\"google\", \"microsoft\", \"apple\"}\n",
    "\n",
    "z =  x.symmetric_difference(y)\n",
    "\n",
    "print(z)"
   ]
  },
  {
   "attachments": {},
   "cell_type": "markdown",
   "metadata": {},
   "source": [
    "# Summary\n",
    "<br/>\n",
    "\n",
    "Type | Collection | Syntax | Ordered | Indexed | Mutable | Passed By | Duplicates Allowed \n",
    ":------------: | :-------------:|:-------------:|:-------------:|:-------------:| :-------------:| :-------------:|:-------------:\n",
    "`strings` | characters | `\" \"` | &check; |&check; | &cross; | value | &check;\n",
    "`list` | any data type | `[ ]` | &check; |&check; |  &check; | reference | &check;\n",
    "`tuple` | any data type | `( )` | &check; | &check; |  &cross; | value | &check;\n",
    "`set` | any data type | `{ }` | &cross; | &cross; |  &cross; | value | &cross;"
   ]
  },
  {
   "attachments": {},
   "cell_type": "markdown",
   "metadata": {},
   "source": [
    "## _Exercises_\n",
    "\n",
    "Write a function that accepts as input a list or string `sequence` and returns a set of unique items in `sequence`"
   ]
  },
  {
   "cell_type": "code",
   "execution_count": null,
   "metadata": {},
   "outputs": [
    {
     "data": {
      "text/plain": [
       "set"
      ]
     },
     "metadata": {},
     "output_type": "display_data"
    }
   ],
   "source": [
    "# a = {}\n",
    "a = set()\n",
    "type(a)"
   ]
  },
  {
   "cell_type": "code",
   "execution_count": null,
   "metadata": {},
   "outputs": [],
   "source": [
    "def drop_duplicates(sequence):\n",
    "    \n",
    "    return \n",
    "    \n",
    "    \n",
    "assert drop_duplicates([1, 1, 2, 2, 2, 3, 3])=={1, 2, 3}\n",
    "assert drop_duplicates(\"aaaabbbbccccc\")=={\"a\", \"b\", \"c\"}\n",
    "assert drop_duplicates([1, 2, 3])=={1, 2, 3}"
   ]
  }
 ],
 "metadata": {
  "language_info": {
   "name": "python"
  },
  "orig_nbformat": 4
 },
 "nbformat": 4,
 "nbformat_minor": 2
}
