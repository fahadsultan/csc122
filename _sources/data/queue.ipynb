{
 "cells": [
  {
   "attachments": {},
   "cell_type": "markdown",
   "metadata": {},
   "source": [
    "# Queue\n",
    "\n",
    "This chapter presents two ADTs: the Queue and the Priority Queue. In real life, a **queue** is a line of customers waiting for service of some kind. In most cases, the first customer in line is the next customer to be served. There are exceptions, though. At airports, customers whose flights are leaving soon are sometimes taken from the middle of the queue. At supermarkets, a polite customer might let someone with only a few items go first.\n",
    "\n",
    "The rule that determines who goes next is called the **queueing policy**. The simplest queueing policy is called **FIFO**, for first- in-first-out. The most general queueing policy is **priority queueing**, in which each customer is assigned a priority and the customer with the highest priority goes first, regardless of the order of arrival. We say this is the most general policy because the priority can be based on anything: what time a flight leaves; how many groceries the customer has; or how important the customer is. Of course, not all queueing policies are fair, but fairness is in the eye of the beholder.\n",
    "\n",
    "The Queue ADT and the Priority Queue ADT have the same set of operations. The difference is in the semantics of the operations: a queue uses the FIFO policy; and a priority queue (as the name suggests) uses the priority queueing policy.\n",
    "\n",
    "## The Queue ADT\n",
    "\n",
    "The Queue ADT is defined by the following operations:\n",
    "\n",
    "* `__init__`: Initialize a new empty queue.\n",
    "* `insert`: Add a new item to the queue.\n",
    "* `remove`: Remove and return an item from the queue. The item that is returned is the first one that was added.\n",
    "* `is_empty`: Check whether the queue is empty.\n",
    "\n",
    "## Linked Queue\n",
    "\n",
    "The first implementation of the Queue ADT we will look at is called a **linked queue** because it is made up of linked Node objects. Here is the class definition:"
   ]
  },
  {
   "cell_type": "code",
   "execution_count": null,
   "metadata": {},
   "outputs": [],
   "source": [
    "class Queue(object):\n",
    "    def __init__(self):\n",
    "        self.length = 0\n",
    "        self.head = None\n",
    "\n",
    "    def is_empty(self):\n",
    "        return (self.length == 0)\n",
    "\n",
    "    def insert(self, cargo):\n",
    "        node = Node(cargo)\n",
    "        node.next = None\n",
    "        if self.head == None:\n",
    "            # if list is empty the new node goes first\n",
    "            self.head = node\n",
    "        else:\n",
    "            # find the last node in the list\n",
    "            last = self.head\n",
    "            while last.next: last = last.next\n",
    "            # append the new node\n",
    "            last.next = node\n",
    "        self.length = self.length + 1\n",
    "\n",
    "    def remove(self):\n",
    "        cargo = self.head.cargo\n",
    "        self.head = self.head.next\n",
    "        self.length = self.length - 1\n",
    "        return cargo"
   ]
  },
  {
   "attachments": {},
   "cell_type": "markdown",
   "metadata": {},
   "source": [
    "The methods `is_empty` and `remove` are identical to the `LinkedList` methods `is_empty` and `remove_first`. The `insert` method is new and a bit more complicated.\n",
    "\n",
    "We want to insert new items at the end of the list. If the queue is empty, we just set `head` to refer to the new node.\n",
    "\n",
    "Otherwise, we traverse the list to the last node and tack the new node on the end. We can identify the last node because its `next` attribute is `None`.\n",
    "\n",
    "There are two invariants for a properly formed `Queue` object. The value of `length` should be the number of nodes in the queue, and the last node should have `next` equal to `None`. Convince yourself that this method preserves both invariants.\n",
    "\n",
    "## Performance characteristics\n",
    "\n",
    "Normally when we invoke a method, we are not concerned with the details of its implementation. But there is one detail we might want to know—the performance characteristics of the method. How long does it take, and how does the run time change as the number of items in the collection increases?\n",
    "\n",
    "First look at `remove`. There are no loops or function calls here, suggesting that the runtime of this method is the same every time. Such a method is called a **constant-time** operation. In reality, the method might be slightly faster when the list is empty since it skips the body of the conditional, but that difference is not significant.\n",
    "\n",
    "The performance of `insert` is very different. In the general case, we have to traverse the list to find the last element.\n",
    "\n",
    "This traversal takes time proportional to the length of the list. Since the runtime is a linear function of the length, this method is called **linear time**. Compared to constant time, that’s very bad.\n",
    "\n",
    "## Improved Linked Queue\n",
    "\n",
    "We would like an implementation of the Queue ADT that can perform all operations in constant time. One way to do that is to modify the Queue class so that it maintains a reference to both the first and the last node, as shown in the figure:\n",
    "\n",
    "The `ImprovedQueue` implementation looks like this:"
   ]
  },
  {
   "cell_type": "code",
   "execution_count": null,
   "metadata": {},
   "outputs": [],
   "source": [
    "class ImprovedQueue(object):\n",
    "    def __init__(self):\n",
    "        self.length = 0\n",
    "        self.head   = None\n",
    "        self.last   = None\n",
    "\n",
    "    def is_empty(self):\n",
    "        return (self.length == 0)"
   ]
  },
  {
   "attachments": {},
   "cell_type": "markdown",
   "metadata": {},
   "source": [
    "So far, the only change is the attribute `last`. It is used in `insert` and `remove` methods:"
   ]
  },
  {
   "cell_type": "code",
   "execution_count": null,
   "metadata": {},
   "outputs": [],
   "source": [
    "class ImprovedQueue(object):\n",
    "    ...\n",
    "    def insert(self, cargo):\n",
    "        node = Node(cargo)\n",
    "        node.next = None\n",
    "        if self.length == 0:\n",
    "            # if list is empty, the new node is head and last\n",
    "            self.head = self.last = node\n",
    "        else:\n",
    "            # find the last node\n",
    "            last = self.last\n",
    "            # append the new node\n",
    "            last.next = node\n",
    "            self.last = node\n",
    "        self.length = self.length + 1"
   ]
  },
  {
   "attachments": {},
   "cell_type": "markdown",
   "metadata": {},
   "source": [
    "Since `last` keeps track of the last node, we don’t have to search for it. As a result, this method is constant time.\n",
    "\n",
    "There is a price to pay for that speed. We have to add a special case to `remove` to set `last` to `None` when the last node is removed:"
   ]
  },
  {
   "cell_type": "code",
   "execution_count": null,
   "metadata": {},
   "outputs": [],
   "source": [
    "class ImprovedQueue(object):\n",
    "    ...\n",
    "    def remove(self):\n",
    "        cargo = self.head.cargo\n",
    "        self.head = self.head.next\n",
    "        self.length = self.length - 1\n",
    "        if self.length == 0:\n",
    "            self.last = None\n",
    "        return cargo"
   ]
  },
  {
   "attachments": {},
   "cell_type": "markdown",
   "metadata": {},
   "source": [
    "This implementation is more complicated than the Linked Queue implementation, and it is more difficult to demonstrate that it is correct. The advantage is that we have achieved the goal – both `insert` and `remove` are constant-time operations.\n",
    "\n",
    "## Priority queue\n",
    "\n",
    "The Priority Queue ADT has the same interface as the Queue ADT, but different semantics. Again, the interface is:\n",
    "\n",
    "* `__init__`\n",
    "    Initialize a new empty queue.\n",
    "\n",
    "* `insert`\n",
    "    Add a new item to the queue.\n",
    "\n",
    "* `remove`\n",
    "    Remove and return an item from the queue. The item that is returned is the one with the highest priority.\n",
    "\n",
    "* `is_empty`\n",
    "    Check whether the queue is empty.\n",
    "\n",
    "The semantic difference is that the item that is removed from the queue is not necessarily the first one that was added. Rather, it is the item in the queue that has the highest priority. What the priorities are and how they compare to each other are not specified by the Priority Queue implementation. It depends on which items are in the queue.\n",
    "\n",
    "For example, if the items in the queue have names, we might choose them in alphabetical order. If they are bowling scores, we might go from highest to lowest, but if they are golf scores, we would go from lowest to highest. As long as we can compare the items in the queue, we can find and remove the one with the highest priority.\n",
    "\n",
    "This implementation of Priority Queue has as an attribute a Python list that contains the items in the queue."
   ]
  },
  {
   "cell_type": "code",
   "execution_count": null,
   "metadata": {},
   "outputs": [],
   "source": [
    "class PriorityQueue(object):\n",
    "    def __init__(self):\n",
    "        self.items = []\n",
    "\n",
    "    def is_empty(self):\n",
    "        return self.items == []\n",
    "\n",
    "    def insert(self, item):\n",
    "        self.items.append(item)"
   ]
  },
  {
   "attachments": {},
   "cell_type": "markdown",
   "metadata": {},
   "source": [
    "The initialization method, `is_empty`, and `insert` are all veneers on list operations. The only interesting method is `remove`:"
   ]
  },
  {
   "cell_type": "code",
   "execution_count": null,
   "metadata": {},
   "outputs": [],
   "source": [
    "class PriorityQueue(object):\n",
    "    ...\n",
    "    def remove(self):\n",
    "        maxi = 0\n",
    "        for i in range(1, len(self.items)):\n",
    "            if self.items[i] > self.items[maxi]: maxi = i\n",
    "        item = self.items[maxi]\n",
    "        self.items[maxi:maxi+1] = []\n",
    "        return item"
   ]
  },
  {
   "attachments": {},
   "cell_type": "markdown",
   "metadata": {},
   "source": [
    "At the beginning of each iteration, `maxi` holds the index of the biggest item (highest priority) we have seen _so far_. Each time through the loop, the program compares the `i`-eth item to the champion. If the new item is bigger, the value of `maxi` if set to `i`.\n",
    "\n",
    "When the `for` statement completes, `maxi` is the index of the biggest item. This item is removed from the list and returned.\n",
    "\n",
    "Let’s test the implementation:"
   ]
  },
  {
   "cell_type": "code",
   "execution_count": null,
   "metadata": {},
   "outputs": [],
   "source": [
    "q = PriorityQueue()\n",
    "q.insert(11)\n",
    "q.insert(12)\n",
    "q.insert(14)\n",
    "q.insert(13)\n",
    "while not q.is_empty(): print(q.remove())"
   ]
  },
  {
   "attachments": {},
   "cell_type": "markdown",
   "metadata": {},
   "source": [
    "If the queue contains simple numbers or strings, they are removed in numerical or alphabetical order, from highest to lowest. Python can find the biggest integer or string because it can compare them using the built-in comparison operators.\n",
    "\n",
    "If the queue contains an object type, it has to provide a `__cmp__` method. When `remove` uses the `>` operator to compare items, it invokes the `__cmp__` for one of the items and passes the other as a parameter. As long as the `__cmp__` method works correctly, the Priority Queue will work.\n",
    "\n",
    "## The Golfer class\n",
    "\n",
    "As an example of an object with an unusual definition of priority, let’s implement a class called `Golfer` that keeps track of the names and scores of golfers. As usual, we start by defining `__init__` and `__str__`:"
   ]
  },
  {
   "cell_type": "code",
   "execution_count": null,
   "metadata": {},
   "outputs": [],
   "source": [
    "class Golfer(object):\n",
    "    def __init__(self, name, score):\n",
    "        self.name = name\n",
    "        self.score= score\n",
    "\n",
    "    def __str__(self):\n",
    "        return \"%-16s: %d\" % (self.name, self.score)"
   ]
  },
  {
   "attachments": {},
   "cell_type": "markdown",
   "metadata": {},
   "source": [
    "`__str__` uses the format operator to put the names and scores in neat columns.\n",
    "\n",
    "Next we define a version of `__cmp__` where the lowest score gets highest priority. As always, `__cmp__` returns 1 if self is greater than `other`, -1 if `self` is less than other, and 0 if they are equal."
   ]
  },
  {
   "cell_type": "code",
   "execution_count": null,
   "metadata": {},
   "outputs": [],
   "source": [
    "class Golfer(object):\n",
    "    ...\n",
    "    def __cmp__(self, other):\n",
    "        if self.score < other.score: return  1   # less is more\n",
    "        if self.score > other.score: return -1\n",
    "        return 0"
   ]
  },
  {
   "attachments": {},
   "cell_type": "markdown",
   "metadata": {},
   "source": [
    "Now we are ready to test the priority queue with the `Golfer` class:"
   ]
  },
  {
   "cell_type": "code",
   "execution_count": null,
   "metadata": {},
   "outputs": [],
   "source": [
    "tiger = Golfer(\"Tiger Woods\",    61)\n",
    "phil  = Golfer(\"Phil Mickelson\", 72)\n",
    "hal   = Golfer(\"Hal Sutton\",     69)\n",
    "\n",
    "pq = PriorityQueue()\n",
    "pq.insert(tiger)\n",
    "pq.insert(phil)\n",
    "pq.insert(hal)\n",
    "while not pq.is_empty(): print(pq.remove())"
   ]
  },
  {
   "attachments": {},
   "cell_type": "markdown",
   "metadata": {},
   "source": [
    "<br/>\n",
    "<hr/>\n",
    "\n",
    "## _Glossary_\n",
    "\n",
    "```{glossary}\n",
    "\n",
    "queue\n",
    "    An ordered set of objects waiting for a service of some kind.\n",
    "\n",
    "Queue\n",
    "    An ADT that performs the operations one might perform on a queue.\n",
    "\n",
    "queueing policy\n",
    "    The rules that determine which member of a queue is removed next.\n",
    "\n",
    "FIFO\n",
    "    First In, First Out, a queueing policy in which the first member to arrive is the first to be removed.\n",
    "\n",
    "priority queue\n",
    "    A queueing policy in which each member has a priority determined by external factors. The member with the highest priority is the first to be removed.\n",
    "\n",
    "Priority Queue\n",
    "    An ADT that defines the operations one might perform on a priority queue.\n",
    "\n",
    "linked queue\n",
    "    An implementation of a queue using a linked list.\n",
    "\n",
    "constant time\n",
    "    An operation whose runtime does not depend on the size of the data structure.\n",
    "\n",
    "linear time\n",
    "    An operation whose runtime is a linear function of the size of the data structure.\n",
    "\n",
    "```\n",
    "\n",
    "## _Exercises_\n",
    "\n",
    "1. Write an implementation of the Queue ADT using a Python list. Compare the performance of this implementation to the `ImprovedQueue` for a range of queue lengths. #. Write an implementation of the Priority Queue ADT using a linked list. You should keep the list sorted so that removal is a constant time operation. Compare the performance of this implementation with the Python list implementation."
   ]
  }
 ],
 "metadata": {
  "language_info": {
   "name": "python"
  },
  "orig_nbformat": 4
 },
 "nbformat": 4,
 "nbformat_minor": 2
}
