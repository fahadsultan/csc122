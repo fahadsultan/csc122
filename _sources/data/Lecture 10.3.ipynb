{
 "cells": [
  {
   "cell_type": "markdown",
   "id": "4d7c242e",
   "metadata": {
    "slideshow": {
     "slide_type": "slide"
    }
   },
   "source": [
    "# Lecture 10.3. \n",
    "\n",
    "# Friday, Nov 4th\n",
    "\n",
    "# Sets and Tuples"
   ]
  },
  {
   "cell_type": "markdown",
   "id": "d085f29a",
   "metadata": {
    "slideshow": {
     "slide_type": "slide"
    }
   },
   "source": [
    "## 10.2.0. Data Structures, in Python\n",
    "\n",
    "* Python has **4 built-in data types** used to store collections of data:\n",
    "    1. Lists  (Week 9)\n",
    "    2. **Tuples** (Week 10)\n",
    "    3. **Sets**   (Week 10)\n",
    "    4. Dictionary (Week 13)\n",
    "\n",
    "* Each of the data structures have different qualities and usage."
   ]
  },
  {
   "cell_type": "markdown",
   "id": "3fcee3fe",
   "metadata": {
    "slideshow": {
     "slide_type": "slide"
    }
   },
   "source": [
    "\n",
    "* So far, we have seen only two compound types: 1) **Strings** and 2) **Lists**\n",
    "\n",
    "* One of the primary differences we noted is that:\n",
    "    * **Elements of a list can be modified** (mutable)\n",
    "    * **Characters in a string cannot be changed** (immutable). \n",
    "    \n",
    "<br/>\n",
    "    \n",
    "Structure | Collection | Syntax | Ordered | Indexed | Mutable | Passed By | Duplicates Allowed \n",
    ":------------: |  :-------------:|:-------------:|:-------------:| :-------------:| :-------------:| :-------------:|:-------------:\n",
    "`strings` | characters | `\" \"` | &check; |&check; | &cross; | value | &check;\n",
    "`list` | any data type | `[ ]` | &check; |&check; |  &check; | reference | &check;"
   ]
  },
  {
   "cell_type": "code",
   "execution_count": 463,
   "id": "89203066",
   "metadata": {},
   "outputs": [
    {
     "name": "stdout",
     "output_type": "stream",
     "text": [
      "[1, 2, 3, 4]\n"
     ]
    }
   ],
   "source": [
    "def func(y):\n",
    "    y.append(4)\n",
    "    \n",
    "x = [1, 2, 3]\n",
    "func(x)\n",
    "print(x)"
   ]
  },
  {
   "cell_type": "code",
   "execution_count": 465,
   "id": "248f6437",
   "metadata": {},
   "outputs": [
    {
     "name": "stdout",
     "output_type": "stream",
     "text": [
      "Inside func 44\n",
      "4\n"
     ]
    }
   ],
   "source": [
    "def func(y):\n",
    "    y = y + \"4\"\n",
    "    print(\"Inside func\", y)\n",
    "    \n",
    "x = \"4\"\n",
    "func(x)\n",
    "print(x)"
   ]
  },
  {
   "cell_type": "code",
   "execution_count": 462,
   "id": "918fafbb",
   "metadata": {
    "slideshow": {
     "slide_type": "slide"
    }
   },
   "outputs": [
    {
     "name": "stdout",
     "output_type": "stream",
     "text": [
      "south mouth\n",
      "['m', 2, 3]\n"
     ]
    }
   ],
   "source": [
    "\"\"\"\n",
    "Strings are immutable\n",
    "\"\"\"\n",
    "string = \"south\"\n",
    "# string[0] = \"m\"\n",
    "new_string = string.replace(\"s\", \"m\")\n",
    "print(string, new_string)\n",
    "\n",
    "\"\"\"Lists are mutable\"\"\"\n",
    "listt = [1, 2, 3]\n",
    "listt[0] = \"m\"\n",
    "print(listt)"
   ]
  }
 ],
 "metadata": {
  "celltoolbar": "Slideshow",
  "kernelspec": {
   "display_name": "Python 3 (ipykernel)",
   "language": "python",
   "name": "python3"
  },
  "language_info": {
   "codemirror_mode": {
    "name": "ipython",
    "version": 3
   },
   "file_extension": ".py",
   "mimetype": "text/x-python",
   "name": "python",
   "nbconvert_exporter": "python",
   "pygments_lexer": "ipython3",
   "version": "3.9.12"
  }
 },
 "nbformat": 4,
 "nbformat_minor": 5
}
