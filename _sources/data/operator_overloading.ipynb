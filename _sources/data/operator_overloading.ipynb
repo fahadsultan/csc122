{
 "cells": [
  {
   "cell_type": "markdown",
   "metadata": {},
   "source": [
    "# Extending Operators "
   ]
  },
  {
   "cell_type": "markdown",
   "metadata": {},
   "source": [
    "Python has a lot of built-in operators: \n",
    "\n",
    "- Arithmetic operators: `+`, `-`, `*`, `/`, `//`, `%`, `**`\n",
    "- Comparison operators: `==`, `!=`, `>`, `<`, `>=`, `<=`\n",
    "- Logical operators: `and`, `or`, `not`\n",
    "- Bitwise operators: `&`, `|`, `^`, `~`, `<<`, `>>`\n",
    "- Assignment operators: `=`, `+=`, `-=`, `*=`, `/=`, `//=`, `%=`, `**=`, `&=`, `|=`, `^=`, `<<=`, `>>=`\n",
    "- Identity operators: `is`, `is not`\n",
    "- Membership operators: `in`, `not in`\n",
    "\n",
    "These operators work with built-in types. It is possible to extend them to work with custom classes. This is done by defining special methods in the class.\n",
    "\n",
    "## Special / Magic Methods\n",
    "\n",
    "Special methods are methods that are defined by using **double underscores**. They are also called **magic methods**. \n",
    "\n",
    "We have already seen one of them: `__init__`. This method is called when an instance of the class is created and is used to initialize the instance.\n",
    "\n",
    "Similarly, we can define methods to extend the behavior of operators. For example, we can define a method to extend the behavior of the `+` operator for our custom Point class."
   ]
  },
  {
   "cell_type": "markdown",
   "metadata": {},
   "source": [
    "## Example 1: Extending the `+` Operator"
   ]
  },
  {
   "cell_type": "markdown",
   "metadata": {},
   "source": [
    "Note that the `+` operator is used to add two numbers, concatenate two strings, and merge two lists. However, it does not work by default with custom classes."
   ]
  },
  {
   "cell_type": "code",
   "execution_count": 2,
   "metadata": {},
   "outputs": [
    {
     "ename": "TypeError",
     "evalue": "unsupported operand type(s) for +: 'Point' and 'Point'",
     "output_type": "error",
     "traceback": [
      "\u001b[0;31m---------------------------------------------------------------------------\u001b[0m",
      "\u001b[0;31mTypeError\u001b[0m                                 Traceback (most recent call last)",
      "Cell \u001b[0;32mIn[2], line 9\u001b[0m\n\u001b[1;32m      6\u001b[0m p1 \u001b[38;5;241m=\u001b[39m Point(\u001b[38;5;241m1\u001b[39m, \u001b[38;5;241m2\u001b[39m)\n\u001b[1;32m      7\u001b[0m p2 \u001b[38;5;241m=\u001b[39m Point(\u001b[38;5;241m1\u001b[39m, \u001b[38;5;241m2\u001b[39m)\n\u001b[0;32m----> 9\u001b[0m \u001b[43mp1\u001b[49m\u001b[43m \u001b[49m\u001b[38;5;241;43m+\u001b[39;49m\u001b[43m \u001b[49m\u001b[43mp2\u001b[49m\n",
      "\u001b[0;31mTypeError\u001b[0m: unsupported operand type(s) for +: 'Point' and 'Point'"
     ]
    }
   ],
   "source": [
    "class Point: \n",
    "    def __init__(self, x, y): \n",
    "        self.x = x \n",
    "        self.y = y \n",
    "\n",
    "p1 = Point(1, 2)\n",
    "p2 = Point(1, 2)\n",
    "\n",
    "p1 + p2"
   ]
  },
  {
   "cell_type": "markdown",
   "metadata": {},
   "source": [
    "In order to extend the behavior of the `+` operator for our custom class, we need to define a method called `__add__`. \n",
    "\n",
    "This method should take two arguments: \n",
    "\n",
    "1. `self`: is the object on the left side of the `+` operator.\n",
    "\n",
    "2. `other`: is the object on the right side of the `+` operator.\n",
    "\n",
    "The method should return the result of the operation.\n",
    "\n",
    "Let's see an example."
   ]
  },
  {
   "cell_type": "code",
   "execution_count": 9,
   "metadata": {},
   "outputs": [
    {
     "name": "stdout",
     "output_type": "stream",
     "text": [
      "Hello World\n"
     ]
    }
   ],
   "source": [
    "class Point: \n",
    "    def __init__(self, x, y): \n",
    "        self.x = x \n",
    "        self.y = y \n",
    "\n",
    "    def __add__(self, other): \n",
    "        x = self.x + other.x \n",
    "        y = self.y + other.y \n",
    "        return Point(x, y)\n",
    "    \n",
    "p1 = Point(1, 2)\n",
    "p2 = Point(1, 2)\n",
    "\n",
    "result = p1 + p2\n",
    "\n",
    "print(result)#, result.x, result.y)"
   ]
  },
  {
   "cell_type": "markdown",
   "metadata": {},
   "source": [
    "It works! We can now add two Point objects using the `+` operator. \n",
    "\n",
    "## Example 2: String Representation\n",
    "\n",
    "When we print an object, we get something like `<__main__.Point object at 0x7f3e3c3e3f10>`. This is the default string representation of the object.\n",
    "\n",
    "Similar to changing the default behavior of `+` operator, we can change how the object is represented as a string. We can do this by defining another special  method called `__str__`.\n"
   ]
  },
  {
   "cell_type": "code",
   "execution_count": 8,
   "metadata": {},
   "outputs": [
    {
     "name": "stdout",
     "output_type": "stream",
     "text": [
      "(1, 2)\n"
     ]
    }
   ],
   "source": [
    "class Point: \n",
    "    def __init__(self, x, y): \n",
    "        self.x = x \n",
    "        self.y = y \n",
    "\n",
    "    def __add__(self, other): \n",
    "        x = self.x + other.x \n",
    "        y = self.y + other.y \n",
    "        return Point(x, y)\n",
    "\n",
    "    def __str__(self): \n",
    "        return \"(%s, %s)\" % (self.x, self.y)\n",
    "    \n",
    "p1 = Point(1, 2)\n",
    "\n",
    "print(p1)\n"
   ]
  },
  {
   "cell_type": "markdown",
   "metadata": {},
   "source": [
    "## Example 3: Extending the `==` Operator\n",
    "\n",
    "We can also extend the behavior of the `==` operator. This is done by defining a method called `__eq__`. This method should take two arguments: `self` and `other`. It should return `True` if the two objects are equal and `False` otherwise.\n",
    "\n",
    "Let's see an example."
   ]
  },
  {
   "cell_type": "code",
   "execution_count": 10,
   "metadata": {},
   "outputs": [
    {
     "data": {
      "text/plain": [
       "False"
      ]
     },
     "execution_count": 10,
     "metadata": {},
     "output_type": "execute_result"
    }
   ],
   "source": [
    "class Point: \n",
    "    def __init__(self, x, y): \n",
    "        self.x = x \n",
    "        self.y = y \n",
    "\n",
    "    def __add__(self, other): \n",
    "        x = self.x + other.x \n",
    "        y = self.y + other.y \n",
    "        return Point(x, y)\n",
    "\n",
    "    def __str__(self): \n",
    "        return \"(%s, %s)\" % (self.x, self.y)\n",
    "    \n",
    "p1 = Point(1, 2)\n",
    "p2 = Point(1, 2)\n",
    "\n",
    "p1 == p2"
   ]
  },
  {
   "cell_type": "markdown",
   "metadata": {},
   "source": [
    "By default, two objects are equal if they refer to the same memory location. We can change this behavior by defining equality based on the values of attributes of the object.\n",
    "\n",
    "We can do so by defining the `__eq__` method. This method should return `True` if the `x` and `y` attributes of the two objects are equal and `False` otherwise."
   ]
  },
  {
   "cell_type": "code",
   "execution_count": 11,
   "metadata": {},
   "outputs": [
    {
     "data": {
      "text/plain": [
       "True"
      ]
     },
     "execution_count": 11,
     "metadata": {},
     "output_type": "execute_result"
    }
   ],
   "source": [
    "class Point: \n",
    "    def __init__(self, x, y): \n",
    "        self.x = x \n",
    "        self.y = y \n",
    "\n",
    "    def __add__(self, other): \n",
    "        x = self.x + other.x \n",
    "        y = self.y + other.y \n",
    "        return Point(x, y)\n",
    "\n",
    "    def __str__(self): \n",
    "        return \"(%s, %s)\" % (self.x, self.y)\n",
    "\n",
    "    def __eq__(self, other): \n",
    "        return self.x == other.x and self.y == other.y\n",
    "    \n",
    "p1 = Point(1, 2)\n",
    "p2 = Point(1, 2)\n",
    "\n",
    "p1 == p2"
   ]
  },
  {
   "attachments": {},
   "cell_type": "markdown",
   "metadata": {},
   "source": [
    "## List of Operator Overloading Methods\n",
    "\n",
    "The following table lists the operator overloading examples in Python. These examples show how to use the operator overloading methods.\n",
    "\n",
    "| Operator | Example | Method | Description |\n",
    "| --- | --- | --- | --- |\n",
    "| `+` | `1 + 2` | `__add__` | Addition |\n",
    "| `-` | `1 - 2` | `__sub__` | Subtraction |\n",
    "| `*` | `1 * 2` | `__mul__` | Multiplication |\n",
    "| `/` | `1 / 2` | `__truediv__` | Division |\n",
    "| `//` | `1 // 2` | `__floordiv__` | Floor Division |\n",
    "| `%` | `1 % 2` | `__mod__` | Modulo |\n",
    "| `**` | `1 ** 2` | `__pow__` | Exponentiation |\n",
    "| `<<` | `1 << 2` | `__lshift__` | Bitwise Left Shift |\n",
    "| `>>` | `1 >> 2` | `__rshift__` | Bitwise Right Shift |\n",
    "| `&` | `1 & 2` | `__and__` | Bitwise AND |\n",
    "| `^` | `1 ^ 2` | `__xor__` | Bitwise XOR |\n",
    "| `\\|` | `1 \\| 2` | `__or__` | Bitwise OR |\n",
    "| `==` | `1 == 2` | `__eq__` | Equality |\n",
    "| `!=` | `1 != 2` | `__ne__` | Inequality |\n",
    "| `<` | `1 < 2` | `__lt__` | Less Than |\n",
    "| `<=` | `1 <= 2` | `__le__` | Less Than or Equal To |\n",
    "| `>` | `1 > 2` | `__gt__` | Greater Than |\n",
    "| `>=` | `1 >= 2` | `__ge__` | Greater Than or Equal To |\n",
    "| `()` | `f(1, 2)` | `__call__` | Call |\n",
    "| `[]` | `a[1]` | `__getitem__` | Index |\n",
    "| `[]` | `a[1] = 2` | `__setitem__` | Index Assignment |\n",
    "| `[]` | `del a[1]` | `__delitem__` | Index Deletion |\n",
    "\n",
    "\n",
    "\n"
   ]
  },
  {
   "cell_type": "markdown",
   "metadata": {},
   "source": []
  }
 ],
 "metadata": {
  "kernelspec": {
   "display_name": "Python 3",
   "language": "python",
   "name": "python3"
  },
  "language_info": {
   "codemirror_mode": {
    "name": "ipython",
    "version": 3
   },
   "file_extension": ".py",
   "mimetype": "text/x-python",
   "name": "python",
   "nbconvert_exporter": "python",
   "pygments_lexer": "ipython3",
   "version": "3.9.6"
  },
  "orig_nbformat": 4
 },
 "nbformat": 4,
 "nbformat_minor": 2
}
