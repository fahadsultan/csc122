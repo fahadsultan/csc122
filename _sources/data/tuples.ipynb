{
 "cells": [
  {
   "attachments": {},
   "cell_type": "markdown",
   "metadata": {},
   "source": [
    "# Tuples"
   ]
  },
  {
   "cell_type": "markdown",
   "metadata": {},
   "source": [
    "* A tuple, like a list, is a **sequence of items of any type**.\n",
    "\n",
    "\n",
    "* Unlike lists, however, tuples are immutable.\n",
    "\n",
    "\n",
    "Type | Collection of| Syntax | Ordered | Indexed | Mutable | Passed By | Duplicates Allowed \n",
    ":------------: | :-------------:|:-------------:|:-------------:|:-------------:| :-------------:| :-------------:|:-------------:\n",
    "`strings` | characters | `\" \"` | &check; |&check; | &cross; | value | &check;\n",
    "`list` | any data type | `[ ]` | &check; |&check; |  &check; | reference | &check;\n",
    "**`tuple`** | **any data type** | `( )` | &check; | **&check;** |  **&cross;** | **value** | **&check;**"
   ]
  },
  {
   "cell_type": "markdown",
   "metadata": {},
   "source": [
    "* **Syntactically**, a tuple is a **comma-separated** sequence of **values**:"
   ]
  },
  {
   "cell_type": "code",
   "execution_count": null,
   "metadata": {},
   "outputs": [
    {
     "name": "stdout",
     "output_type": "stream",
     "text": [
      "(2, 4, 6, 8, 10, 2)\n"
     ]
    }
   ],
   "source": [
    "tup1 = 2, 4, 6, 8, 10, 2\n",
    "print(tup1)"
   ]
  },
  {
   "cell_type": "markdown",
   "metadata": {},
   "source": [
    "* Although it is not necessary, it is **conventional to enclose** tuples in **parentheses**:"
   ]
  },
  {
   "cell_type": "code",
   "execution_count": null,
   "metadata": {},
   "outputs": [
    {
     "name": "stdout",
     "output_type": "stream",
     "text": [
      "(2, 4, 6, 8, 10, 2)\n"
     ]
    }
   ],
   "source": [
    "tup2 = (2, 4, 6, 8, 10, 2)\n",
    "print(tup2)"
   ]
  },
  {
   "cell_type": "markdown",
   "metadata": {},
   "source": [
    "* To create a tuple with a **single element**, we have to include the **final comma**:"
   ]
  },
  {
   "cell_type": "code",
   "execution_count": null,
   "metadata": {},
   "outputs": [],
   "source": [
    "listt = [5]\n",
    "print(type(listt), listt)"
   ]
  },
  {
   "cell_type": "code",
   "execution_count": null,
   "metadata": {},
   "outputs": [
    {
     "name": "stdout",
     "output_type": "stream",
     "text": [
      "<class 'tuple'> (5,)\n"
     ]
    }
   ],
   "source": [
    "tup = (5,)\n",
    "print(type(tup), tup)"
   ]
  },
  {
   "cell_type": "markdown",
   "metadata": {},
   "source": [
    "* Without the comma, Python treats (5) as an integer in parentheses:"
   ]
  },
  {
   "cell_type": "code",
   "execution_count": null,
   "metadata": {},
   "outputs": [
    {
     "name": "stdout",
     "output_type": "stream",
     "text": [
      "<class 'int'> 5\n"
     ]
    }
   ],
   "source": [
    "tup = (5)\n",
    "print(type(tup), tup)"
   ]
  },
  {
   "cell_type": "markdown",
   "metadata": {},
   "source": [
    "* Syntax issues aside, tuples support the same sequence operations as strings and lists. \n",
    "\n",
    "* The **index operator** selects an element from a tuple."
   ]
  },
  {
   "cell_type": "code",
   "execution_count": null,
   "metadata": {},
   "outputs": [
    {
     "data": {
      "text/plain": [
       "'e'"
      ]
     },
     "metadata": {},
     "output_type": "display_data"
    }
   ],
   "source": [
    "tup = ('a', 'b', 'c', 'd', 'e')\n",
    "tup[4]"
   ]
  },
  {
   "cell_type": "markdown",
   "metadata": {},
   "source": [
    "* And the **slice operator** selects a range of elements."
   ]
  },
  {
   "cell_type": "code",
   "execution_count": null,
   "metadata": {},
   "outputs": [
    {
     "data": {
      "text/plain": [
       "('c', 'd')"
      ]
     },
     "metadata": {},
     "output_type": "display_data"
    }
   ],
   "source": [
    "tup = ('a', 'b', 'c', 'd', 'e')\n",
    "\n",
    "tup[2:4]"
   ]
  },
  {
   "cell_type": "markdown",
   "metadata": {},
   "source": [
    "* **Concatenation Operator** `+` works the same as with lists and strings"
   ]
  },
  {
   "cell_type": "code",
   "execution_count": null,
   "metadata": {},
   "outputs": [
    {
     "data": {
      "text/plain": [
       "('X', 'a', 'b', 'c', 'd', 'e')"
      ]
     },
     "metadata": {},
     "output_type": "display_data"
    }
   ],
   "source": [
    "tup1 = ('X',) \n",
    "tup2 = ('a', 'b', 'c', 'd', 'e')\n",
    "tup = tup1 + tup2\n",
    "tup"
   ]
  },
  {
   "cell_type": "markdown",
   "metadata": {},
   "source": [
    "* When we try to use item assignment to modify one of the elements of the tuple, we get an error:"
   ]
  },
  {
   "cell_type": "code",
   "execution_count": null,
   "metadata": {},
   "outputs": [
    {
     "ename": "TypeError",
     "evalue": "'tuple' object does not support item assignment",
     "output_type": "error",
     "traceback": [
      "\u001b[0;31m---------------------------------------------------------------------------\u001b[0m\n",
      "\u001b[0;31mTypeError\u001b[0m                                 Traceback (most recent call last)\n",
      "Input \u001b[0;32mIn [479]\u001b[0m, in \u001b[0;36m<cell line: 2>\u001b[0;34m()\u001b[0m\n",
      "\u001b[1;32m      1\u001b[0m tup \u001b[38;5;241m=\u001b[39m (\u001b[38;5;241m1\u001b[39m, \u001b[38;5;241m2\u001b[39m, \u001b[38;5;241m3\u001b[39m)\n",
      "\u001b[0;32m----> 2\u001b[0m tup[\u001b[38;5;241m0\u001b[39m] \u001b[38;5;241m=\u001b[39m \u001b[38;5;124m'\u001b[39m\u001b[38;5;124mX\u001b[39m\u001b[38;5;124m'\u001b[39m\n",
      "\n",
      "\u001b[0;31mTypeError\u001b[0m: 'tuple' object does not support item assignment"
     ]
    }
   ],
   "source": [
    "tup = (1, 2, 3)\n",
    "tup[0] = 'X'"
   ]
  },
  {
   "attachments": {},
   "cell_type": "markdown",
   "metadata": {},
   "source": [
    "## Tuple assignment"
   ]
  },
  {
   "cell_type": "markdown",
   "metadata": {},
   "source": [
    "* Once in a while, it is useful to **swap the values of two variables**. \n",
    "\n",
    "    * With conventional assignment statements, we have to use a **temporary variable**. \n",
    "\n",
    "* For example, to swap `a` and `b`:"
   ]
  },
  {
   "cell_type": "code",
   "execution_count": null,
   "metadata": {},
   "outputs": [
    {
     "name": "stdout",
     "output_type": "stream",
     "text": [
      "b a\n"
     ]
    }
   ],
   "source": [
    "a = \"a\"\n",
    "b = \"b\"\n",
    "temp = a\n",
    "a = b\n",
    "b = temp\n",
    "print(a, b)"
   ]
  },
  {
   "cell_type": "markdown",
   "metadata": {},
   "source": [
    "* Python provides a form of tuple assignment that solves this problem neatly:"
   ]
  },
  {
   "cell_type": "code",
   "execution_count": null,
   "metadata": {},
   "outputs": [
    {
     "name": "stdout",
     "output_type": "stream",
     "text": [
      "b b b b\n"
     ]
    }
   ],
   "source": [
    "a = \"a\"\n",
    "b = \"b\"\n",
    "c = \"c\"\n",
    "d = \"d\"\n",
    "\n",
    "a, b, c, d = b, b, b, b\n",
    "\n",
    "print(a, b, c, d)"
   ]
  },
  {
   "cell_type": "markdown",
   "metadata": {},
   "source": [
    "* The left side is a **tuple of variables**; the right side is a **tuple of values**. \n",
    "* Each **value** is assigned to its **respective variable**. \n",
    "* This feature makes tuple assignment quite versatile.\n",
    "* The **number of variables on the left** _and_ **the number of values on the right** have to be the same."
   ]
  },
  {
   "attachments": {},
   "cell_type": "markdown",
   "metadata": {},
   "source": [
    "##  Tuples as return values\n",
    "\n",
    "* Functions can return tuples as return values. "
   ]
  },
  {
   "cell_type": "code",
   "execution_count": null,
   "metadata": {},
   "outputs": [
    {
     "name": "stdout",
     "output_type": "stream",
     "text": [
      "1 5\n"
     ]
    }
   ],
   "source": [
    "def find_min_max(numbers):\n",
    "    \n",
    "\n",
    "    min_val = 9999\n",
    "    max_val = -9999\n",
    "\n",
    "    i = 0\n",
    "    while i < len(numbers):\n",
    "        if numbers[i] < min_val:\n",
    "            min_val = numbers[i]\n",
    "        \n",
    "        if numbers[i] > max_val:\n",
    "            max_val = numbers[i]\n",
    "            \n",
    "        i = i + 1\n",
    "        \n",
    "    return min_val, max_val\n",
    "\n",
    "\n",
    "minimum, maximum = find_min_max([3, 1, 5, 4, 2])\n",
    "print(minimum, maximum)"
   ]
  },
  {
   "cell_type": "markdown",
   "metadata": {},
   "source": [
    "* Reminder: Tuples are **passed to functions by value**\n",
    "\n",
    "* Translation: Any **changes** you make **inside a function**, would _NOT_ be **reflected outside the function**"
   ]
  },
  {
   "cell_type": "code",
   "execution_count": null,
   "metadata": {},
   "outputs": [],
   "source": [
    "def swap(inputs):\n",
    "    x, y = inputs\n",
    "    y, x = x, y\n",
    "    \n",
    "a, b = \"a\", \"b\"\n",
    "swap((a, b))\n",
    "print(a, b)"
   ]
  },
  {
   "attachments": {},
   "cell_type": "markdown",
   "metadata": {},
   "source": [
    "## _Exercises_\n",
    "\n",
    "### Question 1. \n",
    "\n",
    "Find below the exam score of three students Jane, John and Mary. \n",
    "\n",
    "Compute the average exam score for the three. "
   ]
  },
  {
   "cell_type": "code",
   "execution_count": null,
   "metadata": {},
   "outputs": [
    {
     "name": "stdout",
     "output_type": "stream",
     "text": [
      "85.0\n"
     ]
    }
   ],
   "source": [
    "student1 = (\"Jane Doe\", 80, \"Chemistry\")\n",
    "student2 = (\"John Doe\", 75, \"Computer Science\")\n",
    "student3 = (\"Mary Sue\", 100, \"Maths\")\n",
    "\n",
    "avg = (student1[1] + student2[1] + student3[1])/3\n",
    "\n",
    "print(avg)"
   ]
  },
  {
   "attachments": {},
   "cell_type": "markdown",
   "metadata": {},
   "source": [
    "### Question 2. \n",
    "\n",
    "Write a function `swap` that accepts as input a tuple `tup_in` of length=2 and returns a tuple `tup_out` with values of `tup_in` swapped. "
   ]
  },
  {
   "cell_type": "code",
   "execution_count": null,
   "metadata": {},
   "outputs": [],
   "source": [
    "def swap(tup):\n",
    "    \n",
    "    \n",
    "\n",
    "assert swap((\"a\", \"b\"))==(\"b\", \"a\"), \"Test case 1 failed\""
   ]
  },
  {
   "attachments": {},
   "cell_type": "markdown",
   "metadata": {},
   "source": [
    "### Question 3. \n",
    "\n",
    "Write a function that accepts as input a list `sequence` and returns `(first_item, last_item)`. "
   ]
  },
  {
   "cell_type": "code",
   "execution_count": null,
   "metadata": {},
   "outputs": [],
   "source": [
    "def get_first_and_last(sequence):\n",
    "    return sequence[0], sequence[-1]\n",
    "    \n",
    "assert get_first_and_last([4, 5, 1, 3, 2])==(4, 2),    \"Test case 1 passed\"\n",
    "assert get_first_and_last([42])           ==(42,42),   \"Test case 2 passed\"\n",
    "assert get_first_and_last(\"apple\")        ==(\"a\",\"e\"), \"Test case 3 passed\"\n",
    "\n",
    "print(\"All test cases passed\")"
   ]
  }
 ],
 "metadata": {
  "language_info": {
   "name": "python"
  },
  "orig_nbformat": 4
 },
 "nbformat": 4,
 "nbformat_minor": 2
}
