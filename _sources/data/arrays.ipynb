{
 "cells": [
  {
   "cell_type": "markdown",
   "metadata": {},
   "source": [
    "# Arrays (under the hood)\n",
    "\n",
    "An **Array** is simply <u>a contiguous block of memory</u>, where each cell in the block holds a <u>value directly or _reference_</u> to an object. \n",
    "\n",
    "This block of memory is often visualized as a numbered sequence of cells, where the number denotes the position of a cell within the sequence.\n",
    "\n",
    "```{figure} https://i.ibb.co/FnWvV70/array3.png\n",
    "---\n",
    "name: array3\n",
    "width: 40%\n",
    "align: center\n",
    "---\n",
    "A higher-level abstraction for the string portrayed in figure before.\n",
    "```\n",
    "\n",
    "Array serve as <u>low-level data structures **used internally by Python** to implement higher-level data structures</u> such as `lists`, `tuples`, and `strings`. To accurately describe the way in which Python represents the sequence types, we must first discuss aspects of the _low-level computer architecture_. \n",
    "\n",
    "Each byte (8 bits) in the computer’s memory has a unique **memory address**, which is a number that identifies the byte’s location in memory. In this way, the computer system can refer to the data in “byte #2150” versus the data in “byte #2157,” for example.\n"
   ]
  },
  {
   "cell_type": "markdown",
   "metadata": {},
   "source": [
    "Memory addresses are typically coordinated with the physical layout of the memory system, and so we often portray the numbers in sequential fashion. Figure below provides such a diagram, with the designated memory address for each byte.\n",
    "\n",
    "\n",
    "```{figure} https://i.ibb.co/DLyLmTw/array1.png\n",
    "---\n",
    "name: array\n",
    "width: 90%\n",
    "align: center\n",
    "---\n",
    "A representation of a portion of a computer’s memory, with individual bytes labeled with consecutive memory addresses.\n",
    "```\n",
    "\n",
    "\n",
    "<!-- <center><img src=\"\" width=\"90%\"></center> -->\n",
    "\n",
    "Despite the sequential nature of the numbering system, computer hardware is designed, in theory, so that any byte of the main memory can be efficiently accessed based upon its memory address. In this sense, we say that a computer’s main memory performs as **Random Access Memory (RAM)**. \n",
    "\n",
    "That is, in theory, it is just as easy to retrieve byte #8675309 as it is to retrieve byte #309. Using the notation for asymptotic analysis, we say that any individual byte of memory can be stored or retrieved in $O(1)$ time.\n",
    "\n",
    "In general, <u>a programming language keeps track of the association between an variable name and the memory address in which the associated value is stored</u>. For example, identifier `x` might be associated with one value stored in memory, while `y` is associated with another value stored in memory. \n",
    "\n",
    "\n",
    "A group of related values can be stored one after another in a contiguous portion of the computer’s memory i.e. an **array**. For example, a text string is stored as an ordered sequence of individual characters. On most computers, Python internally represents each character with 16 bits (i.e., 2 bytes). Therefore, a six-character string, such as  `SAMPLE` , would be stored in 12 consecutive bytes of memory, as diagrammed in Figure below.\n",
    "\n",
    "```{figure} https://i.ibb.co/fQGDLsG/array2.png\n",
    "---\n",
    "name: array2\n",
    "width: 90%\n",
    "align: center\n",
    "---\n",
    "A Python string embedded as an array of characters in the computer’s memory. We assume that each Unicode character of the string requires two bytes of memory. The numbers below the entries are indices into the string.\n",
    "```\n",
    "\n",
    "We describe this as _an array of six characters_, even though it requires 12 bytes of memory. We will refer to each location within an array as a **cell**, and will use an integer **index** to describe its location within the array, with cells numbered starting with 0, 1, 2, and so on. For example, in Figure above, the cell of the array with index 4 has contents L and is stored in bytes 2154 and 2155 of memory.\n",
    "\n",
    "Each cell of an array must use the same number of bytes. This requirement is what allows an arbitrary cell of the array to be accessed in constant time based on its index. In particular, if one knows the memory address at which an array starts (e.g., $2146$ in figure above), the number of bytes per element (e.g., 2 for a Unicode character), and a desired index within the array, the appropriate memory address can be computed using the calculation, \n",
    "\n",
    "$$ \\text{start} + (\\text{cellsize} \\times \\text{index}) $$\n",
    "\n",
    "By this formula, the cell at index 0 begins precisely at the start of the array, the cell at index 1 begins precisely $\\text{cellsize}$ bytes beyond the start of the array, and so on. As an example, cell 4 of Figure above begins at memory location $2146 + (2 \\times 4)$ = 2146 + 8 = 2154.\n"
   ]
  },
  {
   "cell_type": "code",
   "execution_count": null,
   "metadata": {},
   "outputs": [],
   "source": []
  },
  {
   "cell_type": "code",
   "execution_count": null,
   "metadata": {},
   "outputs": [],
   "source": []
  },
  {
   "cell_type": "markdown",
   "metadata": {},
   "source": [
    "\n",
    "## Static Arrays \n",
    "\n",
    "A **static array** is a type of array whose size is fixed at the time of its creation. Immutable sequences in Python, such as `tuple` and `str` instances, are examples of static arrays.\n",
    "\n",
    "</u>When creating a _low-level array_ in a computer system, the precise size of that array must be explicitly declared</u> in order for the system to properly allocate a consecutive piece of memory for its storage. For example, the figure below displays an array of 12 bytes that might be stored in memory locations 2146 through 2157.\n",
    "\n",
    "```{figure} https://i.ibb.co/ggpDSqz/array12.png\n",
    "---\n",
    "width: 90%\n",
    "name: Figure 5.11\n",
    "align: center\n",
    "---\n",
    "An array of 12 bytes allocated in memory locations 2146 through 2157\n",
    "```\n",
    "\n",
    "Because the system might dedicate neighboring memory locations to store other data, the capacity of an array cannot trivially be increased by expanding into subsequent cells. \n",
    "\n",
    "In the context of representing a Python `tuple` or `str` instance, this constraint is no problem. Instances of those classes are immutable, so the correct size for an underlying array can be fixed when the object is instantiated.\n",
    "\n",
    "\n",
    "\n",
    "<!-- \n",
    "As another motivating example, assume that we want a medical information system to keep track of the patients currently assigned to beds in a certain hospital. If we assume that the hospital has 200 beds, and conveniently that those beds are num- bered from 0 to 199, we might consider using an array-based structure to maintain the names of the patients currently assigned to those beds. For example, in Python we might use a list of names, such as:\n",
    "\n",
    "```python\n",
    "data = ['Rene' , 'Joseph' , 'Janet' , 'Jonas' , 'Helen' , 'Virginia']\n",
    "```\n",
    "\n",
    "To represent such a list with an array, Python must adhere to the requirement that each cell of the array use the same number of bytes. Yet the elements are strings, and strings naturally have different lengths. Python could attempt to reserve enough space for each cell to hold the _maximum_ length string (not just of currently stored strings, but of any string we might ever want to store), but that would be wasteful. -->\n",
    "\n"
   ]
  },
  {
   "cell_type": "markdown",
   "metadata": {},
   "source": [
    "<hr/>"
   ]
  },
  {
   "cell_type": "markdown",
   "metadata": {},
   "source": [
    "\n",
    "<br/><br/>\n",
    "````{card} \n",
    "\n",
    "**Memory Usage of Python Objects**\n",
    "\n",
    "<hr/>\n",
    "\n",
    "**`sys.getsizeof(..)`** function returns the size of an object in bytes. \n",
    "\n",
    "Note that empty lists, strings etc. have some initial memory overhead associated with them. After that, the memory usage increases as you add elements to the object.\n",
    "\n",
    "Generally, the size of an empty list is 56 bytes, while the size of an empty tuple is 40 bytes. When you add one element to the list, its size increases to 64 bytes, and so on.\n",
    "\n",
    "\n",
    "```python\n",
    "import sys\n",
    "\n",
    "print(sys.getsizeof([]))  # 56 (empty list has 56 bytes overhead, 8 bytes for every element after that)\n",
    "print(sys.getsizeof(()))  # 40 (empty tuple has 40 bytes overhead, 8 bytes for every element after that)\n",
    "print(sys.getsizeof(\"\"))  # 49 (empty string has 49 bytes overhead, 1 byte for every character after that)\n",
    "\n",
    "```\n",
    "\n",
    "````"
   ]
  },
  {
   "cell_type": "markdown",
   "metadata": {},
   "source": [
    "Python allows you to query the actual number of bytes being used for the primary storage of any object. This is done using the `getsizeof` function of the `sys` module. \n",
    "\n",
    "Note that in the code cell below, the memory usage of the string type variable `txt` increases linearly with the number of characters in the string."
   ]
  },
  {
   "cell_type": "code",
   "execution_count": null,
   "metadata": {},
   "outputs": [],
   "source": [
    "import sys \n",
    "\n",
    "txt = \"\"\n",
    "\n",
    "for i in range(10):\n",
    "    print(\"Number of characters: \", len(txt), \"\\t Memory (in bytes):\", sys.getsizeof(txt))\n",
    "    txt += \"0\"\n"
   ]
  },
  {
   "cell_type": "markdown",
   "metadata": {},
   "source": [
    "## Referential Arrays"
   ]
  },
  {
   "cell_type": "markdown",
   "metadata": {},
   "source": [
    "\n",
    "Instead, Python represents a list or tuple instance using an internal storage mechanism of an array of object **references**. At the lowest level, what is stored is a consecutive sequence of memory addresses at which the elements of the sequence reside. A high-level diagram of such a list is shown in figure below.\n",
    "\n",
    "```{figure} https://i.ibb.co/CJmjccS/array4.png\n",
    "---\n",
    "name: array4\n",
    "width: 90%\n",
    "align: center\n",
    "---\n",
    "An array storing references to strings.\n",
    "```\n",
    "\n",
    "Although the relative size of the individual elements may vary, the number of bits used to store the memory address of each element is fixed (e.g., 64-bits per address). In this way, Python can support constant-time access to a list or tuple element based on its index."
   ]
  },
  {
   "cell_type": "markdown",
   "metadata": {},
   "source": [
    "As a result, two lists of the same length will consume the same amount of memory, regardless of the sizes of the elements that they store. "
   ]
  },
  {
   "cell_type": "code",
   "execution_count": 37,
   "metadata": {},
   "outputs": [
    {
     "data": {
      "text/plain": [
       "True"
      ]
     },
     "execution_count": 37,
     "metadata": {},
     "output_type": "execute_result"
    }
   ],
   "source": [
    "import sys \n",
    "\n",
    "data  = ['Rene' , 'Joseph' , 'Janet' , 'Jonas' , 'Helen' , 'Virginia']\n",
    "\n",
    "data2 = ['r', 'j', 'j', 'j', 'h', 'v']\n",
    "\n",
    "sys.getsizeof(data) == sys.getsizeof(data2)"
   ]
  },
  {
   "cell_type": "markdown",
   "metadata": {},
   "source": [
    "Note that in the code cell above, the size of the two variables and `data` and `data2` is the same because they both contain an equal number of memory addresses, even though the individual strings they reference have different lengths."
   ]
  },
  {
   "cell_type": "markdown",
   "metadata": {},
   "source": [
    "Referential arays are generally not as memory efficient as static arrays. \n",
    "\n",
    "Note that <u>memory addresses are typically 64 bits (8 bytes)</u> in size on modern computers. This means that the memory overhead for a list of $n$ elements is $8n$ bytes.\n",
    "\n",
    "As another case study, suppose we wish to store a sequence of one million, 64-bit integers. In theory, we might hope to use only 64 million bits. However, we estimate that a Python list will use four to five times as much memory. Each element of the list will result in a 64-bit memory address being stored in the primary array, and an `int` instance being stored elsewhere in memory. "
   ]
  },
  {
   "cell_type": "code",
   "execution_count": 100,
   "metadata": {},
   "outputs": [
    {
     "name": "stdout",
     "output_type": "stream",
     "text": [
      "120\n",
      "88\n"
     ]
    }
   ],
   "source": [
    "data = [1, 2, 3, 4]\n",
    "\n",
    "print(sys.getsizeof(data)) # 120 = 56 (overhead) + 32 (4 addresses, each address is 4 bytes) + 32 (4 integers, each integer is 8 bytes)\n",
    "\n",
    "data2 = [data, data, data, data]\n",
    "\n",
    "print(sys.getsizeof(data2)) # 88 = 56 (overhead) + 32 (4 addresses, each address is 8 bytes). The integers themselves are not primary storage in data2."
   ]
  },
  {
   "cell_type": "code",
   "execution_count": 111,
   "metadata": {},
   "outputs": [
    {
     "data": {
      "text/plain": [
       "50"
      ]
     },
     "execution_count": 111,
     "metadata": {},
     "output_type": "execute_result"
    }
   ],
   "source": [
    "sys.getsizeof(\"a\")"
   ]
  },
  {
   "cell_type": "markdown",
   "metadata": {},
   "source": [
    "\n",
    "In Figure above, we characterize a list of strings that are the names of the patients in a hospital. It is more likely that a medical information system would manage more comprehensive information on each patient, perhaps represented as an in- stance of a Patient class. From the perspective of the list implementation, the same principle applies: The list will simply keep a sequence of references to those ob- jects. Note as well that a reference to the `None` object can be used as an element of the list to represent an empty bed in the hospital.\n",
    "\n",
    "The fact that lists and tuples are referential structures is significant to the se- mantics of these classes. A single list instance may include multiple references to the same object as elements of the list, and it is possible for a single object to be an element of two or more lists, as those lists simply store references back to that object. As an example, when you compute a slice of a list, the result is a new list instance, but that new list has references to the same elements that are in the original list, as portrayed in Figure below.\n",
    "\n",
    "```{figure} https://i.ibb.co/X2Fp4Yx/array5.png\n",
    "---\n",
    "name: array5\n",
    "width: 90%\n",
    "align: center\n",
    "---\n",
    "The result of the command `temp = primes[3:6]`\n",
    "```\n",
    "\n",
    "When the elements of the list are immutable objects, as with the integer in- stances in Figure 5.5, the fact that the two lists share elements is not that significant, as neither of the lists can cause a change to the shared object. If, for example, the command `temp[2] = 15` were executed from this configuration, that does not change the existing integer object; it changes the reference in cell 2 of the temp list to reference a different object. The resulting configuration is shown in Figure below.\n",
    "\n",
    "```{figure} https://i.ibb.co/yQftP2V/array6.png\n",
    "---\n",
    "name: array6\n",
    "width: 90%\n",
    "align: center\n",
    "---\n",
    "The result of the command `temp[2] = 15` upon the configuration portrayed in previous figure. \n",
    "```\n",
    "\n",
    "The same semantics is demonstrated when making a new list as a copy of an existing one, with a syntax such as backup = list(primes). This produces a new list that is a **shallow copy**, in that it references the same elements as in the first list. With immutable elements, this point is moot. If the contents of the list were of a mutable type, a **deep copy**, meaning a new list with new elements, can be produced by using the deepcopy function from the copy module.\n",
    "\n",
    "\n",
    "As a more striking example, it is a common practice in Python to initialize an array of integers using a syntax such as counters = [0]   8. This syntax produces a list of length eight, with all eight elements being the value zero. Technically, all eight cells of the list reference the same object, as shown below.\n",
    "\n",
    "```{figure} https://i.ibb.co/f4mVB8Y/array7.png\n",
    "---\n",
    "name: array7\n",
    "width: 90%\n",
    "align: center\n",
    "---\n",
    "The result of the command `data = [0]*8`.\n",
    "```\n",
    "\n",
    "At first glance, the extreme level of aliasing in this configuration may seem alarming. However, we rely on the fact that the referenced integer is immutable. Even a command such as `counters[2] += 1` does not technically change the value of the existing integer instance. This computes a new integer, with value 0 + 1, and sets cell 2 to reference the newly computed value. The resulting configuration is shown in Figure 5.8\n",
    "\n",
    "```{figure} https://i.ibb.co/QpmfZ9L/array8.png\n",
    "---\n",
    "name: array8\n",
    "width: 90%\n",
    "align: center\n",
    "---\n",
    "The result of the command `counters[2] += 1` upon the configuration portrayed in previous figure.\n",
    "```\n",
    "\n",
    "As a final manifestation of the referential nature of lists, we note that the extend command is used to add all elements from one list to the end of another list. The extended list does not receive copies of those elements, it receives references to those elements. Figure 5.9 portrays the effect of a call to extend.\n",
    "\n",
    "```{figure} https://i.ibb.co/1ZZFWTp/array9.png\n",
    "---\n",
    "name: array9\n",
    "width: 90%\n",
    "align: center\n",
    "---\n",
    "The effect of command `primes.extend(extras)`, shown in light gray.\n",
    "```\n",
    "\n"
   ]
  },
  {
   "cell_type": "code",
   "execution_count": null,
   "metadata": {},
   "outputs": [],
   "source": []
  },
  {
   "cell_type": "code",
   "execution_count": null,
   "metadata": {},
   "outputs": [],
   "source": []
  },
  {
   "cell_type": "markdown",
   "metadata": {},
   "source": [
    "## Compact Arrays\n",
    "\n",
    "A **compact array** is one in which the cells of the array directly contain the data values only. \n",
    "\n",
    "In other words, the array is storing the bits that represent the primary data (characters, in the case of strings) directly, rather than storing references to the data.\n",
    "\n",
    "Strings in Python are represented using an array of characters and NOT an array of references. \n",
    "\n",
    "```{figure} https://i.ibb.co/SdfVPnj/array10.png\n",
    "---\n",
    "name: array10\n",
    "width: 50%\n",
    "align: center\n",
    "---\n",
    "A compact array representation of a string.\n",
    "```\n",
    "\n",
    "Compact arrays have several advantages over referential structures in terms of computing performance.\n",
    "\n",
    "Most significantly, the <u>overall memory usage will be much lower for a compact structure</u> because there is no overhead devoted to the explicit storage of the sequence of memory references.\n",
    "\n",
    "That is, a referential structure will typically use 64-bits for the memory address stored in the array, on top of whatever number of bits are used to represent the object that is considered the element. \n",
    "\n",
    "Also, each Unicode character stored in a compact array within a string typically requires 2 bytes (8 bits). If each character were stored independently as a one-character string, there would be significantly more bytes used.\n",
    "\n",
    "Another important advantage to a compact structure for high-performance computing is that the primary data are stored consecutively in memory. Note well that this is not the case for a referential structure. That is, even though a list maintains careful ordering of the sequence of memory addresses, where those elements reside in memory is not determined by the list. Because of the workings of the cache and memory hierarchies of computers, it is often advantageous to have data stored in memory near other data that might be used in the same computations.\n",
    "\n",
    "Primary support for compact arrays is in a module named `array`. That module defines a class, also named `array`, providing compact storage for arrays of primitive data types. A portrayal of such an array of integers is shown in Figure 5.10.\n",
    "\n",
    "```{figure} https://i.ibb.co/w6j8Qk5/array11.png\n",
    "---\n",
    "name: array11\n",
    "width: 50%\n",
    "align: center\n",
    "---\n",
    "Integers stored compactly as elements of a Python array.\n",
    "```\n",
    "\n",
    "The public interface for the array class conforms mostly to that of a Python list. However, the constructor for the array class requires a type code as a first parameter, which is a character that designates the type of data that will be stored in the array. As a tangible example, the type code, `'i'` , designates an array of (signed) integers, typically represented using at least 16-bits each. \n",
    "\n"
   ]
  },
  {
   "cell_type": "code",
   "execution_count": null,
   "metadata": {},
   "outputs": [],
   "source": [
    "from array import array\n",
    "\n",
    "primes = array('i' , [2, 3, 5, 7, 11, 13, 17, 19])"
   ]
  },
  {
   "cell_type": "markdown",
   "metadata": {},
   "source": [
    "The type code allows the interpreter to determine precisely how many bits are needed per element of the array. The type codes supported by the array module, as shown in Table 5.1, are formally based upon the native data types used by the C programming language (the language in which the the most widely used distri- bution of Python is implemented). The precise number of bits for the C data types is system-dependent, but typical ranges are shown in the table.\n",
    "\n",
    "| Type Code | C Type | Minimum Size in Bytes |\n",
    "|-----------|--------|-----------------------|\n",
    "| 'b' | signed char | 1 |\n",
    "| 'B' | unsigned char | 1 |\n",
    "| 'u' | Py_UNICODE | 2 |\n",
    "| 'h' | signed short | 2 |\n",
    "| 'H' | unsigned short | 2 |\n",
    "| 'i' | signed int | 2 |\n",
    "| 'I' | unsigned int | 2 |\n",
    "| 'l' | signed long | 4 |\n",
    "| 'L' | unsigned long | 4 |\n",
    "| 'f' | float | 4 |\n",
    "| 'd' | double | 8 |\n"
   ]
  },
  {
   "cell_type": "markdown",
   "metadata": {},
   "source": [
    "The array module does not provide support for making compact arrays of user- defined data types. Compact arrays of such structures can be created with the lower- level support of a module named ctypes."
   ]
  },
  {
   "cell_type": "markdown",
   "metadata": {},
   "source": [
    "## Dynamic Arrays"
   ]
  },
  {
   "cell_type": "markdown",
   "metadata": {},
   "source": [
    "\n",
    "Python’s list class presents a more interesting abstraction. Although a list has a particular length when constructed, the class allows us to add elements to the list, with no apparent limit on the overall capacity of the list. To provide this abstraction, Python relies on an algorithmic sleight of hand known as a **Dynamic Array**.\n",
    "\n",
    "The first key to providing the semantics of a dynamic array is that a list instance maintains <u>an underlying array that often has greater capacity than the current length of the list</u>. For example, while a user may have created a list with five elements, the system may have reserved an underlying array capable of storing eight object references (rather than only five). This <u>extra capacity makes it easy to append a new element to the list</u> by using the next available cell of the array.\n",
    "\n",
    "<u>If a user continues to append elements to a list, any **reserved capacity will eventually be exhausted**. In that case, **the class requests a new, larger array from the system**, and initializes the new array so that its prefix matches that of the existing smaller array.</u> At that point in time, the old array is no longer needed, so it is reclaimed by the system. Intuitively, this strategy is much like that of the hermit crab, which moves into a larger shell when it outgrows its previous one.\n",
    "\n",
    "We give empirical evidence that Python’s list class is based upon such a strategy. We rely on a function named `getsizeof` that is available from the `sys` module. This function reports the number of bytes that are being used to store an object in Python. For a list, it reports the number of bytes devoted to the array and other instance variables of the list, but not any space devoted to elements referenced by the list.\n"
   ]
  },
  {
   "cell_type": "code",
   "execution_count": null,
   "metadata": {},
   "outputs": [
    {
     "name": "stdout",
     "output_type": "stream",
     "text": [
      "Length:   0; Size in bytes:   56\n",
      "Length:   1; Size in bytes:   88\n",
      "Length:   2; Size in bytes:   88\n",
      "Length:   3; Size in bytes:   88\n",
      "Length:   4; Size in bytes:   88\n",
      "Length:   5; Size in bytes:  120\n",
      "Length:   6; Size in bytes:  120\n",
      "Length:   7; Size in bytes:  120\n",
      "Length:   8; Size in bytes:  120\n",
      "Length:   9; Size in bytes:  184\n",
      "Length:  10; Size in bytes:  184\n",
      "Length:  11; Size in bytes:  184\n",
      "Length:  12; Size in bytes:  184\n",
      "Length:  13; Size in bytes:  184\n",
      "Length:  14; Size in bytes:  184\n",
      "Length:  15; Size in bytes:  184\n",
      "Length:  16; Size in bytes:  184\n",
      "Length:  17; Size in bytes:  248\n",
      "Length:  18; Size in bytes:  248\n",
      "Length:  19; Size in bytes:  248\n",
      "Length:  20; Size in bytes:  248\n",
      "Length:  21; Size in bytes:  248\n",
      "Length:  22; Size in bytes:  248\n",
      "Length:  23; Size in bytes:  248\n",
      "Length:  24; Size in bytes:  248\n",
      "Length:  25; Size in bytes:  312\n",
      "Length:  26; Size in bytes:  312\n"
     ]
    }
   ],
   "source": [
    "import sys  # provides getsizeof function\n",
    "\n",
    "n = 27\n",
    "data=[]\n",
    "for k in range(n):          # note: must fix choice of n \n",
    "    a = len(data)           # number of elements\n",
    "    b = sys.getsizeof(data) # actual size in bytes \n",
    "    print('Length: {0:3d}; Size in bytes: {1:4d}'.format(a, b))\n",
    "    data.append(None)       # increase length by one"
   ]
  },
  {
   "cell_type": "markdown",
   "metadata": {},
   "source": [
    "In evaluating the results of the experiment, we draw attention to the first line of output from Code Fragment 5.2. We see that an empty list instance already requires a certain number of bytes of memory (72 on our system). In fact, each object in Python maintains some state, for example, a reference to denote the class to which it belongs. Although we cannot directly access private instance variables for a list, we can speculate that in some form it maintains state information akin to:\n",
    "\n",
    "* `_n`: The number of actual elements currently stored in the list.\n",
    "* `_capacity`: The maximum number of elements that could be stored in the currently allocated array.\n",
    "* `_A`: The reference to the currently allocated array (initially `None`)\n",
    "\n",
    "As soon as the first element is inserted into the list, we detect a change in the underlying size of the structure. In particular, we see the number of bytes jump from 72 to 104, an increase of exactly 32 bytes. Our experiment was run on a 64-bit machine architecture, meaning that each memory address is a 64-bit number (i.e., 8 bytes). We speculate that the increase of 32 bytes reflects the allocation of an underlying array capable of storing four object references. This hypothesis is consistent with the fact that we do not see any underlying change in the memory usage after inserting the second, third, or fourth element into the list.\n",
    "\n",
    "After the fifth element has been added to the list, we see the memory usage jump from 104 bytes to 136 bytes. If we assume the original base usage of 72 bytes for the list, the total of 136 suggests an additional 64 = 8 × 8 bytes that provide capacity for up to eight object references. Again, this is consistent with the experiment, as the memory usage does not increase again until the ninth insertion. At that point, the 200 bytes can be viewed as the original 72 plus an additional 128-byte array to store 16 object references. The 17th insertion pushes the overall memory usage to 272 = 72 + 200 = 72 + 25 × 8, hence enough to store up to 25 element references\n",
    "\n",
    "Because a list is a referential structure, the result of getsizeof for a list instance only includes the size for representing its primary structure; it does not account for memory used by the objects that are elements of the list. In our experiment, we repeatedly append None to the list, because we do not care about the contents, but we could append any type of object without affecting the number of bytes reported by getsizeof(data).\n",
    "\n",
    "\n",
    "<u>The strategy of replacing an array with a new, however it can be proven that **the amortized cost (average-case time complexity) of each append operation is O(1) and worst-case time complexity is O(n)** for a dynamic array with geometric progression.</u>\n",
    "\n",
    "<!-- If we were to continue such an experiment for further iterations, we might try to discern the pattern for how large of an array Python creates each time the ca- pacity of the previous array is exhausted (see Exercises R-5.2 and C-5.13). Before exploring the precise sequence of capacities used by Python, we continue in this section by describing a general approach for implementing dynamic arrays and for performing an asymptotic analysis of their performance. -->"
   ]
  },
  {
   "cell_type": "markdown",
   "metadata": {},
   "source": [
    "<!-- ### Amortized Analysis of Dynamic Arrays -->\n",
    "\n",
    "<!-- In this section, we perform a detailed analysis of the running time of operations on dynamic arrays. We use the big-Omega notation introduced in Section 3.3.1 to give an asymptotic lower bound on the running time of an algorithm or step within it. -->\n",
    "\n",
    "\n",
    "<!-- \n",
    "```{figure} https://i.ibb.co/KL5QG1q/array14.png\n",
    "---\n",
    "width: 50%\n",
    "name: Figure 5.13\n",
    "align: center\n",
    "---\n",
    "Running times of a series of append operations on a dynamic array.\n",
    "``` -->\n",
    "\n",
    "\n",
    "\n",
    "<!-- Let S be a sequence implemented by means of a dynamic array with initial capacity one, using the strategy of doubling the array size when full. The total time to perform a series of n append operations in S, starting from S being empty, is O(n).\n",
    "\n",
    "The proof of this result is based on the following observations:\n",
    "\n",
    "1. The first append operation takes O(1) time.\n",
    "2. The next two append operations take O(1) time each.\n",
    "3. The next four append operations take O(1) time each.\n",
    "4. The next eight append operations take O(1) time each.\n",
    "5. The next sixteen append operations take O(1) time each.\n",
    "6. The next thirty-two append operations take O(1) time each.\n",
    "\n",
    "In general, the next $2^i$ append operations take O(1) time each, for $i = 0, 1, 2, ...$. The total time to perform the first $2^i$ append operations is O($2^i$). The total time to perform the first n append operations is the sum of the times to perform the first $2^i$ append operations for all $i = 0, 1, 2, ..., k$, where $2^k ≤ n < 2^{k+1}$. This sum is at most $2^0 + 2^1 + 2^2 + ... + 2^k = 2^{k+1} − 1 = 2n − 1 = O(n)$. -->\n",
    "\n",
    "<!-- #### Geometric Increase in Capacity -->\n",
    "\n",
    "<!-- Although the proof of Proposition 5.1 relies on the array being doubled each time we expand, the O(1) amortized bound per operation can be proven for any geo- metrically increasing progression of array sizes (see Section 2.4.2 for discussion of geometric progressions). When choosing the geometric base, there exists a trade- off between run-time efficiency and memory usage. With a base of 2 (i.e., doubling the array), if the last insertion causes a resize event, the array essentially ends up twice as large as it needs to be. If we instead increase the array by only 25% of its current size (i.e., a geometric base of 1.25), we do not risk wasting as much memory in the end, but there will be more intermediate resize events along the way. Still it is possible to prove an O(1) amortized bound, using a constant factor greater than the 3 cyber-dollars per operation used in the proof of Proposition 5.1 (see Exercise C-5.15). The key to the performance is that the amount of additional space is proportional to the current size of the array. -->\n",
    "\n",
    "<!-- #### Beware of Arithmetic Progression -->\n",
    "<!-- \n",
    "To avoid reserving too much space at once, it might be tempting to implement a dynamic array with a strategy in which a constant number of additional cells are reserved each time an array is resized. Unfortunately, the overall performance of such a strategy is significantly worse. At an extreme, an increase of only one cell causes each append operation to resize the array, leading to a familiar 1 + 2 + 3 + ···+n summation and Ω(n2) overall cost. Using increases of 2 or 3 at a time is slightly better, as portrayed in Figure 5.13, but the overall cost remains quadratic. \n",
    "\n",
    "-->\n",
    "\n"
   ]
  },
  {
   "cell_type": "markdown",
   "metadata": {},
   "source": [
    "\n",
    "```{figure} https://i.ibb.co/Rgq1THy/array15.png\n",
    "---\n",
    "width: 90%\n",
    "name: Figure 5.13\n",
    "align: center\n",
    "---\n",
    "Running times of a series of append operations on a dynamic array\n",
    "using arithmetic progression of sizes. (a) Arithmetic progression: n + 2 (b) Geometric progression: 3n\n",
    "```\n",
    "\n",
    "Using a fixed increment for each resize, and thus an arithmetic progression of intermediate array sizes, results in an overall time that is quadratic in the number of operations, as shown in the following proposition. Intuitively, even an increase in 1000 cells per resize will become insignificant for large data sets."
   ]
  },
  {
   "cell_type": "markdown",
   "metadata": {},
   "source": [
    "<!-- #### Proposition 2: Fixed increment $\\rightarrow Ω(n^2)$\n",
    "\n",
    "Performing a series of n append operations on an initially empty dynamic array using a fixed increment with each resize takes $Ω(n^2)$ time.\n",
    "\n",
    "The proof of this result is based on the following observations:\n",
    "\n",
    "Let $c > 0$ represent the fixed increment in capacity that is used for each resize event. During the series of $n$ append operations, time will have been spent initializing arrays of size $c,2c,3c,...,mc$ for $m = \\lceil{n}/c\\rceil$, and therefore, the overall time would be proportional to $c + 2c + 3c + · · · + mc$.\n",
    "\n",
    "$$ \\sum_{i=1}^{m} ci = c \\sum_{i=1}^{m} i = c \\frac{m(m+1)}{2} \\geq c \\frac{\\frac{n}{c}(\\frac{n}{c} + 1)}{2}  \\geq \\frac{n^2}{2c} $$\n",
    "\n",
    "Therefore, performing the n append operations takes $Ω(n^2)$ time. -->"
   ]
  },
  {
   "cell_type": "code",
   "execution_count": null,
   "metadata": {},
   "outputs": [],
   "source": []
  },
  {
   "cell_type": "markdown",
   "metadata": {},
   "source": [
    "Python’s list class is using a form of dynamic arrays for its storage but does neither uses a pure geometric progression nor an arithmetic progression.\n",
    "\n",
    "Despite this, Python’s implementation of the append method exhibits amortized constant-time behavior. We can demonstrate this fact experimentally. \n",
    "\n",
    "A single `.append` operation typically executes so quickly that it would be difficult for us to accurately measure the time elapsed at that granularity, although we should notice some of the more expensive operations in which a resize is performed. We can get a more accurate measure of the amortized cost per operation by performing a series of `n` append operations on an initially empty list and determining the average cost of each. "
   ]
  },
  {
   "cell_type": "code",
   "execution_count": 73,
   "metadata": {},
   "outputs": [
    {
     "name": "stdout",
     "output_type": "stream",
     "text": [
      "Avg time:  7.152557373046875e-08 \tInserts:  10\n",
      "Avg time:  4.291534423828125e-08 \tInserts:  100\n",
      "Avg time:  3.695487976074219e-08 \tInserts:  1000\n",
      "Avg time:  3.809928894042969e-08 \tInserts:  10000\n",
      "Avg time:  3.966093063354492e-08 \tInserts:  100000\n",
      "Avg time:  4.772186279296875e-08 \tInserts:  1000000\n",
      "Avg time:  3.2777905464172365e-08 \tInserts:  10000000\n"
     ]
    }
   ],
   "source": [
    "from time import time \n",
    "\n",
    "def compute_average(n):\n",
    "    \"\"\"Perform n appends to an empty list and return average time elapsed.\"\"\"\n",
    "    data = [ ]\n",
    "    start = time()\n",
    "    for _ in range(n):\n",
    "        data.append(None)\n",
    "    end = time( )\n",
    "    return (end - start) / n\n",
    "\n",
    "for i in range(1, 8):\n",
    "    n = 10**i\n",
    "    avg = compute_average(n)\n",
    "    print(\"Avg time: \", avg, \"\\tInserts: \", n)"
   ]
  },
  {
   "cell_type": "markdown",
   "metadata": {},
   "source": [
    "### Implementation\n",
    "\n",
    "Although the Python `list` class provides a highly optimized implementation of dynamic arrays, it is instructive to see how such a class might be implemented.\n",
    "\n",
    "The key is to provide means to grow the array `A` that stores the elements of a list. Of course, we cannot actually grow that array, as its capacity is fixed. If an element is appended to a list at a time when the underlying array is full, we perform the following steps:\n",
    "\n",
    "1. Allocate a new array `B` with larger capacity.\n",
    "2. Set `B[i] = A[i]`, for $i = 0,...,n−1$, where n denotes current number of items. \n",
    "3. Set `A = B`, that is, we henceforth use `B` as the array supporting the list.\n",
    "4. Insert the new element in the new array.\n",
    "\n",
    "```{figure} https://i.ibb.co/gdktfcN/array13.png\n",
    "---\n",
    "width: 90%\n",
    "name: Figure 5.12\n",
    "align: center\n",
    "---\n",
    "An illustration of the three steps for “growing” a dynamic array: (a) create new array `B`; (b) store elements of `A` in `B`; (c) reassign reference A to the new array. Not shown is the future garbage collection of the old array, or the insertion of the new element.\n",
    "```\n",
    "\n",
    "The remaining issue to consider is how large of a new array to create. A com- monly used rule is for the new array to have twice the capacity of the existing array that has been filled.\n",
    "\n",
    "The code cell below offers a concrete implementation of dynamic arrays in Python. Our `DynamicArray` class is designed using ideas described in this section. While consistent with the interface of a Python `list` class, we provide only limited functionality in the form of an `append` method, and accessors `__len__` and `__getitem__`. Support for creating low-level arrays is provided by a module named `ctypes`. Because we will not typically use such a low-level structure in the remain- der of this book, we omit a detailed explanation of the `ctypes` module. Instead, we wrap the necessary command for declaring the raw array within a private utility method `_make_array`. The hallmark expansion procedure is performed in our nonpublic `_resize` method."
   ]
  },
  {
   "cell_type": "code",
   "execution_count": null,
   "metadata": {},
   "outputs": [],
   "source": [
    "import ctypes \n",
    "\n",
    "class DynamicArray: \n",
    "    '''A dynamic array class akin to a simplified Python list.'''\n",
    "    \n",
    "    def __init__(self):\n",
    "        '''Create an empty array.'''\n",
    "        self._n = 0                                    # count actual elements\n",
    "        self._capacity = 1                             # default array capacity\n",
    "        self._A = self._make_array(self._capacity)     # low-level array\n",
    "        \n",
    "    def __len__(self):\n",
    "        '''Return number of elements stored in the array.'''\n",
    "        return self._n\n",
    "    \n",
    "    def __getitem__(self, k):\n",
    "        '''Return element at index k.'''\n",
    "        if not 0 <= k < self._n:\n",
    "            raise IndexError('invalid index')\n",
    "        return self._A[k]                              # retrieve from array\n",
    "    \n",
    "    def append(self, obj):\n",
    "        '''Add object to end of the array.'''\n",
    "        if self._n == self._capacity:                  # not enough room\n",
    "            self._resize(2 * self._capacity)           # so double capacity\n",
    "        self._A[self._n] = obj\n",
    "        self._n += 1\n",
    "        \n",
    "    def _resize(self, c):                              # nonpublic utitity\n",
    "        '''Resize internal array to capacity c.'''\n",
    "        B = self._make_array(c)                        # new (bigger) array\n",
    "        for k in range(self._n):                       # for each existing value\n",
    "            B[k] = self._A[k]\n",
    "        self._A = B                                    # use the bigger array\n",
    "        self._capacity = c\n",
    "        \n",
    "    def _make_array(self, c):                          # nonpublic utitity\n",
    "        '''Return new array with capacity c.'''\n",
    "        return (c * ctypes.py_object)()                # see ctypes documentation\n",
    "    \n",
    "    def insert(self, k, value):\n",
    "        '''Insert value at index k, shifting subsequent values rightward.'''\n",
    "        # (for simplicity, we assume 0 <= k <= n in this verion)\n",
    "        if self._n == self._capacity:                  # not enough room\n",
    "            self._resize(2 * self._capacity)           # so double capacity\n",
    "        for j in range(self._n, k, -1):                # shift rightmost first\n",
    "            self._A[j] = self._A[j-1]\n",
    "        self._A[k] = value                             # store newest element\n",
    "        self._n += 1\n",
    "        \n",
    "    def remove(self, value):\n",
    "        '''Remove first occurrence of value (or raise ValueError).'''\n",
    "        # (for simplicity, we do not consider shrinking the dynamic array in this version)"
   ]
  },
  {
   "cell_type": "markdown",
   "metadata": {},
   "source": [
    "## Summary \n",
    "\n",
    "**Static vs. Dynamic Arrays**: Static arrays have fixed size, while dynamic arrays can grow in size. In Python, `tuple` and `str` are examples of static arrays, while `list` is an example of a dynamic array.\n",
    "\n",
    "**Compact vs. Referential Arrays**: Compact arrays store the data directly, while referential arrays store references to the data. In Python, `str` and `array` are examples of compact arrays, while `list` and `tuple` are examples of referential arrays.\n",
    "\n",
    "| - | Static (Fixed Size) | Dynamic (Variable Size) |\n",
    "|---|---|---|\n",
    "| **Compact (Store Data directly)** | `str`,`array`   | - |\n",
    "| **Referential (Store References)**  | `tuple`  | `list`  |\n"
   ]
  }
 ],
 "metadata": {
  "kernelspec": {
   "display_name": "Python 3",
   "language": "python",
   "name": "python3"
  },
  "language_info": {
   "codemirror_mode": {
    "name": "ipython",
    "version": 3
   },
   "file_extension": ".py",
   "mimetype": "text/x-python",
   "name": "python",
   "nbconvert_exporter": "python",
   "pygments_lexer": "ipython3",
   "version": "3.9.6"
  }
 },
 "nbformat": 4,
 "nbformat_minor": 2
}
