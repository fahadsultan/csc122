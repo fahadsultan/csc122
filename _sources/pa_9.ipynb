{
 "cells": [
  {
   "cell_type": "markdown",
   "metadata": {},
   "source": [
    "## **Question 1**. Linked Lists \n",
    "\n",
    "Implement a linked list. You have to define a class `Node` and a class `LinkedList`\n",
    "\n",
    "<hr/>\n",
    "\n",
    "The `Node` class should have two attributes:\n",
    "- `value` which is the value of the node\n",
    "- `next` which is the reference to the next node in the list\n",
    "\n",
    "<hr/>\n",
    "\n",
    "The `LinkedList` class should have just **one attributes**:\n",
    "- `head` which is the reference to the first node in the list\n",
    "\n",
    "The `LinkedList` class should have the following methods:\n",
    "\n",
    "- `append(value)`: adds a new node with the value `value` at the end of the list\n",
    "- `remove(value)`: removes the first node with the value `value` from the list\n",
    "- `__str__()`: returns a string representation of the list (e.g., `1 -> 2 -> 3 -> 4 -> 5`)\n"
   ]
  },
  {
   "cell_type": "code",
   "execution_count": 3,
   "metadata": {},
   "outputs": [
    {
     "name": "stdout",
     "output_type": "stream",
     "text": [
      "All tests passed\n"
     ]
    }
   ],
   "source": [
    "class Node: \n",
    "    def __init__(self, value):\n",
    "        self.value = value\n",
    "        self.next = None\n",
    "\n",
    "class LinkedList:\n",
    "    def __init__(self):\n",
    "        self.head = None\n",
    "\n",
    "    def append(self, value):\n",
    "        if self.head is None:\n",
    "            self.head = Node(value)\n",
    "        else:\n",
    "            current = self.head\n",
    "            while current.next is not None:\n",
    "                current = current.next\n",
    "            current.next = Node(value)\n",
    "\n",
    "    def remove(self, value):\n",
    "        current = self.head\n",
    "        if current.value == value:\n",
    "            self.head = current.next\n",
    "        else:\n",
    "            while current.next is not None:\n",
    "                if current.next.value == value:\n",
    "                    current.next = current.next.next\n",
    "                    break\n",
    "                current = current.next\n",
    "\n",
    "    def __str__(self):\n",
    "        #  `1 -> 2 -> 3 -> 4 -> 5`\n",
    "        current = self.head\n",
    "        result = \"\"\n",
    "        while current is not None:\n",
    "            result = result + str(current.value) + \" -> \"\n",
    "            current = current.next\n",
    "        return result[:-4]\n",
    "\n",
    "list = LinkedList()\n",
    "list.append(1)\n",
    "list.append(2)\n",
    "list.append(3)\n",
    "list.append(4)\n",
    "\n",
    "assert str(list) ==  \"1 -> 2 -> 3 -> 4\",    \"Test 0 failed\"\n",
    "assert list.head.value == 1,                \"Test 1 failed\"\n",
    "assert list.head.next.value == 2,           \"Test 2 failed\"\n",
    "assert list.head.next.next.value == 3,      \"Test 3 failed\"\n",
    "assert list.head.next.next.next.value == 4, \"Test 4 failed\"\n",
    "\n",
    "list.remove(3)\n",
    "\n",
    "assert list.head.value == 1,                \"Test 5 failed\"\n",
    "assert list.head.next.value == 2,           \"Test 6 failed\"\n",
    "assert list.head.next.next.value == 4,      \"Test 7 failed\"\n",
    "\n",
    "assert str(list) == \"1 -> 2 -> 4\",          \"Test 8 failed\"\n",
    "\n",
    "list.remove(1)\n",
    "\n",
    "assert str(list) == \"2 -> 4\",               \"Test 9 failed\"\n",
    "\n",
    "list.remove(4)\n",
    "\n",
    "assert str(list) == \"2\",                    \"Test 10 failed\"\n",
    "\n",
    "print(\"All tests passed\")\n"
   ]
  },
  {
   "cell_type": "markdown",
   "metadata": {},
   "source": [
    "## **Question 2.** Remove duplicates from a linked list\n",
    "\n",
    "Implement a method `remove_duplicates` in the `LinkedList` class that removes all duplicates from the linked list. The method should remove all but the first occurrence of each value.\n",
    "\n",
    "Assume the linked list is sorted."
   ]
  },
  {
   "cell_type": "code",
   "execution_count": 4,
   "metadata": {},
   "outputs": [
    {
     "name": "stdout",
     "output_type": "stream",
     "text": [
      "All tests passed\n"
     ]
    }
   ],
   "source": [
    "def remove_duplicates(ll):\n",
    "    current = ll.head\n",
    "    while current is not None and current.next is not None:\n",
    "        if current.value == current.next.value:\n",
    "            current.next = current.next.next\n",
    "        else:\n",
    "            current = current.next\n",
    "\n",
    "ll = LinkedList()\n",
    "ll.append(1)\n",
    "ll.append(1)\n",
    "ll.append(1)\n",
    "ll.append(2)\n",
    "ll.append(3)\n",
    "ll.append(3)\n",
    "ll.append(4)\n",
    "ll.append(4)\n",
    "ll.append(4)\n",
    "\n",
    "remove_duplicates(ll)\n",
    "\n",
    "assert str(ll) == \"1 -> 2 -> 3 -> 4\", \"Test 1 failed\"\n",
    "\n",
    "remove_duplicates(ll)\n",
    "\n",
    "assert str(ll) == \"1 -> 2 -> 3 -> 4\", \"Test 2 failed\"\n",
    "\n",
    "ll.append(5)\n",
    "ll.append(5)\n",
    "\n",
    "remove_duplicates(ll)\n",
    "\n",
    "assert str(ll) == \"1 -> 2 -> 3 -> 4 -> 5\", \"Test 3 failed\"\n",
    "\n",
    "print(\"All tests passed\")"
   ]
  },
  {
   "cell_type": "markdown",
   "metadata": {},
   "source": [
    "## **Question 3.** Merge two sorted linked lists\n",
    "\n",
    "Implement a method `merge` in the `LinkedList` class that merges two sorted linked lists into a new sorted linked list. The method should return a new linked list with the nodes of the two input lists.\n"
   ]
  },
  {
   "cell_type": "code",
   "execution_count": 5,
   "metadata": {},
   "outputs": [],
   "source": [
    "def merge(l1, l2):\n",
    "    result = LinkedList()\n",
    "    current1 = l1.head\n",
    "    current2 = l2.head\n",
    "    while current1 is not None and current2 is not None:\n",
    "        if current1.value < current2.value:\n",
    "            result.append(current1.value)\n",
    "            current1 = current1.next\n",
    "        else:\n",
    "            result.append(current2.value)\n",
    "            current2 = current2.next\n",
    "    while current1 is not None:\n",
    "        result.append(current1.value)\n",
    "        current1 = current1.next\n",
    "    while current2 is not None:\n",
    "        result.append(current2.value)\n",
    "        current2 = current2.next\n",
    "    return result"
   ]
  },
  {
   "cell_type": "code",
   "execution_count": 6,
   "metadata": {},
   "outputs": [
    {
     "name": "stdout",
     "output_type": "stream",
     "text": [
      "All tests passed\n"
     ]
    }
   ],
   "source": [
    "l1 = LinkedList()\n",
    "l1.append(1)\n",
    "l1.append(3)\n",
    "l1.append(5)\n",
    "\n",
    "l2 = LinkedList()\n",
    "l2.append(2)\n",
    "l2.append(4)\n",
    "l2.append(6)\n",
    "\n",
    "l3 = merge(l1, l2)\n",
    "assert str(l3) == \"1 -> 2 -> 3 -> 4 -> 5 -> 6\", \"Test 1 failed\"\n",
    "\n",
    "l1 = LinkedList()\n",
    "l1.append(1)\n",
    "l1.append(2)\n",
    "l1.append(3)\n",
    "\n",
    "l2 = LinkedList()\n",
    "l2.append(4)\n",
    "l2.append(5)\n",
    "l2.append(6)\n",
    "\n",
    "l3 = merge(l1, l2)\n",
    "assert str(l3) == \"1 -> 2 -> 3 -> 4 -> 5 -> 6\", \"Test 2 failed\"\n",
    "\n",
    "l2 = LinkedList()\n",
    "l2.append(7)\n",
    "\n",
    "l3 = merge(l1, l2)\n",
    "\n",
    "assert str(l3) == \"1 -> 2 -> 3 -> 7\", \"Test 3 failed\"\n",
    "\n",
    "print(\"All tests passed\")\n"
   ]
  },
  {
   "cell_type": "markdown",
   "metadata": {},
   "source": [
    "## **Question 4.** Reverse a linked list\n",
    "\n",
    "Implement a method `reverse` in the `LinkedList` class that reverses the linked list **in place**."
   ]
  },
  {
   "cell_type": "code",
   "execution_count": 7,
   "metadata": {},
   "outputs": [
    {
     "name": "stdout",
     "output_type": "stream",
     "text": [
      "All tests passed\n"
     ]
    }
   ],
   "source": [
    "def reverse(ll):\n",
    "    current = ll.head\n",
    "    prev = None\n",
    "    while current is not None:\n",
    "        next = current.next\n",
    "        current.next = prev\n",
    "        prev = current\n",
    "        current = next\n",
    "    ll.head = prev\n",
    "\n",
    "list = LinkedList()\n",
    "list.append(1)\n",
    "list.append(2)\n",
    "list.append(3)\n",
    "list.append(4)\n",
    "list.append(5)\n",
    "\n",
    "reverse(list)\n",
    "\n",
    "assert str(list) == \"5 -> 4 -> 3 -> 2 -> 1\", \"Test 1 failed\"\n",
    "assert list.head.value == 5,                  \"Test 2 failed\"\n",
    "assert list.head.next.value == 4,             \"Test 3 failed\"\n",
    "assert list.head.next.next.value == 3,        \"Test 4 failed\"\n",
    "assert list.head.next.next.next.value == 2,   \"Test 5 failed\"\n",
    "assert list.head.next.next.next.next.value == 1, \"Test 6 failed\"\n",
    "\n",
    "print(\"All tests passed\")"
   ]
  },
  {
   "cell_type": "markdown",
   "metadata": {},
   "source": [
    "## **Question 5.** Find the middle of a linked list\n",
    "\n",
    "Implement a method `middle` in the `LinkedList` class that returns the middle node of the linked list. If the list has an even number of nodes, return the second middle node."
   ]
  },
  {
   "cell_type": "code",
   "execution_count": 8,
   "metadata": {},
   "outputs": [
    {
     "name": "stdout",
     "output_type": "stream",
     "text": [
      "All tests passed\n"
     ]
    }
   ],
   "source": [
    "def middle(ll): \n",
    "    slow = ll.head\n",
    "    fast = ll.head\n",
    "    while fast is not None and fast.next is not None:\n",
    "        slow = slow.next\n",
    "        fast = fast.next.next\n",
    "    return slow.value\n",
    "\n",
    "list = LinkedList()\n",
    "list.append(1)\n",
    "list.append(2)\n",
    "list.append(3)\n",
    "list.append(4)\n",
    "list.append(5)\n",
    "\n",
    "assert middle(list) == 3, \"Test 1 failed\"\n",
    "\n",
    "list.append(6)\n",
    "\n",
    "assert middle(list) == 4, \"Test 2 failed\"\n",
    "\n",
    "list.append(7)\n",
    "\n",
    "assert middle(list) == 4, \"Test 3 failed\"\n",
    "\n",
    "print(\"All tests passed\")"
   ]
  }
 ],
 "metadata": {
  "kernelspec": {
   "display_name": "Python 3",
   "language": "python",
   "name": "python3"
  },
  "language_info": {
   "codemirror_mode": {
    "name": "ipython",
    "version": 3
   },
   "file_extension": ".py",
   "mimetype": "text/x-python",
   "name": "python",
   "nbconvert_exporter": "python",
   "pygments_lexer": "ipython3",
   "version": "3.9.6"
  }
 },
 "nbformat": 4,
 "nbformat_minor": 2
}
