{
 "cells": [
  {
   "cell_type": "markdown",
   "metadata": {},
   "source": [
    "## **Question 1**. Selection Sort \n",
    "\n",
    "Write a function that sorts a given list of numbers `data` using a **recursive implementation** of **selection sort**. "
   ]
  },
  {
   "cell_type": "code",
   "execution_count": null,
   "metadata": {},
   "outputs": [],
   "source": [
    "def find_min_index(arr):\n",
    "    min_index = 0\n",
    "    for i in range(1, len(arr)):\n",
    "        if arr[i] < arr[min_index]:\n",
    "            min_index = i\n",
    "    return min_index\n",
    "\n",
    "def ss_recursive(arr):\n",
    "    if len(arr) == 1:\n",
    "        return arr\n",
    "    else:\n",
    "        min_index = find_min_index(arr)\n",
    "        arr[0], arr[min_index] = arr[min_index], arr[0]\n",
    "        return [arr[0]] + ss_recursive(arr[1:])\n",
    "    \n",
    "assert ss_recursive([3, 1, 4, 1, 5]) == [1, 1, 3, 4, 5], \"Test case 1 failed\"\n",
    "assert ss_recursive([5, 4, 3, 2, 1]) == [1, 2, 3, 4, 5], \"Test case 2 failed\"\n",
    "assert ss_recursive([1, 1, 1, 1, 1]) == [1, 1, 1, 1, 1], \"Test case 3 failed\"\n",
    "assert ss_recursive([1])             == [1],             \"Test case 4 failed\"\n",
    "assert ss_recursive([1, 2, 3, 4, 5]) == [1, 2, 3, 4, 5], \"Test case 5 failed\"\n",
    "\n",
    "print(\"All test cases passed!\")"
   ]
  },
  {
   "cell_type": "markdown",
   "metadata": {},
   "source": [
    "## **Question 2**. Insertion Sort\n",
    "\n",
    "Write a function that sorts a given list of numbers `data` using a **recursive implementation** of **insertion sort**."
   ]
  },
  {
   "cell_type": "code",
   "execution_count": null,
   "metadata": {},
   "outputs": [],
   "source": [
    "def insertion_sort_recursive(data):\n",
    "    if len(data) == 1:\n",
    "        return data\n",
    "    else:\n",
    "        sorted_data = insertion_sort_recursive(data[:-1])\n",
    "        last_element = data[-1]\n",
    "        for i in range(len(sorted_data)):\n",
    "            if last_element < sorted_data[i]:\n",
    "                return sorted_data[:i] + [last_element] + sorted_data[i:]\n",
    "        return sorted_data + [last_element]"
   ]
  },
  {
   "cell_type": "markdown",
   "metadata": {},
   "source": [
    "## **Question 3**. Merge Sort \n",
    "\n",
    "Write a function that sorts a given list of numbers `data` using a **recursive implementation** of **merge sort**."
   ]
  },
  {
   "cell_type": "code",
   "execution_count": null,
   "metadata": {},
   "outputs": [],
   "source": [
    "def merge(left, right):\n",
    "    result = []\n",
    "    left_index, right_index = 0, 0\n",
    "    while left_index < len(left) and right_index < len(right):\n",
    "        if left[left_index] < right[right_index]:\n",
    "            result.append(left[left_index])\n",
    "            left_index += 1\n",
    "        else:\n",
    "            result.append(right[right_index])\n",
    "            right_index += 1\n",
    "    result += left[left_index:]\n",
    "    result += right[right_index:]\n",
    "    return result\n",
    "\n",
    "def merge_sort_recursive(data):\n",
    "    if len(data) <= 1:\n",
    "        return data\n",
    "    else:\n",
    "        mid = len(data) // 2\n",
    "        left = merge_sort_recursive(data[:mid])\n",
    "        right = merge_sort_recursive(data[mid:])\n",
    "        return merge(left, right)"
   ]
  },
  {
   "cell_type": "markdown",
   "metadata": {},
   "source": [
    "## **Question 4**. Quick Sort"
   ]
  },
  {
   "cell_type": "code",
   "execution_count": null,
   "metadata": {},
   "outputs": [],
   "source": []
  },
  {
   "cell_type": "markdown",
   "metadata": {},
   "source": [
    "## **Question 5**. Add Two Numbers\n",
    "\n",
    "You are given two non-empty linked lists representing two non-negative integers. The digits are stored in reverse order, and each of their nodes contains a single digit. Add the two numbers and return the sum as a linked list.\n",
    "\n",
    "You may assume the two numbers do not contain any leading zero, except the number 0 itself.\n",
    "\n",
    "Input: l1 = [2,4,3], l2 = [5,6,4]\n",
    "Output: [7,0,8]\n",
    "Explanation: 342 + 465 = 807.\n",
    "Example 2:\n",
    "\n",
    "Input: l1 = [0], l2 = [0]\n",
    "Output: [0]\n",
    "Example 3:\n",
    "\n",
    "Input: l1 = [9,9,9,9,9,9,9], l2 = [9,9,9,9]\n",
    "Output: [8,9,9,9,0,0,0,1]\n",
    "\n"
   ]
  },
  {
   "cell_type": "code",
   "execution_count": null,
   "metadata": {},
   "outputs": [],
   "source": []
  },
  {
   "cell_type": "markdown",
   "metadata": {},
   "source": [
    "## **Question 6**. Count Occurences "
   ]
  },
  {
   "cell_type": "markdown",
   "metadata": {},
   "source": [
    "Write a function that counts the number of occurrences of a given number in an unsorted list of numbers. The function should be recursive."
   ]
  },
  {
   "cell_type": "code",
   "execution_count": null,
   "metadata": {},
   "outputs": [],
   "source": [
    "def count_unsorted_recursive(data): \n",
    "    if len(data) == 1:\n",
    "        return 0\n",
    "    else:\n",
    "        count = 0\n",
    "        for i in range(len(data) - 1):\n",
    "            if data[i] > data[i + 1]:\n",
    "                count += 1\n",
    "        return count"
   ]
  },
  {
   "cell_type": "markdown",
   "metadata": {},
   "source": [
    "Write a function that counts the number of occurrences of a given number in a sorted list of numbers."
   ]
  },
  {
   "cell_type": "code",
   "execution_count": null,
   "metadata": {},
   "outputs": [],
   "source": [
    "def count_recursive(data):\n",
    "    if len(data) == 0:\n",
    "        return 0\n",
    "    else:\n",
    "        return 1 + count_recursive(data[1:])"
   ]
  },
  {
   "cell_type": "markdown",
   "metadata": {},
   "source": [
    "## **Question 7**. Left Triangle\n",
    "\n",
    "Write a function that prints a left triangle using the `*` character. The function should be recursive.\n",
    "\n",
    "You are not allowed to use loops and the built-in `print` function.\n",
    "\n",
    "You may use `print_same_line` function to print the `*` characters in the same line.\n",
    "\n",
    "You may use the `print_new_line` function to print a new line.\n",
    "\n",
    "For example, the function should print the following for `n=5`:\n",
    "\n",
    "```\n",
    "*\n",
    "**\n",
    "***\n",
    "****\n",
    "*****\n",
    "```\n"
   ]
  },
  {
   "cell_type": "code",
   "execution_count": 16,
   "metadata": {},
   "outputs": [
    {
     "name": "stdout",
     "output_type": "stream",
     "text": [
      "*\n",
      "**\n",
      "***\n",
      "****\n",
      "*****\n"
     ]
    }
   ],
   "source": [
    "def print_stars(n):\n",
    "    if n > 0:\n",
    "        print_stars(n - 1)\n",
    "        print(\"*\", end=\"\")\n",
    "\n",
    "def print_new_line():\n",
    "    print()\n",
    "\n",
    "def print_left_triangle(n):\n",
    "    if n > 0:\n",
    "        print_left_triangle(n - 1)\n",
    "        print_stars(n)\n",
    "        print_new_line()\n",
    "\n",
    "\n",
    "# def print_left_triangle(n):\n",
    "#     if n > 0:\n",
    "#         print_left_triangle(n - 1)  # Recursively call with n-1\n",
    "#         print(\"*\" * n)  # Print a line of n asterisks\n",
    "\n",
    "# Example usage:\n",
    "print_left_triangle(5)"
   ]
  },
  {
   "cell_type": "markdown",
   "metadata": {},
   "source": [
    "## **Question 8**. Right Triangle\n",
    "\n",
    "\n",
    "Write a function that prints a right triangle using the `*` character. The function should be recursive.\n",
    "\n",
    "You are not allowed to use loops and the built-in `print` function.\n",
    "\n",
    "You may use `print_same_line` function to print the `*` characters in the same line.\n",
    "\n",
    "You may use the `print_new_line` function to print a new line.\n",
    "\n",
    "For example, the function should print the following for `n=5`:\n",
    "\n",
    "```\n",
    "    *\n",
    "   **\n",
    "  ***\n",
    " ****\n",
    "*****\n",
    "```\n"
   ]
  },
  {
   "cell_type": "code",
   "execution_count": 12,
   "metadata": {},
   "outputs": [
    {
     "name": "stdout",
     "output_type": "stream",
     "text": [
      "    *\n",
      "   **\n",
      "  ***\n",
      " ****\n",
      "*****\n"
     ]
    }
   ],
   "source": [
    "def print_right_triangle(n, i=0):\n",
    "    if i < n:\n",
    "        print(\" \" * (n - i - 1) + \"*\" * (i + 1))  # Print spaces and asterisks for each row\n",
    "        print_right_triangle(n, i + 1)  # Recursively call with i+1\n",
    "\n",
    "# Example usage:\n",
    "print_right_triangle(5)"
   ]
  },
  {
   "cell_type": "markdown",
   "metadata": {},
   "source": [
    "# **Question 9**. Pyramid \n",
    "\n",
    "Write a function that takes as input an integer `n` and prints a pyramid of height `n` using the `*` character. The function should be recursive.\n",
    "\n",
    "You are not allowed to use loops and the built-in `print` function.\n",
    "\n",
    "You may use `print_same_line` function to print the `*` characters in the same line.\n",
    "\n",
    "You may use the `print_new_line` function to print a new line.\n",
    "\n",
    "For example, the function should print the following for `n=5`:\n",
    "\n",
    "```\n",
    "    *\n",
    "   ***\n",
    "  *****\n",
    " *******\n",
    "\n",
    "```\n",
    "\n"
   ]
  },
  {
   "cell_type": "markdown",
   "metadata": {},
   "source": [
    "## **Question 10**. Inverse Pyramid\n",
    "\n",
    "Write a function that takes as input an integer `n` and prints an inverse pyramid of height `n` using the `*` character. The function should be recursive.\n",
    "\n",
    "You are not allowed to use loops and the built-in `print` function.\n",
    "\n",
    "You may use `print_same_line` function to print the `*` characters in the same line.\n",
    "\n",
    "You may use the `print_new_line` function to print a new line.\n",
    "\n",
    "For example, the function should print the following for `n=4`:\n",
    "\n",
    "```\n",
    " *******\n",
    "  *****\n",
    "   ***\n",
    "    *\n",
    "```"
   ]
  },
  {
   "cell_type": "markdown",
   "metadata": {},
   "source": [
    "## **Question 9**. Diamond\n",
    "\n",
    "Write a function that prints a diamond shape with the given number of rows. For example, if the number of rows is 5, the output would be:\n",
    "\n",
    "```\n",
    "    *\n",
    "   ***\n",
    "  *****\n",
    " *******\n",
    "*********\n",
    " *******\n",
    "  *****\n",
    "   ***\n",
    "    *\n",
    "```"
   ]
  },
  {
   "cell_type": "code",
   "execution_count": 9,
   "metadata": {},
   "outputs": [
    {
     "name": "stdout",
     "output_type": "stream",
     "text": [
      "* * * * *   * * * * * \n",
      "* * * *       * * * * \n",
      "* * *           * * * \n",
      "* *               * * \n",
      "*                   * \n"
     ]
    }
   ],
   "source": [
    "def print_same_line(x):\n",
    "    print(x, end='')\n",
    "    \n",
    "def go_to_newline():\n",
    "    print()\n",
    "    \n",
    "def print_asterisk(asterisk):\n",
    "    if (asterisk == 0):\n",
    "        return;\n",
    "    print(\"* \", end = \"\");\n",
    "    print_asterisk(asterisk - 1);\n",
    "\n",
    "def print_space(space):\n",
    "    if (space == 0):\n",
    "        return;\n",
    "    print(\" \", end = \"\");\n",
    "    print(\" \", end = \"\");\n",
    "    print_space(space - 1);\n",
    "\n",
    "# function to print the pattern\n",
    "def pattern(n):\n",
    "   print_space(n-1)"
   ]
  },
  {
   "cell_type": "markdown",
   "metadata": {},
   "source": [
    "\n",
    "## **Question 5**. Diamond\n",
    "\n",
    "Write a recursive function that prints a diamond shape with the given number of rows. \n",
    "\n",
    "For example, if the number of rows is 5, the output would be:\n",
    "\n",
    "```\n",
    "    *\n",
    "   ***\n",
    "  *****\n",
    " *******\n",
    "*********\n",
    " *******\n",
    "  *****\n",
    "   ***\n",
    "    *\n",
    "```"
   ]
  },
  {
   "cell_type": "code",
   "execution_count": 20,
   "metadata": {},
   "outputs": [
    {
     "name": "stdout",
     "output_type": "stream",
     "text": [
      "**              **\n",
      "*                  *\n",
      "*\n",
      "*                  *\n",
      "***\n",
      "*****\n",
      "*                  *\n",
      "***\n",
      "**              **\n",
      "*                  *\n",
      "*\n"
     ]
    }
   ],
   "source": [
    "def go_to_newline():\n",
    "    print()\n",
    "\n",
    "def print_same_line(x):\n",
    "    print(x, end='')\n",
    "\n",
    "def print_asterisk(n):\n",
    "    if n > 0:\n",
    "        print_asterisk(n - 1)\n",
    "        print_same_line(\"*\")\n",
    "\n",
    "def print_diamond(n):\n",
    "    if n % 2 == 0:\n",
    "        n += 1\n",
    "    for i in range(1, n + 1, 2):\n",
    "        pattern((n - i) // 2)\n",
    "        print_asterisk(i)\n",
    "        go_to_newline()\n",
    "    for i in range(n - 2, 0, -2):\n",
    "        pattern((n - i) // 2)\n",
    "        print_asterisk(i)\n",
    "        go_to_newline()\n",
    "\n",
    "# Example usage:\n",
    "print_diamond(5)\n"
   ]
  },
  {
   "cell_type": "markdown",
   "metadata": {},
   "source": []
  },
  {
   "cell_type": "code",
   "execution_count": 23,
   "metadata": {},
   "outputs": [
    {
     "name": "stdout",
     "output_type": "stream",
     "text": [
      "7777777777777\n",
      " 66666666666\n",
      "  555555555\n",
      "   4444444\n",
      "    33333\n",
      "     222\n",
      "      1\n"
     ]
    }
   ],
   "source": [
    "def print_same_line(x):\n",
    "    print(x, end='')\n",
    "    \n",
    "def go_to_newline():\n",
    "    print()\n",
    "\n",
    "def print_inverse_pyramid(x):\n",
    "    \n",
    "    i = x\n",
    "        \n",
    "    while i > 0:\n",
    "        \n",
    "        j = 1\n",
    "        while j <= x - i:\n",
    "            print_same_line(' ')\n",
    "            j = j + 1\n",
    "            \n",
    "        k = 1\n",
    "        while k <= i:\n",
    "            print_same_line(i)\n",
    "            k = k + 1\n",
    "        \n",
    "        l = 1\n",
    "        while l <= i-1:\n",
    "            print_same_line(i)\n",
    "            l = l + 1\n",
    "            \n",
    "        go_to_newline()\n",
    "        i = i - 1\n",
    "        \n",
    "print_inverse_pyramid(7)"
   ]
  },
  {
   "cell_type": "code",
   "execution_count": 22,
   "metadata": {},
   "outputs": [
    {
     "name": "stdout",
     "output_type": "stream",
     "text": [
      "****\n",
      "*****\n",
      "*******\n"
     ]
    }
   ],
   "source": [
    "def print_same_line(n):\n",
    "    \"\"\"Prints n asterisks on the same line.\"\"\"\n",
    "    for _ in range(n):\n",
    "        print(\"*\", end=\"\")\n",
    "\n",
    "def print_new_line():\n",
    "    \"\"\"Prints a new line.\"\"\"\n",
    "    print()\n",
    "\n",
    "def print_pyramid(n):\n",
    "    \"\"\"Prints a pyramid of height n using the * character.\"\"\"\n",
    "    if n == 1:\n",
    "        print_same_line(1)\n",
    "    else:\n",
    "        print_pyramid(n - 1)\n",
    "        print_same_line(2 * n - 1)\n",
    "        print_new_line()\n",
    "\n",
    "print_pyramid(4)"
   ]
  },
  {
   "cell_type": "code",
   "execution_count": 38,
   "metadata": {},
   "outputs": [
    {
     "name": "stdout",
     "output_type": "stream",
     "text": [
      "    *\n",
      "   **\n",
      "  ***\n",
      " ****\n",
      "*****\n"
     ]
    }
   ],
   "source": [
    "\n",
    "def print_stars(n):\n",
    "    if n > 0:\n",
    "        print_stars(n - 1)\n",
    "        print(\"*\", end=\"\")\n",
    "\n",
    "def print_spaces(n):\n",
    "    if n > 0:\n",
    "        print_stars(n - 1)\n",
    "        print(\" \", end=\"\")\n",
    "\n",
    "def print_new_line():\n",
    "    print()\n",
    "\n",
    "# def print_left_triangle(n):\n",
    "#     if n > 0:\n",
    "#         print_left_triangle(n - 1)\n",
    "#         print_stars(n)\n",
    "#         print_new_line()\n",
    "\n",
    "# # Example usage:\n",
    "# print_left_triangle(5)\n"
   ]
  },
  {
   "cell_type": "code",
   "execution_count": 82,
   "metadata": {},
   "outputs": [
    {
     "name": "stdout",
     "output_type": "stream",
     "text": [
      "     \n",
      "    *\n",
      "   ***\n",
      "  *****\n",
      " *******\n",
      "*********\n",
      "*********\n",
      " *******\n",
      "  *****\n",
      "   ***\n",
      "    *\n"
     ]
    }
   ],
   "source": [
    "def printt(x): \n",
    "  if type(x)  == str:\n",
    "    assert len(x) == 1, \"print_sameline must be given a single \"+\\\n",
    "                        \"string character as an input to print\"\n",
    "  elif type(x) == int: \n",
    "    assert (x < 10) and (x > 0), \\\n",
    "                        \"print_sameline must be given a single \"+\\\n",
    "                        \"digit as an input to print\"\n",
    "  print(x, end='')\n",
    "  \n",
    "def print_chars(char, n):\n",
    "    if n > 0:\n",
    "        print_chars(char, n - 1)\n",
    "        printt(char)\n",
    "        \n",
    "def print_pyramid(n, i=0):\n",
    "\n",
    "    if n > 0: \n",
    "        print_chars(\" \", n - 1)\n",
    "        print_chars(\"*\", i)\n",
    "        print_chars(\"*\", i-1)\n",
    "        print_new_line()\n",
    "        print_pyramid(n - 1, i + 1)\n",
    "\n",
    "def inverse_pyramid(x, i = None):\n",
    "\n",
    "    if i == None: \n",
    "        i = x\n",
    "\n",
    "    if i > 0: \n",
    "        print_chars(\" \", x - i)\n",
    "        print_chars(\"*\", i)\n",
    "        print_chars(\"*\", i-1)\n",
    "        print_new_line()\n",
    "        inverse_pyramid(x, i-1)\n",
    "    \n",
    "# inverse_pyramid(5)\n",
    "\n",
    "def print_diamond(n):\n",
    "    print_pyramid(n+1)\n",
    "    inverse_pyramid(n)\n",
    "   \n",
    "print_diamond(5)"
   ]
  },
  {
   "cell_type": "code",
   "execution_count": null,
   "metadata": {},
   "outputs": [],
   "source": []
  }
 ],
 "metadata": {
  "kernelspec": {
   "display_name": "Python 3",
   "language": "python",
   "name": "python3"
  },
  "language_info": {
   "codemirror_mode": {
    "name": "ipython",
    "version": 3
   },
   "file_extension": ".py",
   "mimetype": "text/x-python",
   "name": "python",
   "nbconvert_exporter": "python",
   "pygments_lexer": "ipython3",
   "version": "3.9.6"
  }
 },
 "nbformat": 4,
 "nbformat_minor": 2
}
