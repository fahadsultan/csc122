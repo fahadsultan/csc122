{
 "cells": [
  {
   "cell_type": "code",
   "execution_count": null,
   "metadata": {},
   "outputs": [],
   "source": []
  },
  {
   "cell_type": "markdown",
   "metadata": {},
   "source": [
    "\n",
    "## Example: Counting Change\n",
    "\n",
    "\n",
    "It takes only a bit of cleverness to come up with the iterative Fibonacci algorithm. In contrast, consider the following problem: How many different ways can we make change of $\\$1.00$ ($100$ cents), given half-dollars, quarters, dimes, nickels, and pennies ($50$ cents, $25$ cents, $10$ cents, $5$ cents, and $1$ cent, respectively)? More generally, can we write a function to compute the number of ways to change any given amount of money?\n",
    "\n",
    "This problem has a simple solution as a recursive function. Suppose we think of the types of coins available as arranged in some order. Then the following relation holds:\n",
    "\n",
    "The number of ways to change amount $a$ using $n$ kinds of coins equals\n",
    "\n",
    "* the number of ways to change amount $a$ using all but the first kind of coin, plus\n",
    "* the number of ways to change amount $a – d$ using all n kinds of coins, where $d$ is the denomination of the first kind of coin.\n",
    "\n",
    "\n",
    "To see why this is true, observe that the ways to make change can be divided into two groups: those that do not use any of the first kind of coin, and those that do. Therefore, the total number of ways to make change for some amount is equal to the number of ways to make change for the amount without using any of the first kind of coin, plus the number of ways to make change assuming that we do use the first kind of coin. But the latter number is equal to the number of ways to make change for the amount that remains after using a coin of the first kind.\n",
    "\n",
    "Thus, we can recursively reduce the problem of changing a given amount to problems of changing smaller amounts or using fewer kinds of coins. Consider this reduction rule carefully, and convince yourself that we can use it to describe an algorithm if we specify the following degenerate cases:\n",
    "\n",
    "* If $a$ is exactly 0, we should count that as 1 way to make change.\n",
    "* If $a$ is less than 0, we should count that as 0 ways to make change. \n",
    "* If $n$ is 0, we should count that as 0 ways to make change.\n",
    "\n",
    "We can easily translate this description into a recursive function:"
   ]
  },
  {
   "cell_type": "code",
   "execution_count": null,
   "metadata": {},
   "outputs": [],
   "source": [
    "def count_change(amount):\n",
    "    return cc(amount, 5)\n",
    "\n",
    "def cc(amount, kinds_of_coins):\n",
    "    if amount == 0:\n",
    "        return 1\n",
    "    elif amount < 0 or kinds_of_coins == 0:\n",
    "        return 0\n",
    "    else:\n",
    "        return cc(amount, kinds_of_coins - 1) + cc(amount - first_denomination(kinds_of_coins), kinds_of_coins)\n",
    "    \n",
    "def first_denomination(kinds_of_coins):\n",
    "    if kinds_of_coins == 1:\n",
    "        return 1\n",
    "    elif kinds_of_coins == 2:\n",
    "        return 5\n",
    "    elif kinds_of_coins == 3:\n",
    "        return 10\n",
    "    elif kinds_of_coins == 4:\n",
    "        return 25\n",
    "    elif kinds_of_coins == 5:\n",
    "        return 50\n",
    "    else:\n",
    "        return 0\n"
   ]
  },
  {
   "cell_type": "markdown",
   "metadata": {},
   "source": [
    "(The first_denomination function takes as input the number of kinds of coins available and returns the denomination of the first kind. Here we are thinking of the coins as arranged in order from largest to smallest, but any order would do as well.) We can now answer our original question about changing a dollar:"
   ]
  },
  {
   "cell_type": "code",
   "execution_count": null,
   "metadata": {},
   "outputs": [],
   "source": [
    "count_change(100)"
   ]
  },
  {
   "cell_type": "markdown",
   "metadata": {},
   "source": [
    "The function `count_change` generates a tree-recursive process with redundancies similar to those in our first implementation of `fib`. On the other hand, it is not obvious how to design a better algorithm for computing the result, and we leave this problem as a challenge. The observation that a tree-recursive process may be highly inefficient but often easy to specify and understand has led people to propose that one could get the best of both worlds by designing a “smart compiler” that could transform tree-recursive functions into more efficient functions that compute the same result."
   ]
  },
  {
   "cell_type": "markdown",
   "metadata": {},
   "source": [
    "# Leftover stuff"
   ]
  },
  {
   "cell_type": "markdown",
   "metadata": {},
   "source": [
    "Once again, we can recast our description as a function for computing factorials:"
   ]
  },
  {
   "cell_type": "code",
   "execution_count": null,
   "metadata": {},
   "outputs": [],
   "source": [
    "def factorial(n):\n",
    "    return fact_iter(1, 1, n); \n",
    "    \n",
    "def fact_iter(product, counter, max_count):\n",
    "    if counter > max_count:\n",
    "        return product\n",
    "    else:\n",
    "        return fact_iter(counter * product,\n",
    "                         counter + 1,\n",
    "                         max_count)"
   ]
  },
  {
   "cell_type": "markdown",
   "metadata": {},
   "source": [
    "As before, we can use the substitution model to visualize the process of computing 6!, as shown in figure below: "
   ]
  },
  {
   "cell_type": "markdown",
   "metadata": {},
   "source": [
    "\n",
    "```{figure} ../assets/recursion2.png\n",
    "---\n",
    "scale: 30%\n",
    "align: center\n",
    "---\n",
    "A <b>linear iterative</b> process for computing 6!\n",
    "```\n",
    "\n"
   ]
  },
  {
   "cell_type": "markdown",
   "metadata": {},
   "source": [
    "In contrasting iteration and recursion, we must be careful not to confuse the notion of a recursive _process_ with the notion of a recursive _function_. When we describe a function as recursive, we are referring to the syntactic fact that the function declaration refers (either directly or indirectly) to the function itself. But when we describe a process as following a pattern that is, say, linearly recursive, we are speaking about how the process evolves, not about the syntax of how a function is written. It may seem disturbing that we refer to a recursive function such as `fact_iter` as generating an iterative process. However, the process really is iterative: Its state is captured completely by its three state variables, and an interpreter need keep track of only three names in order to execute the process.\n",
    "\n",
    "One reason that the distinction between process and function may be confusing is that most implementations of common languages are designed in such a way that the interpretation of any recursive function consumes an amount of memory that grows with the number of function calls, even when the process described is, in principle, iterative. As a consequence, these languages can describe iterative processes only by resorting to special-purpose “looping constructs” such as do, repeat, until, for, and while. The implementation of JavaScript we shall consider in chapter 5 does not share this defect. It will execute an iterative process in constant space, even if the iterative process is described by a recursive function. An implementation with this property is called tail-recursive. With a tail- recursive implementation, iteration can be expressed using the ordinary function call mechanism, so that special iteration constructs are useful only as syntactic sugar.\n"
   ]
  },
  {
   "cell_type": "markdown",
   "metadata": {},
   "source": [
    "Compare the two processes. From one point of view, they seem hardly different at all. Both compute the same mathematical function on the same domain, and each requires a number of steps proportional to n to compute n!. Indeed, both processes even carry out the same sequence of multiplications, obtaining the same sequence of partial products. On the other hand, when we consider the “shapes” of the two processes, we find that they evolve quite differently.\n",
    "\n",
    "\n",
    "Consider the first process. The substitution model reveals a shape of expansion followed by contraction, indicated by the arrow in figure 1.3. The expansion occurs as the process builds up a chain of _deferred operations_ (in this case, a chain of multiplications). The contraction occurs as the operations are actually performed. This type of process, characterized by a chain of deferred operations, is called a _recursive process_. Carrying out this process requires that the interpreter keep track of the operations to be performed later on. In the computation of $n!$, the length of the chain of deferred multiplications, and hence the amount of information needed to keep track of it, grows linearly with n (is proportional to n), just like the number of steps. Such a process is called a _linear recursive process_.\n",
    "\n",
    "By contrast, the second process does not grow and shrink. At each step, all we need to keep track of, for any n, are the current values of the names product, counter, and max_count. We call this an _iterative process_. In general, an iterative process is one whose state can be summarized by a fixed number of _state variables_, together with a fixed rule that describes how the state variables should be updated as the process moves from state to state and an (optional) end test that specifies conditions under which the process should terminate. In computing n!, the number of steps required grows linearly with n. Such a process is called a _linear iterative process_.\n",
    "\n",
    "The contrast between the two processes can be seen in another way. In the it- erative case, the state variables provide a complete description of the state of the process at any point. If we stopped the computation between steps, all we would need to do to resume the computation is to supply the interpreter with the values of the three state variables. Not so with the recursive process. In this case there is some additional “hidden” information, maintained by the interpreter and not contained in the state variables, which indicates “where the process is” in negotiating the chain of deferred operations. The longer the chain, the more information must be maintained."
   ]
  },
  {
   "cell_type": "markdown",
   "metadata": {},
   "source": []
  },
  {
   "cell_type": "markdown",
   "metadata": {},
   "source": []
  },
  {
   "cell_type": "markdown",
   "metadata": {},
   "source": []
  },
  {
   "cell_type": "markdown",
   "metadata": {},
   "source": [
    "\n",
    "<hr/>\n",
    "\n",
    "To sum all the numbers in our recursive nested number list we need to traverse the list, visiting each of the elements within its nested structure, adding any numeric elements to our sum, and repeating this process with any elements which are lists.\n",
    "\n",
    "Thanks to recursion, the Python code needed to sum the values of a nested number list is surprisingly short:"
   ]
  },
  {
   "cell_type": "code",
   "execution_count": null,
   "metadata": {},
   "outputs": [],
   "source": [
    "def recursive_sum(nested_num_list):\n",
    "    sum = 0\n",
    "    for element in nested_num_list:\n",
    "        if type(element) == type([]):\n",
    "            sum = sum + recursive_sum(element)\n",
    "        else:\n",
    "            sum = sum + element\n",
    "    return sum"
   ]
  },
  {
   "cell_type": "markdown",
   "metadata": {},
   "source": [
    "The body of recursive_sum consists mainly of a for loop that traverses nested_num_list. If element is a numerical value (the else branch), it is simply added to sum. If element is a list, then recursive_sum is called again, with the element as an argument. The statement inside the function definition in which the function calls itself is known as the **recursive call**.\n",
    "\n",
    "Recursion is truly one of the most beautiful and elegant tools in computer science.\n",
    "\n",
    "A slightly more complicated problem is finding the largest value in our nested number list:"
   ]
  },
  {
   "cell_type": "code",
   "execution_count": null,
   "metadata": {},
   "outputs": [],
   "source": [
    "def recursive_max(nested_num_list):\n",
    "    \"\"\"\n",
    "      >>> recursive_max([2, 9, [1, 13], 8, 6])\n",
    "      13\n",
    "      >>> recursive_max([2, [[100, 7], 90], [1, 13], 8, 6])\n",
    "      100\n",
    "      >>> recursive_max([2, [[13, 7], 90], [1, 100], 8, 6])\n",
    "      100\n",
    "      >>> recursive_max([[[13, 7], 90], 2, [1, 100], 8, 6])\n",
    "      100\n",
    "    \"\"\"\n",
    "    largest = nested_num_list[0]\n",
    "    while type(largest) == type([]):\n",
    "        largest = largest[0]\n",
    "\n",
    "    for element in nested_num_list:\n",
    "        if type(element) == type([]):\n",
    "            max_of_elem = recursive_max(element)\n",
    "            if largest < max_of_elem:\n",
    "                largest = max_of_elem\n",
    "        else:                           # element is not a list\n",
    "            if largest < element:\n",
    "                largest = element\n",
    "\n",
    "    return largest"
   ]
  },
  {
   "cell_type": "markdown",
   "metadata": {},
   "source": [
    "Doctests are included to provide examples of recursive_max at work.\n",
    "\n",
    "The added twist to this problem is finding a numerical value for initializing largest. We can’t just use `nested_num_list[0]`, since that my be either a number or a list. To solve this problem we use a while loop that assigns largest to the first numerical value no matter how deeply it is nested.\n",
    "\n",
    "The two examples above each have a **base case** which does not lead to a recursive call: the case where the element is a number and not a list. Without a base case, you have **infinite recursion**, and your program will not work. Python stops after reaching a maximum recursion depth and returns a runtime error.\n",
    "\n",
    "Write the following in a file named `infinite_recursion.py`:\n",
    "\n",
    "```python\n",
    "#\n",
    "# infinite_recursion.py\n",
    "#\n",
    "def recursion_depth(number):\n",
    "    print(\"Recursion depth number %d.\" % (number))\n",
    "    recursion_depth(number + 1)\n",
    "\n",
    "recursion_depth(0)\n",
    "```"
   ]
  },
  {
   "cell_type": "markdown",
   "metadata": {},
   "source": [
    "At the unix command prompt in the same directory in which you saved your program, type the following:"
   ]
  },
  {
   "cell_type": "markdown",
   "metadata": {},
   "source": [
    "`python infinite_recursion.py`"
   ]
  },
  {
   "cell_type": "markdown",
   "metadata": {},
   "source": [
    "After watching the messages flash by, you will be presented with the end of a long traceback that ends in with the following:"
   ]
  },
  {
   "cell_type": "markdown",
   "metadata": {},
   "source": [
    "```\n",
    "  ...\n",
    "  File \"infinite_recursion.py\", line 3, in recursion_depth\n",
    "    recursion_depth(number + 1)\n",
    "RuntimeError: maximum recursion depth exceeded\n",
    "```"
   ]
  },
  {
   "cell_type": "markdown",
   "metadata": {},
   "source": [
    "We would certainly never want something like this to happen to a user of one of our programs, so before finishing the recursion discussion, let’s see how errors like this are handled in Python.\n",
    "\n"
   ]
  },
  {
   "cell_type": "markdown",
   "metadata": {},
   "source": [
    "## Exponentiation\n",
    "\n",
    "Consider the problem of computing the exponential of a given number. We would like a function that takes as arguments a base $b$ and a positive integer exponent $n$ and computes $b^n$. One way to do this is via the recursive definition\n",
    "\n",
    "$$ b^n = b \\cdot b^{n-1} $$\n",
    "\n",
    "$$ b^0 = 1 $$\n",
    "\n",
    "which translates readily into the function\n"
   ]
  },
  {
   "cell_type": "code",
   "execution_count": null,
   "metadata": {},
   "outputs": [],
   "source": [
    "def expt(b, n):\n",
    "    if n == 0:\n",
    "        return 1\n",
    "    else:\n",
    "        return b * expt(b, n - 1)"
   ]
  },
  {
   "cell_type": "markdown",
   "metadata": {},
   "source": [
    "This is a linear recursive process, which requires $\\Theta(n)$ steps and $\\Theta(n)$ space. Just as with factorial, we can readily formulate an equivalent linear iteration:"
   ]
  },
  {
   "cell_type": "code",
   "execution_count": null,
   "metadata": {},
   "outputs": [],
   "source": [
    "def expt(b, n):\n",
    "   return expt_iter(b, n, 1)\n",
    "\n",
    "def expt_iter(b, counter, product):\n",
    "    if counter == 0:\n",
    "        return product\n",
    "    else:\n",
    "        return expt_iter(b, counter - 1, b * product)"
   ]
  },
  {
   "cell_type": "markdown",
   "metadata": {},
   "source": [
    "This version requires Θ(n) steps and Θ(1) space.\n",
    "\n",
    "We can compute exponentials in fewer steps by using successive squaring. For instance, rather than computing $b^8$ as\n",
    "\n",
    "$ b \\cdot (b \\cdot (b \\cdot (b \\cdot (b \\cdot (b \\cdot (b \\cdot b)))))) $\n",
    "\n",
    "we can compute it using three multiplications:\n",
    "\n",
    "$$ b^2 = b \\cdot b $$\n",
    "\n",
    "$$ b^4 = b^2 \\cdot b^2 $$\n",
    "\n",
    "$$ b^8 = b^4 \\cdot b^4 $$\n",
    "\n",
    "This method works fine for exponents that are powers of 2. We can also take advantage of successive squaring in computing exponentials in general if we use the rule\n",
    "\n",
    "$$ b^n = \\begin{cases} (b^{n/2})^2 & \\text{if } n \\text{ is even} \\\\ b \\cdot b^{n-1} & \\text{if } n \\text{ is odd} \\end{cases} $$\n",
    "\n"
   ]
  },
  {
   "cell_type": "markdown",
   "metadata": {},
   "source": [
    "We can express this method as a function:"
   ]
  },
  {
   "cell_type": "code",
   "execution_count": null,
   "metadata": {},
   "outputs": [],
   "source": [
    "def square(x):\n",
    "    return x * x\n",
    "\n",
    "def fast_expt(b, n):\n",
    "    if n == 0:\n",
    "        return 1\n",
    "    elif n % 2 == 0:\n",
    "        return square(fast_expt(b, n / 2))\n",
    "    else:\n",
    "        return b * fast_expt(b, n - 1)"
   ]
  },
  {
   "cell_type": "markdown",
   "metadata": {},
   "source": [
    "where the predicate to test whether an integer is even is defined in terms of the operator `%`, which computes the remainder after integer division, by"
   ]
  },
  {
   "cell_type": "code",
   "execution_count": null,
   "metadata": {},
   "outputs": [],
   "source": [
    "def is_even(n):\n",
    "    return n % 2 == 0"
   ]
  },
  {
   "cell_type": "markdown",
   "metadata": {},
   "source": [
    "The process evolved by fast_expt grows logarithmically with $n$ in both space and number of steps. \n",
    "\n",
    "To see this, observe that computing $b^{2n}$ using `fast_expt` requires only one more multiplication than computing $b^n$. The size of the exponent we can compute therefore doubles (approximately) with every new multiplication we are allowed. Thus, the number of multiplications required for an exponent of $n$ grows about as fast as the logarithm of $n$ to the base 2. The process has $\\Theta(log n)$ growth.\n",
    "\n",
    "The difference between $\\Theta(log n)$ growth and $\\Theta(n)$ growth becomes striking as n becomes large. For example, fast_expt for $n = 1000$ requires only 14 multiplications. It is also possible to use the idea of successive squaring to devise an iterative algorithm that computes exponentials with a logarithmic number of steps, although, as is often the case with iterative algorithms, this is not written down so straightforwardly as the recursive algorithm. "
   ]
  },
  {
   "cell_type": "markdown",
   "metadata": {},
   "source": [
    "## Greatest Common Divisors\n",
    "\n",
    "The greatest common divisor (GCD) of two integers $a$ and $b$ is defined to be the largest integer that divides both $a$ and $b$ with no remainder. For example, the GCD of $16$ and $28$ is $4$. \n",
    "\n",
    "In chapter 2, when we investigate how to implement rational- number arithmetic, we will need to be able to compute GCDs in order to reduce rational numbers to lowest terms. (To reduce a rational number to lowest terms, we must divide both the numerator and the denominator by their GCD. For example, 16/28 reduces to 4/7.) One way to find the GCD of two integers is to factor them and search for common factors, but there is a famous algorithm that is much more efficient.\n",
    "\n",
    "The idea of the algorithm is based on the observation that, if $r$ is the remainder when a is divided by b, then the common divisors of $a$ and $b$ are precisely the same as the common divisors of b and r. Thus, we can use the equation\n",
    "\n",
    "$$ \\text{GCD}(a,b) = \\text{GCD}(b,r) $$\n",
    "\n",
    "to successively reduce the problem of computing a GCD to the problem of computing the GCD of smaller and smaller pairs of integers. For example,\n",
    "\n",
    "$$ \\text{GCD}(206,40)  \\\\= \\text{GCD}(40,6) \\\\ = \\text{GCD}(6,4) \\\\ = \\text{GCD}(4,2) \\\\ = \\text{GCD}(2,0) \\\\ = 2 $$\n",
    "\n",
    "reduces GCD(206, 40) to GCD(2, 0), which is 2. It is possible to show that starting with any two positive integers and performing repeated reductions will always even- tually produce a pair where the second number is 0. Then the GCD is the other number in the pair. This method for computing the GCD is known as _Euclid’s Algorithm_.\n",
    "\n",
    "It is easy to express Euclid’s Algorithm as a function:"
   ]
  },
  {
   "cell_type": "code",
   "execution_count": null,
   "metadata": {},
   "outputs": [],
   "source": [
    "def gcd(a, b):\n",
    "    if b == 0:\n",
    "        return a\n",
    "    else:\n",
    "        return gcd(b, a % b)"
   ]
  },
  {
   "cell_type": "markdown",
   "metadata": {},
   "source": [
    "This generates an iterative process, whose number of steps grows as the logarithm of the numbers involved.\n",
    "\n",
    "The fact that the number of steps required by Euclid’s Algorithm has logarithmic growth bears an interesting relation to the Fibonacci numbers:\n",
    "\n",
    "**Lamé’s Theorem**: If Euclid’s Algorithm requires $k$ steps to compute the GCD of some pair, then the smaller number in the pair must be greater than or equal to the $k^{th}$ Fibonacci number.\n",
    "\n",
    "We can use this theorem to get an order-of-growth estimate for Euclid’s Algorithm. Let n be the smaller of the two inputs to the function. If the process takes k steps, then we must have n≥Fib(k)≈φk/√5. Therefore the number of steps k grows as the logarithm (to the base φ ) of n. Hence, the order of growth is Θ(log n).\n"
   ]
  }
 ],
 "metadata": {
  "language_info": {
   "name": "python"
  }
 },
 "nbformat": 4,
 "nbformat_minor": 2
}
