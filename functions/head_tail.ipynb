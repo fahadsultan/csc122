{
 "cells": [
  {
   "attachments": {},
   "cell_type": "markdown",
   "metadata": {},
   "source": [
    "# Head / Tail Recursion\n",
    "\n",
    "Head and tail recursion are two types of recursion. In head recursion, the recursive call is the first statement in the function. In tail recursion, the recursive call is the last statement in the function.\n",
    "\n",
    "In this notebook, we will discuss the difference between head and tail recursion and how to convert head recursion to tail recursion."
   ]
  },
  {
   "cell_type": "markdown",
   "metadata": {},
   "source": [
    "\n",
    "\n",
    "## Head Recursion\n",
    "\n",
    "In head recursion, the recursive call is the first statement in the function. The function does some work before making the recursive call. The recursive call is made with the same arguments as the original call.\n",
    "\n",
    "Here is an example of head recursion:\n"
   ]
  },
  {
   "cell_type": "code",
   "execution_count": null,
   "metadata": {},
   "outputs": [
    {
     "name": "stdout",
     "output_type": "stream",
     "text": [
      "Blastoff! 🚀\n",
      "1\n",
      "2\n",
      "3\n"
     ]
    }
   ],
   "source": [
    "def head_recursion(n): \n",
    "    if n == 0: \n",
    "        #Base case\n",
    "        print(\"Blastoff! 🚀\")  \n",
    "    else:\n",
    "        # Recursive case of Head recursion : \n",
    "        # recursive call before anything else \n",
    "        head_recursion(n-1)\n",
    "        print(n)\n",
    "\n",
    "head_recursion(3)"
   ]
  },
  {
   "cell_type": "markdown",
   "metadata": {},
   "source": [
    "In this example, the function `head_recursion` does some work before making the recursive call. The recursive call is made with the same arguments as the original call.\n",
    "\n",
    "Trace of the function `head_recursion(3)`:\n",
    "\n",
    "```\n",
    "head_recursion(3)\n",
    "\n",
    "    head_recursion(2)\n",
    "\n",
    "        head_recursion(1)\n",
    "\n",
    "            head_recursion(0)\n",
    "\n",
    "            print(1)\n",
    "\n",
    "        print(2)\n",
    "        \n",
    "    print(3)\n",
    "```\n",
    "\n",
    "```{figure} https://i.ibb.co/z7hj2FD/head-tail.png\n",
    "---\n",
    "width: 100%\n",
    "name: head-tail\n",
    "---\n",
    "Comparison of Head vs. Tail Recursion. The rectangles represent recursive function calls, and circles represent other operations.\n",
    "```"
   ]
  },
  {
   "cell_type": "markdown",
   "metadata": {},
   "source": [
    "\n",
    "\n",
    "## Tail Recursion\n",
    "\n",
    "In tail recursion, the recursive call is the last statement in the function. The function does some work after making the recursive call. The recursive call is made with the modified arguments.\n",
    "\n",
    "Here is an example of tail recursion:"
   ]
  },
  {
   "cell_type": "code",
   "execution_count": null,
   "metadata": {},
   "outputs": [
    {
     "name": "stdout",
     "output_type": "stream",
     "text": [
      "3\n",
      "2\n",
      "1\n",
      "Boomerang 🪃\n"
     ]
    }
   ],
   "source": [
    "def tail_recursion(n):\n",
    "    if n == 0:\n",
    "        # Base case\n",
    "        print(\"Boomerang 🪃\")\n",
    "    else:\n",
    "        # Recursive case of Tail recursion :\n",
    "        # recursive call is the last thing that happens\n",
    "        print(n)\n",
    "        tail_recursion(n-1)\n",
    "\n",
    "tail_recursion(3)"
   ]
  },
  {
   "cell_type": "markdown",
   "metadata": {},
   "source": [
    "In this example, the function `tail_recursion` makes the recursive call with the modified arguments. The recursive call is the last statement in the function.\n",
    "\n",
    "Trace of the function `tail_recursion(3)`:\n",
    "\n",
    "```\n",
    "tail_recursion(3)\n",
    "\n",
    "    print(3)\n",
    "\n",
    "    tail_recursion(2)\n",
    "\n",
    "        print(2)\n",
    "\n",
    "        tail_recursion(1)\n",
    "\n",
    "            print(1)\n",
    "            \n",
    "            tail_recursion(0)\n",
    "```\n"
   ]
  },
  {
   "cell_type": "markdown",
   "metadata": {},
   "source": [
    "## Recursion vs. Iteration\n",
    "\n",
    "Recursion, in particular head or tail recursion, can be thought of as an alternative to iteration. \n",
    "\n",
    "Any iterative algorithm can be converted to a recursive algorithm and vice versa. \n",
    "\n",
    "For example, consider the following iterative function to add all numbers in a given list:\n",
    "\n"
   ]
  },
  {
   "cell_type": "code",
   "execution_count": 11,
   "metadata": {},
   "outputs": [],
   "source": [
    "def sum_iterative(data): \n",
    "    result = 0\n",
    "    i = 0\n",
    "    while i < len(data):\n",
    "        result = result + data[i]\n",
    "        i = i + 1\n",
    "    return result"
   ]
  },
  {
   "cell_type": "markdown",
   "metadata": {},
   "source": [
    "The recursive version of the above function is:"
   ]
  },
  {
   "cell_type": "code",
   "execution_count": 12,
   "metadata": {},
   "outputs": [],
   "source": [
    "def sum_recursive(data):\n",
    "    if data == []:\n",
    "        # base case\n",
    "        return 0\n",
    "    else:\n",
    "        # recursive case \n",
    "        first_element = data[0]\n",
    "        rest_of_list  = data[1:]\n",
    "        sum_of_rest   = sum_recursive(rest_of_list) # recursive call\n",
    "        result = first_element + sum_of_rest\n",
    "        return result"
   ]
  },
  {
   "cell_type": "markdown",
   "metadata": {},
   "source": [
    "Let's see if the two functions produce the same result for the same input:"
   ]
  },
  {
   "cell_type": "code",
   "execution_count": 14,
   "metadata": {},
   "outputs": [
    {
     "name": "stdout",
     "output_type": "stream",
     "text": [
      "All test cases passed!\n"
     ]
    }
   ],
   "source": [
    "assert sum_iterative([1, 2, 3, 4]) == sum_recursive([1, 2, 3, 4]),  \"Test case 1 failed\"\n",
    "assert sum_iterative([99, 100])    == sum_recursive([99, 100]),     \"Test case 2 failed\"\n",
    "assert sum_iterative([-1, -2, -3]) == sum_recursive([-1, -2, -3]),  \"Test case 3 failed\"\n",
    "assert sum_iterative([10])         == sum_recursive([10]),          \"Test case 4 failed\"\n",
    "assert sum_iterative([5, 5, 5])    == sum_recursive([5, 5, 5]),     \"Test case 5 failed\"\n",
    "\n",
    "print(\"All test cases passed!\")"
   ]
  },
  {
   "cell_type": "markdown",
   "metadata": {},
   "source": [
    "The function `sum_iterative` and `sum_recursive` produce the same result for the same input. The iterative function uses a loop to iterate through the list and add the numbers. The recursive function uses the head recursion to add the numbers.\n",
    "\n",
    "## Converting Head Recursion to Tail Recursion\n",
    "\n",
    "Head recursion can be converted to tail recursion by using an accumulator. The accumulator is a variable that stores the intermediate result. The accumulator is passed to each recursive call, and the recursive call is the last statement in the function.\n",
    "\n",
    "Here is the example of summing all numbers in a list using tail recursion:"
   ]
  },
  {
   "cell_type": "code",
   "execution_count": null,
   "metadata": {},
   "outputs": [],
   "source": [
    "def sum_tail_recursive(data, current_sum=0):\n",
    "    if data == []:\n",
    "        # base case\n",
    "        return current_sum\n",
    "    else:\n",
    "        # recursive case\n",
    "        first_element = data[0]\n",
    "        rest_of_list  = data[1:]\n",
    "        new_sum = current_sum + first_element\n",
    "        result = sum_tail_recursive(rest_of_list, new_sum) # recursive call\n",
    "        return result"
   ]
  },
  {
   "cell_type": "markdown",
   "metadata": {},
   "source": [
    "## Avoiding Head / Tail Recursion\n",
    "\n",
    "Head and/or Tail recursion is considered a bad practice in Python, since the Python compiler does not handle optimization for tail recursive calls. The recursive solution in cases like this use more system resources than the equivalent iterative solution.\n",
    "\n",
    "In Python, it is better to use an iterative solution instead of a recursive solution. The iterative solution is more efficient and easier to understand, in most cases."
   ]
  },
  {
   "cell_type": "markdown",
   "metadata": {},
   "source": [
    "## Factorials: A Positive Example\n",
    "\n",
    "Every recursive function we have seen so far is better implemented iteratively. \n",
    "\n",
    "However, there are some functions that are more naturally expressed recursively. The canonical example is the factorial function.\n",
    "\n",
    "Let's consider the factorial function, defined by \n",
    "\n",
    "$$ n! = n \\cdot (n–1) !~~\\text{where}~~1! = 1 $$\n",
    "\n",
    "\n",
    "<!-- \n",
    "$$ n! = n \\cdot (n–1) \\cdot (n–2)···3·2·1$$\n",
    "\n",
    "for any positive integer n. For example, $4! = 4 · 3 · 2 · 1 = 24$\n",
    "\n",
    "There are many ways to compute factorials. One way is to make use of the observation that n! is equal to n times (n – 1)! for any positive integer n:\n",
    "\n",
    "$$ n! = n·[(n–1)·(n–2)···3·2·1] = n·(n–1)! $$\n",
    "\n",
    "Thus, we can compute $n!$ by computing $(n – 1)!$ and multiplying the result by n. If we add the stipulation that 1! is equal to 1, this observation translates directly into a computer function: -->\n",
    "\n",
    "Note that the factorial function is naturally expressed recursively. Note how the function definition includes the recursive case as well as the base case.\n",
    "\n",
    "This means that the recursive implementation is more natural and easier to understand than the iterative implementation."
   ]
  },
  {
   "cell_type": "code",
   "execution_count": null,
   "metadata": {},
   "outputs": [],
   "source": [
    "def factorial(n):\n",
    "    if n == 1:\n",
    "        return 1\n",
    "    else:\n",
    "        return n * factorial(n-1)"
   ]
  },
  {
   "cell_type": "markdown",
   "metadata": {},
   "source": [
    "We can watch this function in action computing 6!, as shown in figure below: \n",
    "\n",
    "\n",
    "```{figure} ../assets/recursion1.png\n",
    "---\n",
    "scale: 25%\n",
    "align: center\n",
    "---\n",
    "A <b>linear recursive</b> process for computing 6!\n",
    "```\n"
   ]
  },
  {
   "cell_type": "markdown",
   "metadata": {},
   "source": [
    "The iterative implementation of the factorial function requires taking a different perspective on computing factorials. We could describe a rule for computing n! by specifying that we first multiply 1 by 2, then multiply the result by 3, then by 4, and so on until we reach n. More formally, we maintain a running product, together with a counter that counts from 1 up to n. We can describe the computation by saying that the counter and the product simultaneously change from one step to the next according to the rule \n",
    "\n",
    "$$ \\text{product} \\leftarrow \\text{counter} \\cdot \\text{product} $$\n",
    "\n",
    "$$ \\text{counter} \\leftarrow \\text{counter} + 1 $$\n",
    "\n",
    "and stipulating that $n!$ is the value of the product when the counter exceeds $n$."
   ]
  },
  {
   "cell_type": "code",
   "execution_count": null,
   "metadata": {},
   "outputs": [],
   "source": [
    "def factorial_iterative(n):\n",
    "    result = 1\n",
    "    for i in range(1, n+1):\n",
    "        result = result * i\n",
    "    return result"
   ]
  },
  {
   "cell_type": "markdown",
   "metadata": {},
   "source": [
    "While the iterative implementation is equally correct, it is less natural and does not align with the mathematical definition of the mathematical function. "
   ]
  },
  {
   "cell_type": "markdown",
   "metadata": {},
   "source": [
    "## Practice Problems\n",
    "\n",
    "1. Write a recursive function to compute the product of the first n integers."
   ]
  },
  {
   "cell_type": "code",
   "execution_count": null,
   "metadata": {},
   "outputs": [],
   "source": []
  },
  {
   "cell_type": "markdown",
   "metadata": {},
   "source": [
    "2. Write a recursive function that returns the maximum element in a list."
   ]
  },
  {
   "cell_type": "code",
   "execution_count": null,
   "metadata": {},
   "outputs": [],
   "source": []
  },
  {
   "cell_type": "markdown",
   "metadata": {},
   "source": [
    "3. Write a recursive function that returns the input `base` raised to the input `exponent`."
   ]
  },
  {
   "cell_type": "code",
   "execution_count": null,
   "metadata": {},
   "outputs": [],
   "source": []
  },
  {
   "cell_type": "markdown",
   "metadata": {},
   "source": [
    "5. Write a function that returns True if `query` is in `data` and `False` otherwise."
   ]
  },
  {
   "cell_type": "code",
   "execution_count": null,
   "metadata": {},
   "outputs": [],
   "source": []
  },
  {
   "cell_type": "markdown",
   "metadata": {},
   "source": [
    "6. Write a recursive function that returns the reverse of a list."
   ]
  },
  {
   "cell_type": "code",
   "execution_count": null,
   "metadata": {},
   "outputs": [],
   "source": []
  }
 ],
 "metadata": {
  "kernelspec": {
   "display_name": "Python 3",
   "language": "python",
   "name": "python3"
  },
  "language_info": {
   "codemirror_mode": {
    "name": "ipython",
    "version": 3
   },
   "file_extension": ".py",
   "mimetype": "text/x-python",
   "name": "python",
   "nbconvert_exporter": "python",
   "pygments_lexer": "ipython3",
   "version": "3.9.6"
  },
  "orig_nbformat": 4
 },
 "nbformat": 4,
 "nbformat_minor": 2
}
