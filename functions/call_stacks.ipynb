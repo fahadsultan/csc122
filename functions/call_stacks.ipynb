{
 "cells": [
  {
   "cell_type": "markdown",
   "metadata": {},
   "source": [
    "# Call Stacks "
   ]
  },
  {
   "cell_type": "markdown",
   "metadata": {},
   "source": [
    "Call stacks are a fundamental concept in computer science. They are used to manage functions and their variables. \n",
    "\n",
    "A call stack is a stack data structure that stores information about the active subroutines of a computer program. \n",
    "\n",
    "This kind of stack is also known as an execution stack, control stack, run-time stack, or machine stack, and is often shortened to just \"the stack\".\n",
    "\n",
    "The call stack is used for several related purposes, but the main reason for having a call stack is to keep track of the point to which each active subroutine should return control when it finishes executing.\n",
    "\n",
    "In this notebook, we will discuss the call stack and how it works.\n",
    "\n",
    "<center>\n",
    "<img src=\"https://miro.medium.com/v2/resize:fit:1400/1*rJ2sh-q1deQGGGVG5gYyIQ.png\" width=\"90%\">\n",
    "</center>\n",
    "\n",
    "\n",
    "## Stack Frame \n",
    "\n",
    "A stack frame is a data structure that contains information about the state of a function (or subroutine or method or procedure). \n",
    "\n",
    "The call stack is used for several related purposes, but the main reason for having a call stack is to keep track of the point to which each active subroutine should return control when it finishes executing.\n",
    "\n",
    "<center>\n",
    "<img src=\"https://upload.wikimedia.org/wikipedia/commons/thumb/d/d3/Call_stack_layout.svg/342px-Call_stack_layout.svg.png\" width=\"60%\">\n",
    "</center>\n",
    "\n",
    "## How does the call stack work?\n",
    "\n",
    "The call stack is a stack data structure that stores information about the active subroutines of a computer program.\n",
    "\n",
    "When a function is called, a new frame is pushed onto the stack. This frame contains information about the function, such as its arguments and local variables.\n",
    "\n",
    "When a function returns, the frame is popped off the stack. This allows the program to return to the point where the function was called.\n",
    "\n",
    "The call stack is used for several related purposes, but the main reason for having a call stack is to keep track of the point to which each active subroutine should return control when it finishes executing.\n",
    "\n",
    "<center>\n",
    "<img src=\"https://vaibhavguptame.files.wordpress.com/2018/01/callstack.gif?w=1100\" width=\"80%\">\n",
    "</center>\n",
    "\n",
    "## Why is the call stack important?\n",
    "\n",
    "The call stack is important because it allows the program to keep track of the point to which each active subroutine should return control when it finishes executing.\n",
    "\n",
    "This is important because it allows the program to keep track of the state of the program, and to ensure that the program is executing correctly.\n",
    "\n",
    "The call stack is also important because it allows the program to keep track of the state of the program, and to ensure that the program is executing correctly.\n",
    "\n"
   ]
  },
  {
   "cell_type": "markdown",
   "metadata": {},
   "source": []
  },
  {
   "cell_type": "code",
   "execution_count": null,
   "metadata": {},
   "outputs": [],
   "source": []
  },
  {
   "cell_type": "code",
   "execution_count": null,
   "metadata": {},
   "outputs": [],
   "source": []
  }
 ],
 "metadata": {
  "language_info": {
   "name": "python"
  }
 },
 "nbformat": 4,
 "nbformat_minor": 2
}
