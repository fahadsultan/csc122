{
 "cells": [
  {
   "cell_type": "markdown",
   "metadata": {},
   "source": [
    "# Stacks"
   ]
  },
  {
   "cell_type": "markdown",
   "metadata": {},
   "source": [
    "<img src=\"https://i.ibb.co/kmD7VBq/stacks.png\" align=\"right\" width=\"40%\">\n",
    "\n",
    "A stack is a collection of objects set on top of each other. \n",
    "\n",
    "Note that this organization imposes constraints on the order in which objects can be removed. The last object placed on the stack is the first one to be removed. This is known as the **Last-In-First-Out (LIFO) order**.\n",
    "\n",
    "Stacks are integral to computer science. They are used to store and manage function calls, to implement certain types of algorithms, and to manage memory.\n",
    "\n",
    "## Operations\n",
    "\n",
    "Stacks are in essence defined by the operations they support. These operations are:\n",
    "\n",
    "<center>\n",
    "<img src=\"https://cdn.programiz.com/sites/tutorial2program/files/stack.png\" width=\"80%\">\n",
    "</center>\n",
    "\n",
    "- **Empty**: Returns `True` if the stack is empty, `False` otherwise.\n",
    "\n",
    "<br/>\n",
    "\n",
    "- **Push**: Adds a given element to the top of the stack. \n",
    "\n",
    "<br/>\n",
    "\n",
    "- **Pop**: Removes the top element from the stack. \n",
    "\n",
    "<br/>\n",
    "\n",
    "- **Peek**: Returns the top element of the stack, without removing it. \\\n",
    "This operation is also known as `top` or `front` or `head`.\n",
    "\n",
    "<br/>\n",
    "\n",
    "- **Size**: Returns the number of elements in the stack. \\\n",
    "This operation is also known as `length` or `count`.\n",
    "\n",
    "<br/>\n",
    "\n",
    "<center><img src=\"https://fullyunderstood.com/wp-content/uploads/2020/02/stack.gif\" width=\"70%\"></center>\n",
    "\n",
    "\n",
    "Equally important to the operations that a stack supports is the operations that it does not support. \n",
    "\n",
    "In other words, stacks do not support: \n",
    "\n",
    "* ❌ Read elements at arbitrary positions. \\\n",
    "✅ You can only access the element at the _top of the stack_ using the `peek` operation.\n",
    "\n",
    "<br/>\n",
    "\n",
    "* ❌ Insert elements at arbitrary positions. \\\n",
    "✅ You can only insert elements at the _top of the stack_ using the `push` operation.\n",
    "\n",
    "<br/>\n",
    "\n",
    "* ❌ Remove elements from arbitrary positions. \\\n",
    "✅ You can only remove elements from the _top of the stack_ using the `pop` operation.\n",
    "\n",
    "\n",
    "<br/>\n",
    "\n",
    "Whether you are adding, removing, or accessing elements, you can only interact with the top of the stack. \n",
    "\n",
    "<br/>"
   ]
  },
  {
   "cell_type": "markdown",
   "metadata": {},
   "source": [
    "# Call Stacks "
   ]
  },
  {
   "cell_type": "markdown",
   "metadata": {},
   "source": [
    "Call stacks are a fundamental concept in computer science. They are used to manage functions and their variables. \n",
    "\n",
    "A call stack is a stack data structure that stores information about the active subroutines of a computer program. \n",
    "\n",
    "This kind of stack is also known as an execution stack, control stack, run-time stack, or machine stack, and is often shortened to just \"the stack\".\n",
    "\n",
    "The call stack is used for several related purposes, but the main reason for having a call stack is to keep track of the point to which each active subroutine should return control when it finishes executing.\n",
    "\n",
    "In this notebook, we will discuss the call stack and how it works.\n",
    "\n",
    "<center>\n",
    "<img src=\"https://miro.medium.com/v2/resize:fit:1400/1*rJ2sh-q1deQGGGVG5gYyIQ.png\" width=\"90%\">\n",
    "</center>\n",
    "\n",
    "\n",
    "## Stack Frame \n",
    "\n",
    "A stack frame is a data structure that contains information about the state of a function (or subroutine or method or procedure). \n",
    "\n",
    "The call stack is used for several related purposes, but the main reason for having a call stack is to keep track of the point to which each active subroutine should return control when it finishes executing.\n",
    "\n",
    "<center>\n",
    "<img src=\"https://upload.wikimedia.org/wikipedia/commons/thumb/d/d3/Call_stack_layout.svg/342px-Call_stack_layout.svg.png\" width=\"60%\">\n",
    "</center>\n",
    "\n",
    "## How does the call stack work?\n",
    "\n",
    "The call stack is a stack data structure that stores information about the active subroutines of a computer program.\n",
    "\n",
    "When a function is called, a new frame is pushed onto the stack. This frame contains information about the function, such as its arguments and local variables.\n",
    "\n",
    "When a function returns, the frame is popped off the stack. This allows the program to return to the point where the function was called.\n",
    "\n",
    "The call stack is used for several related purposes, but the main reason for having a call stack is to keep track of the point to which each active subroutine should return control when it finishes executing.\n",
    "\n",
    "<center>\n",
    "<img src=\"https://vaibhavguptame.files.wordpress.com/2018/01/callstack.gif?w=1100\" width=\"80%\">\n",
    "</center>\n",
    "\n",
    "## Why is the call stack important?\n",
    "\n",
    "The call stack is important because it allows the program to keep track of the point to which each active subroutine should return control when it finishes executing.\n",
    "\n",
    "This is important because it allows the program to keep track of the state of the program, and to ensure that the program is executing correctly.\n",
    "\n",
    "The call stack is also important because it allows the program to keep track of the state of the program, and to ensure that the program is executing correctly.\n",
    "\n"
   ]
  },
  {
   "cell_type": "markdown",
   "metadata": {},
   "source": [
    "# Stack Trace"
   ]
  },
  {
   "cell_type": "markdown",
   "metadata": {},
   "source": [
    "**Stack trace** (also known as **stack back track** or **stack trace back**) is a list of the function calls, and their corresponding stack frames, at some point in the execution of a program. \n",
    "\n",
    "Any time a program crashes, most programming languages will print a stack trace to the console. This is a list of all the functions that were called up to the point of the crash, and it is a very useful tool for debugging. By examining the stack trace, you can determine the sequence of function calls that led to the crash."
   ]
  },
  {
   "cell_type": "markdown",
   "metadata": {},
   "source": [
    "As an example, the following Python program contains an error."
   ]
  },
  {
   "cell_type": "code",
   "execution_count": null,
   "metadata": {},
   "outputs": [
    {
     "ename": "NameError",
     "evalue": "name 'error' is not defined",
     "output_type": "error",
     "traceback": [
      "\u001b[0;31m---------------------------------------------------------------------------\u001b[0m\n",
      "\u001b[0;31mNameError\u001b[0m                                 Traceback (most recent call last)\n",
      "Cell \u001b[0;32mIn[1], line 15\u001b[0m\n",
      "\u001b[1;32m     12\u001b[0m \u001b[38;5;28;01mdef\u001b[39;00m \u001b[38;5;21mc\u001b[39m():\n",
      "\u001b[1;32m     13\u001b[0m     error()\n",
      "\u001b[0;32m---> 15\u001b[0m \u001b[43ma\u001b[49m\u001b[43m(\u001b[49m\u001b[43m)\u001b[49m\n",
      "\n",
      "Cell \u001b[0;32mIn[1], line 3\u001b[0m, in \u001b[0;36ma\u001b[0;34m()\u001b[0m\n",
      "\u001b[1;32m      1\u001b[0m \u001b[38;5;28;01mdef\u001b[39;00m \u001b[38;5;21ma\u001b[39m():\n",
      "\u001b[1;32m      2\u001b[0m     i \u001b[38;5;241m=\u001b[39m \u001b[38;5;241m0\u001b[39m\n",
      "\u001b[0;32m----> 3\u001b[0m     j \u001b[38;5;241m=\u001b[39m \u001b[43mb\u001b[49m\u001b[43m(\u001b[49m\u001b[43mi\u001b[49m\u001b[43m)\u001b[49m\n",
      "\u001b[1;32m      4\u001b[0m     \u001b[38;5;28;01mreturn\u001b[39;00m j\n",
      "\n",
      "Cell \u001b[0;32mIn[1], line 9\u001b[0m, in \u001b[0;36mb\u001b[0;34m(z)\u001b[0m\n",
      "\u001b[1;32m      7\u001b[0m k \u001b[38;5;241m=\u001b[39m \u001b[38;5;241m5\u001b[39m\n",
      "\u001b[1;32m      8\u001b[0m \u001b[38;5;28;01mif\u001b[39;00m z \u001b[38;5;241m==\u001b[39m \u001b[38;5;241m0\u001b[39m:\n",
      "\u001b[0;32m----> 9\u001b[0m     \u001b[43mc\u001b[49m\u001b[43m(\u001b[49m\u001b[43m)\u001b[49m\n",
      "\u001b[1;32m     10\u001b[0m \u001b[38;5;28;01mreturn\u001b[39;00m k \u001b[38;5;241m+\u001b[39m z\n",
      "\n",
      "Cell \u001b[0;32mIn[1], line 13\u001b[0m, in \u001b[0;36mc\u001b[0;34m()\u001b[0m\n",
      "\u001b[1;32m     12\u001b[0m \u001b[38;5;28;01mdef\u001b[39;00m \u001b[38;5;21mc\u001b[39m():\n",
      "\u001b[0;32m---> 13\u001b[0m     \u001b[43merror\u001b[49m()\n",
      "\n",
      "\u001b[0;31mNameError\u001b[0m: name 'error' is not defined"
     ]
    }
   ],
   "source": [
    "def a():\n",
    "    i = 0\n",
    "    j = b(i)      # line 3\n",
    "    return j\n",
    "\n",
    "def b(z):\n",
    "    k = 5\n",
    "    if z == 0:\n",
    "        c()       # line 9\n",
    "    return k + z\n",
    "\n",
    "def c():\n",
    "    error()       # line 13\n",
    "\n",
    "a()               # line 15"
   ]
  },
  {
   "cell_type": "markdown",
   "metadata": {},
   "source": [
    "<img width=\"10%\" src=\"https://upload.wikimedia.org/wikipedia/commons/thumb/e/ef/Stack_Overflow_icon.svg/768px-Stack_Overflow_icon.svg.png\" align=\"right\">\n",
    "\n",
    "# Stack Overflow "
   ]
  },
  {
   "cell_type": "markdown",
   "metadata": {},
   "source": [
    "\n",
    "\n",
    "Stack overflow is a common problem in recursive programs. It occurs when the stack is full and there is no more space to push new function calls. In this notebook, we will also implement a simple stack overflow detection mechanism.\n"
   ]
  },
  {
   "cell_type": "code",
   "execution_count": null,
   "metadata": {},
   "outputs": [
    {
     "ename": "RecursionError",
     "evalue": "maximum recursion depth exceeded",
     "output_type": "error",
     "traceback": [
      "\u001b[0;31m---------------------------------------------------------------------------\u001b[0m\n",
      "\u001b[0;31mRecursionError\u001b[0m                            Traceback (most recent call last)\n",
      "Cell \u001b[0;32mIn[3], line 4\u001b[0m\n",
      "\u001b[1;32m      1\u001b[0m \u001b[38;5;28;01mdef\u001b[39;00m \u001b[38;5;21mf\u001b[39m():\n",
      "\u001b[1;32m      2\u001b[0m     f()\n",
      "\u001b[0;32m----> 4\u001b[0m \u001b[43mf\u001b[49m\u001b[43m(\u001b[49m\u001b[43m)\u001b[49m\n",
      "\n",
      "Cell \u001b[0;32mIn[3], line 2\u001b[0m, in \u001b[0;36mf\u001b[0;34m()\u001b[0m\n",
      "\u001b[1;32m      1\u001b[0m \u001b[38;5;28;01mdef\u001b[39;00m \u001b[38;5;21mf\u001b[39m():\n",
      "\u001b[0;32m----> 2\u001b[0m     \u001b[43mf\u001b[49m\u001b[43m(\u001b[49m\u001b[43m)\u001b[49m\n",
      "\n",
      "Cell \u001b[0;32mIn[3], line 2\u001b[0m, in \u001b[0;36mf\u001b[0;34m()\u001b[0m\n",
      "\u001b[1;32m      1\u001b[0m \u001b[38;5;28;01mdef\u001b[39;00m \u001b[38;5;21mf\u001b[39m():\n",
      "\u001b[0;32m----> 2\u001b[0m     \u001b[43mf\u001b[49m\u001b[43m(\u001b[49m\u001b[43m)\u001b[49m\n",
      "\n",
      "    \u001b[0;31m[... skipping similar frames: f at line 2 (2970 times)]\u001b[0m\n",
      "\n",
      "Cell \u001b[0;32mIn[3], line 2\u001b[0m, in \u001b[0;36mf\u001b[0;34m()\u001b[0m\n",
      "\u001b[1;32m      1\u001b[0m \u001b[38;5;28;01mdef\u001b[39;00m \u001b[38;5;21mf\u001b[39m():\n",
      "\u001b[0;32m----> 2\u001b[0m     \u001b[43mf\u001b[49m\u001b[43m(\u001b[49m\u001b[43m)\u001b[49m\n",
      "\n",
      "\u001b[0;31mRecursionError\u001b[0m: maximum recursion depth exceeded"
     ]
    }
   ],
   "source": [
    "def f():\n",
    "    f()\n",
    "\n",
    "f()"
   ]
  },
  {
   "cell_type": "markdown",
   "metadata": {},
   "source": []
  },
  {
   "cell_type": "code",
   "execution_count": null,
   "metadata": {},
   "outputs": [],
   "source": []
  },
  {
   "cell_type": "code",
   "execution_count": null,
   "metadata": {},
   "outputs": [],
   "source": []
  }
 ],
 "metadata": {
  "language_info": {
   "name": "python"
  }
 },
 "nbformat": 4,
 "nbformat_minor": 2
}
