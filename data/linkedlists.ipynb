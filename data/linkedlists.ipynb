{
 "cells": [
  {
   "attachments": {},
   "cell_type": "markdown",
   "metadata": {},
   "source": [
    "# Linked Lists"
   ]
  },
  {
   "cell_type": "markdown",
   "metadata": {},
   "source": [
    "Linked lists are a sequential data structure that consist of an ordered set of **Nodes** in a chain like structure 🔗 ⛓️. \n",
    "\n",
    "### Nodes\n",
    "\n",
    "A **`Node`** is a recursive data structure that contains an instance attribute **'`next`'** which refers to another object of type `Node` that is next in the sequence. \n",
    "\n",
    "Instance attributes of `Node` that are NOT '`next`' node_ are often referred to as the _data_ or _cargo_, or _payload_ of the node.\n",
    "\n",
    "For example, a node with data \"Monday\" has a reference to the node with data \"Tuesday\", which has a reference to the node with data \"Wednesday\", and so on.\n",
    "\n",
    "```{figure} https://i.ibb.co/zQpFZ8N/node2.png\n",
    "---\n",
    "name: node\n",
    "width: 30%\n",
    "---\n",
    "A node in a linked list contains a reference to the next node in the sequence.\n",
    "```\n",
    "\n",
    "The code below shows a simple implementation of a Node class:\n"
   ]
  },
  {
   "cell_type": "code",
   "execution_count": 10,
   "metadata": {},
   "outputs": [
    {
     "name": "stdout",
     "output_type": "stream",
     "text": [
      "Tuesday's data:  Tuesday\n"
     ]
    }
   ],
   "source": [
    "class Node:\n",
    "    def __init__(self, data=None, next=None):\n",
    "        self.__data = data\n",
    "        self.__next = next\n",
    "\n",
    "    def get_data(self):\n",
    "        return self.__data\n",
    "    \n",
    "    def set_data(self, data):\n",
    "        self.__data = data\n",
    "\n",
    "    def get_next(self):\n",
    "        return self.__next\n",
    "\n",
    "    def set_next(self, next):\n",
    "        self.__next = next\n",
    "\n",
    "    def __str__(self):\n",
    "        return str(self.__data)\n",
    "\n",
    "tuesday = Node(\"Tuesday\")\n",
    "print(\"Tuesday's data: \", tuesday.get_data())"
   ]
  },
  {
   "cell_type": "code",
   "execution_count": 8,
   "metadata": {},
   "outputs": [
    {
     "name": "stdout",
     "output_type": "stream",
     "text": [
      "Monday's data:  Monday\n",
      "Monday's next:  Tuesday\n",
      "Monday's next type:  <class '__main__.Node'>\n"
     ]
    }
   ],
   "source": [
    "monday  = Node(\"Monday\", tuesday)\n",
    "\n",
    "print(\"Monday's data: \", monday.get_data())\n",
    "print(\"Monday's next: \", monday.get_next())\n",
    "print(\"Monday's next type: \", type(monday.get_next()))"
   ]
  },
  {
   "attachments": {},
   "cell_type": "markdown",
   "metadata": {},
   "source": [
    "All nodes in a linked list are connected by these \"next\" references,\n",
    "except for the last node, which contains a reference to `None`. \n",
    "\n",
    "In the context of linked lists, the first node is called the **head** and the last node is called the **tail**.\n",
    "\n",
    "Each node contains a reference to the next node in the sequence.\n",
    "\n",
    "### Types of Linked Lists\n",
    "\n",
    "There are many types of linked lists, each with their own distinct rules of connection and structure. The three most common types are:\n",
    "\n",
    "\n",
    "```{figure} https://i.ibb.co/pwpcPdf/0-0-XVK02-Guco9x-JMJL.png\n",
    "---\n",
    "name: linked-list\n",
    "width: 95%\n",
    "---\n",
    "There are many types of linked lists, each with its own connection rules. The three most common types are **Singly Linked Lists** ➡️, **Doubly Linked Lists** ↔, and **Circular Linked Lists** 🔄, shown above. \n",
    "```\n",
    "\n",
    "\n",
    "1. **Singly Linked Lists** ➡️\n",
    "\n",
    "Singly linked lists contain nodes that have a reference to the next node in the sequence. The last node in the sequence has a reference to `None`.\n",
    "\n",
    "2. **Doubly Linked Lists** ↔\n",
    "\n",
    "Doubly linked lists contain nodes that have references to both the next and previous nodes in the sequence. The first node in the sequence has a reference to `None` for the previous node, and the last node in the sequence has a reference to `None` for the next node.\n",
    "\n",
    "3. **Circular Linked Lists** 🔄\n",
    "\n",
    "Circular linked lists are a type of linked list where the last node in the sequence has a reference to the first node in the sequence, creating a circular structure.\n"
   ]
  },
  {
   "cell_type": "markdown",
   "metadata": {},
   "source": []
  }
 ],
 "metadata": {
  "kernelspec": {
   "display_name": "Python 3",
   "language": "python",
   "name": "python3"
  },
  "language_info": {
   "codemirror_mode": {
    "name": "ipython",
    "version": 3
   },
   "file_extension": ".py",
   "mimetype": "text/x-python",
   "name": "python",
   "nbconvert_exporter": "python",
   "pygments_lexer": "ipython3",
   "version": "3.9.6"
  },
  "orig_nbformat": 4
 },
 "nbformat": 4,
 "nbformat_minor": 2
}
