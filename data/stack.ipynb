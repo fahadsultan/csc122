{
 "cells": [
  {
   "attachments": {},
   "cell_type": "markdown",
   "metadata": {},
   "source": [
    "# Stack"
   ]
  },
  {
   "attachments": {},
   "cell_type": "markdown",
   "metadata": {},
   "source": [
    "```{index} index directive\n",
    "```"
   ]
  },
  {
   "attachments": {},
   "cell_type": "markdown",
   "metadata": {},
   "source": [
    "## Abstract data types\n",
    "\n",
    "The data types you have seen so far are all concrete, in the sense that we have completely specified how they are implemented. For example, the `Card` class represents a card using two integers. As we discussed at the time, that is not the only way to represent a card; there are many alternative implementations.\n",
    "\n",
    "An **abstract data type**, or ADT, specifies a set of operations (or methods) and the semantics of the operations (what they do), but it does not not specify the implementation of the operations. That’s what makes it abstract.\n",
    "\n",
    "Why is that useful?\n",
    "\n",
    "1. It simplifies the task of specifying an algorithm if you can denote the operations you need without having to think at the same time about how the operations are performed.\n",
    "2. Since there are usually many ways to implement an ADT, it might be useful to write an algorithm that can be used with any of the possible implementations.\n",
    "3. Well-known ADTs, such as the Stack ADT in this chapter, are often implemented in standard libraries so they can be written once and used by many programmers.\n",
    "4. The operations on ADTs provide a common high-level language for specifying and talking about algorithms.\n",
    "\n",
    "When we talk about ADTs, we often distinguish the code that uses the ADT, called the **client** code, from the code that implements the ADT, called the **provider** code.\n",
    "\n",
    "## The Stack ADT\n",
    "\n",
    "In this chapter, we will look at one common ADT, the **stack**. A stack is a collection, meaning that it is a data structure that contains multiple elements. Other collections we have seen include dictionaries and lists.\n",
    "\n",
    "An ADT is defined by the operations that can be performed on it, which is called an **interface**. The interface for a stack consists of these operations:\n",
    "\n",
    "* `__init__`: Initialize a new empty stack.\n",
    "* `push`: Add a new item to the stack.\n",
    "* `pop`: Remove and return an item from the stack. The item that is returned is always the last one that was added.\n",
    "* `is_empty`: Check whether the stack is empty.\n",
    "\n",
    "A stack is sometimes called a last in, first out or LIFO data structure, because the last item added is the first to be removed.\n",
    "\n",
    "## Implementing stacks with Python lists\n",
    "\n",
    "The list operations that Python provides are similar to the operations that define a stack. The interface isn’t exactly what it is supposed to be, but we can write code to translate from the Stack ADT to the built-in operations.\n",
    "\n",
    "This code is called an **implementation** of the Stack ADT. In general, an implementation is a set of methods that satisfy the syntactic and semantic requirements of an interface.\n",
    "\n",
    "Here is an implementation of the Stack ADT that uses a Python list:"
   ]
  },
  {
   "cell_type": "code",
   "execution_count": null,
   "metadata": {},
   "outputs": [],
   "source": [
    "class Stack(object):\n",
    "    def __init__(self):\n",
    "        self.items = []\n",
    "\n",
    "    def push(self, item):\n",
    "        self.items.append(item)\n",
    "\n",
    "    def pop(self):\n",
    "        return self.items.pop()\n",
    "\n",
    "    def is_empty(self):\n",
    "        return (self.items == [])"
   ]
  },
  {
   "attachments": {},
   "cell_type": "markdown",
   "metadata": {},
   "source": [
    "A `Stack` object contains an attribute named `items` that is a list of items in the stack. The initialization method sets `items` to the empty list.\n",
    "\n",
    "To push a new item onto the stack, `push` appends it onto `items`. To pop an item off the stack, `pop` uses the homonymous (_same-named_) list method to remove and return the last item on the list.\n",
    "\n",
    "Finally, to check if the stack is empty, `is_empty` compares `items` to the empty list.\n",
    "\n",
    "An implementation like this, in which the methods consist of simple invocations of existing methods, is called a **veneer**. In real life, veneer is a thin coating of good quality wood used in furniture-making to hide lower quality wood underneath. Computer scientists use this metaphor to describe a small piece of code that hides the details of an implementation and provides a simpler, or more standard, interface.\n",
    "\n",
    "## Pushing and popping\n",
    "\n",
    "A stack is a **generic data structure**, which means that we can add any type of item to it. The following example pushes two integers and a string onto the stack:"
   ]
  },
  {
   "cell_type": "code",
   "execution_count": null,
   "metadata": {},
   "outputs": [],
   "source": [
    "s = Stack()\n",
    "s.push(54)\n",
    "s.push(45)\n",
    "s.push(\"+\")"
   ]
  },
  {
   "attachments": {},
   "cell_type": "markdown",
   "metadata": {},
   "source": [
    "We can use `is_empty` and `pop` to remove and print all of the items on the stack:"
   ]
  },
  {
   "cell_type": "code",
   "execution_count": null,
   "metadata": {},
   "outputs": [],
   "source": [
    "output = \"\"\n",
    "while not s.is_empty():\n",
    "    output += \"%s \" % (s.pop())\n",
    "print(output)"
   ]
  },
  {
   "attachments": {},
   "cell_type": "markdown",
   "metadata": {},
   "source": [
    "The output is `+ 45 54`. In other words, we just used a stack to print the items backward! Granted, it’s not the standard format for printing a list, but by using a stack, it was remarkably easy to do.\n",
    "\n",
    "You should compare this bit of code to the implementation of `print_backward` in the Linked lists chapter. There is a natural parallel between the recursive version of `print_backward` and the stack algorithm here. The difference is that print_backward uses the runtime stack to keep track of the nodes while it traverses the list, and then prints them on the way back from the recursion. The stack algorithm does the same thing, except that is use a `Stack` object instead of the runtime stack.\n",
    "\n",
    "## Using a stack to evaluate postfix\n",
    "\n",
    "In most programming languages, mathematical expressions are written with the operator between the two operands, as in `1 + 2`. This format is called **infix**. An alternative used by some calculators is called **postfix**. In postfix, the operator follows the operands, as in `1 2 +`.\n",
    "\n",
    "The reason postfix is sometimes useful is that there is a natural way to evaluate a postfix expression using a stack:\n",
    "\n",
    "1. Starting at the beginning of the expression, get one term (operator or operand) at a time.\n",
    "    * If the term is an operand, push it on the stack.\n",
    "    * If the term is an operator, pop two operands off the stack, perform the operation on them, and push the result back on the stack.\n",
    "2. When you get to the end of the expression, there should be exactly one operand left on the stack. That operand is the result.\n",
    "\n",
    "## Parsing \n",
    "\n",
    "To implement the previous algorithm, we need to be able to traverse a string and break it into operands and operators. This process is an example of **parsing**, and the results—the individual chunks of the string – are called **tokens**. You might remember these words from the The way of the program chapter.\n",
    "\n",
    "Python provides a `split` method in both the `string` and `re` (regular expression) modules. The function `string.split` splits a string into a list using a single character as a **delimiter**. For example:"
   ]
  },
  {
   "cell_type": "code",
   "execution_count": null,
   "metadata": {},
   "outputs": [],
   "source": [
    "import string\n",
    "string.split(\"Now is the time\",\" \")"
   ]
  },
  {
   "attachments": {},
   "cell_type": "markdown",
   "metadata": {},
   "source": [
    "In this case, the delimiter is the space character, so the string is split at each space.\n",
    "\n",
    "The function `re.split` is more powerful, allowing us to provide a regular expression instead of a delimiter. A regular expression is a way of specifying a set of strings. For example, `[A-z]` is the set of all letters and `[0-9]` is the set of all numbers. The ^ operator negates a set, so `[^0-9]` is the set of everything that is not a number, which is exactly the set we want to use to split up postfix expressions:"
   ]
  },
  {
   "cell_type": "code",
   "execution_count": null,
   "metadata": {},
   "outputs": [],
   "source": [
    "import re\n",
    "re.split(\"([^0-9])\", \"123+456*/\")"
   ]
  },
  {
   "attachments": {},
   "cell_type": "markdown",
   "metadata": {},
   "source": [
    "Notice that the order of the arguments is different from `string.split`; the delimiter comes before the string.\n",
    "\n",
    "The resulting list includes the operands `123` and `456` and the operators `*` and `/`. It also includes two empty strings that are inserted after the operands.\n",
    "\n",
    "## Evaluating postfix\n",
    "\n",
    "To evaluate a postfix expression, we will use the parser from the previous section and the algorithm from the section before that. To keep things simple, we’ll start with an evaluator that only implements the operators `+` and `*`:"
   ]
  },
  {
   "cell_type": "code",
   "execution_count": null,
   "metadata": {},
   "outputs": [],
   "source": [
    "def eval_postfix(expr):\n",
    "    import re\n",
    "    token_list = re.split(\"([^0-9])\", expr)\n",
    "    stack = Stack()\n",
    "    for token in token_list:\n",
    "        if  token == '' or token == ' ':\n",
    "            continue\n",
    "        if  token == '+':\n",
    "            sum = stack.pop() + stack.pop()\n",
    "            stack.push(sum)\n",
    "        elif token == '*':\n",
    "            product = stack.pop() * stack.pop()\n",
    "            stack.push(product)\n",
    "        else:\n",
    "            stack.push(int(token))\n",
    "    return stack.pop()"
   ]
  },
  {
   "attachments": {},
   "cell_type": "markdown",
   "metadata": {},
   "source": [
    "The first condition takes care of spaces and empty strings. The next two conditions handle operators. We assume, for now, that anything else must be an operand. Of course, it would be better to check for erroneous input and report an error message, but we’ll get to that later.\n",
    "\n",
    "Let’s test it by evaluating the postfix form of `(56+47)*2`:"
   ]
  },
  {
   "cell_type": "code",
   "execution_count": null,
   "metadata": {},
   "outputs": [],
   "source": [
    "print(eval_postfix(\"56 47 + 2 \\*\"))"
   ]
  },
  {
   "attachments": {},
   "cell_type": "markdown",
   "metadata": {},
   "source": [
    "That’s close enough.\n",
    "\n",
    "## Clients and providers\n",
    "\n",
    "One of the fundamental goals of an ADT is to separate the interests of the provider, who writes the code that implements the ADT, and the client, who uses the ADT. The provider only has to worry about whether the implementation is correct – in accord with the specification of the ADT – and not how it will be used.\n",
    "\n",
    "Conversely, the client assumes that the implementation of the ADT is correct and doesn’t worry about the details. When you are using one of Python’s built-in types, you have the luxury of thinking exclusively as a client.\n",
    "\n",
    "Of course, when you implement an ADT, you also have to write client code to test it. In that case, you play both roles, which can be confusing. You should make some effort to keep track of which role you are playing at any moment.\n",
    "\n",
    "<br/>\n",
    "<hr/>\n",
    "\n",
    "## _Glossary_\n",
    "\n",
    "```{glossary}\n",
    "abstract data type (ADT)\n",
    "    A data type (usually a collection of objects) that is defined by a set of operations but that can be implemented in a variety of ways.\n",
    "\n",
    "interface\n",
    "    The set of operations that define an ADT.\n",
    "\n",
    "implementation\n",
    "    Code that satisfies the syntactic and semantic requirements of an interface.\n",
    "\n",
    "client\n",
    "    A program (or the person who wrote it) that uses an ADT.\n",
    "\n",
    "provider\n",
    "    The code (or the person who wrote it) that implements an ADT.\n",
    "\n",
    "veneer\n",
    "    A class definition that implements an ADT with method definitions that are invocations of other methods, sometimes with simple transformations. The veneer does no significant work, but it improves or standardizes the interface seen by the client.\n",
    "\n",
    "generic data structure\n",
    "    A kind of data structure that can contain data of any type.\n",
    "\n",
    "infix\n",
    "    A way of writing mathematical expressions with the operators between the operands.\n",
    "\n",
    "postfix\n",
    "    A way of writing mathematical expressions with the operators after the operands.\n",
    "\n",
    "parse\n",
    "    To read a string of characters or tokens and analyze its grammatical structure.\n",
    "\n",
    "token\n",
    "    A set of characters that are treated as a unit for purposes of parsing, such as the words in a natural language.\n",
    "\n",
    "delimiter\n",
    "    A character that is used to separate tokens, such as punctuation in a natural language.\n",
    "```\n",
    "\n",
    "## _Exercises_\n",
    "\n",
    "1. Apply the postfix algorithm to the expression `1 2 + 3 *`. This example demonstrates one of the advantages of postfix—there is no need to use parentheses to control the order of operations. To get the same result in infix, we would have to write `(1 + 2) * 3`.\n",
    "\n",
    "2. Write a postfix expression that is equivalent to `1 + 2 * 3`."
   ]
  }
 ],
 "metadata": {
  "language_info": {
   "name": "python"
  },
  "orig_nbformat": 4
 },
 "nbformat": 4,
 "nbformat_minor": 2
}
