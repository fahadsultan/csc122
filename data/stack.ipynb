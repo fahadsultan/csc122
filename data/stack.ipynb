{
 "cells": [
  {
   "attachments": {},
   "cell_type": "markdown",
   "metadata": {},
   "source": [
    "# Stack"
   ]
  },
  {
   "attachments": {},
   "cell_type": "markdown",
   "metadata": {},
   "source": [
    "```{index} index directive\n",
    "```"
   ]
  },
  {
   "attachments": {},
   "cell_type": "markdown",
   "metadata": {},
   "source": [
    "## Abstract data types\n",
    "\n",
    "The data types you have seen so far are all concrete, in the sense that we have completely specified how they are implemented. For example, the `Card` class represents a card using two integers. As we discussed at the time, that is not the only way to represent a card; there are many alternative implementations.\n",
    "\n",
    "An **abstract data type**, or ADT, specifies a set of operations (or methods) and the semantics of the operations (what they do), but it does not not specify the implementation of the operations. That’s what makes it abstract.\n",
    "\n",
    "Why is that useful?\n",
    "\n",
    "1. It simplifies the task of specifying an algorithm if you can denote the operations you need without having to think at the same time about how the operations are performed.\n",
    "2. Since there are usually many ways to implement an ADT, it might be useful to write an algorithm that can be used with any of the possible implementations.\n",
    "3. Well-known ADTs, such as the Stack ADT in this chapter, are often implemented in standard libraries so they can be written once and used by many programmers.\n",
    "4. The operations on ADTs provide a common high-level language for specifying and talking about algorithms.\n",
    "\n",
    "When we talk about ADTs, we often distinguish the code that uses the ADT, called the **client** code, from the code that implements the ADT, called the **provider** code.\n",
    "\n",
    "## The Stack ADT\n",
    "\n",
    "In this chapter, we will look at one common ADT, the **stack**. A stack is a collection, meaning that it is a data structure that contains multiple elements. Other collections we have seen include dictionaries and lists.\n",
    "\n",
    "An ADT is defined by the operations that can be performed on it, which is called an **interface**. The interface for a stack consists of these operations:\n",
    "\n",
    "* `__init__`: Initialize a new empty stack.\n",
    "* `push`: Add a new item to the stack.\n",
    "* `pop`: Remove and return an item from the stack. The item that is returned is always the last one that was added.\n",
    "* `is_empty`: Check whether the stack is empty.\n",
    "\n",
    "A stack is sometimes called a last in, first out or LIFO data structure, because the last item added is the first to be removed.\n",
    "\n",
    "## Implementing stacks with Python lists\n",
    "\n",
    "The list operations that Python provides are similar to the operations that define a stack. The interface isn’t exactly what it is supposed to be, but we can write code to translate from the Stack ADT to the built-in operations.\n",
    "\n",
    "This code is called an **implementation** of the Stack ADT. In general, an implementation is a set of methods that satisfy the syntactic and semantic requirements of an interface.\n",
    "\n",
    "Here is an implementation of the Stack ADT that uses a Python list:"
   ]
  },
  {
   "cell_type": "code",
   "execution_count": null,
   "metadata": {},
   "outputs": [],
   "source": [
    "class Stack(object):\n",
    "    def __init__(self):\n",
    "        self.items = []\n",
    "\n",
    "    def push(self, item):\n",
    "        self.items.append(item)\n",
    "\n",
    "    def pop(self):\n",
    "        return self.items.pop()\n",
    "\n",
    "    def is_empty(self):\n",
    "        return (self.items == [])"
   ]
  },
  {
   "attachments": {},
   "cell_type": "markdown",
   "metadata": {},
   "source": [
    "A `Stack` object contains an attribute named `items` that is a list of items in the stack. The initialization method sets `items` to the empty list.\n",
    "\n",
    "To push a new item onto the stack, `push` appends it onto `items`. To pop an item off the stack, `pop` uses the homonymous (_same-named_) list method to remove and return the last item on the list.\n",
    "\n",
    "Finally, to check if the stack is empty, `is_empty` compares `items` to the empty list.\n",
    "\n",
    "An implementation like this, in which the methods consist of simple invocations of existing methods, is called a **veneer**. In real life, veneer is a thin coating of good quality wood used in furniture-making to hide lower quality wood underneath. Computer scientists use this metaphor to describe a small piece of code that hides the details of an implementation and provides a simpler, or more standard, interface.\n",
    "\n",
    "## Pushing and popping\n",
    "\n",
    "A stack is a **generic data structure**, which means that we can add any type of item to it. The following example pushes two integers and a string onto the stack:"
   ]
  },
  {
   "cell_type": "code",
   "execution_count": null,
   "metadata": {},
   "outputs": [],
   "source": [
    "s = Stack()\n",
    "s.push(54)\n",
    "s.push(45)\n",
    "s.push(\"+\")"
   ]
  },
  {
   "attachments": {},
   "cell_type": "markdown",
   "metadata": {},
   "source": [
    "We can use `is_empty` and `pop` to remove and print all of the items on the stack:"
   ]
  },
  {
   "cell_type": "code",
   "execution_count": null,
   "metadata": {},
   "outputs": [],
   "source": [
    "output = \"\"\n",
    "while not s.is_empty():\n",
    "    output += \"%s \" % (s.pop())\n",
    "print(output)"
   ]
  },
  {
   "attachments": {},
   "cell_type": "markdown",
   "metadata": {},
   "source": [
    "The output is `+ 45 54`. In other words, we just used a stack to print the items backward! Granted, it’s not the standard format for printing a list, but by using a stack, it was remarkably easy to do.\n",
    "\n",
    "You should compare this bit of code to the implementation of `print_backward` in the Linked lists chapter. There is a natural parallel between the recursive version of `print_backward` and the stack algorithm here. The difference is that print_backward uses the runtime stack to keep track of the nodes while it traverses the list, and then prints them on the way back from the recursion. The stack algorithm does the same thing, except that is use a `Stack` object instead of the runtime stack.\n",
    "\n",
    "## Using a stack to evaluate postfix\n",
    "\n",
    "In most programming languages, mathematical expressions are written with the operator between the two operands, as in `1 + 2`. This format is called **infix**. An alternative used by some calculators is called **postfix**. In postfix, the operator follows the operands, as in `1 2 +`.\n",
    "\n",
    "The reason postfix is sometimes useful is that there is a natural way to evaluate a postfix expression using a stack:\n",
    "\n",
    "1. Starting at the beginning of the expression, get one term (operator or operand) at a time.\n",
    "    * If the term is an operand, push it on the stack.\n",
    "    * If the term is an operator, pop two operands off the stack, perform the operation on them, and push the result back on the stack.\n",
    "2. When you get to the end of the expression, there should be exactly one operand left on the stack. That operand is the result.\n",
    "\n",
    "## Parsing \n",
    "\n",
    "To implement the previous algorithm, we need to be able to traverse a string and break it into operands and operators. This process is an example of **parsing**, and the results—the individual chunks of the string – are called **tokens**. You might remember these words from the The way of the program chapter.\n",
    "\n",
    "Python provides a `split` method in both the `string` and `re` (regular expression) modules. The function `string.split` splits a string into a list using a single character as a **delimiter**. For example:"
   ]
  },
  {
   "cell_type": "code",
   "execution_count": null,
   "metadata": {},
   "outputs": [],
   "source": [
    "import string\n",
    "string.split(\"Now is the time\",\" \")"
   ]
  },
  {
   "attachments": {},
   "cell_type": "markdown",
   "metadata": {},
   "source": [
    "In this case, the delimiter is the space character, so the string is split at each space.\n",
    "\n",
    "The function `re.split` is more powerful, allowing us to provide a regular expression instead of a delimiter. A regular expression is a way of specifying a set of strings. For example, `[A-z]` is the set of all letters and `[0-9]` is the set of all numbers. The ^ operator negates a set, so `[^0-9]` is the set of everything that is not a number, which is exactly the set we want to use to split up postfix expressions:"
   ]
  },
  {
   "cell_type": "code",
   "execution_count": null,
   "metadata": {},
   "outputs": [],
   "source": [
    "import re\n",
    "re.split(\"([^0-9])\", \"123+456*/\")"
   ]
  },
  {
   "attachments": {},
   "cell_type": "markdown",
   "metadata": {},
   "source": [
    "Notice that the order of the arguments is different from `string.split`; the delimiter comes before the string.\n",
    "\n",
    "The resulting list includes the operands `123` and `456` and the operators `*` and `/`. It also includes two empty strings that are inserted after the operands.\n",
    "\n",
    "## Evaluating postfix\n",
    "\n",
    "To evaluate a postfix expression, we will use the parser from the previous section and the algorithm from the section before that. To keep things simple, we’ll start with an evaluator that only implements the operators `+` and `*`:"
   ]
  },
  {
   "cell_type": "code",
   "execution_count": null,
   "metadata": {},
   "outputs": [],
   "source": [
    "def eval_postfix(expr):\n",
    "    import re\n",
    "    token_list = re.split(\"([^0-9])\", expr)\n",
    "    stack = Stack()\n",
    "    for token in token_list:\n",
    "        if  token == '' or token == ' ':\n",
    "            continue\n",
    "        if  token == '+':\n",
    "            sum = stack.pop() + stack.pop()\n",
    "            stack.push(sum)\n",
    "        elif token == '*':\n",
    "            product = stack.pop() * stack.pop()\n",
    "            stack.push(product)\n",
    "        else:\n",
    "            stack.push(int(token))\n",
    "    return stack.pop()"
   ]
  },
  {
   "attachments": {},
   "cell_type": "markdown",
   "metadata": {},
   "source": [
    "The first condition takes care of spaces and empty strings. The next two conditions handle operators. We assume, for now, that anything else must be an operand. Of course, it would be better to check for erroneous input and report an error message, but we’ll get to that later.\n",
    "\n",
    "Let’s test it by evaluating the postfix form of `(56+47)*2`:"
   ]
  },
  {
   "cell_type": "code",
   "execution_count": null,
   "metadata": {},
   "outputs": [],
   "source": [
    "print(eval_postfix(\"56 47 + 2 \\*\"))"
   ]
  },
  {
   "attachments": {},
   "cell_type": "markdown",
   "metadata": {},
   "source": [
    "That’s close enough.\n",
    "\n",
    "## Clients and providers\n",
    "\n",
    "One of the fundamental goals of an ADT is to separate the interests of the provider, who writes the code that implements the ADT, and the client, who uses the ADT. The provider only has to worry about whether the implementation is correct – in accord with the specification of the ADT – and not how it will be used.\n",
    "\n",
    "Conversely, the client assumes that the implementation of the ADT is correct and doesn’t worry about the details. When you are using one of Python’s built-in types, you have the luxury of thinking exclusively as a client.\n",
    "\n",
    "Of course, when you implement an ADT, you also have to write client code to test it. In that case, you play both roles, which can be confusing. You should make some effort to keep track of which role you are playing at any moment.\n",
    "\n",
    "<br/>\n",
    "<hr/>\n",
    "\n",
    "## _Glossary_\n",
    "\n",
    "```{glossary}\n",
    "abstract data type (ADT)\n",
    "    A data type (usually a collection of objects) that is defined by a set of operations but that can be implemented in a variety of ways.\n",
    "\n",
    "interface\n",
    "    The set of operations that define an ADT.\n",
    "\n",
    "implementation\n",
    "    Code that satisfies the syntactic and semantic requirements of an interface.\n",
    "\n",
    "client\n",
    "    A program (or the person who wrote it) that uses an ADT.\n",
    "\n",
    "provider\n",
    "    The code (or the person who wrote it) that implements an ADT.\n",
    "\n",
    "veneer\n",
    "    A class definition that implements an ADT with method definitions that are invocations of other methods, sometimes with simple transformations. The veneer does no significant work, but it improves or standardizes the interface seen by the client.\n",
    "\n",
    "generic data structure\n",
    "    A kind of data structure that can contain data of any type.\n",
    "\n",
    "infix\n",
    "    A way of writing mathematical expressions with the operators between the operands.\n",
    "\n",
    "postfix\n",
    "    A way of writing mathematical expressions with the operators after the operands.\n",
    "\n",
    "parse\n",
    "    To read a string of characters or tokens and analyze its grammatical structure.\n",
    "\n",
    "token\n",
    "    A set of characters that are treated as a unit for purposes of parsing, such as the words in a natural language.\n",
    "\n",
    "delimiter\n",
    "    A character that is used to separate tokens, such as punctuation in a natural language.\n",
    "```\n",
    "\n",
    "## _Exercises_\n",
    "\n",
    "1. Apply the postfix algorithm to the expression `1 2 + 3 *`. This example demonstrates one of the advantages of postfix—there is no need to use parentheses to control the order of operations. To get the same result in infix, we would have to write `(1 + 2) * 3`.\n",
    "\n",
    "2. Write a postfix expression that is equivalent to `1 + 2 * 3`."
   ]
  },
  {
   "cell_type": "markdown",
   "metadata": {},
   "source": [
    "## Improved Linked Queue\n",
    "\n",
    "We would like an implementation of the Queue ADT that can perform all operations in constant time. One way to do that is to modify the Queue class so that it maintains a reference to both the first and the last node, as shown in the figure:\n",
    "\n",
    "The `ImprovedQueue` implementation looks like this:"
   ]
  },
  {
   "cell_type": "code",
   "execution_count": null,
   "metadata": {},
   "outputs": [],
   "source": [
    "class ImprovedQueue(object):\n",
    "    def __init__(self):\n",
    "        self.length = 0\n",
    "        self.head   = None\n",
    "        self.last   = None\n",
    "\n",
    "    def is_empty(self):\n",
    "        return (self.length == 0)"
   ]
  },
  {
   "cell_type": "markdown",
   "metadata": {},
   "source": [
    "So far, the only change is the attribute `last`. It is used in `insert` and `remove` methods:"
   ]
  },
  {
   "cell_type": "code",
   "execution_count": null,
   "metadata": {},
   "outputs": [],
   "source": [
    "class ImprovedQueue(object):\n",
    "    ...\n",
    "    def insert(self, cargo):\n",
    "        node = Node(cargo)\n",
    "        node.next = None\n",
    "        if self.length == 0:\n",
    "            # if list is empty, the new node is head and last\n",
    "            self.head = self.last = node\n",
    "        else:\n",
    "            # find the last node\n",
    "            last = self.last\n",
    "            # append the new node\n",
    "            last.next = node\n",
    "            self.last = node\n",
    "        self.length = self.length + 1"
   ]
  },
  {
   "cell_type": "markdown",
   "metadata": {},
   "source": [
    "Since `last` keeps track of the last node, we don’t have to search for it. As a result, this method is constant time.\n",
    "\n",
    "There is a price to pay for that speed. We have to add a special case to `remove` to set `last` to `None` when the last node is removed:"
   ]
  },
  {
   "cell_type": "code",
   "execution_count": null,
   "metadata": {},
   "outputs": [],
   "source": [
    "class ImprovedQueue(object):\n",
    "    ...\n",
    "    def remove(self):\n",
    "        cargo = self.head.cargo\n",
    "        self.head = self.head.next\n",
    "        self.length = self.length - 1\n",
    "        if self.length == 0:\n",
    "            self.last = None\n",
    "        return cargo"
   ]
  },
  {
   "cell_type": "markdown",
   "metadata": {},
   "source": [
    "This implementation is more complicated than the Linked Queue implementation, and it is more difficult to demonstrate that it is correct. The advantage is that we have achieved the goal – both `insert` and `remove` are constant-time operations.\n",
    "\n",
    "## Priority queue\n",
    "\n",
    "The Priority Queue ADT has the same interface as the Queue ADT, but different semantics. Again, the interface is:\n",
    "\n",
    "* `__init__`\n",
    "    Initialize a new empty queue.\n",
    "\n",
    "* `insert`\n",
    "    Add a new item to the queue.\n",
    "\n",
    "* `remove`\n",
    "    Remove and return an item from the queue. The item that is returned is the one with the highest priority.\n",
    "\n",
    "* `is_empty`\n",
    "    Check whether the queue is empty.\n",
    "\n",
    "The semantic difference is that the item that is removed from the queue is not necessarily the first one that was added. Rather, it is the item in the queue that has the highest priority. What the priorities are and how they compare to each other are not specified by the Priority Queue implementation. It depends on which items are in the queue.\n",
    "\n",
    "For example, if the items in the queue have names, we might choose them in alphabetical order. If they are bowling scores, we might go from highest to lowest, but if they are golf scores, we would go from lowest to highest. As long as we can compare the items in the queue, we can find and remove the one with the highest priority.\n",
    "\n",
    "This implementation of Priority Queue has as an attribute a Python list that contains the items in the queue."
   ]
  },
  {
   "cell_type": "code",
   "execution_count": null,
   "metadata": {},
   "outputs": [],
   "source": [
    "class PriorityQueue(object):\n",
    "    def __init__(self):\n",
    "        self.items = []\n",
    "\n",
    "    def is_empty(self):\n",
    "        return self.items == []\n",
    "\n",
    "    def insert(self, item):\n",
    "        self.items.append(item)"
   ]
  },
  {
   "cell_type": "markdown",
   "metadata": {},
   "source": [
    "The initialization method, `is_empty`, and `insert` are all veneers on list operations. The only interesting method is `remove`:"
   ]
  },
  {
   "cell_type": "code",
   "execution_count": null,
   "metadata": {},
   "outputs": [],
   "source": [
    "class PriorityQueue(object):\n",
    "    ...\n",
    "    def remove(self):\n",
    "        maxi = 0\n",
    "        for i in range(1, len(self.items)):\n",
    "            if self.items[i] > self.items[maxi]: maxi = i\n",
    "        item = self.items[maxi]\n",
    "        self.items[maxi:maxi+1] = []\n",
    "        return item"
   ]
  },
  {
   "cell_type": "markdown",
   "metadata": {},
   "source": [
    "At the beginning of each iteration, `maxi` holds the index of the biggest item (highest priority) we have seen _so far_. Each time through the loop, the program compares the `i`-eth item to the champion. If the new item is bigger, the value of `maxi` if set to `i`.\n",
    "\n",
    "When the `for` statement completes, `maxi` is the index of the biggest item. This item is removed from the list and returned.\n",
    "\n",
    "Let’s test the implementation:"
   ]
  },
  {
   "cell_type": "code",
   "execution_count": null,
   "metadata": {},
   "outputs": [],
   "source": [
    "q = PriorityQueue()\n",
    "q.insert(11)\n",
    "q.insert(12)\n",
    "q.insert(14)\n",
    "q.insert(13)\n",
    "while not q.is_empty(): print(q.remove())"
   ]
  },
  {
   "cell_type": "markdown",
   "metadata": {},
   "source": [
    "If the queue contains simple numbers or strings, they are removed in numerical or alphabetical order, from highest to lowest. Python can find the biggest integer or string because it can compare them using the built-in comparison operators.\n",
    "\n",
    "If the queue contains an object type, it has to provide a `__cmp__` method. When `remove` uses the `>` operator to compare items, it invokes the `__cmp__` for one of the items and passes the other as a parameter. As long as the `__cmp__` method works correctly, the Priority Queue will work.\n",
    "\n",
    "## The Golfer class\n",
    "\n",
    "As an example of an object with an unusual definition of priority, let’s implement a class called `Golfer` that keeps track of the names and scores of golfers. As usual, we start by defining `__init__` and `__str__`:"
   ]
  },
  {
   "cell_type": "code",
   "execution_count": null,
   "metadata": {},
   "outputs": [],
   "source": [
    "class Golfer(object):\n",
    "    def __init__(self, name, score):\n",
    "        self.name = name\n",
    "        self.score= score\n",
    "\n",
    "    def __str__(self):\n",
    "        return \"%-16s: %d\" % (self.name, self.score)"
   ]
  },
  {
   "cell_type": "markdown",
   "metadata": {},
   "source": [
    "`__str__` uses the format operator to put the names and scores in neat columns.\n",
    "\n",
    "Next we define a version of `__cmp__` where the lowest score gets highest priority. As always, `__cmp__` returns 1 if self is greater than `other`, -1 if `self` is less than other, and 0 if they are equal."
   ]
  },
  {
   "cell_type": "code",
   "execution_count": null,
   "metadata": {},
   "outputs": [],
   "source": [
    "class Golfer(object):\n",
    "    ...\n",
    "    def __cmp__(self, other):\n",
    "        if self.score < other.score: return  1   # less is more\n",
    "        if self.score > other.score: return -1\n",
    "        return 0"
   ]
  },
  {
   "cell_type": "markdown",
   "metadata": {},
   "source": [
    "Now we are ready to test the priority queue with the `Golfer` class:"
   ]
  },
  {
   "cell_type": "code",
   "execution_count": null,
   "metadata": {},
   "outputs": [],
   "source": [
    "tiger = Golfer(\"Tiger Woods\",    61)\n",
    "phil  = Golfer(\"Phil Mickelson\", 72)\n",
    "hal   = Golfer(\"Hal Sutton\",     69)\n",
    "\n",
    "pq = PriorityQueue()\n",
    "pq.insert(tiger)\n",
    "pq.insert(phil)\n",
    "pq.insert(hal)\n",
    "while not pq.is_empty(): print(pq.remove())"
   ]
  },
  {
   "cell_type": "markdown",
   "metadata": {},
   "source": [
    "<br/>\n",
    "<hr/>\n",
    "\n",
    "## _Glossary_\n",
    "\n",
    "```{glossary}\n",
    "\n",
    "queue\n",
    "    An ordered set of objects waiting for a service of some kind.\n",
    "\n",
    "Queue\n",
    "    An ADT that performs the operations one might perform on a queue.\n",
    "\n",
    "queueing policy\n",
    "    The rules that determine which member of a queue is removed next.\n",
    "\n",
    "FIFO\n",
    "    First In, First Out, a queueing policy in which the first member to arrive is the first to be removed.\n",
    "\n",
    "priority queue\n",
    "    A queueing policy in which each member has a priority determined by external factors. The member with the highest priority is the first to be removed.\n",
    "\n",
    "Priority Queue\n",
    "    An ADT that defines the operations one might perform on a priority queue.\n",
    "\n",
    "linked queue\n",
    "    An implementation of a queue using a linked list.\n",
    "\n",
    "constant time\n",
    "    An operation whose runtime does not depend on the size of the data structure.\n",
    "\n",
    "linear time\n",
    "    An operation whose runtime is a linear function of the size of the data structure.\n",
    "\n",
    "```\n",
    "\n",
    "## _Exercises_\n",
    "\n",
    "1. Write an implementation of the Queue ADT using a Python list. Compare the performance of this implementation to the `ImprovedQueue` for a range of queue lengths. #. Write an implementation of the Priority Queue ADT using a linked list. You should keep the list sorted so that removal is a constant time operation. Compare the performance of this implementation with the Python list implementation."
   ]
  }
 ],
 "metadata": {
  "language_info": {
   "name": "python"
  },
  "orig_nbformat": 4
 },
 "nbformat": 4,
 "nbformat_minor": 2
}
