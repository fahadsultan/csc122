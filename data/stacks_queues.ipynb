{
 "cells": [
  {
   "cell_type": "markdown",
   "metadata": {},
   "source": [
    "# Stacks and Queues "
   ]
  },
  {
   "cell_type": "markdown",
   "metadata": {},
   "source": [
    "An **Abstract Data Type** (ADT) is a type (or class) for objects whose behavior is defined by a set of value and a set of operations. \n",
    "\n",
    "The definition of ADT only mentions **what operations** are to be performed but **NOT how** these operations will be **implemented**. \n",
    "\n",
    "It does NOT specify how data will be organized in memory and what algorithms will be used for implementing the operations. It is called _“abstract”_ because it gives an **implementation-independent view**, thus providing only the essentials and hiding the details. \n",
    "\n",
    "<br/><br/>\n",
    "<center><img src=\"https://web.stanford.edu/class/archive/cs/cs106b/cs106b.1206/lectures/stacks-queues/img/stacks-queues.png\" width=\"65%\">\n",
    "<img src=\"https://gohighbrow.com/wp-content/uploads/2018/07/Computer-science-fundamentals_6.1.png\" width=\"65%\">\n",
    "</center>\n",
    "\n",
    "<br/><br/>\n",
    "\n",
    "Stacks and Queues are two ADTs that are used to store data in a particular order. \n",
    "\n",
    "A **Stack** is a collection of elements, with two main principal operations:\n",
    "\n",
    "1. _Push_, which adds an element to the collection, and\n",
    "2. _Pop_, which removes the most recently added element that was not yet removed.\n",
    "\n",
    "The order in which elements come off a stack gives rise to its alternative name, **LIFO: Last In, First Out**.\n",
    "\n",
    "A **Queue** is a collection of elements, with two main principal operations:\n",
    "\n",
    "1. _Enqueue_, which adds an element to the collection, and\n",
    "\n",
    "2. _Dequeue_, which removes the earliest added element that was not yet removed.\n",
    "\n",
    "The order in which elements are removed from a queue gives rise to its alternative name, **FIFO: First In, First Out**.\n"
   ]
  },
  {
   "cell_type": "code",
   "execution_count": null,
   "metadata": {},
   "outputs": [],
   "source": []
  }
 ],
 "metadata": {
  "language_info": {
   "name": "python"
  }
 },
 "nbformat": 4,
 "nbformat_minor": 2
}
