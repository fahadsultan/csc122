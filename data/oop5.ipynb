{
 "cells": [
  {
   "attachments": {},
   "cell_type": "markdown",
   "metadata": {},
   "source": [
    "# Inheritance\n",
    "\n",
    "The language feature most often associated with object-oriented programming is **inheritance**. Inheritance is the ability to define a new class that is a modified version of an existing class.\n",
    "\n",
    "The primary advantage of this feature is that you can add new methods to a class without modifying the existing class. It is called inheritance because the new class inherits all of the methods of the existing class. Extending this metaphor, the existing class is sometimes called the **parent** class. The new class may be called the **child** class or sometimes subclass.\n",
    "\n",
    "Inheritance is a powerful feature. Some programs that would be complicated without inheritance can be written concisely and simply with it. Also, inheritance can facilitate code reuse, since you can customize the behavior of parent classes without having to modify them. In some cases, the inheritance structure reflects the natural structure of the problem, which makes the program easier to understand.\n",
    "\n",
    "On the other hand, inheritance can make programs difficult to read. When a method is invoked, it is sometimes not clear where to find its definition. The relevant code may be scattered among several modules. Also, many of the things that can be done using inheritance can be done as elegantly (or more so) without it. If the natural structure of the problem does not lend itself to inheritance, this style of programming can do more harm than good.\n",
    "\n",
    "In this chapter we will demonstrate the use of inheritance as part of a program that plays the card game Old Maid. One of our goals is to write code that could be reused to implement other card games.\n",
    "\n",
    "## A hand of cards\n",
    "\n",
    "or almost any card game, we need to represent a hand of cards. A hand is similar to a deck, of course. Both are made up of a set of cards, and both require operations like adding and removing cards. Also, we might like the ability to shuffle both decks and hands.\n",
    "\n",
    "A hand is also different from a deck. Depending on the game being played, we might want to perform some operations on hands that don’t make sense for a deck. For example, in poker we might classify a hand (straight, flush, etc.) or compare it with another hand. In bridge, we might want to compute a score for a hand in order to make a bid.\n",
    "\n",
    "This situation suggests the use of inheritance. If `Hand` is a subclass of `Deck`, it will have all the methods of `Deck`, and new methods can be added.\n",
    "\n",
    "In the class definition, the name of the parent class appears in parentheses:\n"
   ]
  },
  {
   "cell_type": "code",
   "execution_count": null,
   "metadata": {},
   "outputs": [],
   "source": [
    "class Hand(Deck):\n",
    "    pass"
   ]
  },
  {
   "attachments": {},
   "cell_type": "markdown",
   "metadata": {},
   "source": [
    "This statement indicates that the new Hand class inherits from the existing `Deck` class.\n",
    "\n",
    "The `Hand` constructor initializes the attributes for the hand, which are `name` and `cards`. The string `name` identifies this hand, probably by the name of the player that holds it. The name is an optional parameter with the empty string as a default value. `cards` is the list of cards in the hand, initialized to the empty list:\n",
    "\n"
   ]
  },
  {
   "cell_type": "code",
   "execution_count": null,
   "metadata": {},
   "outputs": [],
   "source": [
    "class Hand(Deck):\n",
    "    def __init__(self, name=\"\"):\n",
    "       self.cards = []\n",
    "       self.name = name"
   ]
  },
  {
   "attachments": {},
   "cell_type": "markdown",
   "metadata": {},
   "source": [
    "For just about any card game, it is necessary to add and remove cards from the deck. Removing cards is already taken care of, since Hand inherits `remove` from `Deck`. But we have to write `add`:"
   ]
  },
  {
   "cell_type": "code",
   "execution_count": null,
   "metadata": {},
   "outputs": [],
   "source": [
    "class Hand(Deck):\n",
    "    ...\n",
    "    def add(self,card):\n",
    "        self.cards.append(card)"
   ]
  },
  {
   "attachments": {},
   "cell_type": "markdown",
   "metadata": {},
   "source": [
    "Again, the ellipsis indicates that we have omitted other methods. The list `append` method adds the new card to the end of the list of cards.\n",
    "\n",
    "## Dealing cards\n",
    "\n",
    "Now that we have a `Hand` class, we want to deal cards from the `Deck` into hands. It is not immediately obvious whether this method should go in the Hand class or in the `Deck` class, but since it operates on a single deck and (possibly) several hands, it is more natural to put it in `Deck`.\n",
    "\n",
    "`deal` should be fairly general, since different games will have different requirements. We may want to deal out the entire deck at once or add one card to each hand.\n",
    "\n",
    "`deal` takes two parameters, a list (or tuple) of hands and the total number of cards to deal. If there are not enough cards in the deck, the method deals out all of the cards and stops:"
   ]
  },
  {
   "cell_type": "code",
   "execution_count": null,
   "metadata": {},
   "outputs": [],
   "source": [
    "class Deck(object):\n",
    "    ...\n",
    "    def deal(self, hands, num_cards=999):\n",
    "        num_hands = len(hands)\n",
    "        for i in range(num_cards):\n",
    "            if self.is_empty(): break   # break if out of cards\n",
    "            card = self.pop()           # take the top card\n",
    "            hand = hands[i % num_hands] # whose turn is next?\n",
    "            hand.add(card)              # add the card to the hand"
   ]
  },
  {
   "attachments": {},
   "cell_type": "markdown",
   "metadata": {},
   "source": [
    "The second parameter, `num_cards`, is optional; the default is a large number, which effectively means that all of the cards in the deck will get dealt.\n",
    "\n",
    "The loop variable `i` goes from 0 to `nCards-1`. Each time through the loop, a card is removed from the deck using the list method `pop`, which removes and returns the last item in the list.\n",
    "\n",
    "The modulus operator (`%`) allows us to deal cards in a round robin (one card at a time to each hand). When `i` is equal to the number of hands in the list, the expression `i % nHands` wraps around to the beginning of the list (index 0).\n",
    "\n",
    "## Printing a Hand\n",
    "\n",
    "To print the contents of a hand, we can take advantage of the `printDeck` and `__str__` methods inherited from Deck. For example:"
   ]
  },
  {
   "cell_type": "code",
   "execution_count": null,
   "metadata": {},
   "outputs": [],
   "source": [
    "deck = Deck()\n",
    "deck.shuffle()\n",
    "hand = Hand(\"frank\")\n",
    "deck.deal([hand], 5)\n",
    "print(hand)"
   ]
  },
  {
   "attachments": {},
   "cell_type": "markdown",
   "metadata": {},
   "source": [
    "It’s not a great hand, but it has the makings of a straight flush.\n",
    "\n",
    "Although it is convenient to inherit the existing methods, there is additional information in a `Hand` object we might want to include when we print one. To do that, we can provide a `__str__` method in the Hand class that overrides the one in the `Deck` class:"
   ]
  },
  {
   "cell_type": "code",
   "execution_count": null,
   "metadata": {},
   "outputs": [],
   "source": [
    "class Hand(Deck)\n",
    "    ...\n",
    "    def __str__(self):\n",
    "        s = \"Hand \" + self.name\n",
    "        if self.is_empty():\n",
    "            s = s + \" is empty\\n\"\n",
    "        else:\n",
    "            s = s + \" contains\\n\"\n",
    "        return s + Deck.__str__(self)"
   ]
  },
  {
   "attachments": {},
   "cell_type": "markdown",
   "metadata": {},
   "source": [
    "Initially, `s` is a string that identifies the hand. If the hand is empty, the program appends the words `is empty` and returns `s`.\n",
    "\n",
    "Otherwise, the program appends the word `contains` and the string representation of the `Deck`, computed by invoking the `__str__` method in the Deck class on self.\n",
    "\n",
    "It may seem odd to send `self`, which refers to the current `Hand`, to a `Deck` method, until you remember that a `Hand` is a kind of `Deck`. `Hand` objects can do everything `Deck` objects can, so it is legal to send a `Hand` to a `Deck` method.\n",
    "\n",
    "In general, it is always legal to use an instance of a subclass in place of an instance of a parent class.\n",
    "\n",
    "## The CardGame class\n",
    "\n",
    "The `CardGame` class takes care of some basic chores common to all games, such as creating the deck and shuffling it:"
   ]
  },
  {
   "cell_type": "code",
   "execution_count": null,
   "metadata": {},
   "outputs": [],
   "source": [
    "class CardGame(object):\n",
    "    def __init__(self):\n",
    "        self.deck = Deck()\n",
    "        self.deck.shuffle()"
   ]
  },
  {
   "attachments": {},
   "cell_type": "markdown",
   "metadata": {},
   "source": [
    "This is the first case we have seen where the initialization method performs a significant computation, beyond initializing attributes.\n",
    "\n",
    "To implement specific games, we can inherit from `CardGame` and add features for the new game. As an example, we’ll write a simulation of Old Maid.\n",
    "\n",
    "The object of Old Maid is to get rid of cards in your hand. You do this by matching cards by rank and color. For example, the 4 of Clubs matches the 4 of Spades since both suits are black. The Jack of Hearts matches the Jack of Diamonds since both are red.\n",
    "\n",
    "To begin the game, the Queen of Clubs is removed from the deck so that the Queen of Spades has no match. The fifty-one remaining cards are dealt to the players in a round robin. After the deal, all players match and discard as many cards as possible.\n",
    "\n",
    "When no more matches can be made, play begins. In turn, each player picks a card (without looking) from the closest neighbor to the left who still has cards. If the chosen card matches a card in the player’s hand, the pair is removed. Otherwise, the card is added to the player’s hand. Eventually all possible matches are made, leaving only the Queen of Spades in the loser’s hand.\n",
    "\n",
    "In our computer simulation of the game, the computer plays all hands. Unfortunately, some nuances of the real game are lost. In a real game, the player with the Old Maid goes to some effort to get their neighbor to pick that card, by displaying it a little more prominently, or perhaps failing to display it more prominently, or even failing to fail to display that card more prominently. The computer simply picks a neighbor’s card at random.\n",
    "\n",
    "## OldMaidHand class\n",
    "\n",
    "A hand for playing Old Maid requires some abilities beyond the general abilities of a `Hand`. We will define a new class, `OldMaidHand`, that inherits from `Hand` and provides an additional method called `remove_matches`:"
   ]
  },
  {
   "cell_type": "code",
   "execution_count": null,
   "metadata": {},
   "outputs": [],
   "source": [
    "class OldMaidHand(Hand):\n",
    "    def remove_matches(self):\n",
    "        count = 0\n",
    "        original_cards = self.cards[:]\n",
    "        for card in original_cards:\n",
    "            match = Card(3 - card.suit, card.rank)\n",
    "            if match in self.cards:\n",
    "                self.cards.remove(card)\n",
    "                self.cards.remove(match)\n",
    "                print(\"Hand %s: %s matches %s\" % (self.name, card, match))\n",
    "                count = count + 1\n",
    "        return count"
   ]
  },
  {
   "attachments": {},
   "cell_type": "markdown",
   "metadata": {},
   "source": [
    "We start by making a copy of the list of cards, so that we can traverse the copy while removing cards from the original. Since `self.cards` is modified in the loop, we don’t want to use it to control the traversal. Python can get quite confused if it is traversing a list that is changing!\n",
    "\n",
    "For each card in the hand, we figure out what the matching card is and go looking for it. The match card has the same rank and the other suit of the same color. The expression `3 - card.suit` turns a Club (suit 0) into a Spade (suit 3) and a Diamond (suit 1) into a Heart (suit 2). You should satisfy yourself that the opposite operations also work. If the match card is also in the hand, both cards are removed.\n",
    "\n",
    "The following example demonstrates how to use `remove_matches`:"
   ]
  },
  {
   "cell_type": "code",
   "execution_count": null,
   "metadata": {},
   "outputs": [],
   "source": [
    "game = CardGame()\n",
    "hand = OldMaidHand(\"frank\")\n",
    "game.deck.deal([hand], 13)\n",
    "print(hand)\n",
    "\n",
    "hand.remove_matches()\n",
    "\n",
    "print(hand)"
   ]
  },
  {
   "attachments": {},
   "cell_type": "markdown",
   "metadata": {},
   "source": [
    "Notice that there is no `__init__` method for the `OldMaidHand` class. We inherit it from Hand.\n",
    "\n",
    "## `OldMaidGame` class\n",
    "\n",
    "Now we can turn our attention to the game itself. `OldMaidGame` is a subclass of `CardGame` with a new method called `play` that takes a list of players as a parameter.\n",
    "\n",
    "Since `__init__` is inherited from `CardGame`, a new `OldMaidGame` object contains a new shuffled deck:"
   ]
  },
  {
   "cell_type": "code",
   "execution_count": null,
   "metadata": {},
   "outputs": [],
   "source": [
    "class OldMaidGame(CardGame):\n",
    "    def play(self, names):\n",
    "        # remove Queen of Clubs\n",
    "        self.deck.remove(Card(0,12))\n",
    "\n",
    "        # make a hand for each player\n",
    "        self.hands = []\n",
    "        for name in names:\n",
    "            self.hands.append(OldMaidHand(name))\n",
    "\n",
    "        # deal the cards\n",
    "        self.deck.deal(self.hands)\n",
    "        print(\"---------- Cards have been dealt\")\n",
    "        self.printHands()\n",
    "\n",
    "        # remove initial matches\n",
    "        matches = self.removeAllMatches()\n",
    "        print(\"---------- Matches discarded, play begins\")\n",
    "        self.printHands()\n",
    "\n",
    "        # play until all 50 cards are matched\n",
    "        turn = 0\n",
    "        numHands = len(self.hands)\n",
    "        while matches < 25:\n",
    "            matches = matches + self.playOneTurn(turn)\n",
    "            turn = (turn + 1) % numHands\n",
    "\n",
    "        print(\"---------- Game is Over\")\n",
    "        self.printHands()"
   ]
  },
  {
   "attachments": {},
   "cell_type": "markdown",
   "metadata": {},
   "source": [
    "The writing of `printHands()` is left as an exercise.\n",
    "\n",
    "Some of the steps of the game have been separated into methods. `remove_all_matches` traverses the list of hands and invokes `remove_matches` on each:"
   ]
  },
  {
   "cell_type": "code",
   "execution_count": null,
   "metadata": {},
   "outputs": [],
   "source": [
    "class OldMaidGame(CardGame):\n",
    "    ...\n",
    "    def remove_all_matches(self):\n",
    "        count = 0\n",
    "        for hand in self.hands:\n",
    "            count = count + hand.remove_matches()\n",
    "        return count"
   ]
  },
  {
   "attachments": {},
   "cell_type": "markdown",
   "metadata": {},
   "source": [
    "`count` is an accumulator that adds up the number of matches in each hand and returns the total.\n",
    "\n",
    "When the total number of matches reaches twenty-five, fifty cards have been removed from the hands, which means that only one card is left and the game is over.\n",
    "\n",
    "The variable `turn` keeps track of which player’s turn it is. It starts at 0 and increases by one each time; when it reaches `numHands`, the modulus operator wraps it back around to 0.\n",
    "\n",
    "The method `playOneTurn` takes a parameter that indicates whose turn it is. The return value is the number of matches made during this turn:"
   ]
  },
  {
   "cell_type": "code",
   "execution_count": null,
   "metadata": {},
   "outputs": [],
   "source": [
    "class OldMaidGame(CardGame):\n",
    "    ...\n",
    "    def play_one_turn(self, i):\n",
    "        if self.hands[i].is_empty():\n",
    "            return 0\n",
    "        neighbor = self.find_neighbor(i)\n",
    "        pickedCard = self.hands[neighbor].popCard()\n",
    "        self.hands[i].add(pickedCard)\n",
    "        print(\"Hand %s picked %s\" % (self.hands[i].name, pickedCard))\n",
    "        count = self.hands[i].remove_matches()\n",
    "        self.hands[i].shuffle()\n",
    "        return count"
   ]
  },
  {
   "attachments": {},
   "cell_type": "markdown",
   "metadata": {},
   "source": [
    "If a player’s hand is empty, that player is out of the game, so he or she does nothing and returns 0.\n",
    "\n",
    "Otherwise, a turn consists of finding the first player on the left that has cards, taking one card from the neighbor, and checking for matches. Before returning, the cards in the hand are shuffled so that the next player’s choice is random.\n",
    "\n",
    "The method `find_neighbor` starts with the player to the immediate left and continues around the circle until it finds a player that still has cards:"
   ]
  },
  {
   "cell_type": "code",
   "execution_count": null,
   "metadata": {},
   "outputs": [],
   "source": [
    "class OldMaidGame(CardGame):\n",
    "    ...\n",
    "    def find_neighbor(self, i):\n",
    "        numHands = len(self.hands)\n",
    "        for next in range(1,numHands):\n",
    "            neighbor = (i + next) % numHands\n",
    "            if not self.hands[neighbor].is_empty():\n",
    "                return neighbor "
   ]
  },
  {
   "attachments": {},
   "cell_type": "markdown",
   "metadata": {},
   "source": [
    "If `find_neighbor` ever went all the way around the circle without finding cards, it would return `None` and cause an error elsewhere in the program. Fortunately, we can prove that that will never happen (as long as the end of the game is detected correctly).\n",
    "\n",
    "We have omitted the `print_hands` method. You can write that one yourself.\n",
    "\n",
    "The following output is from a truncated form of the game where only the top fifteen cards (tens and higher) were dealt to three players. With this small deck, play stops after seven matches instead of twenty-five."
   ]
  },
  {
   "cell_type": "code",
   "execution_count": null,
   "metadata": {},
   "outputs": [],
   "source": [
    "import cards\n",
    "game = cards.OldMaidGame()\n",
    "game.play([\"Allen\",\"Jeff\",\"Chris\"])"
   ]
  },
  {
   "attachments": {},
   "cell_type": "markdown",
   "metadata": {},
   "source": [
    "So Jeff loses.\n",
    "\n",
    "<hr/>"
   ]
  },
  {
   "attachments": {},
   "cell_type": "markdown",
   "metadata": {},
   "source": [
    "## _Glossary_\n",
    "\n",
    "```{glossary}\n",
    "\n",
    "inheritance\n",
    "    The ability to define a new class that is a modified version of a previously defined class.\n",
    "\n",
    "parent class\n",
    "    The class from which a child class inherits.\n",
    "\n",
    "child class\n",
    "    A new class created by inheriting from an existing class; also called a subclass.\n",
    "```\n",
    "\n",
    "## _Exercises_\n",
    "\n",
    "1. Add a method, `print_hands`, to the `OldMaidGame` class which traverses `self.hands` and prints each hand."
   ]
  }
 ],
 "metadata": {
  "language_info": {
   "name": "python"
  },
  "orig_nbformat": 4
 },
 "nbformat": 4,
 "nbformat_minor": 2
}
