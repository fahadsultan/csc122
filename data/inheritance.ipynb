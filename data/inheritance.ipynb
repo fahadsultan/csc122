{
 "cells": [
  {
   "cell_type": "markdown",
   "metadata": {},
   "source": [
    "# Extending Types\n",
    "\n",
    "In addition to creating our own classes, we can also extend the functionality of existing classes. This is done through **Inheritance**.\n",
    "\n",
    "## Inheritance\n",
    "\n",
    "**Inheritance** is the process by which one class takes on the attributes and methods of another.  The new class is called **derived (or child) class** and the one from which it is derived is called the **base (or parent) class**. The derived class inherits all the features from the base class and can have additional features of its own.\n",
    "\n",
    "It’s important to note that <u>child classes **override or extend** the functionality (e.g., attributes and behaviors) of parent classes</u>. In other words, <u>child classes **inherit** all of the parent’s attributes and behaviors</u> but can also specify different behavior to follow. The most basic type of class is an object, which generally all other classes inherit as their parent.\n",
    "\n",
    "```{figure} https://www3.ntu.edu.sg/home/ehchua/programming/webprogramming/images/Python_ShapeAndSubclasses.png\n",
    "---\n",
    "name: inheritance\n",
    "width: 50%\n",
    "align: center\n",
    "---\n",
    "Inheritance is a powerful feature in object oriented programming. It refers to defining a new class with little or no modification to an existing class. The new class is called derived (or child) class and the one from which it is derived is called the base (or parent) class. In the figure above, `Circle` and `Rectangle` are derived classes of `Shape` class. Similarly, `Square` is a derived class of `Rectangle` class.\n",
    "```\n",
    "\n",
    "Inheritance is a powerful feature in object oriented programming. It refers to defining a new class with little or no modification to an existing class.\n"
   ]
  },
  {
   "cell_type": "code",
   "execution_count": 22,
   "metadata": {},
   "outputs": [
    {
     "data": {
      "text/plain": [
       "1"
      ]
     },
     "execution_count": 22,
     "metadata": {},
     "output_type": "execute_result"
    }
   ],
   "source": [
    "class ParentClass:\n",
    "    # class definition\n",
    "    x = 1\n",
    "\n",
    "class ChildClass(ParentClass):\n",
    "    # class definition\n",
    "    pass\n",
    "\n",
    "# create an object of the ChildClass\n",
    "obj = ChildClass()\n",
    "obj.x\n"
   ]
  },
  {
   "cell_type": "markdown",
   "metadata": {},
   "source": [
    "In the above example, `ChildClass` is derived from `ParentClass`. The derived class `ChildClass` inherits all the features from the base class `ParentClass`.\n"
   ]
  },
  {
   "attachments": {},
   "cell_type": "markdown",
   "metadata": {},
   "source": [
    "In this example, we have a class `Rectangle` and a class `Square` that inherits from `Rectangle`."
   ]
  },
  {
   "cell_type": "code",
   "execution_count": 18,
   "metadata": {},
   "outputs": [],
   "source": [
    "class Rectangle:\n",
    "    def __init__(self, length, width):\n",
    "        self.length = length\n",
    "        self.width = width\n",
    "\n",
    "    def area(self):\n",
    "        return self.length * self.width\n",
    "\n",
    "    def perimeter(self):\n",
    "        return 2 * (self.length + self.width)\n",
    "\n",
    "class Square(Rectangle):\n",
    "\n",
    "    def __init__(self, side):\n",
    "        super().__init__(side, side)\n"
   ]
  },
  {
   "cell_type": "markdown",
   "metadata": {},
   "source": [
    "## Overriding Methods\n",
    "\n",
    "Inheritance allows us to inherit attributes and methods from a parent class. This is useful because we can create a child class that inherits from a parent class and then add new attributes and methods to the child class.\n",
    "\n",
    "Sometimes, we want to change the behavior of a method in the child class. This is called overriding. We can override a method in the child class by defining a method with the same name in the child class."
   ]
  },
  {
   "cell_type": "code",
   "execution_count": null,
   "metadata": {},
   "outputs": [
    {
     "name": "stdout",
     "output_type": "stream",
     "text": [
      "This is a method from the child class\n"
     ]
    }
   ],
   "source": [
    "class ParentClass:\n",
    "    def method(self):\n",
    "        print(\"This is a method from the parent class\")\n",
    "\n",
    "class ChildClass(ParentClass):\n",
    "    def method(self):\n",
    "        print(\"This is a method from the child class\")\n",
    "\n",
    "child = ChildClass()\n",
    "child.method()"
   ]
  },
  {
   "cell_type": "markdown",
   "metadata": {},
   "source": [
    "## `super()`\n",
    "\n",
    "When you add the `__init__()` function, the child class will no longer inherit the parent's `__init__()` function.\n",
    "\n",
    "The `super()` function is used to give access to methods and properties of a parent or sibling class. The `super()` function returns an object that represents the parent class.\n"
   ]
  },
  {
   "cell_type": "code",
   "execution_count": 42,
   "metadata": {},
   "outputs": [
    {
     "data": {
      "text/plain": [
       "30"
      ]
     },
     "execution_count": 42,
     "metadata": {},
     "output_type": "execute_result"
    }
   ],
   "source": [
    "class ParentClass:\n",
    "    def __init__(self, name, age):\n",
    "        self.name = name\n",
    "        self.age = age\n",
    "\n",
    "class ChildClass(ParentClass):\n",
    "    def __init__(self, name, age, year):\n",
    "        super().__init__(name, age)\n",
    "        self.year = year\n",
    "\n",
    "child = ChildClass(\"John\", 30, 1990)\n",
    "\n",
    "child.age"
   ]
  },
  {
   "cell_type": "markdown",
   "metadata": {},
   "source": [
    "\n",
    "`super()` function that will make the child class inherit all the methods and properties from its parent. By using the `super()` function, you do not have to use the name of the parent element, it will automatically inherit the methods and properties from its parent.\n"
   ]
  },
  {
   "cell_type": "markdown",
   "metadata": {},
   "source": [
    "## Types of Inheritance\n",
    "\n",
    "There are different types of inheritance, such as:\n",
    "\n",
    "- **Single Inheritance**: When a class inherits from only one class. It is the simplest type of inheritance.\n",
    "\n",
    "- **Multiple Inheritance**: When a class inherits from more than one class. It is not supported in Python.\n",
    "\n",
    "\n",
    "- **Multilevel Inheritance**: When a class inherits from a derived class.\n",
    "- **Hierarchical Inheritance**: When more than one class inherits from a class.\n",
    "- **Hybrid Inheritance**: When a class is derived from two classes and these two classes are derived from one class.\n",
    "\n",
    "<br/>\n",
    "<center><img src=\"https://cdn-images-1.medium.com/v2/resize:fit:1080/1*gvHEf4lT2m_dHyH6c0UC1Q.png\" width=\"95%\"></center>\n",
    "<br/>"
   ]
  },
  {
   "cell_type": "code",
   "execution_count": null,
   "metadata": {},
   "outputs": [
    {
     "name": "stdout",
     "output_type": "stream",
     "text": [
      "A\n",
      "B\n",
      "C\n",
      "D\n",
      "E\n"
     ]
    }
   ],
   "source": [
    "# Examples of types of inheritance\n",
    "\n",
    "class A:\n",
    "    def __init__(self):\n",
    "        print(\"A\")\n",
    "\n",
    "class B(A): # single inheritance\n",
    "    def __init__(self):\n",
    "        super().__init__()\n",
    "        print(\"B\")\n",
    "\n",
    "class C(B): # multi-level inheritance\n",
    "    def __init__(self):\n",
    "        super().__init__()\n",
    "        print(\"C\")\n",
    "    \n",
    "class D(A): # hierarchical inheritance\n",
    "    def __init__(self):\n",
    "        super().__init__()\n",
    "        print(\"D\")\n",
    "\n",
    "class E(D, C):  # multiple inheritance\n",
    "    def __init__(self):\n",
    "        super().__init__()\n",
    "        print(\"E\")\n",
    "\n",
    "obj = E()"
   ]
  },
  {
   "cell_type": "markdown",
   "metadata": {},
   "source": [
    "## Polymorphism\n",
    "\n",
    "**Polymorphism** is the ability to use a common interface for different data types or classes. It allows us to define a single interface and have multiple implementations.\n",
    "\n",
    "Polymorphism is an important feature of class definition in Python that is utilized when you have commonly named methods across classes or subclasses. This allows functions to use objects of any of these polymorphic classes without needing to be aware of distinctions across the classes."
   ]
  },
  {
   "cell_type": "code",
   "execution_count": 35,
   "metadata": {},
   "outputs": [
    {
     "name": "stdout",
     "output_type": "stream",
     "text": [
      "Woof!\n",
      "Meow!\n"
     ]
    }
   ],
   "source": [
    "class Dog:\n",
    "    def speak(self):\n",
    "        print(\"Woof!\")\n",
    "\n",
    "class Cat:\n",
    "    def speak(self):\n",
    "        print(\"Meow!\")\n",
    "\n",
    "pet = Dog()\n",
    "pet.speak()\n",
    "\n",
    "pet = Cat()\n",
    "pet.speak()"
   ]
  },
  {
   "cell_type": "markdown",
   "metadata": {},
   "source": [
    "A simple example of polymorphism is the `len()` function. It can be used with different data types, such as strings, lists, and tuples. \n",
    "\n",
    "```python\n",
    "print(len(\"Hello\")) # 5\n",
    "print(len([1, 2, 3])) # 3\n",
    "print(len((1, 2, 3))) # 3\n",
    "```"
   ]
  },
  {
   "cell_type": "markdown",
   "metadata": {},
   "source": [
    "Another example is the `+` operator. It can be used to add numbers or concatenate strings.\n",
    "\n",
    "```python\n",
    "print(1 + 2) # 3\n",
    "print(\"Hello\" + \" \" + \"World\") # Hello World\n",
    "```\n"
   ]
  }
 ],
 "metadata": {
  "kernelspec": {
   "display_name": "Python 3",
   "language": "python",
   "name": "python3"
  },
  "language_info": {
   "codemirror_mode": {
    "name": "ipython",
    "version": 3
   },
   "file_extension": ".py",
   "mimetype": "text/x-python",
   "name": "python",
   "nbconvert_exporter": "python",
   "pygments_lexer": "ipython3",
   "version": "3.9.6"
  },
  "orig_nbformat": 4
 },
 "nbformat": 4,
 "nbformat_minor": 2
}
