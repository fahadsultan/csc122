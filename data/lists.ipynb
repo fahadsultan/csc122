{
 "cells": [
  {
   "attachments": {},
   "cell_type": "markdown",
   "metadata": {},
   "source": [
    "# Lists \n",
    "\n",
    "## Creating, Initializing and Populating Lists \n",
    "\n",
    "Lists are created using **square brackets** **`[]`** and populated using calls to `<variable_name>`**`.append`**`(value)`"
   ]
  },
  {
   "cell_type": "code",
   "execution_count": null,
   "metadata": {},
   "outputs": [],
   "source": [
    "sequence = [0, 1, 2, -6]\n",
    "sequence.append(5.42)\n",
    "sequence.append(1)\n",
    "sequence.append(\"south carolina\")\n",
    "\n",
    "print(sequence)"
   ]
  },
  {
   "cell_type": "markdown",
   "metadata": {},
   "source": [
    "Lists can also **initialized** with square brackets `[]` and `,` separated values: "
   ]
  },
  {
   "cell_type": "code",
   "execution_count": null,
   "metadata": {},
   "outputs": [],
   "source": [
    "sequence = [0, 1, 0]"
   ]
  },
  {
   "cell_type": "markdown",
   "metadata": {},
   "source": [
    "**Question 1. Create a list and populate it using 100 successive calls to `randint(0, 1)` in a `while` loop.**"
   ]
  },
  {
   "cell_type": "code",
   "execution_count": null,
   "metadata": {},
   "outputs": [],
   "source": [
    "from random import randint\n",
    "\n",
    "sequence = []\n",
    "i = 1\n",
    "while i <= 100:\n",
    "    sequence.append(randint(0, 1))\n",
    "    i = i + 1\n",
    "    \n",
    "print(sequence)"
   ]
  },
  {
   "cell_type": "markdown",
   "metadata": {},
   "source": [
    "## Length of a list"
   ]
  },
  {
   "cell_type": "markdown",
   "metadata": {},
   "source": [
    "* You can access the length of a list using `len`"
   ]
  },
  {
   "cell_type": "code",
   "execution_count": null,
   "metadata": {},
   "outputs": [],
   "source": [
    "sequence = [1, 2,34, \"Fahad\", \"Furman\"]\n",
    "len(sequence)"
   ]
  },
  {
   "cell_type": "markdown",
   "metadata": {},
   "source": [
    "## Accessing List Items"
   ]
  },
  {
   "cell_type": "markdown",
   "metadata": {},
   "source": [
    "* Items in a list are **indexed** from `0` to `len(list) - 1`\n",
    "\n",
    "    * The indexing is left to right in increasing order\n",
    "    \n",
    "    * The first item in the list is the first one appended and appears at index 0\n",
    "        \n",
    "        * Subsequent items can be accessed using indicies 1, 2, 3 and so on... \n",
    "\n",
    "* You can access items in a list by referring to the **index number** within square brackets"
   ]
  },
  {
   "cell_type": "code",
   "execution_count": null,
   "metadata": {},
   "outputs": [],
   "source": [
    "new_list = [\"furman\", \"at\", \"south\", \"carolina\"]\n",
    "\n",
    "new_list[len(new_list)-1]"
   ]
  },
  {
   "cell_type": "markdown",
   "metadata": {},
   "source": [
    "* If you try to **access an item** in the list using an **index `> len(list)-1`**\n",
    "\n",
    "    * `IndexError: list index out of range`"
   ]
  },
  {
   "cell_type": "code",
   "execution_count": null,
   "metadata": {},
   "outputs": [],
   "source": [
    "sequence = [0, 1, 0]\n",
    "\n",
    "sequence[4]"
   ]
  },
  {
   "cell_type": "markdown",
   "metadata": {},
   "source": [
    "## Remove List Item"
   ]
  },
  {
   "cell_type": "markdown",
   "metadata": {},
   "source": [
    "* An item in the list can be removed using `.pop()` \n",
    "\n",
    "   * Removes the item at the **highest index value** (right most item)\n",
    "    \n",
    "       * Removes from list and `returns` it \n",
    "       "
   ]
  },
  {
   "cell_type": "code",
   "execution_count": null,
   "metadata": {},
   "outputs": [
    {
     "name": "stdout",
     "output_type": "stream",
     "text": [
      "Help on built-in function pop:\n",
      "\n",
      "pop(index=-1, /) method of builtins.list instance\n",
      "    Remove and return item at index (default last).\n",
      "    \n",
      "    Raises IndexError if list is empty or index is out of range.\n",
      "\n"
     ]
    }
   ],
   "source": [
    "help(sequence.pop)"
   ]
  },
  {
   "cell_type": "code",
   "execution_count": null,
   "metadata": {},
   "outputs": [
    {
     "name": "stdout",
     "output_type": "stream",
     "text": [
      "['a', 'b']\n",
      "c\n"
     ]
    }
   ],
   "source": [
    "sequence = [\"a\", \"b\", \"c\"]\n",
    "\n",
    "removed_item = sequence.pop()\n",
    "\n",
    "print(sequence)\n",
    "\n",
    "print(removed_item)"
   ]
  },
  {
   "cell_type": "markdown",
   "metadata": {},
   "source": [
    "* An alternative method to remove an item in the list is to use **`.remove(value)`**\n",
    "\n",
    "* **`.remove(value)`** takes as input `value`\n",
    "    * If `value` is present in the list, it is removed\n",
    "    * If `value` is not in the list, `ValueError` is raised\n",
    "    * If multiple occurences of `value` are present, **first occurence is removed**"
   ]
  },
  {
   "cell_type": "code",
   "execution_count": null,
   "metadata": {},
   "outputs": [
    {
     "name": "stdout",
     "output_type": "stream",
     "text": [
      "Help on built-in function remove:\n",
      "\n",
      "remove(value, /) method of builtins.list instance\n",
      "    Remove first occurrence of value.\n",
      "    \n",
      "    Raises ValueError if the value is not present.\n",
      "\n"
     ]
    }
   ],
   "source": [
    "help(sequence.remove)"
   ]
  },
  {
   "cell_type": "code",
   "execution_count": null,
   "metadata": {},
   "outputs": [
    {
     "name": "stdout",
     "output_type": "stream",
     "text": [
      "[2, 3, 4, 1]\n",
      "None None\n"
     ]
    }
   ],
   "source": [
    "sequence = [1, 2, 3, 4, 1]\n",
    "\n",
    "x = sequence.remove(1)\n",
    "\n",
    "print(sequence)\n",
    "\n",
    "y = sequence.remove(1)\n",
    "\n",
    "print(x, y)"
   ]
  },
  {
   "cell_type": "markdown",
   "metadata": {},
   "source": [
    "## Change Item Value\n",
    "\n",
    "To **change the value** at a particular index, use square brackets with index number `sequence[index]` and assignment operator `=`"
   ]
  },
  {
   "cell_type": "code",
   "execution_count": null,
   "metadata": {},
   "outputs": [
    {
     "name": "stdout",
     "output_type": "stream",
     "text": [
      "['north', 'carolina']\n",
      "['north', 'dakota']\n",
      "['north', 'dakota', 'state']\n"
     ]
    }
   ],
   "source": [
    "sequence = ['south', 'carolina']\n",
    "sequence[0] = \"north\"\n",
    "print(sequence)\n",
    "sequence[1] = \"dakota\"\n",
    "print(sequence)\n",
    "sequence.append(\"state\")\n",
    "print(sequence)"
   ]
  },
  {
   "cell_type": "markdown",
   "metadata": {},
   "source": [
    "* Note again that you can only change existing values in the list \n",
    "    * That were either appending using `append` or \n",
    "    * Were part of the list during initialization\n",
    "    \n",
    "    \n",
    "* You cannot **add** a new item to the list using `sequence[index] = new_item`\n",
    "\n",
    "\n",
    "* The index must be within range `0` to `len(list)-1`"
   ]
  },
  {
   "cell_type": "code",
   "execution_count": null,
   "metadata": {},
   "outputs": [],
   "source": [
    "sequence = ['a', 'b']\n",
    "\n",
    "sequence[  = 'c'"
   ]
  },
  {
   "cell_type": "code",
   "execution_count": null,
   "metadata": {},
   "outputs": [],
   "source": [
    "rainbow = [\"Red\", \"Orange\", \"Yellow\", \"Green\", \"Blue\", \"Indigo\", \"Violet\"]"
   ]
  },
  {
   "cell_type": "markdown",
   "metadata": {},
   "source": [
    "<img src=\"https://i.ibb.co/GJkSBQ7/Screen-Shot-2022-10-27-at-1-21-19-PM.png\">"
   ]
  },
  {
   "cell_type": "markdown",
   "metadata": {},
   "source": [
    "## Slicing"
   ]
  },
  {
   "cell_type": "markdown",
   "metadata": {},
   "source": [
    "* **Slicing** allows accessing a sublist within a list\n",
    "    * Think of it as grabbing a slice of pizza/pie/bread\n",
    "\n",
    "* You can slice a list using a **range of indices** that specify where to **start** and where to **end** the slice \n",
    "    * Syntax: **`list_variable[start:end]`** where start and end are indices. \n",
    "    * Indices are **always integers**!\n",
    "    * Starting index is **included**. Ending index is **excluded**. "
   ]
  },
  {
   "cell_type": "markdown",
   "metadata": {},
   "source": [
    "* When slicing a list, the **return value will be the new _list_** with the relevant items."
   ]
  },
  {
   "cell_type": "code",
   "execution_count": null,
   "metadata": {},
   "outputs": [
    {
     "name": "stdout",
     "output_type": "stream",
     "text": [
      "['Red', 'Orange']\n"
     ]
    }
   ],
   "source": [
    "rainbow = [\"Red\", \"Orange\", \"Yellow\", \"Green\", \"Blue\", \"Indigo\", \"Violet\"]\n",
    "print(rainbow[0: 2])"
   ]
  },
  {
   "cell_type": "markdown",
   "metadata": {},
   "source": [
    "<center><img width=1000 src=\"https://i.ibb.co/mC5fhS5/Screen-Shot-2022-10-27-at-1-43-54-PM.png\" /></center>"
   ]
  },
  {
   "cell_type": "markdown",
   "metadata": {},
   "source": [
    "* When `start` index is not explicitly stated in slicing, the default value is 0"
   ]
  },
  {
   "cell_type": "code",
   "execution_count": null,
   "metadata": {},
   "outputs": [
    {
     "name": "stdout",
     "output_type": "stream",
     "text": [
      "['Red', 'Orange', 'Yellow', 'Green']\n",
      "['Red', 'Orange', 'Yellow', 'Green', 'Blue', 'Indigo', 'Violet']\n"
     ]
    }
   ],
   "source": [
    "print(rainbow[:4])\n",
    "\n",
    "print(rainbow)"
   ]
  },
  {
   "cell_type": "markdown",
   "metadata": {},
   "source": [
    "<center><img width=\"1000\" src=\"https://i.ibb.co/VNYGKyt/Screen-Shot-2022-10-27-at-5-56-57-PM.png\"></center>"
   ]
  },
  {
   "cell_type": "markdown",
   "metadata": {},
   "source": [
    "* When `end` index is not explicitly stated in slicing, the default value is `len(list)`"
   ]
  },
  {
   "cell_type": "code",
   "execution_count": null,
   "metadata": {},
   "outputs": [
    {
     "name": "stdout",
     "output_type": "stream",
     "text": [
      "['Green', 'Blue', 'Indigo', 'Violet']\n",
      "True\n"
     ]
    }
   ],
   "source": [
    "print(rainbow[3:])\n",
    "\n",
    "print(rainbow[3:len(rainbow)]==rainbow[3:])"
   ]
  },
  {
   "cell_type": "markdown",
   "metadata": {},
   "source": [
    "<center><img width=1000 src=\"https://i.ibb.co/0jWbzPW/Screen-Shot-2022-10-27-at-5-57-13-PM.png\"></center>"
   ]
  },
  {
   "cell_type": "markdown",
   "metadata": {},
   "source": [
    "* `start` index has default value `0`\n",
    "* `end`   index has default value `len(list)`"
   ]
  },
  {
   "cell_type": "code",
   "execution_count": null,
   "metadata": {},
   "outputs": [
    {
     "name": "stdout",
     "output_type": "stream",
     "text": [
      "['Red', 'Orange', 'Yellow', 'Green', 'Blue', 'Indigo', 'Violet']\n",
      "True\n"
     ]
    }
   ],
   "source": [
    "print(rainbow[:])\n",
    "print(rainbow[:] == rainbow[0:len(rainbow)])"
   ]
  },
  {
   "cell_type": "markdown",
   "metadata": {},
   "source": [
    "<img src=\"https://i.ibb.co/zmJpbHD/Screen-Shot-2022-10-27-at-6-07-40-PM.png\">"
   ]
  },
  {
   "cell_type": "markdown",
   "metadata": {},
   "source": [
    "* <span style=\"color:red\">**When slicing, any indices  `>= len(list)` will _NOT_ result in `IndexError`**</span>"
   ]
  },
  {
   "cell_type": "code",
   "execution_count": null,
   "metadata": {},
   "outputs": [
    {
     "data": {
      "text/plain": [
       "['Orange', 'Yellow', 'Green', 'Blue', 'Indigo', 'Violet']"
      ]
     },
     "metadata": {},
     "output_type": "display_data"
    }
   ],
   "source": [
    "rainbow[1:9]"
   ]
  },
  {
   "cell_type": "markdown",
   "metadata": {},
   "source": [
    "## Negative indices"
   ]
  },
  {
   "cell_type": "markdown",
   "metadata": {},
   "source": [
    "* **Negative indices** allow accessing items in the **opposite direction**\n",
    "\n",
    "* _Largest_ negative index is `-1` which refers to the last item, `-2` refers to the second last item and so on.."
   ]
  },
  {
   "cell_type": "code",
   "execution_count": null,
   "metadata": {},
   "outputs": [
    {
     "data": {
      "text/plain": [
       "['Red', 'Orange', 'Yellow', 'Green', 'Blue', 'Indigo', 'Violet']"
      ]
     },
     "metadata": {},
     "output_type": "display_data"
    }
   ],
   "source": [
    "rainbow[-8:]"
   ]
  },
  {
   "cell_type": "code",
   "execution_count": null,
   "metadata": {},
   "outputs": [
    {
     "data": {
      "text/plain": [
       "True"
      ]
     },
     "metadata": {},
     "output_type": "display_data"
    }
   ],
   "source": [
    "rainbow[-3] == rainbow[4]\n",
    "\n",
    "rainbow[0] == rainbow[-1*len(rainbow)]"
   ]
  },
  {
   "cell_type": "markdown",
   "metadata": {},
   "source": [
    "<img src=\"https://i.ibb.co/Pw1gsgW/Screen-Shot-2022-10-27-at-10-17-05-PM.png\">"
   ]
  },
  {
   "cell_type": "markdown",
   "metadata": {},
   "source": [
    "* **Slicing** with **negative indices** works in the **same direction** as when slicing with positive indices"
   ]
  },
  {
   "cell_type": "code",
   "execution_count": null,
   "metadata": {},
   "outputs": [
    {
     "data": {
      "text/plain": [
       "['Red', 'Orange', 'Yellow', 'Green']"
      ]
     },
     "metadata": {},
     "output_type": "display_data"
    }
   ],
   "source": [
    "rainbow[-7: 4]"
   ]
  },
  {
   "cell_type": "markdown",
   "metadata": {},
   "source": [
    "<img src=\"https://i.ibb.co/dGwY4LG/Screen-Shot-2022-10-27-at-11-49-37-PM.png\">"
   ]
  },
  {
   "cell_type": "markdown",
   "metadata": {},
   "source": [
    "## Matrices (Nested Lists)"
   ]
  },
  {
   "cell_type": "code",
   "execution_count": null,
   "metadata": {},
   "outputs": [
    {
     "data": {
      "text/plain": [
       "True"
      ]
     },
     "metadata": {},
     "output_type": "display_data"
    }
   ],
   "source": [
    "colors_matrix = [ [\"Red\", \"Orange\", \"Maroon\"],\\\n",
    "                 [\"Blue\", \"Indigo\", \"Violet\"],\\\n",
    "                 [\"Green\", \"Lime\", \"Olive\"] ]\n",
    "\n",
    "first_row = colors_matrix[0]\n",
    "first_item = first_row[0]\n",
    "\n",
    "first_item==colors_matrix[0][0]#, colors_matrix[1][0], colors_matrix[2][0]"
   ]
  },
  {
   "cell_type": "markdown",
   "metadata": {},
   "source": [
    "<center><img width=\"700\" src=\"https://i.ibb.co/syWsKkS/matrix.png\"></center>"
   ]
  },
  {
   "cell_type": "code",
   "execution_count": null,
   "metadata": {},
   "outputs": [
    {
     "data": {
      "text/plain": [
       "['Red', 'Orange', 'Maroon']"
      ]
     },
     "metadata": {},
     "output_type": "display_data"
    }
   ],
   "source": [
    "colors_matrix = [ [\"Red\", \"Orange\", \"Maroon\"], [\"Blue\", \"Indigo\", \"Violet\"], [\"Green\", \"Lime\", \"Olive\"]]\n",
    "colors_matrix[0]"
   ]
  },
  {
   "cell_type": "markdown",
   "metadata": {},
   "source": [
    "<center><img width=800 src=\"https://i.ibb.co/dPH1yn6/matrix1.png\" /></center>"
   ]
  },
  {
   "cell_type": "code",
   "execution_count": null,
   "metadata": {},
   "outputs": [
    {
     "data": {
      "text/plain": [
       "NoneType"
      ]
     },
     "metadata": {},
     "output_type": "display_data"
    }
   ],
   "source": [
    "colors_matrix = [ [\"Red\", \"Orange\", \"Maroon\"], None,\\\n",
    "                 [\"Blue\", \"Indigo\", \"Violet\"], [\"Green\", \"Lime\", \"Olive\"], \\\n",
    "                True, 8.0, 99]\n",
    "type(colors_matrix[1])"
   ]
  },
  {
   "cell_type": "markdown",
   "metadata": {},
   "source": [
    "<center><img width=\"800\" src=\"https://i.ibb.co/jR0hnQ1/matrix2.png\"></center>"
   ]
  },
  {
   "cell_type": "markdown",
   "metadata": {},
   "source": [
    "##  Arguments (Inputs) of type `int`, `float`, `bool` and `str` are passed by value "
   ]
  },
  {
   "cell_type": "markdown",
   "metadata": {},
   "source": [
    "* Arguments (Inputs) to a function, of type `int`, `float`, `bool` and `str`, are passed by value\n",
    "\n",
    "\n",
    "* This means the input/arguments variables inside of a function are **copies** of variables from the caller. \n",
    "\n",
    "\n",
    "* Thus changing value of variables of these types inside a function does not change their values on the caller's end. "
   ]
  },
  {
   "cell_type": "code",
   "execution_count": null,
   "metadata": {},
   "outputs": [
    {
     "name": "stdout",
     "output_type": "stream",
     "text": [
      "Line 12 - Before function call x = 1\n",
      "Line 3 - Inside function and before updating, x = 1\n",
      "Line 7 - Inside function and after updating, x = 2\n",
      "Line 16 - After function call x = 1\n"
     ]
    }
   ],
   "source": [
    "def myfunc(x):\n",
    "\n",
    "    print(\"Line 3 - Inside function and before updating, x =\", x)\n",
    "    \n",
    "    x = x + 1\n",
    "    \n",
    "    print(\"Line 7 - Inside function and after updating, x =\", x)\n",
    "\n",
    "\n",
    "x = 1\n",
    "\n",
    "print(\"Line 12 - Before function call x =\", x)\n",
    "\n",
    "myfunc(x)\n",
    "\n",
    "print(\"Line 16 - After function call x =\", x)"
   ]
  },
  {
   "cell_type": "markdown",
   "metadata": {},
   "source": [
    "## Lists passed to Functions by Reference "
   ]
  },
  {
   "cell_type": "markdown",
   "metadata": {},
   "source": [
    "* Variables of type `list` passed to functions are **_NOT_ passed by value** but **by Reference**\n",
    "\n",
    "* This means the input/arguments variables inside of a function are **_NOT_ copies** of variables from the caller\n",
    "\n",
    "* **_Changing value of list variables inside a function also changes their values on the caller's end._**"
   ]
  },
  {
   "cell_type": "markdown",
   "metadata": {},
   "source": [
    "<center><img width=\"700\" src=\"http://www.differencebetween.info/sites/default/files/images_articles_d7_1/call-by-value-and-call-by-reference1.gif\"></center>"
   ]
  },
  {
   "cell_type": "code",
   "execution_count": null,
   "metadata": {},
   "outputs": [
    {
     "name": "stdout",
     "output_type": "stream",
     "text": [
      "2\n"
     ]
    }
   ],
   "source": [
    "\"\"\"Passed by value: \n",
    "Integers, Booleans, Floats, \n",
    "\"\"\"\n",
    "def func(val):\n",
    "    val = 10\n",
    "    \n",
    "val = 2\n",
    "func(val)\n",
    "print(val)"
   ]
  },
  {
   "cell_type": "code",
   "execution_count": null,
   "metadata": {},
   "outputs": [
    {
     "name": "stdout",
     "output_type": "stream",
     "text": [
      "[1, 2, 3, 10]\n"
     ]
    }
   ],
   "source": [
    "\"\"\"Passed by reference\"\"\"\n",
    "def func(list_input):\n",
    "    list_input.append(10)\n",
    "    \n",
    "my_list = [1, 2, 3]\n",
    "func(my_list)\n",
    "print(my_list)"
   ]
  },
  {
   "cell_type": "markdown",
   "metadata": {},
   "source": [
    "## Concatenating lists using `+`"
   ]
  },
  {
   "cell_type": "markdown",
   "metadata": {},
   "source": [
    "* Multiple lists can be concatenated using the `+` operator in Python\n",
    "\n",
    "* The `list1 + list2` performs the following operations in this order: \n",
    "1. Creates a new empty list for output\n",
    "    * Operands lists remain unchanged\n",
    "2. Appends all items of list1 in the newly created list\n",
    "3. Appends all items of list2 in the newly created list\n",
    "\n"
   ]
  },
  {
   "cell_type": "code",
   "execution_count": null,
   "metadata": {},
   "outputs": [
    {
     "data": {
      "text/plain": [
       "[1, 3, 2, 4]"
      ]
     },
     "metadata": {},
     "output_type": "display_data"
    }
   ],
   "source": [
    "[1, 3] + [2, 4]"
   ]
  },
  {
   "cell_type": "code",
   "execution_count": null,
   "metadata": {},
   "outputs": [
    {
     "data": {
      "text/plain": [
       "[1, 2, 3, 4, 5, 6, 7, 8, 9]"
      ]
     },
     "metadata": {},
     "output_type": "display_data"
    }
   ],
   "source": [
    "([1, 2, 3] + [4, 5, 6]) + [7, 8, 9]"
   ]
  },
  {
   "cell_type": "markdown",
   "metadata": {},
   "source": [
    "## Multiplying lists using `*`\n",
    "\n",
    "* When a list is multiplied with a integer, say `x`, the list is concantenated to itself `x` times. "
   ]
  },
  {
   "cell_type": "code",
   "execution_count": null,
   "metadata": {},
   "outputs": [
    {
     "data": {
      "text/plain": [
       "[1, 2, 3, 1, 2, 3, 1, 2, 3]"
      ]
     },
     "metadata": {},
     "output_type": "display_data"
    }
   ],
   "source": [
    "[1, 2, 3] * 3"
   ]
  },
  {
   "cell_type": "markdown",
   "metadata": {},
   "source": [
    "* Multiplication of lists with negative numbers results in empty lists \n",
    "\n",
    "* Multiplication with floating point numbers not allowed"
   ]
  },
  {
   "cell_type": "code",
   "execution_count": null,
   "metadata": {},
   "outputs": [],
   "source": []
  },
  {
   "cell_type": "markdown",
   "metadata": {},
   "source": [
    "## Operators not allowed with lists"
   ]
  },
  {
   "cell_type": "markdown",
   "metadata": {},
   "source": [
    "* Python operations **not allowed** with lists (neither between **two or more lists** nor between **list and numeric data types**): \n",
    "    \n",
    "  * Subtraction `-`\n",
    "  * Division (`/`)\n",
    "  * Modulus (`%`)\n",
    "  * Floor Division (`//`)\n",
    "  * Exponential (`**`)"
   ]
  },
  {
   "cell_type": "markdown",
   "metadata": {},
   "source": [
    "## Recall `[] == False`"
   ]
  },
  {
   "cell_type": "code",
   "execution_count": null,
   "metadata": {},
   "outputs": [
    {
     "data": {
      "text/plain": [
       "(False, False, False, False, True, True)"
      ]
     },
     "metadata": {},
     "output_type": "display_data"
    }
   ],
   "source": [
    "bool(None), bool(0), bool([]), bool(\"\"), bool(\" \"), bool(\"a\")"
   ]
  },
  {
   "cell_type": "code",
   "execution_count": null,
   "metadata": {},
   "outputs": [
    {
     "name": "stdout",
     "output_type": "stream",
     "text": [
      "b\n"
     ]
    }
   ],
   "source": [
    "if []:\n",
    "    print('a')\n",
    "else:\n",
    "    print('b')"
   ]
  },
  {
   "cell_type": "markdown",
   "metadata": {},
   "source": [
    "Implement `csc105_min` which takes as input a list `x` and returns the minimum value within x.\n",
    "\n",
    "**Using built-in functions not allowed**"
   ]
  },
  {
   "cell_type": "code",
   "execution_count": null,
   "metadata": {},
   "outputs": [],
   "source": [
    "def csc105_min(x):\n",
    "    \n",
    "    return min_value\n",
    "\n",
    "assert csc105_min([9, 8, 7, 0, 10]) == 0,    \"Test case 1 failed\"\n",
    "assert csc105_min([])               == None, \"Test case 2 failed\"\n",
    "assert csc105_min([1])              == 1,    \"Test case 3 failed\"\n",
    "assert csc105_min([-99, 0, 99])     == -99,  \"Test case 4 failed\"\n",
    "assert csc105_min([0, None, 99])    == 0,  \"Test case 4 failed\""
   ]
  }
 ],
 "metadata": {
  "language_info": {
   "name": "python"
  },
  "orig_nbformat": 4
 },
 "nbformat": 4,
 "nbformat_minor": 2
}
