{
 "cells": [
  {
   "attachments": {},
   "cell_type": "markdown",
   "id": "e7f57c96",
   "metadata": {
    "slideshow": {
     "slide_type": "slide"
    }
   },
   "source": [
    "# Native Data Structures"
   ]
  },
  {
   "cell_type": "markdown",
   "id": "d0018f66",
   "metadata": {},
   "source": [
    "* So far, we have only worked with **elementary data types** in Python: \n",
    "    * Integer\n",
    "    * Float\n",
    "    * Booleans\n",
    "    * Strings\n",
    "    * None\n",
    "    \n",
    "* Variables of elementary data types **hold a single value** at a time. "
   ]
  },
  {
   "cell_type": "markdown",
   "id": "23d13dc4",
   "metadata": {
    "slideshow": {
     "slide_type": "slide"
    }
   },
   "source": [
    "* Data Structures, as the same suggests, are structures designed for organizing, processing, manipulating, retrieving and storing Data \n",
    "\n",
    "\n",
    "* Most programming languages provide a set of native data structures to: \n",
    "    1. Facilitate commmon programming tasks\n",
    "    2. Improve programming efficiency for the programmer\n",
    "    3. Improve time and memory efficiency through optimized internal implementations\n",
    "\n",
    "\n",
    "* Python's native data structures that we'll cover in this class will include: \n",
    "    * Lists \n",
    "    * Sets \n",
    "    * Tuples\n",
    "    * Dictionaries\n",
    "    "
   ]
  },
  {
   "cell_type": "markdown",
   "id": "1f34ff21",
   "metadata": {
    "slideshow": {
     "slide_type": "slide"
    }
   },
   "source": [
    "* We will cover our first **Data Structure** in this lecture: **Lists** \n",
    "\n",
    "\n",
    "* Lists are used to store **multiple values** in a single variable.\n",
    "\n",
    "\n",
    "* List items are: \n",
    "    * Ordered\n",
    "    * Changeable\n",
    "    * Allow duplicate values\n",
    "    \n",
    "    \n",
    "* List items can be of **any type**: `int`, `float`, `bool`, `str`"
   ]
  },
  {
   "cell_type": "code",
   "execution_count": null,
   "id": "51ad527d",
   "metadata": {},
   "outputs": [],
   "source": []
  }
 ],
 "metadata": {
  "celltoolbar": "Slideshow",
  "kernelspec": {
   "display_name": "Python 3 (ipykernel)",
   "language": "python",
   "name": "python3"
  },
  "language_info": {
   "codemirror_mode": {
    "name": "ipython",
    "version": 3
   },
   "file_extension": ".py",
   "mimetype": "text/x-python",
   "name": "python",
   "nbconvert_exporter": "python",
   "pygments_lexer": "ipython3",
   "version": "3.9.12"
  }
 },
 "nbformat": 4,
 "nbformat_minor": 5
}
