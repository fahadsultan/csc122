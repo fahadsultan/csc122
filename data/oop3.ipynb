{
 "cells": [
  {
   "attachments": {},
   "cell_type": "markdown",
   "metadata": {},
   "source": [
    "# Classes and methods"
   ]
  },
  {
   "attachments": {},
   "cell_type": "markdown",
   "metadata": {},
   "source": [
    "## Object-oriented features\n",
    "\n",
    "Python is an object-oriented programming language, which means that it provides features that support **object-oriented programming**.\n",
    "\n",
    "It is not easy to define object-oriented programming, but we have already seen some of its characteristics:\n",
    "\n",
    "1. Programs are made up of object definitions and function definitions, and most of the computation is expressed in terms of operations on objects.\n",
    "\n",
    "2. Each object definition corresponds to some object or concept in the real world, and the functions that operate on that object correspond to the ways real-world objects interact.\n",
    "\n",
    "For example, the Time class defined in the Classes and functions chapter corresponds to the way people record the time of day, and the functions we defined correspond to the kinds of things people do with times. Similarly, the `Point` and Rectangle classes correspond to the mathematical concepts of a point and a rectangle.\n",
    "\n",
    "So far, we have not taken advantage of the features Python provides to support object-oriented programming. Strictly speaking, these features are not necessary. For the most part, they provide an alternative syntax for things we have already done, but in many cases, the alternative is more concise and more accurately conveys the structure of the program.\n",
    "\n",
    "For example, in the Time program, there is no obvious connection between the class definition and the function definitions that follow. With some examination, it is apparent that every function takes at least one Time object as a parameter.\n",
    "\n",
    "This observation is the motivation for **methods**. We have already seen some methods, such as `keys` and `values`, which were invoked on dictionaries. Each method is associated with a class and is intended to be invoked on instances of that class.\n",
    "\n",
    "Methods are just like functions, with two differences:\n",
    "\n",
    "1. Methods are defined inside a class definition in order to make the relationship between the class and the method explicit.\n",
    "\n",
    "2. The syntax for invoking a method is different from the syntax for calling a function.\n",
    "\n",
    "In the next few sections, we will take the functions from previous chapters and transform them into methods. This transformation is purely mechanical; you can do it simply by following a sequence of steps. If you are comfortable converting from one form to another, you will be able to choose the best form for whatever you are doing.\n",
    "\n",
    "## `print_time`\n",
    "\n",
    "In the Classes and functions chapter, we defined a class named Time and you wrote a function named print_time, which should have looked something like this:\n",
    "\n",
    "```python\n",
    "class Time(object):\n",
    "    pass\n",
    "\n",
    "def print_time(time):\n",
    "    print(str(time.hours) + \":\" +\n",
    "          str(time.minutes) + \":\" +\n",
    "          str(time.seconds))\n",
    "```\n",
    "\n",
    "To call this function, we passed a Time object as a parameter:"
   ]
  },
  {
   "cell_type": "code",
   "execution_count": null,
   "metadata": {},
   "outputs": [],
   "source": [
    "current_time = Time()\n",
    "current_time.hours = 9\n",
    "current_time.minutes = 14\n",
    "current_time.seconds = 30\n",
    "print_time(current_time)"
   ]
  },
  {
   "attachments": {},
   "cell_type": "markdown",
   "metadata": {},
   "source": [
    "To make print_time a method, all we have to do is move the function definition inside the class definition. Notice the change in indentation.\n",
    "\n",
    "```python\n",
    "\n",
    "class Time(object):\n",
    "    def print_time(time):\n",
    "        print(str(time.hours) + \":\" +\n",
    "              str(time.minutes) + \":\" +\n",
    "              str(time.seconds))\n",
    "\n",
    "```\n",
    "\n",
    "Now we can invoke `print_time` using dot notation.\n",
    "\n",
    "```python\n",
    "current_time.print_time()\n",
    "```\n",
    "\n",
    "As usual, the object on which the method is invoked appears before the dot and the name of the method appears after the dot.\n",
    "\n",
    "The object on which the method is invoked is assigned to the first parameter, so in this case `current_time` is assigned to the parameter `time`.\n",
    "\n",
    "By convention, the first parameter of a method is called self. The reason for this is a little convoluted, but it is based on a useful metaphor.\n",
    "\n",
    "The syntax for a function call, `print_time(current_time)`, suggests that the function is the active agent. It says something like, Hey `print_time`! Here’s an object for you to print.\n",
    "\n",
    "In object-oriented programming, the objects are the active agents. An invocation like `current_time.print_time()` says Hey current_time! Please print yourself!\n",
    "\n",
    "This change in perspective might be more polite, but it is not obvious that it is useful. In the examples we have seen so far, it may not be. But sometimes shifting responsibility from the functions onto the objects makes it possible to write more versatile functions, and makes it easier to maintain and reuse code.\n",
    "\n",
    "## Another example\n",
    "\n",
    "Let’s convert `increment` to a method. To save space, we will leave out previously defined methods, but you should keep them in your version:\n",
    "\n",
    "```python\n",
    "class Time(object):\n",
    "    #previous method definitions here...\n",
    "\n",
    "    def increment(self, seconds):\n",
    "        self.seconds = seconds + self.seconds\n",
    "\n",
    "        while self.seconds >= 60:\n",
    "            self.seconds = self.seconds - 60\n",
    "            self.minutes = self.minutes + 1\n",
    "\n",
    "        while self.minutes >= 60:\n",
    "            self.minutes = self.minutes - 60\n",
    "            self.hours = self.hours + 1\n",
    "```\n",
    "\n",
    "The transformation is purely mechanical - we move the method definition into the class definition and change the name of the first parameter.\n",
    "\n",
    "Now we can invoke `increment` as a method.\n",
    "\n",
    "```python\n",
    "current_time.increment(500)\n",
    "```\n",
    "\n",
    "Again, the object on which the method is invoked gets assigned to the first parameter, `self`. The second parameter, `seconds` gets the value 500.\n",
    "\n",
    "## A more complicated example\n",
    "\n",
    "The `after` function is slightly more complicated because it operates on two `Time` objects, not just one. We can only convert one of the parameters to `self`; the other stays the same:\n",
    "\n",
    "```python\n",
    "class Time(object):\n",
    "    #previous method definitions here...\n",
    "\n",
    "    def after(self, time2):\n",
    "        if self.hour > time2.hour:\n",
    "            return True\n",
    "        if self.hour < time2.hour:\n",
    "            return False\n",
    "\n",
    "        if self.minute > time2.minute:\n",
    "            return True\n",
    "        if self.minute < time2.minute:\n",
    "            return False\n",
    "\n",
    "        if self.second > time2.second:\n",
    "            return True\n",
    "        return False\n",
    "```\n",
    "\n",
    "We invoke this method on one object and pass the other as an argument:\n",
    "\n",
    "```python\n",
    "if doneTime.after(current_time):\n",
    "    print(\"The bread will be done after it starts.\")\n",
    "```\n",
    "\n",
    "You can almost read the invocation like English: If the done-time is after the current-time, then…\n",
    "\n",
    "## Optional arguments\n",
    "\n",
    "We have seen built-in functions that take a variable number of arguments. For example, `string.find` can take two, three, or four arguments.\n",
    "\n",
    "It is possible to write user-defined functions with optional argument lists. For example, we can upgrade our own version of `find` to do the same thing as `string.find`.\n",
    "\n",
    "This is the original version:\n",
    "\n",
    "```python\n",
    "def find(str, ch):\n",
    "    index = 0\n",
    "    while index < len(str):\n",
    "        if str[index] == ch:\n",
    "            return index\n",
    "        index = index + 1\n",
    "    return -1\n",
    "```\n",
    "\n",
    "This is the new and improved version:\n",
    "\n",
    "```python\n",
    "def find(str, ch, start=0):\n",
    "    index = start\n",
    "    while index < len(str):\n",
    "        if str[index] == ch:\n",
    "            return index\n",
    "        index = index + 1\n",
    "    return -1\n",
    "```\n",
    "\n",
    "The third parameter, `start`, is optional because a default value, 0, is provided. If we invoke find with only two arguments, we use the default value and start from the beginning of the string:"
   ]
  },
  {
   "cell_type": "code",
   "execution_count": null,
   "metadata": {},
   "outputs": [],
   "source": [
    "find(\"apple\", \"p\")"
   ]
  },
  {
   "attachments": {},
   "cell_type": "markdown",
   "metadata": {},
   "source": [
    "If we provide a third parameter, it overrides the default:"
   ]
  },
  {
   "cell_type": "code",
   "execution_count": null,
   "metadata": {},
   "outputs": [],
   "source": [
    "find(\"apple\", \"p\", 2), find(\"apple\", \"p\", 3)"
   ]
  },
  {
   "attachments": {},
   "cell_type": "markdown",
   "metadata": {},
   "source": [
    "## The initialization method\n",
    "\n",
    "The **initialization method** is a special method that is invoked when an object is created. The name of this method is `__init__` (two underscore characters, followed by `init`, and then two more underscores). An initialization method for the Time class looks like this:"
   ]
  },
  {
   "cell_type": "code",
   "execution_count": null,
   "metadata": {},
   "outputs": [],
   "source": [
    "class Time(object):\n",
    "    def __init__(self, hours=0, minutes=0, seconds=0):\n",
    "        self.hours = hours\n",
    "        self.minutes = minutes\n",
    "        self.seconds = seconds"
   ]
  },
  {
   "attachments": {},
   "cell_type": "markdown",
   "metadata": {},
   "source": [
    "There is no conflict between the attribute `self.hours` and the parameter `hours`. Dot notation specifies which variable we are referring to.\n",
    "\n",
    "When we invoke the `Time` constructor, the arguments we provide are passed along to `init`:"
   ]
  },
  {
   "cell_type": "code",
   "execution_count": null,
   "metadata": {},
   "outputs": [],
   "source": [
    "current_time = Time(9, 14, 30)\n",
    "current_time.print_time()"
   ]
  },
  {
   "attachments": {},
   "cell_type": "markdown",
   "metadata": {},
   "source": [
    "Because the parameters are optional, we can omit them:"
   ]
  },
  {
   "cell_type": "code",
   "execution_count": null,
   "metadata": {},
   "outputs": [],
   "source": [
    "current_time = Time()\n",
    "current_time.print_time()"
   ]
  },
  {
   "attachments": {},
   "cell_type": "markdown",
   "metadata": {},
   "source": [
    "Or provide only the first parameter:"
   ]
  },
  {
   "cell_type": "code",
   "execution_count": null,
   "metadata": {},
   "outputs": [],
   "source": [
    "current_time = Time (9)\n",
    "current_time.print_time()"
   ]
  },
  {
   "attachments": {},
   "cell_type": "markdown",
   "metadata": {},
   "source": [
    "Or the first two parameters:"
   ]
  },
  {
   "cell_type": "code",
   "execution_count": null,
   "metadata": {},
   "outputs": [],
   "source": [
    "current_time = Time (9, 14)\n",
    "current_time.print_time()"
   ]
  },
  {
   "attachments": {},
   "cell_type": "markdown",
   "metadata": {},
   "source": [
    "Finally, we can provide a subset of the parameters by naming them explicitly:"
   ]
  },
  {
   "cell_type": "code",
   "execution_count": null,
   "metadata": {},
   "outputs": [],
   "source": [
    "current_time = Time(seconds = 30, hours = 9)\n",
    "current_time.print_time()"
   ]
  },
  {
   "attachments": {},
   "cell_type": "markdown",
   "metadata": {},
   "source": [
    "## Points revisited\n",
    "\n",
    "Let’s rewrite the `Point` class from the Dictionaries chapter in a more object- oriented style:"
   ]
  },
  {
   "cell_type": "code",
   "execution_count": null,
   "metadata": {},
   "outputs": [],
   "source": [
    "class Point(object):\n",
    "    def __init__(self, x=0, y=0):\n",
    "        self.x = x\n",
    "        self.y = y\n",
    "\n",
    "    def __str__(self):\n",
    "        return '(' + str(self.x) + ', ' + str(self.y) + ')'"
   ]
  },
  {
   "attachments": {},
   "cell_type": "markdown",
   "metadata": {},
   "source": [
    "The initialization method takes `x` and `y` values as optional parameters; the default for either parameter is 0.\n",
    "\n",
    "The next method, `__str__`, returns a string representation of a Point object. If a class provides a method named `__str__`, it overrides the default behavior of the Python built-in `str` function."
   ]
  },
  {
   "cell_type": "code",
   "execution_count": null,
   "metadata": {},
   "outputs": [],
   "source": [
    "p = Point(3, 4)\n",
    "str(p)"
   ]
  },
  {
   "attachments": {},
   "cell_type": "markdown",
   "metadata": {},
   "source": [
    "Printing a `Point` object implicitly invokes `__str__` on the object, so defining `__str__` also changes the behavior of print:"
   ]
  },
  {
   "cell_type": "code",
   "execution_count": null,
   "metadata": {},
   "outputs": [],
   "source": [
    "p = Point(3, 4)\n",
    "print(p)"
   ]
  },
  {
   "attachments": {},
   "cell_type": "markdown",
   "metadata": {},
   "source": [
    "When we write a new class, we almost always start by writing `__init__`, which makes it easier to instantiate objects, and `__str__`, which is almost always useful for debugging.\n",
    "\n",
    "## Operator overloading\n",
    "\n",
    "Some languages make it possible to change the definition of the built- in operators when they are applied to user-defined types. This feature is called **operator overloading**. It is especially useful when defining new mathematical types.\n",
    "\n",
    "For example, to override the addition operator +, we provide a method named `__add__`:"
   ]
  },
  {
   "attachments": {},
   "cell_type": "markdown",
   "metadata": {},
   "source": [
    "As usual, the first parameter is the object on which the method is invoked. The second parameter is conveniently named other to distinguish it from self. To add two Points, we create and return a new Point that contains the sum of the x coordinates and the sum of the y coordinates.\n",
    "\n",
    "Now, when we apply the + operator to Point objects, Python invokes `__add__`:"
   ]
  },
  {
   "cell_type": "code",
   "execution_count": null,
   "metadata": {},
   "outputs": [],
   "source": [
    "p1 = Point(3, 4)\n",
    "p2 = Point(5, 7)\n",
    "p3 = p1 + p2\n",
    "print(p3)"
   ]
  },
  {
   "attachments": {},
   "cell_type": "markdown",
   "metadata": {},
   "source": [
    "The expression p1 + p2 is equivalent to p1.__add__(p2), but obviously more elegant. As an exercise, add a method __sub__(self, other) that overloads the subtraction operator, and try it out. There are several ways to override the behavior of the multiplication operator: by defining a method named __mul__, or __rmul__, or both.\n",
    "\n",
    "If the left operand of * is a Point, Python invokes __mul__, which assumes that the other operand is also a Point. It computes the dot product of the two points, defined according to the rules of linear algebra:"
   ]
  },
  {
   "cell_type": "code",
   "execution_count": null,
   "metadata": {},
   "outputs": [],
   "source": [
    "def __mul__(self, other):\n",
    "    return self.x * other.x + self.y * other.y"
   ]
  },
  {
   "attachments": {},
   "cell_type": "markdown",
   "metadata": {},
   "source": [
    "If the left operand of * is a primitive type and the right operand is a Point, Python invokes __rmul__, which performs **scalar multiplication**:"
   ]
  },
  {
   "cell_type": "code",
   "execution_count": null,
   "metadata": {},
   "outputs": [],
   "source": [
    "def __rmul__(self, other):\n",
    "    return Point(other * self.x,  other * self.y)"
   ]
  },
  {
   "attachments": {},
   "cell_type": "markdown",
   "metadata": {},
   "source": [
    "The result is a new Point whose coordinates are a multiple of the original coordinates. If other is a type that cannot be multiplied by a floating-point number, then __rmul__ will yield an error.\n",
    "\n",
    "This example demonstrates both kinds of multiplication:"
   ]
  },
  {
   "cell_type": "code",
   "execution_count": null,
   "metadata": {},
   "outputs": [],
   "source": [
    "p1 = Point(3, 4)\n",
    "p2 = Point(5, 7)\n",
    "print(p1 * p2), print(2 * p2)"
   ]
  },
  {
   "attachments": {},
   "cell_type": "markdown",
   "metadata": {},
   "source": [
    "What happens if we try to evaluate p2 * 2? Since the first parameter is a Point, Python invokes __mul__ with 2 as the second argument. Inside __mul__, the program tries to access the x coordinate of other, which fails because an integer has no attributes:"
   ]
  },
  {
   "cell_type": "code",
   "execution_count": null,
   "metadata": {},
   "outputs": [],
   "source": [
    "print(p2 * 2)"
   ]
  },
  {
   "attachments": {},
   "cell_type": "markdown",
   "metadata": {},
   "source": [
    "Unfortunately, the error message is a bit opaque. This example demonstrates some of the difficulties of object-oriented programming. Sometimes it is hard enough just to figure out what code is running.\n",
    "\n",
    "For a more complete example of operator overloading, see Appendix (reference overloading).\n",
    "\n",
    "## Polymorphism\n",
    "\n",
    "Most of the methods we have written only work for a specific type. When you create a new object, you write methods that operate on that type.\n",
    "\n",
    "But there are certain operations that you will want to apply to many types, such as the arithmetic operations in the previous sections. If many types support the same set of operations, you can write functions that work on any of those types.\n",
    "\n",
    "For example, the `multadd` operation (which is common in linear algebra) takes three parameters; it multiplies the first two and then adds the third. We can write it in Python like this:"
   ]
  },
  {
   "cell_type": "code",
   "execution_count": null,
   "metadata": {},
   "outputs": [],
   "source": [
    "def multadd (x, y, z):\n",
    "    return x * y + z"
   ]
  },
  {
   "attachments": {},
   "cell_type": "markdown",
   "metadata": {},
   "source": [
    "This method will work for any values of x and y that can be multiplied and for any value of z that can be added to the product.\n",
    "\n",
    "We can invoke it with numeric values:"
   ]
  },
  {
   "cell_type": "code",
   "execution_count": null,
   "metadata": {},
   "outputs": [],
   "source": [
    "multadd (3, 2, 1)"
   ]
  },
  {
   "attachments": {},
   "cell_type": "markdown",
   "metadata": {},
   "source": [
    "Or with `Points`:"
   ]
  },
  {
   "cell_type": "code",
   "execution_count": null,
   "metadata": {},
   "outputs": [],
   "source": [
    "p1 = Point(3, 4)\n",
    "p2 = Point(5, 7)\n",
    "print(multadd (2, p1, p2)), print(multadd (p1, p2, 1))"
   ]
  },
  {
   "attachments": {},
   "cell_type": "markdown",
   "metadata": {},
   "source": [
    "In the first case, the `Point` is multiplied by a scalar and then added to another `Point`. In the second case, the dot product yields a numeric value, so the third parameter also has to be a numeric value.\n",
    "\n",
    "A function like this that can take parameters with different types is called **polymorphic**.\n",
    "\n",
    "As another example, consider the method `front_and_back`, which prints a list twice, forward and backward:"
   ]
  },
  {
   "cell_type": "code",
   "execution_count": null,
   "metadata": {},
   "outputs": [],
   "source": [
    "def front_and_back(front):\n",
    "    import copy\n",
    "    back = copy.copy(front)\n",
    "    back.reverse()\n",
    "    print(str(front) + str(back))"
   ]
  },
  {
   "attachments": {},
   "cell_type": "markdown",
   "metadata": {},
   "source": [
    "Because the `reverse` method is a modifier, we make a copy of the list before reversing it. That way, this method doesn’t modify the list it gets as a parameter.\n",
    "\n",
    "Here’s an example that applies `front_and_back` to a list:"
   ]
  },
  {
   "cell_type": "code",
   "execution_count": null,
   "metadata": {},
   "outputs": [],
   "source": [
    "myList = [1, 2, 3, 4]\n",
    "front_and_back(myList)"
   ]
  },
  {
   "attachments": {},
   "cell_type": "markdown",
   "metadata": {},
   "source": [
    "Of course, we intended to apply this function to lists, so it is not surprising that it works. What would be surprising is if we could apply it to a `Point`.\n",
    "\n",
    "To determine whether a function can be applied to a new type, we apply the fundamental rule of polymorphism: If all of the operations inside the function can be applied to the type, the function can be applied to the type. The operations in the method include `copy`, `reverse`, and `print`.\n",
    "\n",
    "`copy` works on any object, and we have already written a `__str__` method for `Points`, so all we need is a `reverse` method in the `Point` class:"
   ]
  },
  {
   "cell_type": "code",
   "execution_count": null,
   "metadata": {},
   "outputs": [],
   "source": [
    "def reverse(self):\n",
    "    self.x , self.y = self.y, self.x"
   ]
  },
  {
   "attachments": {},
   "cell_type": "markdown",
   "metadata": {},
   "source": [
    "Then we can pass `Points` to `front_and_back`:"
   ]
  },
  {
   "cell_type": "code",
   "execution_count": null,
   "metadata": {},
   "outputs": [],
   "source": [
    "p = Point(3, 4)\n",
    "front_and_back(p)"
   ]
  },
  {
   "attachments": {},
   "cell_type": "markdown",
   "metadata": {},
   "source": [
    "The best kind of polymorphism is the unintentional kind, where you discover that a function you have already written can be applied to a type for which you never planned."
   ]
  },
  {
   "attachments": {},
   "cell_type": "markdown",
   "metadata": {},
   "source": [
    "\n",
    "<hr/>\n",
    "\n",
    "## _Glossary_\n",
    "\n",
    "```{glossary}\n",
    "\n",
    "object-oriented language\n",
    "    A language that provides features, such as user-defined classes and inheritance, that facilitate object-oriented programming.\n",
    "\n",
    "object-oriented programming\n",
    "    A style of programming in which data and the operations that manipulate it are organized into classes and methods.\n",
    "\n",
    "method\n",
    "    A function that is defined inside a class definition and is invoked on instances of that class. :override:: To replace a default. Examples include replacing a default parameter with a particular argument and replacing a default method by providing a new method with the same name.\n",
    "\n",
    "initialization method\n",
    "    A special method that is invoked automatically when a new object is created and that initializes the object’s attributes.\n",
    "\n",
    "operator overloading\n",
    "    Extending built-in operators ( +, -, *, >, <, etc.) so that they work with user-defined types.\n",
    "\n",
    "dot product\n",
    "    An operation defined in linear algebra that multiplies two Points and yields a numeric value.\n",
    "\n",
    "scalar multiplication\n",
    "    An operation defined in linear algebra that multiplies each of the coordinates of a Point by a numeric value.\n",
    "\n",
    "polymorphic\n",
    "    A function that can operate on more than one type. If all the operations in a function can be applied to a type, then the function can be applied to a type.\n",
    "\n",
    "```\n",
    "\n",
    "## _Exercises_\n",
    "\n",
    "1. Convert the function `convertToSeconds`:\n",
    "\n",
    "```python\n",
    "def convertToSeconds(t):\n",
    "    minutes = t.hours * 60 + t.minutes\n",
    "    seconds = minutes * 60 + t.seconds\n",
    "    return seconds\n",
    "```\n",
    "\n",
    "to a method in the `Time` class.\n",
    "\n",
    "2. Add a fourth parameter, `end`, to the `find` function that specifies where to stop looking. Warning: This exercise is a bit tricky. The default value of `end` should be `len(str)`, but that doesn’t work. The default values are evaluated when the function is defined, not when it is called. When `find` is defined, `str` doesn’t exist yet, so you can’t find its length."
   ]
  }
 ],
 "metadata": {
  "language_info": {
   "name": "python"
  },
  "orig_nbformat": 4
 },
 "nbformat": 4,
 "nbformat_minor": 2
}
