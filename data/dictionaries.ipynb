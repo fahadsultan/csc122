{
 "cells": [
  {
   "cell_type": "code",
   "execution_count": null,
   "id": "662f97e6",
   "metadata": {},
   "outputs": [],
   "source": []
  },
  {
   "attachments": {},
   "cell_type": "markdown",
   "id": "cdb42283",
   "metadata": {
    "slideshow": {
     "slide_type": "slide"
    }
   },
   "source": [
    "# Dictionaries"
   ]
  },
  {
   "attachments": {},
   "cell_type": "markdown",
   "id": "12620755",
   "metadata": {
    "slideshow": {
     "slide_type": "slide"
    }
   },
   "source": [
    "## Question. Find Index of Minimum Value, <u> using `for` loops </u>\n",
    "\n",
    "Write a function `find_min` that accepts as input a list of integers and returns the **index** of the list item with the **minimum** value. \n",
    "\n"
   ]
  },
  {
   "cell_type": "code",
   "execution_count": null,
   "id": "40f0c9e6",
   "metadata": {},
   "outputs": [],
   "source": [
    "def find_min(numbers):\n",
    "    minimum = 1000\n",
    "    i = 0\n",
    "    for element in numbers:\n",
    "        if element < minimum:\n",
    "            minimum = element\n",
    "            min_index = i    \n",
    "        i = i + 1\n",
    "            \n",
    "    return min_index\n",
    "\n",
    "assert find_min([9, 5, 1]) == 2, \"Test case failed\"\n",
    "print(\"Test case passed successfully\")"
   ]
  },
  {
   "cell_type": "markdown",
   "id": "22428b02",
   "metadata": {
    "slideshow": {
     "slide_type": "slide"
    }
   },
   "source": [
    "# Tuple Assignment and `for` loops"
   ]
  },
  {
   "cell_type": "markdown",
   "id": "75b07da3",
   "metadata": {},
   "source": [
    "Recall, **from Lecture 10.3:**"
   ]
  },
  {
   "cell_type": "code",
   "execution_count": null,
   "id": "0333555c",
   "metadata": {},
   "outputs": [],
   "source": [
    "x, y = 1, 2\n",
    "x, y = y, x\n",
    "print(x, y)"
   ]
  },
  {
   "cell_type": "code",
   "execution_count": null,
   "id": "8630ec7c",
   "metadata": {},
   "outputs": [],
   "source": [
    "\"\"\"From Lab 12\"\"\"\n",
    "\n",
    "emojis = [('😀', \"Grinning Face\"),          ('😁', \"Beaming Face With Smiling Eyes\"), \n",
    "          ('😂', \"Face With Tears of Joy\"), ('🤣', \"Rolling on the Floor Laughing\")]\n",
    "\n",
    "for icon, desc in emojis:\n",
    "    print(desc)"
   ]
  },
  {
   "cell_type": "markdown",
   "id": "c4de95db",
   "metadata": {
    "slideshow": {
     "slide_type": "slide"
    }
   },
   "source": [
    "# Built-in `enumerate`\n",
    "\n",
    "* **Input =>** `list` or `set`, a `tuple` or a `str`\n",
    "\n",
    "* **Output =>** a List of Tuples:\\\n",
    "`[(idx0, val0),  ... ,( idx_len-1, val_len-1 ) ]`"
   ]
  },
  {
   "cell_type": "markdown",
   "id": "86cbd345",
   "metadata": {},
   "source": [
    "![list](https://i.ibb.co/GJkSBQ7/Screen-Shot-2022-10-27-at-1-21-19-PM.png)"
   ]
  },
  {
   "cell_type": "code",
   "execution_count": null,
   "id": "c100b42c",
   "metadata": {
    "slideshow": {
     "slide_type": "-"
    }
   },
   "outputs": [],
   "source": [
    "rainbow = [\"Red\", \"Orange\", \"Yellow\", \"Green\", \"Blue\", \"Indigo\", \"Violet\"]\n",
    "print(list(enumerate(rainbow)))"
   ]
  },
  {
   "cell_type": "markdown",
   "id": "69e57269",
   "metadata": {
    "slideshow": {
     "slide_type": "slide"
    }
   },
   "source": [
    "## `for` loops with `enumerate`"
   ]
  },
  {
   "cell_type": "markdown",
   "id": "96d2628b",
   "metadata": {},
   "source": [
    "**Problem**: Given a list `sequence` and a value `val`, find index of `val` in `sequence` if present; if not, else return `-1`"
   ]
  },
  {
   "cell_type": "code",
   "execution_count": null,
   "id": "00786630",
   "metadata": {
    "scrolled": true,
    "slideshow": {
     "slide_type": "-"
    }
   },
   "outputs": [],
   "source": [
    "def find_val(sequence, val): \n",
    "    \n",
    "    return val_idx\n",
    "\n",
    "assert find_val([1, 2, 3, 4, 5])        ==  0, \"Test case 1 failed\"\n",
    "assert find_val([\"a\", \"b\", \"c\", \"d\"]) ==  2, \"Test case 2 failed\"\n",
    "assert find_val([\"a\", \"b\"], \"c\")           == -1, \"Test case 3 failed\""
   ]
  },
  {
   "cell_type": "markdown",
   "id": "593dd954",
   "metadata": {
    "slideshow": {
     "slide_type": "slide"
    }
   },
   "source": [
    "# Question. Find Index of Minimum Value, <u> using for loops AND enumerate</u>\n",
    "\n",
    "Write a function `find_min` that accepts as input a list of integers and returns the **index** of the list item with the **minimum** value. "
   ]
  },
  {
   "cell_type": "code",
   "execution_count": null,
   "id": "61834f06",
   "metadata": {},
   "outputs": [],
   "source": [
    "def find_min(numbers):\n",
    "    minimum = 1000\n",
    "    enum = list(enumerate(numbers))\n",
    "    for idx, num in enum:\n",
    "        if num < minimum:\n",
    "            minimum = num\n",
    "            min_index = idx\n",
    "    return min_index\n",
    "\n",
    "assert find_min([7, 1, 2]) == 1, \"Test case failed\"\n",
    "print(\"Test case passed successfully\")"
   ]
  },
  {
   "cell_type": "markdown",
   "id": "db37e532",
   "metadata": {
    "slideshow": {
     "slide_type": "slide"
    }
   },
   "source": [
    "# Lecture 13.1. \n",
    "\n",
    "# Dictionaries\n",
    "\n",
    "# Friday, Nov 17"
   ]
  },
  {
   "cell_type": "markdown",
   "id": "7d9fe21d",
   "metadata": {
    "slideshow": {
     "slide_type": "slide"
    }
   },
   "source": [
    "\n",
    "* All of the indexed data structures we have studied so far — strings, lists, and tuples— are **sequence types**, which use **contiguous integers**, starting from 0, **as indices** to access the values they contain within them."
   ]
  },
  {
   "cell_type": "markdown",
   "id": "e58c24a3",
   "metadata": {},
   "source": [
    "<center><img width=1100 src=\"https://i.ibb.co/k6J59Nw/Screen-Shot-2022-11-17-at-11-01-06-PM.png\"></center>"
   ]
  },
  {
   "cell_type": "markdown",
   "id": "aa3f3e15",
   "metadata": {
    "slideshow": {
     "slide_type": "slide"
    }
   },
   "source": [
    "# Dictionaries\n",
    "\n",
    "* **Dictionaries** <u>_map_</u> **Keys** to **Values**\n",
    "\n",
    "* **Keys** can be any immutable type: `int`, `str`, `bool`, `float`, `tuples`\n",
    "\n",
    "* **Values** can be of <u>_any_</u> type\n"
   ]
  },
  {
   "cell_type": "markdown",
   "id": "b143a1bf",
   "metadata": {},
   "source": [
    "<img src=\"https://i.ibb.co/h1J1vpR/Screen-Shot-2022-11-17-at-11-28-01-AM.png\">"
   ]
  },
  {
   "cell_type": "markdown",
   "id": "3cab926c",
   "metadata": {
    "slideshow": {
     "slide_type": "slide"
    }
   },
   "source": [
    "<img src=\"https://i.ibb.co/ZxMVZd0/Screen-Shot-2022-11-17-at-1-06-23-PM.png\">"
   ]
  },
  {
   "cell_type": "markdown",
   "id": "4f431544",
   "metadata": {
    "slideshow": {
     "slide_type": "slide"
    }
   },
   "source": [
    "## Dictionaries vs. other Data Structures\n",
    "\n",
    "\n",
    "Type | Collection | Syntax | Ordered | Indexed | Mutable | Passed By | Duplicates Allowed \n",
    ":------------: | :-------------:|:-------------:|:-------------:|:-------------:| :-------------:| :-------------:|:-------------:\n",
    "`strings` | characters | `\"c1c2c3\"` | &check; |&check; | &cross; | value | &check;\n",
    "`list` | any data type | `[v1, v2.. vn]` | &check; |&check; |  &check; | reference | &check;\n",
    "`tuple` | any data type | `(v1, v2.. vn)` | &check; | &check; |  &cross; | value | &check;\n",
    "`set` | immutable types | `{v1, v2.. vn}` | &cross; | &cross; |  &cross; | value | &cross;\n",
    "**`dictionaries`** | **any data type*** | **`{k1:v1,k2:v2.. kn:vn}`** | **&cross;** | **&check;** |  **&check;** | **reference** | **&cross;****"
   ]
  },
  {
   "cell_type": "markdown",
   "id": "bd4e8ca6",
   "metadata": {},
   "source": [
    "\\* _**keys** can only be immutable type; **values** can be any data type_ \\\n",
    "\\** _**keys** can not be duplicate; **values** can be duplicate_"
   ]
  },
  {
   "cell_type": "markdown",
   "id": "bc0a73dc",
   "metadata": {
    "slideshow": {
     "slide_type": "slide"
    }
   },
   "source": [
    "## Dictionaries Syntax"
   ]
  },
  {
   "cell_type": "markdown",
   "id": "5bab98b7",
   "metadata": {},
   "source": [
    "* Use curly brackets `{}` to **initialize**\n",
    "\n",
    "* Use square brackets `[]` to:\n",
    "    * **insert** keys, and map values to them\n",
    "    * **access** values, using keys\n",
    "    * **update** key-value mappings\n",
    "    \n",
    "* The key-value pairs of a dictionary are seperated by commas `,`\n",
    "* Each pair contains a key and a value separated by a colon `:`"
   ]
  },
  {
   "cell_type": "code",
   "execution_count": null,
   "id": "e4064406",
   "metadata": {},
   "outputs": [],
   "source": [
    "dictionary = {\"key1\": \"value1\", \"key2\": \"value2\"}\n",
    "\n",
    "dictionary[\"value1\"]"
   ]
  },
  {
   "cell_type": "markdown",
   "id": "900b022e",
   "metadata": {
    "slideshow": {
     "slide_type": "slide"
    }
   },
   "source": [
    "# Creating Dictionaries, and Inserting Key-Value Pairs\n",
    "* One way to create a dictionary is to start with the empty dictionary and add key-value pairs. The empty dictionary is denoted `{}`:"
   ]
  },
  {
   "cell_type": "code",
   "execution_count": null,
   "id": "763daf64",
   "metadata": {},
   "outputs": [],
   "source": [
    "eng2sp        = {}     # a dictionary to translate English words into Spanish\n",
    "eng2sp['one'] = 'uno'  # adding a new key \"one\" and mapping the value \"uno\" to it\n",
    "eng2sp['two'] = 'dos'  # adding yet another key \"one\" and mapping the value \"dos\" to it\n",
    "print(eng2sp)"
   ]
  },
  {
   "cell_type": "markdown",
   "id": "da5749cd",
   "metadata": {},
   "source": [
    "* Similar to sets, the **order** of the pairs is **unpredictable**. \n",
    "\n",
    "* Another way to create a dictionary is to provide a list of key-value pairs using the same syntax as the previous output:\n"
   ]
  },
  {
   "cell_type": "code",
   "execution_count": null,
   "id": "fe2dd782",
   "metadata": {},
   "outputs": [],
   "source": [
    "eng2sp = {'one': 'uno', 'two': 'dos', 'three': 'tres'}\n",
    "print(eng2sp['three'])"
   ]
  },
  {
   "cell_type": "markdown",
   "id": "e0694303",
   "metadata": {
    "slideshow": {
     "slide_type": "slide"
    }
   },
   "source": [
    "# Accessing Values\n",
    "\n",
    "* The values in a dictionary are **<u><i>accessed with Keys, NOT with Indices</i></u>**. Hence, \n",
    "\n",
    "    * It doesn’t matter what order in which we write the pairs\n",
    "    * There is no need to worry about ordering.\n",
    "\n",
    "Here is how we use a key to look up the corresponding value:"
   ]
  },
  {
   "cell_type": "code",
   "execution_count": null,
   "id": "934e9070",
   "metadata": {},
   "outputs": [],
   "source": [
    "print(eng2sp['two'])  # The key 'two' yields the value 'dos'."
   ]
  },
  {
   "cell_type": "markdown",
   "id": "bf81ab33",
   "metadata": {
    "slideshow": {
     "slide_type": "slide"
    }
   },
   "source": [
    "# Deleting Key-Value Pairs\n",
    "\n",
    "* The `del` statement removes a key-value pair from a dictionary. \n",
    "\n"
   ]
  },
  {
   "cell_type": "code",
   "execution_count": null,
   "id": "1254e660",
   "metadata": {},
   "outputs": [],
   "source": [
    "eng2sp = {'one': 'uno', 'two': 'dos', 'three': 'tres'}\n",
    "\n",
    "print(eng2sp)\n",
    "\n",
    "del eng2sp['two']\n",
    "\n",
    "print(eng2sp)"
   ]
  },
  {
   "cell_type": "markdown",
   "id": "126b2724",
   "metadata": {
    "slideshow": {
     "slide_type": "slide"
    }
   },
   "source": [
    "# Change value associated with an existing key\n",
    "\n",
    "* Override previous value mapped to the key, using the assignment operator: "
   ]
  },
  {
   "cell_type": "code",
   "execution_count": null,
   "id": "cc8b834e",
   "metadata": {},
   "outputs": [],
   "source": [
    "eng2sp = {'one': 'uno', 'two': 'dos', 'three': 'tres'}\n",
    "\n",
    "eng2sp['three'] = 'uno más dos'\n",
    "\n",
    "print(eng2sp)"
   ]
  },
  {
   "cell_type": "markdown",
   "id": "af41e731",
   "metadata": {
    "slideshow": {
     "slide_type": "slide"
    }
   },
   "source": [
    "# Getting length of a Dictionary"
   ]
  },
  {
   "cell_type": "markdown",
   "id": "20c9a9aa",
   "metadata": {},
   "source": [
    "The `len` function also works on dictionaries; it returns the number of key-value pairs:"
   ]
  },
  {
   "cell_type": "code",
   "execution_count": null,
   "id": "912512fd",
   "metadata": {},
   "outputs": [],
   "source": [
    "eng2sp = {'one': 'uno', 'two': 'dos', 'three': 'tres'}\n",
    "\n",
    "len(eng2sp)"
   ]
  },
  {
   "cell_type": "markdown",
   "id": "9dbf5fe6",
   "metadata": {
    "slideshow": {
     "slide_type": "slide"
    }
   },
   "source": [
    "# Looping over Dictionaries"
   ]
  },
  {
   "cell_type": "markdown",
   "id": "03eb3848",
   "metadata": {},
   "source": [
    "* You can loop through a dictionary by using a `for` loop.\n",
    "\n",
    "* When looping through a dictionary, the **target variable** of the for loop is **set to `keys`** of the dictionary"
   ]
  },
  {
   "cell_type": "code",
   "execution_count": null,
   "id": "be617afd",
   "metadata": {},
   "outputs": [],
   "source": [
    "eng2sp = {'one': 'uno', 'two': 'dos', 'three': 'tres'}\n",
    "\n",
    "for key in eng2sp: \n",
    "    value = eng2sp[1]\n",
    "    print(key)"
   ]
  },
  {
   "cell_type": "markdown",
   "id": "a2261f60",
   "metadata": {
    "slideshow": {
     "slide_type": "slide"
    }
   },
   "source": [
    "# Dictionary methods\n",
    "\n",
    "* Dictionaries have a number of useful built-in methods.\n",
    "\n",
    "* As we saw earlier with `strings` and `lists`, dictionary **methods** use **dot notation**, which specifies the name of the method to the right of the dot and the name of the object on which to apply the method immediately to the left of the dot.\n",
    "\n",
    "**1.** `dictionary`**`.keys()`**\n",
    "\n",
    "* The `keys` method takes a dictionary and returns the **list of its keys**."
   ]
  },
  {
   "cell_type": "code",
   "execution_count": null,
   "id": "a3ba1595",
   "metadata": {},
   "outputs": [],
   "source": [
    "list(eng2sp.keys())"
   ]
  },
  {
   "cell_type": "markdown",
   "id": "a32ed512",
   "metadata": {},
   "source": [
    "**2.** `dictionary`**`.values()`**\n",
    "\n",
    "* The `values` method takes a dictionary and returns the **list of its values**."
   ]
  },
  {
   "cell_type": "code",
   "execution_count": null,
   "id": "24ebfa14",
   "metadata": {},
   "outputs": [],
   "source": [
    "list(eng2sp.values())"
   ]
  },
  {
   "cell_type": "markdown",
   "id": "239c9641",
   "metadata": {},
   "source": [
    "**3.** `dictionary`**`.items()`**\n",
    "\n",
    "* The `items` method takes a dictionary and returns the **list of key-value pairs**."
   ]
  },
  {
   "cell_type": "code",
   "execution_count": null,
   "id": "47f1d1a2",
   "metadata": {},
   "outputs": [],
   "source": [
    "list(eng2sp.items())"
   ]
  },
  {
   "cell_type": "markdown",
   "id": "1597f1a2",
   "metadata": {
    "slideshow": {
     "slide_type": "slide"
    }
   },
   "source": [
    "# Membership operator `in` with Dictionaries"
   ]
  },
  {
   "cell_type": "markdown",
   "id": "dc63a746",
   "metadata": {},
   "source": [
    "* The `in` operator checks if **<u>a Key</u>** (_NOT VALUE_) **exists** in the dictionary \n",
    "    * returns `True` if the key is present in the dictionary and `False` otherwise"
   ]
  },
  {
   "cell_type": "code",
   "execution_count": null,
   "id": "d484fd94",
   "metadata": {},
   "outputs": [],
   "source": [
    "eng2sp = {'one': 'uno', 'two': 'dos', 'three': 'tres'}\n",
    "\n",
    "\n",
    "'one' in eng2sp"
   ]
  },
  {
   "cell_type": "code",
   "execution_count": null,
   "id": "c43ab914",
   "metadata": {},
   "outputs": [],
   "source": [
    "'deux' in eng2sp"
   ]
  },
  {
   "cell_type": "markdown",
   "id": "f40de7b9",
   "metadata": {},
   "source": [
    "* This method can be very useful, since looking up a non-existant key in a dictionary causes a runtime error:"
   ]
  },
  {
   "cell_type": "code",
   "execution_count": null,
   "id": "38df7dd5",
   "metadata": {},
   "outputs": [],
   "source": [
    "eng2esp['dog']"
   ]
  },
  {
   "cell_type": "markdown",
   "id": "c764df24",
   "metadata": {
    "slideshow": {
     "slide_type": "slide"
    }
   },
   "source": [
    "# Aliasing and copying\n",
    "* Because dictionaries are mutable, you need to be aware of aliasing. \n",
    "\n",
    "* Whenever two variables refer to the same object, changes to one affect the other.\n",
    "\n",
    "If you want to modify a dictionary and keep a copy of the original, use the copy method. For example, opposites is a dictionary that contains pairs of opposites:"
   ]
  },
  {
   "cell_type": "code",
   "execution_count": null,
   "id": "b06f8771",
   "metadata": {},
   "outputs": [],
   "source": [
    "opposites = {'up': 'down', 'right': 'wrong', 'true': 'false'}\n",
    "alias = opposites\n",
    "copy = opposites.copy()"
   ]
  },
  {
   "cell_type": "code",
   "execution_count": null,
   "id": "fe9b005e",
   "metadata": {},
   "outputs": [],
   "source": [
    "alias['right'] = 'left'\n",
    "opposites['right']"
   ]
  },
  {
   "cell_type": "markdown",
   "id": "70a06df3",
   "metadata": {},
   "source": [
    "* If we modify copy, opposites is unchanged:"
   ]
  },
  {
   "cell_type": "code",
   "execution_count": null,
   "id": "53223b05",
   "metadata": {},
   "outputs": [],
   "source": [
    "copy['right'] = 'privilege'\n",
    "opposites['right']"
   ]
  },
  {
   "cell_type": "code",
   "execution_count": null,
   "id": "d75bc3c5",
   "metadata": {},
   "outputs": [],
   "source": []
  },
  {
   "cell_type": "markdown",
   "id": "0565d95f",
   "metadata": {},
   "source": []
  },
  {
   "cell_type": "markdown",
   "id": "0380f0e0",
   "metadata": {},
   "source": []
  },
  {
   "cell_type": "markdown",
   "id": "0e87b50a",
   "metadata": {},
   "source": []
  },
  {
   "cell_type": "markdown",
   "id": "aa21dc08",
   "metadata": {},
   "source": []
  },
  {
   "cell_type": "markdown",
   "id": "9a55e4d6",
   "metadata": {},
   "source": []
  },
  {
   "cell_type": "code",
   "execution_count": null,
   "id": "35b6744f",
   "metadata": {},
   "outputs": [],
   "source": []
  },
  {
   "cell_type": "markdown",
   "id": "c656b50e",
   "metadata": {},
   "source": []
  },
  {
   "cell_type": "markdown",
   "id": "781c7e07",
   "metadata": {},
   "source": []
  },
  {
   "cell_type": "code",
   "execution_count": null,
   "id": "f6e3dffa",
   "metadata": {},
   "outputs": [],
   "source": []
  },
  {
   "cell_type": "markdown",
   "id": "67fd3f40",
   "metadata": {},
   "source": []
  },
  {
   "cell_type": "markdown",
   "id": "5aec22fe",
   "metadata": {},
   "source": []
  },
  {
   "cell_type": "markdown",
   "id": "b8472fa3",
   "metadata": {},
   "source": []
  },
  {
   "cell_type": "code",
   "execution_count": null,
   "id": "d973888d",
   "metadata": {},
   "outputs": [],
   "source": []
  },
  {
   "cell_type": "markdown",
   "id": "2949b9cd",
   "metadata": {},
   "source": []
  },
  {
   "cell_type": "code",
   "execution_count": null,
   "id": "54c44896",
   "metadata": {},
   "outputs": [],
   "source": []
  },
  {
   "cell_type": "markdown",
   "id": "f774824f",
   "metadata": {},
   "source": []
  },
  {
   "cell_type": "markdown",
   "id": "efd7e378",
   "metadata": {},
   "source": []
  },
  {
   "cell_type": "code",
   "execution_count": null,
   "id": "b1e20825",
   "metadata": {},
   "outputs": [],
   "source": []
  },
  {
   "cell_type": "markdown",
   "id": "371f8cca",
   "metadata": {},
   "source": []
  },
  {
   "cell_type": "code",
   "execution_count": null,
   "id": "f8d18d40",
   "metadata": {},
   "outputs": [],
   "source": []
  },
  {
   "cell_type": "markdown",
   "id": "a0481433",
   "metadata": {},
   "source": []
  },
  {
   "cell_type": "markdown",
   "id": "7fefdd33",
   "metadata": {},
   "source": []
  },
  {
   "cell_type": "code",
   "execution_count": null,
   "id": "2dc692a4",
   "metadata": {},
   "outputs": [],
   "source": []
  },
  {
   "cell_type": "markdown",
   "id": "ef84d6bd",
   "metadata": {},
   "source": []
  },
  {
   "cell_type": "code",
   "execution_count": null,
   "id": "6c7e02e7",
   "metadata": {},
   "outputs": [],
   "source": []
  },
  {
   "cell_type": "markdown",
   "id": "308716f0",
   "metadata": {},
   "source": []
  },
  {
   "cell_type": "markdown",
   "id": "eef80ab7",
   "metadata": {},
   "source": []
  },
  {
   "cell_type": "code",
   "execution_count": null,
   "id": "4ca04568",
   "metadata": {},
   "outputs": [],
   "source": []
  },
  {
   "cell_type": "markdown",
   "id": "d9be5036",
   "metadata": {},
   "source": []
  },
  {
   "cell_type": "code",
   "execution_count": null,
   "id": "6ff16e90",
   "metadata": {},
   "outputs": [],
   "source": []
  },
  {
   "cell_type": "markdown",
   "id": "fc26bb61",
   "metadata": {},
   "source": []
  },
  {
   "cell_type": "markdown",
   "id": "b0048aea",
   "metadata": {},
   "source": []
  },
  {
   "cell_type": "markdown",
   "id": "43794db9",
   "metadata": {},
   "source": []
  },
  {
   "cell_type": "code",
   "execution_count": null,
   "id": "2b7d73a0",
   "metadata": {},
   "outputs": [],
   "source": []
  },
  {
   "cell_type": "code",
   "execution_count": null,
   "id": "d37a4f1b",
   "metadata": {},
   "outputs": [],
   "source": []
  },
  {
   "cell_type": "markdown",
   "id": "bbd1a4b9",
   "metadata": {},
   "source": []
  },
  {
   "cell_type": "code",
   "execution_count": null,
   "id": "89a178f2",
   "metadata": {},
   "outputs": [],
   "source": []
  },
  {
   "cell_type": "markdown",
   "id": "5a51c4d9",
   "metadata": {},
   "source": []
  },
  {
   "cell_type": "markdown",
   "id": "f34d51c8",
   "metadata": {},
   "source": []
  },
  {
   "cell_type": "code",
   "execution_count": null,
   "id": "3395cd87",
   "metadata": {},
   "outputs": [],
   "source": []
  },
  {
   "cell_type": "markdown",
   "id": "23e00f7f",
   "metadata": {},
   "source": []
  },
  {
   "cell_type": "code",
   "execution_count": null,
   "id": "29278b21",
   "metadata": {},
   "outputs": [],
   "source": []
  },
  {
   "cell_type": "markdown",
   "id": "3e44ae2f",
   "metadata": {},
   "source": []
  },
  {
   "cell_type": "code",
   "execution_count": null,
   "id": "be82035f",
   "metadata": {},
   "outputs": [],
   "source": []
  },
  {
   "cell_type": "markdown",
   "id": "369922d9",
   "metadata": {},
   "source": []
  },
  {
   "cell_type": "code",
   "execution_count": null,
   "id": "8023802b",
   "metadata": {},
   "outputs": [],
   "source": []
  },
  {
   "cell_type": "markdown",
   "id": "68d3f8f1",
   "metadata": {},
   "source": []
  },
  {
   "cell_type": "code",
   "execution_count": null,
   "id": "ead5565e",
   "metadata": {},
   "outputs": [],
   "source": []
  },
  {
   "cell_type": "markdown",
   "id": "5a881e89",
   "metadata": {},
   "source": []
  },
  {
   "cell_type": "markdown",
   "id": "5d1bbecf",
   "metadata": {},
   "source": [
    "# Dictionaries (continued)"
   ]
  },
  {
   "cell_type": "markdown",
   "id": "e6188070",
   "metadata": {},
   "source": [
    "* Initializing Dictionaries with Key-Value Pairs"
   ]
  },
  {
   "cell_type": "code",
   "execution_count": null,
   "id": "fce27077",
   "metadata": {},
   "outputs": [],
   "source": [
    "dictionary = {\"key1\": \"value1\", \"key2\": \"value2\"}\n",
    "print(dictionary[\"key1\"])"
   ]
  },
  {
   "cell_type": "markdown",
   "id": "4298c2c2",
   "metadata": {},
   "source": [
    "<img src=\"https://i.ibb.co/h1J1vpR/Screen-Shot-2022-11-17-at-11-28-01-AM.png\">"
   ]
  },
  {
   "cell_type": "markdown",
   "id": "05ff4b26",
   "metadata": {},
   "source": [
    "* Populating Dictionaries"
   ]
  },
  {
   "cell_type": "code",
   "execution_count": null,
   "id": "acf39ca8",
   "metadata": {},
   "outputs": [],
   "source": [
    "eng2sp        = {}     # a dictionary to translate English words into Spanish\n",
    "eng2sp['one'] = 'uno'  # adding a new key \"one\" and mapping the value \"uno\" to it\n",
    "eng2sp['two'] = 'dos'  # adding yet another key \"one\" and mapping the value \"dos\" to it\n",
    "print(eng2sp)"
   ]
  },
  {
   "cell_type": "markdown",
   "id": "a1055be8",
   "metadata": {},
   "source": [
    "* Similar to sets, the **order** of the pairs is **unpredictable**. \n"
   ]
  },
  {
   "cell_type": "markdown",
   "id": "e7467018",
   "metadata": {},
   "source": [
    "<hr />"
   ]
  },
  {
   "cell_type": "markdown",
   "id": "38670de3",
   "metadata": {},
   "source": [
    "* **Values** in a dictionary are **accessed** with **_Keys_**, with square brackets `[]` "
   ]
  },
  {
   "cell_type": "code",
   "execution_count": null,
   "id": "442465b1",
   "metadata": {},
   "outputs": [],
   "source": [
    "print(eng2sp['one'])  # The key 'two' yields the value 'dos'."
   ]
  },
  {
   "cell_type": "markdown",
   "id": "7dc3ece0",
   "metadata": {},
   "source": [
    "* The **`del`** statement **removes** a key-value pair from a dictionary "
   ]
  },
  {
   "cell_type": "code",
   "execution_count": null,
   "id": "51d87977",
   "metadata": {},
   "outputs": [],
   "source": [
    "eng2sp = {'one': 'uno', 'two': 'dos', 'three': 'tres'}\n",
    "\n",
    "print(\"Before deletion\", eng2sp)\n",
    "\n",
    "del eng2sp['two'] # Deleting key-value pair with key `two`\n",
    "\n",
    "print(\"After deletion\", eng2sp)"
   ]
  },
  {
   "cell_type": "markdown",
   "id": "941d1885",
   "metadata": {},
   "source": [
    "<hr />"
   ]
  },
  {
   "cell_type": "markdown",
   "id": "8c8081a5",
   "metadata": {},
   "source": [
    "* **Change value associated with an existing key**: Override previous value mapped to the key, using the assignment operator "
   ]
  },
  {
   "cell_type": "code",
   "execution_count": null,
   "id": "866c612b",
   "metadata": {},
   "outputs": [],
   "source": [
    "eng2sp = {'one': 'uno', 'two': 'dos', 'three': 'tres'}\n",
    "\n",
    "print(\"Before change\", eng2sp)\n",
    "eng2sp['three'] = 'uno más dos'\n",
    "\n",
    "print(\"After change\", eng2sp)"
   ]
  },
  {
   "cell_type": "markdown",
   "id": "cd91b421",
   "metadata": {},
   "source": [
    "* **Getting length of a Dictionary**: The `len` function also works on dictionaries; it returns the number of key-value pairs:"
   ]
  },
  {
   "cell_type": "code",
   "execution_count": null,
   "id": "5542333d",
   "metadata": {},
   "outputs": [],
   "source": [
    "eng2sp = {'one': 'uno', 'two': 'dos', 'three': 'tres'}\n",
    "\n",
    "len(eng2sp)"
   ]
  },
  {
   "cell_type": "markdown",
   "id": "8b0c2bb4",
   "metadata": {},
   "source": [
    "<hr />"
   ]
  },
  {
   "cell_type": "markdown",
   "id": "178c1c77",
   "metadata": {},
   "source": [
    "* **Looping over Dictionaries**: When looping through a dictionary, the **target variable** of the `for` loop is **set to `keys`** of the dictionary"
   ]
  },
  {
   "cell_type": "code",
   "execution_count": null,
   "id": "0762c303",
   "metadata": {},
   "outputs": [],
   "source": [
    "eng2sp = {'one': 'uno', 'two': 'dos', 'three': 'tres'}\n",
    "\n",
    "for random in eng2sp: \n",
    "    value = eng2sp[random]\n",
    "    print(random, value)"
   ]
  },
  {
   "cell_type": "markdown",
   "id": "bb0f8995",
   "metadata": {},
   "source": [
    "* `dictionary`**`.keys()`**: The `keys` method  returns the **list of its keys**."
   ]
  },
  {
   "cell_type": "code",
   "execution_count": null,
   "id": "69aa5dc6",
   "metadata": {},
   "outputs": [],
   "source": [
    "list(eng2sp.keys())"
   ]
  },
  {
   "cell_type": "markdown",
   "id": "ac33df06",
   "metadata": {},
   "source": [
    "<hr />"
   ]
  },
  {
   "cell_type": "markdown",
   "id": "02f91d9f",
   "metadata": {},
   "source": [
    "* `dictionary`**`.values()`**: The `values` method returns the **list of its values**."
   ]
  },
  {
   "cell_type": "code",
   "execution_count": null,
   "id": "fa10d21b",
   "metadata": {},
   "outputs": [],
   "source": [
    "print(list(eng2sp.keys()))\n",
    "print(list(eng2sp.values()))"
   ]
  },
  {
   "cell_type": "markdown",
   "id": "268aeaa1",
   "metadata": {},
   "source": [
    "* `dictionary`**`.items()`**: The `items` method returns the **list of key-value pairs**."
   ]
  },
  {
   "cell_type": "code",
   "execution_count": null,
   "id": "e230e429",
   "metadata": {},
   "outputs": [],
   "source": [
    "list(eng2sp.items())"
   ]
  },
  {
   "cell_type": "markdown",
   "id": "72456309",
   "metadata": {},
   "source": [
    "<hr />"
   ]
  },
  {
   "cell_type": "markdown",
   "id": "fb537378",
   "metadata": {},
   "source": [
    "* **Membership operator `in`** checks if **<u>a Key</u>** (_NOT VALUE_) **exists** in the dictionary \n",
    "\n",
    "    * returns `True` if the key is present in the dictionary and `False` otherwise"
   ]
  },
  {
   "cell_type": "markdown",
   "id": "1a21269b",
   "metadata": {},
   "source": [
    "value `in` structure "
   ]
  },
  {
   "cell_type": "code",
   "execution_count": null,
   "id": "158333b2",
   "metadata": {},
   "outputs": [],
   "source": [
    "eng2sp = {'one': 'uno', 'two': 'dos', 'three': 'tres'}\n",
    "\n",
    "\n",
    "'random' in eng2sp"
   ]
  },
  {
   "cell_type": "code",
   "execution_count": null,
   "id": "b1516e78",
   "metadata": {},
   "outputs": [],
   "source": [
    "'deux' in eng2sp"
   ]
  },
  {
   "cell_type": "markdown",
   "id": "79250a63",
   "metadata": {},
   "source": [
    "* This method can be very useful, since looking up a non-existant key in a dictionary causes a runtime error:"
   ]
  },
  {
   "cell_type": "code",
   "execution_count": null,
   "id": "89ca9dcd",
   "metadata": {},
   "outputs": [],
   "source": [
    "eng2sp['dog']"
   ]
  },
  {
   "cell_type": "markdown",
   "id": "398b8741",
   "metadata": {},
   "source": [
    "<hr/>"
   ]
  },
  {
   "cell_type": "markdown",
   "id": "fee51646",
   "metadata": {},
   "source": [
    "# Questions \n",
    "\n",
    "## Question 1. Create a Dictionary mapping Morse code to English letters\n",
    "\n",
    "<img src=\"https://thumbs.gfycat.com/SpryFlippantBichonfrise-size_restricted.gif\">"
   ]
  },
  {
   "cell_type": "code",
   "execution_count": null,
   "id": "2602150a",
   "metadata": {},
   "outputs": [],
   "source": [
    "def create_morse2eng(morse_code, alphabet):\n",
    "        \n",
    "    return morse2eng\n",
    "\n",
    "morse_code = [\".-\",\"-...\",\"-.-.\",\"-..\",\".\",\"..-.\",\"--.\",\"....\",\"..\",\".---\",\"-.-\",\".-..\",\"--\",\\\n",
    "              \"-.\",\"---\",\".--.\",\"--.-\",\".-.\",\"...\",\"-\",\"..-\",\"...-\",\".--\",\"-..-\",\"-.--\",\"--..\"]\n",
    "\n",
    "alphabet = \"abcdefghijklmnopqrstuvwxyz\"\n",
    "\n",
    "assert create_morse2eng(morse_code, alphabet) == {  '.-'   : 'a',\\\n",
    "                                                     '-...': 'b',\\\n",
    "                                                     '-.-.': 'c',\\\n",
    "                                                     '-..' : 'd',\\\n",
    "                                                     '.'   : 'e',\\\n",
    "                                                     '..-.': 'f',\\\n",
    "                                                     '--.' : 'g',\\\n",
    "                                                     '....': 'h',\\\n",
    "                                                     '..'  : 'i',\\\n",
    "                                                     '.---': 'j',\\\n",
    "                                                     '-.-' : 'k',\\\n",
    "                                                     '.-..': 'l',\\\n",
    "                                                     '--'  : 'm',\\\n",
    "                                                     '-.'  : 'n',\\\n",
    "                                                     '---' : 'o',\\\n",
    "                                                     '.--.': 'p',\\\n",
    "                                                     '--.-': 'q',\\\n",
    "                                                     '.-.' : 'r',\\\n",
    "                                                     '...' : 's',\\\n",
    "                                                     '-'   : 't',\\\n",
    "                                                     '..-' : 'u',\\\n",
    "                                                     '...-': 'v',\\\n",
    "                                                     '.--' : 'w',\\\n",
    "                                                     '-..-': 'x',\\\n",
    "                                                     '-.--': 'y',\\\n",
    "                                                     '--..': 'z'}, \"Test case failed\"\n",
    "print(\"All test cases passed successfully\")"
   ]
  },
  {
   "cell_type": "markdown",
   "id": "078ddf5a",
   "metadata": {},
   "source": [
    "## Question 2. Create a Dictionary mapping English letters to Morse code "
   ]
  },
  {
   "cell_type": "code",
   "execution_count": null,
   "id": "48111f56",
   "metadata": {},
   "outputs": [],
   "source": [
    "def create_eng2morse(alphabet, morse_code):\n",
    "        \n",
    "    return eng2morse\n",
    "\n",
    "morse_code = [\".-\",\"-...\",\"-.-.\",\"-..\",\".\",\"..-.\",\"--.\",\"....\",\"..\",\".---\",\"-.-\",\".-..\",\"--\",\\\n",
    "              \"-.\",\"---\",\".--.\",\"--.-\",\".-.\",\"...\",\"-\",\"..-\",\"...-\",\".--\",\"-..-\",\"-.--\",\"--..\"]\n",
    "\n",
    "alphabet = \"abcdefghijklmnopqrstuvwxyz\"\n",
    "\n",
    "assert create_eng2morse(alphabet, morse_code) =={'a': '.-',\\\n",
    "                                                 'b': '-...',\\\n",
    "                                                 'c': '-.-.',\\\n",
    "                                                 'd': '-..',\\\n",
    "                                                 'e': '.',\\\n",
    "                                                 'f': '..-.',\\\n",
    "                                                 'g': '--.',\\\n",
    "                                                 'h': '....',\\\n",
    "                                                 'i': '..',\\\n",
    "                                                 'j': '.---',\\\n",
    "                                                 'k': '-.-',\\\n",
    "                                                 'l': '.-..',\\\n",
    "                                                 'm': '--',\\\n",
    "                                                 'n': '-.',\\\n",
    "                                                 'o': '---',\\\n",
    "                                                 'p': '.--.',\\\n",
    "                                                 'q': '--.-',\\\n",
    "                                                 'r': '.-.',\\\n",
    "                                                 's': '...',\\\n",
    "                                                 't': '-',\\\n",
    "                                                 'u': '..-',\\\n",
    "                                                 'v': '...-',\\\n",
    "                                                 'w': '.--',\\\n",
    "                                                 'x': '-..-',\\\n",
    "                                                 'y': '-.--',\\\n",
    "                                                 'z': '--..'}, \"Test case failed\"\n",
    "print(\"All test cases passed successfully\")"
   ]
  },
  {
   "cell_type": "markdown",
   "id": "1b0054d1",
   "metadata": {},
   "source": [
    "## Question 3. Convert English Text to Morse Code"
   ]
  },
  {
   "cell_type": "code",
   "execution_count": null,
   "id": "ce8c1502",
   "metadata": {},
   "outputs": [],
   "source": [
    "def convert_to_morse(txt):\n",
    "    \n",
    "    return converted\n",
    "\n",
    "\n",
    "assert convert_to_morse(\"what\")    == ['.--', '....', '.-', '-'],                       \"Test case 1 failed\"\n",
    "assert convert_to_morse(\"hath\")    == ['....', '.-', '-', '....'],                      \"Test case 2 failed\"\n",
    "assert convert_to_morse(\"god\")     == ['--.', '---', '-..'],                            \"Test case 3 failed\"\n",
    "assert convert_to_morse(\"wrought\") == ['.--', '.-.', '---', '..-', '--.', '....', '-'], \"Test case 4 failed\"\n",
    "\n",
    "print(\"All test cases passed successfully\")"
   ]
  },
  {
   "cell_type": "markdown",
   "id": "4364c268",
   "metadata": {},
   "source": [
    "## Question 4. Sum currency notes\n",
    "\n",
    "Given `amount`, compute minimum number of bills needed to give back the change. \n",
    "\n",
    "Assume you have infinite banknotes for each denomination.\n",
    "\n",
    "\n",
    "U.S. currency denominations (implicit)"
   ]
  },
  {
   "cell_type": "code",
   "execution_count": null,
   "id": "c6b0dc93",
   "metadata": {},
   "outputs": [],
   "source": [
    "def sum_change(change_notes):\n",
    "    \n",
    "\n",
    "    return summ\n",
    "\n",
    "assert sum_change({100: 3, 50: 1, 20: 2, 10: 0, 5: 1, 1: 1}) == 396, \"Test case 1 failed\"\n",
    "assert sum_change({100: 0, 50: 0, 20: 0, 10: 1, 5: 1, 1: 3}) == 18,  \"Test case 2 failed\"\n",
    "assert sum_change({100: 0, 50: 0, 20: 0, 10: 0, 5: 0, 1: 0}) == 0,   \"Test case 3 failed\"\n",
    "assert sum_change({100: 0, 50: 0, 20: 1, 10: 1, 5: 1, 1: 4}) == 39,  \"Test case 4 failed\"\n",
    "assert sum_change({100: 1, 50: 1, 20: 2, 10: 0, 5: 1, 1: 4}) == 199, \"Test case 5 failed\"\n",
    "\n",
    "print(\"All test cases passed successfully\")"
   ]
  },
  {
   "cell_type": "markdown",
   "id": "77065f2b",
   "metadata": {},
   "source": [
    "## Question 5. Change-making problem\n",
    "\n",
    "\n",
    "Given `amount`, compute minimum number of bills needed to give back the change. \n",
    "\n",
    "Assume you have infinite banknotes for each denomination.\n",
    "\n",
    "\n",
    "U.S. currency denominations (implicit)"
   ]
  },
  {
   "cell_type": "code",
   "execution_count": null,
   "id": "cd29dfa3",
   "metadata": {},
   "outputs": [],
   "source": [
    "def make_change(amount):\n",
    "\n",
    "    return counts\n",
    "\n",
    "assert make_change(396) == {100: 3, 50: 1, 20: 2, 10: 0, 5: 1, 1: 1}, \"Test case 1 failed\"\n",
    "assert make_change(18)  == {100: 0, 50: 0, 20: 0, 10: 1, 5: 1, 1: 3}, \"Test case 2 failed\"\n",
    "assert make_change(0)   == {100: 0, 50: 0, 20: 0, 10: 0, 5: 0, 1: 0}, \"Test case 3 failed\"\n",
    "assert make_change(39)  == {100: 0, 50: 0, 20: 1, 10: 1, 5: 1, 1: 4}, \"Test case 4 failed\"\n",
    "assert make_change(199) == {100: 1, 50: 1, 20: 2, 10: 0, 5: 1, 1: 4}, \"Test case 5 failed\"\n",
    "\n",
    "print(\"All test cases passed successfully\")"
   ]
  }
 ],
 "metadata": {
  "celltoolbar": "Slideshow",
  "kernelspec": {
   "display_name": "Python 3 (ipykernel)",
   "language": "python",
   "name": "python3"
  },
  "language_info": {
   "codemirror_mode": {
    "name": "ipython",
    "version": 3
   },
   "file_extension": ".py",
   "mimetype": "text/x-python",
   "name": "python",
   "nbconvert_exporter": "python",
   "pygments_lexer": "ipython3",
   "version": "3.9.12"
  }
 },
 "nbformat": 4,
 "nbformat_minor": 5
}
