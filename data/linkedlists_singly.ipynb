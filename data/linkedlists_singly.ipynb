{
 "cells": [
  {
   "attachments": {},
   "cell_type": "markdown",
   "metadata": {},
   "source": [
    "# Singly Linked Lists"
   ]
  },
  {
   "cell_type": "code",
   "execution_count": null,
   "metadata": {},
   "outputs": [],
   "source": [
    "class Node:\n",
    "    def __init__(self, data=None, next_node=None):\n",
    "        self.__data = data\n",
    "        self.__next = next_node\n",
    "\n",
    "    def get_data(self):\n",
    "        return self.__data\n",
    "    \n",
    "    def get_next(self):\n",
    "        return self.__next\n",
    "    \n",
    "    def set_data(self, data):\n",
    "        self.__data = data\n",
    "\n",
    "    def set_next(self, next_node):\n",
    "        self.__next = next_node"
   ]
  },
  {
   "cell_type": "code",
   "execution_count": null,
   "metadata": {},
   "outputs": [],
   "source": [
    "class LinkedList:\n",
    "    def __init__(self):\n",
    "        self.head = None"
   ]
  },
  {
   "cell_type": "code",
   "execution_count": null,
   "metadata": {},
   "outputs": [],
   "source": [
    "\n",
    "\n",
    "    def append(self, data):\n",
    "        new_node = Node(data)\n",
    "        if self.head is None:\n",
    "            self.head = new_node\n",
    "            return\n",
    "        last = self.head\n",
    "        while last.next:\n",
    "            last = last.next\n",
    "        last.next = new_node\n",
    "\n",
    "    def prepend(self, data):\n",
    "        new_node = Node(data)\n",
    "        new_node.next = self.head\n",
    "        self.head = new_node\n",
    "\n",
    "    def delete(self, data):\n",
    "        if self.head is None:\n",
    "            return\n",
    "        if self.head.data == data:\n",
    "            self.head = self.head.next\n",
    "            return\n",
    "        current = self.head\n",
    "        while current.next:\n",
    "            if current.next.data == data:\n",
    "                current.next = current.next.next\n",
    "                return\n",
    "            current = current.next\n",
    "\n",
    "    def print_list(self):\n",
    "        current = self.head\n",
    "        while current:\n",
    "            print(current.data)\n",
    "            current = current.next\n",
    "\n",
    "    def reverse(self):\n",
    "        prev = None\n",
    "        current = self.head\n",
    "        while current:\n",
    "            next_node = current.next\n",
    "            current.next = prev\n",
    "            prev = current\n",
    "            current = next_node\n",
    "        self.head = prev"
   ]
  },
  {
   "cell_type": "markdown",
   "metadata": {},
   "source": [
    "## Insert \n",
    "\n",
    "### Insert at the beginning\n",
    "\n",
    "```python\n",
    "def insert_at_beginning(self, data):\n",
    "    new_node = Node(data)\n",
    "    new_node.next = self.head\n",
    "    self.head = new_node\n",
    "```\n",
    "\n",
    "### Insert at the end\n",
    "\n",
    "```python\n",
    "def insert_at_end(self, data):\n",
    "    new_node = Node(data)\n",
    "    if self.head is None:\n",
    "        self.head = new_node\n",
    "        return\n",
    "    last = self.head\n",
    "    while last.next:\n",
    "        last = last.next\n",
    "    last.next = new_node\n",
    "```"
   ]
  },
  {
   "attachments": {},
   "cell_type": "markdown",
   "metadata": {},
   "source": [
    "## Embedded references\n",
    "\n",
    "We have seen examples of attributes that refer to other objects, which we called **embedded references**. A common data structure, the **linked list**, takes advantage of this feature.\n",
    "\n",
    "Linked lists are made up of **nodes**, where each node contains a reference to the next node in the list. In addition, each node contains a unit of data called the **cargo**.\n",
    "\n",
    "A linked list is considered a **recursive data structure** because it has a recursive definition.\n",
    "\n",
    "A linked list is either:\n",
    "\n",
    "1. the empty list, represented by None, or\n",
    "\n",
    "2. a node that contains a cargo object and a reference to a linked list.\n",
    "\n",
    "Recursive data structures lend themselves to recursive methods.\n",
    "\n",
    "## The Node class\n",
    "\n",
    "As usual when writing a new class, we’ll start with the initialization and __str__ methods so that we can test the basic mechanism of creating and displaying the new type:"
   ]
  },
  {
   "cell_type": "code",
   "execution_count": null,
   "metadata": {},
   "outputs": [],
   "source": [
    "class Node(object):\n",
    "    def __init__(self, cargo=None, next=None):\n",
    "        self.cargo = cargo\n",
    "        self.next  = next\n",
    "\n",
    "    def __str__(self):\n",
    "        return str(self.cargo)"
   ]
  },
  {
   "attachments": {},
   "cell_type": "markdown",
   "metadata": {},
   "source": [
    "As usual, the parameters for the initialization method are optional. By default, both the cargo and the link, `next`, are set to `None`.\n",
    "\n",
    "The string representation of a node is just the string representation of the cargo. Since any value can be passed to the `str` function, we can store any value in a list.\n",
    "\n",
    "We could also write getters and setters for the `cargo` and `next` instance variables:"
   ]
  },
  {
   "cell_type": "code",
   "execution_count": null,
   "metadata": {},
   "outputs": [],
   "source": [
    "class Node(object):\n",
    "    ...\n",
    "    ...\n",
    "    def getCargo(self):\n",
    "      return self.cargo\n",
    "    def getNext(self):\n",
    "      return self.next\n",
    "\n",
    "    def setCargo(self,c):\n",
    "      self.cargo = c\n",
    "    def setNext(self,n):\n",
    "      self.next = n"
   ]
  },
  {
   "attachments": {},
   "cell_type": "markdown",
   "metadata": {},
   "source": [
    "To test the implementation so far, we can create a `Node` and print it:"
   ]
  },
  {
   "cell_type": "code",
   "execution_count": null,
   "metadata": {},
   "outputs": [],
   "source": [
    "node = Node(\"test\")\n",
    "print(node)\n",
    "print(node.getNext())"
   ]
  },
  {
   "attachments": {},
   "cell_type": "markdown",
   "metadata": {},
   "source": [
    "To make it interesting, we need create more than one node, and link them together:\n",
    "\n"
   ]
  },
  {
   "cell_type": "code",
   "execution_count": null,
   "metadata": {},
   "outputs": [],
   "source": [
    "node1 = Node(1)\n",
    "node2 = Node(2)\n",
    "node3 = Node(3)"
   ]
  },
  {
   "attachments": {},
   "cell_type": "markdown",
   "metadata": {},
   "source": [
    "This code creates three nodes, but we don’t have a linked-list yet because the nodes are not linked. The state diagram looks like this:\n",
    "\n",
    "<img align=\"center\" width=\"30%\" src=\"https://www.cs.swarthmore.edu/courses/CS21Book/_images/link1.png\">\n",
    "\n",
    "To link the nodes, we have to make the first node refer to the second and the second node refer to the third:\n",
    "\n"
   ]
  },
  {
   "cell_type": "code",
   "execution_count": null,
   "metadata": {},
   "outputs": [],
   "source": [
    "node1.setNext(node2)\n",
    "node2.setNext(node3)"
   ]
  },
  {
   "attachments": {},
   "cell_type": "markdown",
   "metadata": {},
   "source": [
    "The reference of the third node is None, which indicates that it is the end of the list. Now the state diagram looks like this:\n",
    "\n",
    "<img src=\"https://www.cs.swarthmore.edu/courses/CS21Book/_images/link2.png\">"
   ]
  },
  {
   "attachments": {},
   "cell_type": "markdown",
   "metadata": {},
   "source": [
    "Now you know how to create nodes and link them together. What might be less clear at this point is _why_.\n",
    "\n",
    "## Lists as collections\n",
    "\n",
    "Lists are useful because they provide a way to assemble multiple objects into a single entity, sometimes called a **collection**. In the example, the first node of the list serves as a reference to the entire list.\n",
    "\n",
    "To pass the list as a parameter, we only have to pass a reference to the first node. For example, the function `print_list` takes a single node as an argument (`curr`, short for _current_). Assuming that is the head of the list, is _accumulates_ the cargo from each node, printing out the contents of the list at the end:"
   ]
  },
  {
   "cell_type": "code",
   "execution_count": null,
   "metadata": {},
   "outputs": [],
   "source": [
    "def print_list(curr):\n",
    "  output = \"\"\n",
    "  while curr:\n",
    "    output += str(curr) + \" \"\n",
    "    curr = curr.getNext()\n",
    "  print(output)"
   ]
  },
  {
   "attachments": {},
   "cell_type": "markdown",
   "metadata": {},
   "source": [
    "To invoke this method, we pass a reference to the first node:"
   ]
  },
  {
   "cell_type": "code",
   "execution_count": null,
   "metadata": {},
   "outputs": [],
   "source": [
    "print_list(node1)"
   ]
  },
  {
   "attachments": {},
   "cell_type": "markdown",
   "metadata": {},
   "source": [
    "Inside `print_list` we have a reference to the first node of the list, but there is no variable that refers to the other nodes. We have to use the `next` value from each node to get to the next node.\n",
    "\n",
    "To traverse a linked list, it is common to use a loop variable like `curr` to refer to each of the nodes in succession.\n",
    "\n",
    "This diagram shows the full list and the values that `curr` takes on:\n",
    "\n",
    "<img src=\"https://www.cs.swarthmore.edu/courses/CS21Book/_images/link3.png\">\n",
    "\n",
    "## Lists and recursion\n",
    "\n",
    "t is natural to express many list operations using recursive methods. For example, the following is a recursive algorithm for printing a list backwards:\n",
    "\n",
    "1. Separate the list into two pieces: the first node (called the head); and the rest (called the tail).\n",
    "\n",
    "2. Print the tail backward.\n",
    "\n",
    "3. Print the head.\n",
    "\n",
    "Of course, Step 2, the recursive call, assumes that we have a way of printing a list backward. But if we assume that the recursive call works – the leap of faith – then we can convince ourselves that this algorithm works.\n",
    "\n",
    "All we need are a base case and a way of proving that for any list, we will eventually get to the base case. Given the recursive definition of a list, a natural base case is the empty list, represented by `None`."
   ]
  },
  {
   "cell_type": "code",
   "execution_count": null,
   "metadata": {},
   "outputs": [],
   "source": [
    "def print_backward_helper(curr):\n",
    "  if curr == None:\n",
    "    return \"\"\n",
    "  else:\n",
    "    head = curr\n",
    "    tail = curr.getNext()\n",
    "    return print_backward_helper(tail) + str(head) + \" \"\n",
    "\n",
    "def print_backward(firstnode):\n",
    "  output = print_backward_helper(firstnode)\n",
    "  print(output)"
   ]
  },
  {
   "attachments": {},
   "cell_type": "markdown",
   "metadata": {},
   "source": [
    "In the above example, we use a _helper_ function, so we can just call `print_backward(node1)` the same as we called `print_list(node1)`. The helper function does the actual recursion and accumulating of the string. The first line of the helper function handles the base case by returning an empty string (and not recurring). The else case (if we are not at the end of the list) splits the list into `head` and `tail`. The final return line adds the head cargo and a space to the reversed rest of the list.\n",
    "\n",
    "We invoke this method as we invoked `print_list`:"
   ]
  },
  {
   "cell_type": "code",
   "execution_count": null,
   "metadata": {},
   "outputs": [],
   "source": [
    "print_backward(node1)"
   ]
  },
  {
   "attachments": {},
   "cell_type": "markdown",
   "metadata": {},
   "source": [
    "The result is the list contents printed in reverse.\n",
    "\n",
    "You might wonder why `print_list` and `print_backward` are functions and not methods in the `Node` class. The reason is that we want to use `None` to represent the empty list and it is not legal to invoke a method on None. This limitation makes it awkward to write list-manipulating code in a clean object-oriented style.\n",
    "\n",
    "Can we prove that `print_backward` will always terminate? In other words, will it always reach the base case? In fact, the answer is no. Some lists will make this method crash.\n",
    "\n",
    "## Infinite lists\n",
    "\n",
    "There is nothing to prevent a node from referring back to an earlier node in the list, including itself. For example, this figure shows a list with two nodes, one of which refers to itself:\n",
    "\n",
    "<img src=\"https://www.cs.swarthmore.edu/courses/CS21Book/_images/link4.png\">\n",
    "\n",
    "If we invoke `print_list` on this list, it will loop forever. If we invoke `print_backward`, it will recurse infinitely. This sort of behavior makes infinite lists difficult to work with.\n",
    "\n",
    "Nevertheless, they are occasionally useful. For example, we might represent a number as a list of digits and use an infinite list to represent a repeating fraction.\n",
    "\n",
    "Regardless, it is problematic that we cannot prove that `print_list` and `print_backward` terminate. The best we can do is the hypothetical statement, If the list contains no loops, then these methods will terminate. This sort of claim is called a precondition. It imposes a constraint on one of the parameters and describes the behavior of the method if the constraint is satisfied. You will see more examples soon.\n",
    "\n",
    "## The fundamental ambiguity theorem\n",
    "\n",
    "One part of print_backward might have raised an eyebrow:"
   ]
  },
  {
   "cell_type": "code",
   "execution_count": null,
   "metadata": {},
   "outputs": [],
   "source": [
    "head = curr\n",
    "tail = curr.getNext()"
   ]
  },
  {
   "attachments": {},
   "cell_type": "markdown",
   "metadata": {},
   "source": [
    "After the first assignment, head and curr have the same type and the same value. So why did we create a new variable?\n",
    "\n",
    "The reason is that the two variables play different roles. We think of head as a reference to a single node, and we think of curr as a reference to the first node of a list. These roles are not part of the program; they are in the mind of the programmer.\n",
    "\n",
    "In general we can’t tell by looking at a program what role a variable plays. This ambiguity can be useful, but it can also make programs difficult to read. We often use variable names like node and curr to document how we intend to use a variable and sometimes create additional variables to disambiguate.\n",
    "\n",
    "We could have written print_backward_helper without head and tail, which makes it more concise but possibly less clear:\n",
    "\n"
   ]
  },
  {
   "cell_type": "code",
   "execution_count": null,
   "metadata": {},
   "outputs": [],
   "source": [
    "def print_backward_helper(curr):\n",
    "  if curr == None: return \"\"\n",
    "  return print_backward_helper(curr.getNext()) + str(curr) + \" \""
   ]
  },
  {
   "attachments": {},
   "cell_type": "markdown",
   "metadata": {},
   "source": [
    "The **fundamental ambiguity theorem** describes the ambiguity that is inherent in a reference to a node: _A variable that refers to a node might treat the node as a single object or as the first in a list of nodes._"
   ]
  },
  {
   "attachments": {},
   "cell_type": "markdown",
   "metadata": {},
   "source": [
    "## Modifying lists\n",
    "\n",
    "There are two ways to modify a linked list. Obviously, we can change the cargo of one of the nodes, but the more interesting operations are the ones that add, remove, or reorder the nodes.\n",
    "\n",
    "As an example, let’s write a method that removes the second node in the list and returns a reference to the removed node:"
   ]
  },
  {
   "cell_type": "code",
   "execution_count": null,
   "metadata": {},
   "outputs": [],
   "source": [
    "def removeSecond(lst):\n",
    "    if lst == None: return\n",
    "    first = lst\n",
    "    second = lst.getNext()\n",
    "    # make the first node refer to the third\n",
    "    first.setNext(second.getNext())\n",
    "    # separate the second node from the rest of the list\n",
    "    second.setNext(None)\n",
    "    return second"
   ]
  },
  {
   "attachments": {},
   "cell_type": "markdown",
   "metadata": {},
   "source": [
    "Again, we are using temporary variables to make the code more readable. Here is how to use this method:\n",
    "\n"
   ]
  },
  {
   "cell_type": "code",
   "execution_count": null,
   "metadata": {},
   "outputs": [],
   "source": [
    "print_list(node1)\n",
    "removed = removeSecond(node1)\n",
    "print_list(removed)\n",
    "print_list(node1)"
   ]
  },
  {
   "attachments": {},
   "cell_type": "markdown",
   "metadata": {},
   "source": [
    "This state diagram shows the effect of the operation:\n",
    "\n",
    "<img src=\"https://www.cs.swarthmore.edu/courses/CS21Book/_images/link5.png\">\n",
    "\n",
    "What happens if you invoke this method and pass a list with only one element (a **singleton**)? What happens if you pass the empty list as an argument? Is there a precondition for this method? If so, fix the method to handle a violation of the precondition in a reasonable way.\n",
    "\n",
    "## Wrappers and helpers\n",
    "\n",
    "It is often useful to divide a list operation into two methods, as we did above with the helper function. As an addition to that example, printing a list backward in the conventional list format [3, 2, 1] we can simply add code to the `print_backward` method:"
   ]
  },
  {
   "cell_type": "code",
   "execution_count": null,
   "metadata": {},
   "outputs": [],
   "source": [
    "def print_backward(firstnode):\n",
    "  output = print_backward_helper(firstnode)\n",
    "  lstbkwd = \"[\" + output[:len(output)-2] + \"]\"\n",
    "  print(lstbkwd)"
   ]
  },
  {
   "attachments": {},
   "cell_type": "markdown",
   "metadata": {},
   "source": [
    "Again, it is a good idea to check methods like this to see if they work with special cases like an empty list or a singleton.\n",
    "\n",
    "When we use this method, print_backward acts as a **wrapper**, and it uses print_backward_helper as a **helper**.\n",
    "\n",
    "## The `LinkedList` class\n",
    "\n",
    "There are some subtle problems with the way we have been implementing lists. In a reversal of cause and effect, we’ll propose an alternative implementation first and then explain what problems it solves.\n",
    "\n",
    "First, we’ll create a new class called `LinkedList`. Its attributes are an integer that contains the length of the list and a reference to the first node. `LinkedList` objects serve as handles for manipulating lists of `Node` objects:\n",
    "\n"
   ]
  },
  {
   "cell_type": "code",
   "execution_count": null,
   "metadata": {},
   "outputs": [],
   "source": [
    "class LinkedList(object):\n",
    "    def __init__(self):\n",
    "        self.length = 0\n",
    "        self.head   = None"
   ]
  },
  {
   "attachments": {},
   "cell_type": "markdown",
   "metadata": {},
   "source": [
    "One nice thing about the `LinkedList` class is that it provides a natural place to put wrapper functions like `print_backward`, which we can make a method of the `LinkedList` class:"
   ]
  },
  {
   "cell_type": "code",
   "execution_count": null,
   "metadata": {},
   "outputs": [],
   "source": [
    "class LinkedList(object):\n",
    "    ...\n",
    "    def print_backward_helper(self,curr):\n",
    "      if curr == None:\n",
    "        return \"\"\n",
    "      else:\n",
    "        head = curr\n",
    "        tail = curr.getNext()\n",
    "        return self.print_backward_helper(tail) + str(head) + \", \"\n",
    "\n",
    "    def print_backward(self):\n",
    "      output = self.print_backward_helper(self.head)\n",
    "      lstbkwd = \"[\" + output[:len(output)-2] + \"]\"\n",
    "      print(lstbkwd)"
   ]
  },
  {
   "attachments": {},
   "cell_type": "markdown",
   "metadata": {},
   "source": [
    "Another benefit of the `LinkedList` class is that it makes it easier to add or remove the first element of a list. For example, `addFirst` is a method for `LinkedLists`; it takes an item of cargo as an argument and puts it at the beginning of the list:"
   ]
  },
  {
   "cell_type": "code",
   "execution_count": null,
   "metadata": {},
   "outputs": [],
   "source": [
    "class LinkedList(object):\n",
    "    ...\n",
    "    def addFirst(self, cargo):\n",
    "        node = Node(cargo)\n",
    "        node.setNext(self.head)\n",
    "        self.head = node\n",
    "        self.length = self.length + 1"
   ]
  },
  {
   "attachments": {},
   "cell_type": "markdown",
   "metadata": {},
   "source": [
    "As usual, you should check code like this to see if it handles the special cases. For example, what happens if the list is initially empty?\n",
    "\n",
    "## Invariants\n",
    "\n",
    "Some lists are well formed ; others are not. For example, if a list contains a loop, it will cause many of our methods to crash, so we might want to require that lists contain no loops. Another requirement is that the `length` value in the `LinkedList` object should be equal to the actual number of nodes in the list.\n",
    "\n",
    "Requirements like these are called **invariants** because, ideally, they should be true of every object all the time. Specifying invariants for objects is a useful programming practice because it makes it easier to prove the correctness of code, check the integrity of data structures, and detect errors.\n",
    "\n",
    "One thing that is sometimes confusing about invariants is that there are times when they are violated. For example, in the middle of `addFirst`, after we have added the node but before we have incremented `length`, the invariant is violated. This kind of violation is acceptable; in fact, it is often impossible to modify an object without violating an invariant for at least a little while. Normally, we require that every method that violates an invariant must restore the invariant.\n",
    "\n",
    "If there is any significant stretch of code in which the invariant is violated, it is important for the comments to make that clear, so that no operations are performed that depend on the invariant.\n",
    "\n",
    "<br/>\n",
    "<hr/>\n",
    "\n",
    "## _Glossary_\n",
    "\n",
    "```{glossary}\n",
    "\n",
    "embedded reference\n",
    "    A reference stored in an attribute of an object.\n",
    "\n",
    "linked list\n",
    "    A data structure that implements a collection using a sequence of linked nodes.\n",
    "\n",
    "node\n",
    "    An element of a list, usually implemented as an object that contains a reference to another object of the same type.\n",
    "\n",
    "cargo\n",
    "    An item of data contained in a node.\n",
    "\n",
    "link\n",
    "    An embedded reference used to link one object to another.\n",
    "\n",
    "precondition\n",
    "    An assertion that must be true in order for a method to work correctly.\n",
    "\n",
    "fundamental ambiguity theorem\n",
    "    A reference to a list node can be treated as a single object or as the first in a list of nodes.\n",
    "\n",
    "singleton\n",
    "    A linked list with a single node.\n",
    "\n",
    "wrapper\n",
    "    A method that acts as a middleman between a caller and a helper method, often making the method easier or less error-prone to invoke.\n",
    "\n",
    "helper\n",
    "    A method that is not invoked directly by a caller but is used by another method to perform part of an operation.\n",
    "\n",
    "invariant\n",
    "    An assertion that should be true of an object at all times (except perhaps while the object is being modified).\n",
    "\n",
    "```\n",
    "\n",
    "## _Exercises_\n",
    "\n",
    "1. By convention, lists are often printed in brackets with commas between the elements, as in `[1, 2, 3]`. Modify `print_list` so that it generates output in this format."
   ]
  }
 ],
 "metadata": {
  "language_info": {
   "name": "python"
  },
  "orig_nbformat": 4
 },
 "nbformat": 4,
 "nbformat_minor": 2
}
